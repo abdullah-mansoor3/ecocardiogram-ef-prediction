{
  "cells": [
    {
      "cell_type": "markdown",
      "metadata": {
        "id": "yHtQB9OlB_4w"
      },
      "source": [
        "# Prepare Data"
      ]
    },
    {
      "cell_type": "code",
      "source": [
        "!rm /content/yolo_keypoints_dataset.zip\n"
      ],
      "metadata": {
        "id": "5mfevEMgK2pA"
      },
      "execution_count": null,
      "outputs": []
    },
    {
      "cell_type": "code",
      "source": [
        "from google.colab import files\n",
        "uploaded = files.upload()\n"
      ],
      "metadata": {
        "colab": {
          "base_uri": "https://localhost:8080/",
          "height": 73
        },
        "id": "kL6lbYhDK52m",
        "outputId": "4742d5a1-26e6-4037-f550-3d23f1b6eb24"
      },
      "execution_count": null,
      "outputs": [
        {
          "output_type": "display_data",
          "data": {
            "text/plain": [
              "<IPython.core.display.HTML object>"
            ],
            "text/html": [
              "\n",
              "     <input type=\"file\" id=\"files-0b2dfe72-557b-485f-aa5b-355c339fba89\" name=\"files[]\" multiple disabled\n",
              "        style=\"border:none\" />\n",
              "     <output id=\"result-0b2dfe72-557b-485f-aa5b-355c339fba89\">\n",
              "      Upload widget is only available when the cell has been executed in the\n",
              "      current browser session. Please rerun this cell to enable.\n",
              "      </output>\n",
              "      <script>// Copyright 2017 Google LLC\n",
              "//\n",
              "// Licensed under the Apache License, Version 2.0 (the \"License\");\n",
              "// you may not use this file except in compliance with the License.\n",
              "// You may obtain a copy of the License at\n",
              "//\n",
              "//      http://www.apache.org/licenses/LICENSE-2.0\n",
              "//\n",
              "// Unless required by applicable law or agreed to in writing, software\n",
              "// distributed under the License is distributed on an \"AS IS\" BASIS,\n",
              "// WITHOUT WARRANTIES OR CONDITIONS OF ANY KIND, either express or implied.\n",
              "// See the License for the specific language governing permissions and\n",
              "// limitations under the License.\n",
              "\n",
              "/**\n",
              " * @fileoverview Helpers for google.colab Python module.\n",
              " */\n",
              "(function(scope) {\n",
              "function span(text, styleAttributes = {}) {\n",
              "  const element = document.createElement('span');\n",
              "  element.textContent = text;\n",
              "  for (const key of Object.keys(styleAttributes)) {\n",
              "    element.style[key] = styleAttributes[key];\n",
              "  }\n",
              "  return element;\n",
              "}\n",
              "\n",
              "// Max number of bytes which will be uploaded at a time.\n",
              "const MAX_PAYLOAD_SIZE = 100 * 1024;\n",
              "\n",
              "function _uploadFiles(inputId, outputId) {\n",
              "  const steps = uploadFilesStep(inputId, outputId);\n",
              "  const outputElement = document.getElementById(outputId);\n",
              "  // Cache steps on the outputElement to make it available for the next call\n",
              "  // to uploadFilesContinue from Python.\n",
              "  outputElement.steps = steps;\n",
              "\n",
              "  return _uploadFilesContinue(outputId);\n",
              "}\n",
              "\n",
              "// This is roughly an async generator (not supported in the browser yet),\n",
              "// where there are multiple asynchronous steps and the Python side is going\n",
              "// to poll for completion of each step.\n",
              "// This uses a Promise to block the python side on completion of each step,\n",
              "// then passes the result of the previous step as the input to the next step.\n",
              "function _uploadFilesContinue(outputId) {\n",
              "  const outputElement = document.getElementById(outputId);\n",
              "  const steps = outputElement.steps;\n",
              "\n",
              "  const next = steps.next(outputElement.lastPromiseValue);\n",
              "  return Promise.resolve(next.value.promise).then((value) => {\n",
              "    // Cache the last promise value to make it available to the next\n",
              "    // step of the generator.\n",
              "    outputElement.lastPromiseValue = value;\n",
              "    return next.value.response;\n",
              "  });\n",
              "}\n",
              "\n",
              "/**\n",
              " * Generator function which is called between each async step of the upload\n",
              " * process.\n",
              " * @param {string} inputId Element ID of the input file picker element.\n",
              " * @param {string} outputId Element ID of the output display.\n",
              " * @return {!Iterable<!Object>} Iterable of next steps.\n",
              " */\n",
              "function* uploadFilesStep(inputId, outputId) {\n",
              "  const inputElement = document.getElementById(inputId);\n",
              "  inputElement.disabled = false;\n",
              "\n",
              "  const outputElement = document.getElementById(outputId);\n",
              "  outputElement.innerHTML = '';\n",
              "\n",
              "  const pickedPromise = new Promise((resolve) => {\n",
              "    inputElement.addEventListener('change', (e) => {\n",
              "      resolve(e.target.files);\n",
              "    });\n",
              "  });\n",
              "\n",
              "  const cancel = document.createElement('button');\n",
              "  inputElement.parentElement.appendChild(cancel);\n",
              "  cancel.textContent = 'Cancel upload';\n",
              "  const cancelPromise = new Promise((resolve) => {\n",
              "    cancel.onclick = () => {\n",
              "      resolve(null);\n",
              "    };\n",
              "  });\n",
              "\n",
              "  // Wait for the user to pick the files.\n",
              "  const files = yield {\n",
              "    promise: Promise.race([pickedPromise, cancelPromise]),\n",
              "    response: {\n",
              "      action: 'starting',\n",
              "    }\n",
              "  };\n",
              "\n",
              "  cancel.remove();\n",
              "\n",
              "  // Disable the input element since further picks are not allowed.\n",
              "  inputElement.disabled = true;\n",
              "\n",
              "  if (!files) {\n",
              "    return {\n",
              "      response: {\n",
              "        action: 'complete',\n",
              "      }\n",
              "    };\n",
              "  }\n",
              "\n",
              "  for (const file of files) {\n",
              "    const li = document.createElement('li');\n",
              "    li.append(span(file.name, {fontWeight: 'bold'}));\n",
              "    li.append(span(\n",
              "        `(${file.type || 'n/a'}) - ${file.size} bytes, ` +\n",
              "        `last modified: ${\n",
              "            file.lastModifiedDate ? file.lastModifiedDate.toLocaleDateString() :\n",
              "                                    'n/a'} - `));\n",
              "    const percent = span('0% done');\n",
              "    li.appendChild(percent);\n",
              "\n",
              "    outputElement.appendChild(li);\n",
              "\n",
              "    const fileDataPromise = new Promise((resolve) => {\n",
              "      const reader = new FileReader();\n",
              "      reader.onload = (e) => {\n",
              "        resolve(e.target.result);\n",
              "      };\n",
              "      reader.readAsArrayBuffer(file);\n",
              "    });\n",
              "    // Wait for the data to be ready.\n",
              "    let fileData = yield {\n",
              "      promise: fileDataPromise,\n",
              "      response: {\n",
              "        action: 'continue',\n",
              "      }\n",
              "    };\n",
              "\n",
              "    // Use a chunked sending to avoid message size limits. See b/62115660.\n",
              "    let position = 0;\n",
              "    do {\n",
              "      const length = Math.min(fileData.byteLength - position, MAX_PAYLOAD_SIZE);\n",
              "      const chunk = new Uint8Array(fileData, position, length);\n",
              "      position += length;\n",
              "\n",
              "      const base64 = btoa(String.fromCharCode.apply(null, chunk));\n",
              "      yield {\n",
              "        response: {\n",
              "          action: 'append',\n",
              "          file: file.name,\n",
              "          data: base64,\n",
              "        },\n",
              "      };\n",
              "\n",
              "      let percentDone = fileData.byteLength === 0 ?\n",
              "          100 :\n",
              "          Math.round((position / fileData.byteLength) * 100);\n",
              "      percent.textContent = `${percentDone}% done`;\n",
              "\n",
              "    } while (position < fileData.byteLength);\n",
              "  }\n",
              "\n",
              "  // All done.\n",
              "  yield {\n",
              "    response: {\n",
              "      action: 'complete',\n",
              "    }\n",
              "  };\n",
              "}\n",
              "\n",
              "scope.google = scope.google || {};\n",
              "scope.google.colab = scope.google.colab || {};\n",
              "scope.google.colab._files = {\n",
              "  _uploadFiles,\n",
              "  _uploadFilesContinue,\n",
              "};\n",
              "})(self);\n",
              "</script> "
            ]
          },
          "metadata": {}
        },
        {
          "output_type": "stream",
          "name": "stdout",
          "text": [
            "Saving yolo_keypoints_dataset.zip to yolo_keypoints_dataset.zip\n"
          ]
        }
      ]
    },
    {
      "cell_type": "code",
      "execution_count": null,
      "metadata": {
        "id": "c73muSML4LVI"
      },
      "outputs": [],
      "source": [
        "!unzip -q /content/yolo_keypoints_dataset.zip -d yolo_keypoints_dataset"
      ]
    },
    {
      "cell_type": "code",
      "source": [
        "import os\n",
        "from glob import glob\n",
        "\n",
        "EXPECTED_KPTS = 42\n",
        "EXPECTED_FIELDS = 1 + 4 + (EXPECTED_KPTS * 2)  # class + bbox + 2 per keypoint\n",
        "\n",
        "def validate_yolo_keypoint_dataset(split_dir):\n",
        "    img_dir = os.path.join(split_dir, 'images')\n",
        "    label_dir = os.path.join(split_dir, 'labels')\n",
        "\n",
        "    assert os.path.exists(img_dir), f\"Missing images folder: {img_dir}\"\n",
        "    assert os.path.exists(label_dir), f\"Missing labels folder: {label_dir}\"\n",
        "\n",
        "    image_files = sorted(glob(os.path.join(img_dir, '*.jpg')) + glob(os.path.join(img_dir, '*.png')))\n",
        "    label_files = sorted(glob(os.path.join(label_dir, '*.txt')))\n",
        "\n",
        "    print(f\"\\n📁 Checking {split_dir}\")\n",
        "    print(f\" - Found {len(image_files)} images\")\n",
        "    print(f\" - Found {len(label_files)} label files\")\n",
        "\n",
        "    bad_labels = []\n",
        "    missing_labels = []\n",
        "\n",
        "    for img_path in image_files:\n",
        "        img_name = os.path.splitext(os.path.basename(img_path))[0]\n",
        "        label_path = os.path.join(label_dir, img_name + \".txt\")\n",
        "\n",
        "        if not os.path.exists(label_path):\n",
        "            missing_labels.append(img_name)\n",
        "            continue\n",
        "\n",
        "        with open(label_path, 'r') as f:\n",
        "            lines = f.readlines()\n",
        "\n",
        "        if len(lines) != 1:\n",
        "            bad_labels.append((img_name, \"Not exactly one line\"))\n",
        "            continue\n",
        "\n",
        "        try:\n",
        "            nums = list(map(float, lines[0].strip().split()))\n",
        "        except:\n",
        "            bad_labels.append((img_name, \"Non-float values\"))\n",
        "            continue\n",
        "\n",
        "        if len(nums) != EXPECTED_FIELDS:\n",
        "            bad_labels.append((img_name, f\"Expected {EXPECTED_FIELDS}, got {len(nums)}\"))\n",
        "\n",
        "    print(f\" - ❌ {len(missing_labels)} missing label files\")\n",
        "    print(f\" - ⚠️  {len(bad_labels)} bad label files\")\n",
        "\n",
        "    if missing_labels:\n",
        "        print(\"   → Missing labels for:\", missing_labels[:5])\n",
        "\n",
        "    if bad_labels:\n",
        "        print(\"   → Examples of bad labels:\", bad_labels[:5])\n",
        "\n",
        "    print(\" ✅ Done\\n\")\n",
        "\n",
        "# 🔍 Run on all splits\n",
        "validate_yolo_keypoint_dataset(\"/content/yolo_keypoints_dataset/yolo_keypoints_dataset/train\")\n",
        "validate_yolo_keypoint_dataset(\"/content/yolo_keypoints_dataset/yolo_keypoints_dataset/val\")\n",
        "validate_yolo_keypoint_dataset(\"/content/yolo_keypoints_dataset/yolo_keypoints_dataset/test\")\n"
      ],
      "metadata": {
        "id": "B1lApkDZVJ_u",
        "colab": {
          "base_uri": "https://localhost:8080/"
        },
        "outputId": "654b46e0-17e9-49d4-da31-6f3d94aac748"
      },
      "execution_count": null,
      "outputs": [
        {
          "output_type": "stream",
          "name": "stdout",
          "text": [
            "\n",
            "📁 Checking /content/yolo_keypoints_dataset/yolo_keypoints_dataset/train\n",
            " - Found 14920 images\n",
            " - Found 14920 label files\n",
            " - ❌ 0 missing label files\n",
            " - ⚠️  14920 bad label files\n",
            "   → Examples of bad labels: [('0X1002E8FBACD08477_f18', 'Expected 89, got 85'), ('0X1002E8FBACD08477_f3', 'Expected 89, got 85'), ('0X1005D03EED19C65B_f24', 'Expected 89, got 85'), ('0X1005D03EED19C65B_f35', 'Expected 89, got 85'), ('0X10075961BC11C88E_f108', 'Expected 89, got 85')]\n",
            " ✅ Done\n",
            "\n",
            "\n",
            "📁 Checking /content/yolo_keypoints_dataset/yolo_keypoints_dataset/val\n",
            " - Found 2576 images\n",
            " - Found 2576 label files\n",
            " - ❌ 0 missing label files\n",
            " - ⚠️  2576 bad label files\n",
            "   → Examples of bad labels: [('0X100009310A3BD7FC_f46', 'Expected 89, got 85'), ('0X100009310A3BD7FC_f61', 'Expected 89, got 85'), ('0X10094BA0A028EAC3_f137', 'Expected 89, got 85'), ('0X10094BA0A028EAC3_f156', 'Expected 89, got 85'), ('0X1013E8A4864781B_f35', 'Expected 89, got 85')]\n",
            " ✅ Done\n",
            "\n",
            "\n",
            "📁 Checking /content/yolo_keypoints_dataset/yolo_keypoints_dataset/test\n",
            " - Found 2552 images\n",
            " - Found 2552 label files\n",
            " - ❌ 0 missing label files\n",
            " - ⚠️  2552 bad label files\n",
            "   → Examples of bad labels: [('0X100CF05D141FF143_f132', 'Expected 89, got 85'), ('0X100CF05D141FF143_f148', 'Expected 89, got 85'), ('0X1012703CDC1436FE_f154', 'Expected 89, got 85'), ('0X1012703CDC1436FE_f172', 'Expected 89, got 85'), ('0X102CFB07F752AAE6_f163', 'Expected 89, got 85')]\n",
            " ✅ Done\n",
            "\n"
          ]
        }
      ]
    },
    {
      "cell_type": "markdown",
      "metadata": {
        "id": "DnvEdEIBzoa9"
      },
      "source": [
        "# Train the Model"
      ]
    },
    {
      "cell_type": "code",
      "execution_count": null,
      "metadata": {
        "colab": {
          "base_uri": "https://localhost:8080/"
        },
        "id": "r01Zfzsv_UKR",
        "outputId": "b104a70e-eb90-4dbf-f7a2-3976809f88b3"
      },
      "outputs": [
        {
          "output_type": "stream",
          "name": "stdout",
          "text": [
            "\u001b[2K   \u001b[90m━━━━━━━━━━━━━━━━━━━━━━━━━━━━━━━━━━━━━━━━\u001b[0m \u001b[32m1.0/1.0 MB\u001b[0m \u001b[31m41.1 MB/s\u001b[0m eta \u001b[36m0:00:00\u001b[0m\n",
            "\u001b[2K   \u001b[90m━━━━━━━━━━━━━━━━━━━━━━━━━━━━━━━━━━━━━━━━\u001b[0m \u001b[32m363.4/363.4 MB\u001b[0m \u001b[31m4.8 MB/s\u001b[0m eta \u001b[36m0:00:00\u001b[0m\n",
            "\u001b[2K   \u001b[90m━━━━━━━━━━━━━━━━━━━━━━━━━━━━━━━━━━━━━━━━\u001b[0m \u001b[32m13.8/13.8 MB\u001b[0m \u001b[31m99.8 MB/s\u001b[0m eta \u001b[36m0:00:00\u001b[0m\n",
            "\u001b[2K   \u001b[90m━━━━━━━━━━━━━━━━━━━━━━━━━━━━━━━━━━━━━━━━\u001b[0m \u001b[32m24.6/24.6 MB\u001b[0m \u001b[31m54.2 MB/s\u001b[0m eta \u001b[36m0:00:00\u001b[0m\n",
            "\u001b[2K   \u001b[90m━━━━━━━━━━━━━━━━━━━━━━━━━━━━━━━━━━━━━━━━\u001b[0m \u001b[32m883.7/883.7 kB\u001b[0m \u001b[31m66.0 MB/s\u001b[0m eta \u001b[36m0:00:00\u001b[0m\n",
            "\u001b[2K   \u001b[90m━━━━━━━━━━━━━━━━━━━━━━━━━━━━━━━━━━━━━━━━\u001b[0m \u001b[32m664.8/664.8 MB\u001b[0m \u001b[31m2.1 MB/s\u001b[0m eta \u001b[36m0:00:00\u001b[0m\n",
            "\u001b[2K   \u001b[90m━━━━━━━━━━━━━━━━━━━━━━━━━━━━━━━━━━━━━━━━\u001b[0m \u001b[32m211.5/211.5 MB\u001b[0m \u001b[31m6.6 MB/s\u001b[0m eta \u001b[36m0:00:00\u001b[0m\n",
            "\u001b[2K   \u001b[90m━━━━━━━━━━━━━━━━━━━━━━━━━━━━━━━━━━━━━━━━\u001b[0m \u001b[32m56.3/56.3 MB\u001b[0m \u001b[31m13.1 MB/s\u001b[0m eta \u001b[36m0:00:00\u001b[0m\n",
            "\u001b[2K   \u001b[90m━━━━━━━━━━━━━━━━━━━━━━━━━━━━━━━━━━━━━━━━\u001b[0m \u001b[32m127.9/127.9 MB\u001b[0m \u001b[31m7.5 MB/s\u001b[0m eta \u001b[36m0:00:00\u001b[0m\n",
            "\u001b[2K   \u001b[90m━━━━━━━━━━━━━━━━━━━━━━━━━━━━━━━━━━━━━━━━\u001b[0m \u001b[32m207.5/207.5 MB\u001b[0m \u001b[31m6.7 MB/s\u001b[0m eta \u001b[36m0:00:00\u001b[0m\n",
            "\u001b[2K   \u001b[90m━━━━━━━━━━━━━━━━━━━━━━━━━━━━━━━━━━━━━━━━\u001b[0m \u001b[32m21.1/21.1 MB\u001b[0m \u001b[31m77.6 MB/s\u001b[0m eta \u001b[36m0:00:00\u001b[0m\n",
            "\u001b[?25h"
          ]
        }
      ],
      "source": [
        "!pip install ultralytics --quiet"
      ]
    },
    {
      "cell_type": "code",
      "execution_count": null,
      "metadata": {
        "colab": {
          "base_uri": "https://localhost:8080/",
          "height": 1000
        },
        "id": "AfueoeZAzpe5",
        "outputId": "058ba1b4-218a-4c1b-90b5-859c21df868e"
      },
      "outputs": [
        {
          "metadata": {
            "tags": null
          },
          "name": "stdout",
          "output_type": "stream",
          "text": [
            "Ultralytics 8.3.174 🚀 Python-3.11.13 torch-2.6.0+cu124 CUDA:0 (Tesla T4, 15095MiB)\n",
            "\u001b[34m\u001b[1mengine/trainer: \u001b[0magnostic_nms=False, amp=True, augment=False, auto_augment=randaugment, batch=16, bgr=0.0, box=7.5, cache=False, cfg=None, classes=None, close_mosaic=10, cls=0.5, conf=None, copy_paste=0.0, copy_paste_mode=flip, cos_lr=False, cutmix=0.0, data=data_keypoints.yaml, degrees=0.0, deterministic=True, device=0, dfl=1.5, dnn=False, dropout=0.0, dynamic=False, embed=None, epochs=100, erasing=0.4, exist_ok=False, fliplr=0.5, flipud=0.0, format=torchscript, fraction=1.0, freeze=None, half=False, hsv_h=0.015, hsv_s=0.7, hsv_v=0.4, imgsz=128, int8=False, iou=0.7, keras=False, kobj=1.0, line_width=None, lr0=0.01, lrf=0.01, mask_ratio=4, max_det=300, mixup=0.0, mode=train, model=yolo11s-pose.pt, momentum=0.937, mosaic=1.0, multi_scale=False, name=train16, nbs=64, nms=False, opset=None, optimize=False, optimizer=Adam, overlap_mask=True, patience=10, perspective=0.0, plots=True, pose=12.0, pretrained=True, profile=False, project=None, rect=False, resume=False, retina_masks=False, save=True, save_conf=False, save_crop=False, save_dir=runs/pose/train16, save_frames=False, save_json=False, save_period=-1, save_txt=False, scale=0.5, seed=0, shear=0.0, show=False, show_boxes=True, show_conf=True, show_labels=True, simplify=True, single_cls=False, source=None, split=val, stream_buffer=False, task=pose, time=None, tracker=botsort.yaml, translate=0.1, val=True, verbose=True, vid_stride=1, visualize=False, warmup_bias_lr=0.1, warmup_epochs=3.0, warmup_momentum=0.8, weight_decay=0.0005, workers=8, workspace=None\n",
            "Overriding model.yaml kpt_shape=[17, 3] with kpt_shape=[40, 2]\n",
            "Overriding model.yaml nc=80 with nc=1\n",
            "\n",
            "                   from  n    params  module                                       arguments                     \n",
            "  0                  -1  1       928  ultralytics.nn.modules.conv.Conv             [3, 32, 3, 2]                 \n",
            "  1                  -1  1     18560  ultralytics.nn.modules.conv.Conv             [32, 64, 3, 2]                \n",
            "  2                  -1  1     26080  ultralytics.nn.modules.block.C3k2            [64, 128, 1, False, 0.25]     \n",
            "  3                  -1  1    147712  ultralytics.nn.modules.conv.Conv             [128, 128, 3, 2]              \n",
            "  4                  -1  1    103360  ultralytics.nn.modules.block.C3k2            [128, 256, 1, False, 0.25]    \n",
            "  5                  -1  1    590336  ultralytics.nn.modules.conv.Conv             [256, 256, 3, 2]              \n",
            "  6                  -1  1    346112  ultralytics.nn.modules.block.C3k2            [256, 256, 1, True]           \n",
            "  7                  -1  1   1180672  ultralytics.nn.modules.conv.Conv             [256, 512, 3, 2]              \n",
            "  8                  -1  1   1380352  ultralytics.nn.modules.block.C3k2            [512, 512, 1, True]           \n",
            "  9                  -1  1    656896  ultralytics.nn.modules.block.SPPF            [512, 512, 5]                 \n",
            " 10                  -1  1    990976  ultralytics.nn.modules.block.C2PSA           [512, 512, 1]                 \n",
            " 11                  -1  1         0  torch.nn.modules.upsampling.Upsample         [None, 2, 'nearest']          \n",
            " 12             [-1, 6]  1         0  ultralytics.nn.modules.conv.Concat           [1]                           \n",
            " 13                  -1  1    443776  ultralytics.nn.modules.block.C3k2            [768, 256, 1, False]          \n",
            " 14                  -1  1         0  torch.nn.modules.upsampling.Upsample         [None, 2, 'nearest']          \n",
            " 15             [-1, 4]  1         0  ultralytics.nn.modules.conv.Concat           [1]                           \n",
            " 16                  -1  1    127680  ultralytics.nn.modules.block.C3k2            [512, 128, 1, False]          \n",
            " 17                  -1  1    147712  ultralytics.nn.modules.conv.Conv             [128, 128, 3, 2]              \n",
            " 18            [-1, 13]  1         0  ultralytics.nn.modules.conv.Concat           [1]                           \n",
            " 19                  -1  1    345472  ultralytics.nn.modules.block.C3k2            [384, 256, 1, False]          \n",
            " 20                  -1  1    590336  ultralytics.nn.modules.conv.Conv             [256, 256, 3, 2]              \n",
            " 21            [-1, 10]  1         0  ultralytics.nn.modules.conv.Concat           [1]                           \n",
            " 22                  -1  1   1511424  ultralytics.nn.modules.block.C3k2            [768, 512, 1, True]           \n",
            " 23        [16, 19, 22]  1   1658115  ultralytics.nn.modules.head.Pose             [1, [40, 2], [128, 256, 512]] \n",
            "YOLO11s-pose summary: 196 layers, 10,266,499 parameters, 10,266,483 gradients, 24.7 GFLOPs\n",
            "\n",
            "Transferred 505/541 items from pretrained weights\n",
            "Freezing layer 'model.23.dfl.conv.weight'\n",
            "\u001b[34m\u001b[1mAMP: \u001b[0mrunning Automatic Mixed Precision (AMP) checks...\n",
            "\u001b[34m\u001b[1mAMP: \u001b[0mchecks passed ✅\n",
            "\u001b[34m\u001b[1mtrain: \u001b[0mFast image access ✅ (ping: 0.0±0.0 ms, read: 372.9±140.7 MB/s, size: 6.0 KB)\n"
          ]
        },
        {
          "metadata": {
            "tags": null
          },
          "name": "stderr",
          "output_type": "stream",
          "text": [
            "\u001b[34m\u001b[1mtrain: \u001b[0mScanning /content/yolo_keypoints_dataset/yolo_keypoints_dataset/train/labels... 14920 images, 0 backgrounds, 10 corrupt: 100%|██████████| 14920/14920 [00:12<00:00, 1207.25it/s]"
          ]
        },
        {
          "metadata": {
            "tags": null
          },
          "name": "stdout",
          "output_type": "stream",
          "text": [
            "\u001b[34m\u001b[1mtrain: \u001b[0m/content/yolo_keypoints_dataset/yolo_keypoints_dataset/train/images/0X23B883A39F37F8D9_f160.jpg: ignoring corrupt image/label: negative class labels [  -0.011068]\n",
            "\u001b[34m\u001b[1mtrain: \u001b[0m/content/yolo_keypoints_dataset/yolo_keypoints_dataset/train/images/0X25153E9120D31CC8_f70.jpg: ignoring corrupt image/label: negative class labels [  -0.014323]\n",
            "\u001b[34m\u001b[1mtrain: \u001b[0m/content/yolo_keypoints_dataset/yolo_keypoints_dataset/train/images/0X2EE56F270D208DF2_f45.jpg: ignoring corrupt image/label: non-normalized or out of bounds coordinates [     1.0136]\n",
            "\u001b[34m\u001b[1mtrain: \u001b[0m/content/yolo_keypoints_dataset/yolo_keypoints_dataset/train/images/0X63C0C93E76565075_f56.jpg: ignoring corrupt image/label: non-normalized or out of bounds coordinates [     1.0165      1.0234      1.0205      1.0156]\n",
            "\u001b[34m\u001b[1mtrain: \u001b[0m/content/yolo_keypoints_dataset/yolo_keypoints_dataset/train/images/0X6CC0AFACCC801E35_f104.jpg: ignoring corrupt image/label: negative class labels [  -0.033333   -0.036665   -0.013879]\n",
            "\u001b[34m\u001b[1mtrain: \u001b[0m/content/yolo_keypoints_dataset/yolo_keypoints_dataset/train/images/0X6CC0AFACCC801E35_f87.jpg: ignoring corrupt image/label: negative class labels [  -0.022917   -0.026086]\n",
            "\u001b[34m\u001b[1mtrain: \u001b[0m/content/yolo_keypoints_dataset/yolo_keypoints_dataset/train/images/0X70AE1E2408B80316_f45.jpg: ignoring corrupt image/label: non-normalized or out of bounds coordinates [     1.0103]\n",
            "\u001b[34m\u001b[1mtrain: \u001b[0m/content/yolo_keypoints_dataset/yolo_keypoints_dataset/train/images/0X7B9A154FC4B9A975_f46.jpg: ignoring corrupt image/label: non-normalized or out of bounds coordinates [     1.0122      1.0311      1.0208      1.0183]\n",
            "\u001b[34m\u001b[1mtrain: \u001b[0m/content/yolo_keypoints_dataset/yolo_keypoints_dataset/train/images/0X7CA9A912598CA322_f108.jpg: ignoring corrupt image/label: non-normalized or out of bounds coordinates [     1.0222        1.04      1.0558       1.064      1.0704       1.068      1.0651      1.0599      1.0478]\n",
            "\u001b[34m\u001b[1mtrain: \u001b[0m/content/yolo_keypoints_dataset/yolo_keypoints_dataset/train/images/0XBE06F978BB3226D_f0.jpg: ignoring corrupt image/label: non-normalized or out of bounds coordinates [     1.0112      1.0221      1.0254      1.0217      1.0181      1.0144]\n"
          ]
        },
        {
          "metadata": {
            "tags": null
          },
          "name": "stderr",
          "output_type": "stream",
          "text": [
            "\n"
          ]
        },
        {
          "metadata": {
            "tags": null
          },
          "name": "stdout",
          "output_type": "stream",
          "text": [
            "\u001b[34m\u001b[1mtrain: \u001b[0mNew cache created: /content/yolo_keypoints_dataset/yolo_keypoints_dataset/train/labels.cache\n",
            "WARNING ⚠️ No 'flip_idx' array defined in data.yaml, disabling 'fliplr' and 'flipud' augmentations.\n",
            "\u001b[34m\u001b[1malbumentations: \u001b[0mBlur(p=0.01, blur_limit=(3, 7)), MedianBlur(p=0.01, blur_limit=(3, 7)), ToGray(p=0.01, method='weighted_average', num_output_channels=3), CLAHE(p=0.01, clip_limit=(1.0, 4.0), tile_grid_size=(8, 8))\n",
            "\u001b[34m\u001b[1mval: \u001b[0mFast image access ✅ (ping: 0.0±0.0 ms, read: 2.0±0.5 MB/s, size: 5.5 KB)\n"
          ]
        },
        {
          "metadata": {
            "tags": null
          },
          "name": "stderr",
          "output_type": "stream",
          "text": [
            "\u001b[34m\u001b[1mval: \u001b[0mScanning /content/yolo_keypoints_dataset/yolo_keypoints_dataset/val/labels... 2576 images, 0 backgrounds, 4 corrupt: 100%|██████████| 2576/2576 [00:03<00:00, 853.81it/s] "
          ]
        },
        {
          "metadata": {
            "tags": null
          },
          "name": "stdout",
          "output_type": "stream",
          "text": [
            "\u001b[34m\u001b[1mval: \u001b[0m/content/yolo_keypoints_dataset/yolo_keypoints_dataset/val/images/0X374099556945A9EA_f121.jpg: ignoring corrupt image/label: non-normalized or out of bounds coordinates [     1.0127      1.0159      1.0148      1.0137      1.0126       1.025      1.0193]\n",
            "\u001b[34m\u001b[1mval: \u001b[0m/content/yolo_keypoints_dataset/yolo_keypoints_dataset/val/images/0X50807FBC49B44ED4_f43.jpg: ignoring corrupt image/label: non-normalized or out of bounds coordinates [     1.0116      1.0143      1.0191]\n",
            "\u001b[34m\u001b[1mval: \u001b[0m/content/yolo_keypoints_dataset/yolo_keypoints_dataset/val/images/0X62473A8FCF726A75_f52.jpg: ignoring corrupt image/label: non-normalized or out of bounds coordinates [     1.0157      1.0271      1.0384      1.0497       1.061]\n",
            "\u001b[34m\u001b[1mval: \u001b[0m/content/yolo_keypoints_dataset/yolo_keypoints_dataset/val/images/0XDB100B9990F3EB_f2.jpg: ignoring corrupt image/label: non-normalized or out of bounds coordinates [     1.0109]\n"
          ]
        },
        {
          "metadata": {
            "tags": null
          },
          "name": "stderr",
          "output_type": "stream",
          "text": [
            "\n"
          ]
        },
        {
          "metadata": {
            "tags": null
          },
          "name": "stdout",
          "output_type": "stream",
          "text": [
            "\u001b[34m\u001b[1mval: \u001b[0mNew cache created: /content/yolo_keypoints_dataset/yolo_keypoints_dataset/val/labels.cache\n",
            "Plotting labels to runs/pose/train16/labels.jpg... \n",
            "\u001b[34m\u001b[1moptimizer:\u001b[0m Adam(lr=0.01, momentum=0.937) with parameter groups 87 weight(decay=0.0), 97 weight(decay=0.0005), 96 bias(decay=0.0)\n",
            "Image sizes 128 train, 128 val\n",
            "Using 2 dataloader workers\n",
            "Logging results to \u001b[1mruns/pose/train16\u001b[0m\n",
            "Starting training for 100 epochs...\n",
            "\n",
            "      Epoch    GPU_mem   box_loss  pose_loss  kobj_loss   cls_loss   dfl_loss  Instances       Size\n"
          ]
        },
        {
          "metadata": {
            "tags": null
          },
          "name": "stderr",
          "output_type": "stream",
          "text": [
            "      1/100     0.645G      1.523      9.051          0     0.8921      1.319         35        128: 100%|██████████| 932/932 [02:15<00:00,  6.88it/s]\n",
            "                 Class     Images  Instances      Box(P          R      mAP50  mAP50-95)     Pose(P          R      mAP50  mAP50-95): 100%|██████████| 81/81 [00:14<00:00,  5.73it/s]\n"
          ]
        },
        {
          "metadata": {
            "tags": null
          },
          "name": "stdout",
          "output_type": "stream",
          "text": [
            "                   all       2572       2572      0.945      0.942       0.98      0.644      0.126      0.117     0.0241    0.00361\n",
            "\n",
            "      Epoch    GPU_mem   box_loss  pose_loss  kobj_loss   cls_loss   dfl_loss  Instances       Size\n"
          ]
        },
        {
          "metadata": {
            "tags": null
          },
          "name": "stderr",
          "output_type": "stream",
          "text": [
            "      2/100     0.709G       1.35      7.863          0     0.7489      1.232         35        128: 100%|██████████| 932/932 [02:04<00:00,  7.51it/s]\n",
            "                 Class     Images  Instances      Box(P          R      mAP50  mAP50-95)     Pose(P          R      mAP50  mAP50-95): 100%|██████████| 81/81 [00:14<00:00,  5.59it/s]\n"
          ]
        },
        {
          "metadata": {
            "tags": null
          },
          "name": "stdout",
          "output_type": "stream",
          "text": [
            "                   all       2572       2572      0.993      0.991      0.995      0.638      0.173      0.164     0.0358    0.00601\n",
            "\n",
            "      Epoch    GPU_mem   box_loss  pose_loss  kobj_loss   cls_loss   dfl_loss  Instances       Size\n"
          ]
        },
        {
          "metadata": {
            "tags": null
          },
          "name": "stderr",
          "output_type": "stream",
          "text": [
            "      3/100      0.77G      1.255      7.482          0     0.6991      1.187         29        128: 100%|██████████| 932/932 [02:00<00:00,  7.75it/s]\n",
            "                 Class     Images  Instances      Box(P          R      mAP50  mAP50-95)     Pose(P          R      mAP50  mAP50-95): 100%|██████████| 81/81 [00:14<00:00,  5.73it/s]\n"
          ]
        },
        {
          "metadata": {
            "tags": null
          },
          "name": "stdout",
          "output_type": "stream",
          "text": [
            "                   all       2572       2572      0.992      0.992      0.995      0.629      0.283       0.27     0.0989      0.018\n",
            "\n",
            "      Epoch    GPU_mem   box_loss  pose_loss  kobj_loss   cls_loss   dfl_loss  Instances       Size\n"
          ]
        },
        {
          "metadata": {
            "tags": null
          },
          "name": "stderr",
          "output_type": "stream",
          "text": [
            "      4/100     0.834G      1.197      7.213          0     0.6624       1.16         29        128: 100%|██████████| 932/932 [02:00<00:00,  7.73it/s]\n",
            "                 Class     Images  Instances      Box(P          R      mAP50  mAP50-95)     Pose(P          R      mAP50  mAP50-95): 100%|██████████| 81/81 [00:14<00:00,  5.59it/s]"
          ]
        },
        {
          "metadata": {
            "tags": null
          },
          "name": "stdout",
          "output_type": "stream",
          "text": [
            "                   all       2572       2572      0.992      0.991      0.995       0.74      0.236      0.229     0.0764     0.0143\n"
          ]
        },
        {
          "metadata": {
            "tags": null
          },
          "name": "stderr",
          "output_type": "stream",
          "text": [
            "\n"
          ]
        },
        {
          "metadata": {
            "tags": null
          },
          "name": "stdout",
          "output_type": "stream",
          "text": [
            "\n",
            "      Epoch    GPU_mem   box_loss  pose_loss  kobj_loss   cls_loss   dfl_loss  Instances       Size\n"
          ]
        },
        {
          "metadata": {
            "tags": null
          },
          "name": "stderr",
          "output_type": "stream",
          "text": [
            "      5/100     0.896G      1.149      7.029          0      0.635      1.139         27        128: 100%|██████████| 932/932 [02:00<00:00,  7.75it/s]\n",
            "                 Class     Images  Instances      Box(P          R      mAP50  mAP50-95)     Pose(P          R      mAP50  mAP50-95): 100%|██████████| 81/81 [00:13<00:00,  5.90it/s]"
          ]
        },
        {
          "metadata": {
            "tags": null
          },
          "name": "stdout",
          "output_type": "stream",
          "text": [
            "                   all       2572       2572      0.996      0.994      0.995      0.749      0.279      0.272      0.119     0.0247\n"
          ]
        },
        {
          "metadata": {
            "tags": null
          },
          "name": "stderr",
          "output_type": "stream",
          "text": [
            "\n"
          ]
        },
        {
          "metadata": {
            "tags": null
          },
          "name": "stdout",
          "output_type": "stream",
          "text": [
            "\n",
            "      Epoch    GPU_mem   box_loss  pose_loss  kobj_loss   cls_loss   dfl_loss  Instances       Size\n"
          ]
        },
        {
          "metadata": {
            "tags": null
          },
          "name": "stderr",
          "output_type": "stream",
          "text": [
            "      6/100     0.941G      1.132      6.902          0     0.6241      1.132         32        128: 100%|██████████| 932/932 [02:00<00:00,  7.73it/s]\n",
            "                 Class     Images  Instances      Box(P          R      mAP50  mAP50-95)     Pose(P          R      mAP50  mAP50-95): 100%|██████████| 81/81 [00:15<00:00,  5.23it/s]"
          ]
        },
        {
          "metadata": {
            "tags": null
          },
          "name": "stdout",
          "output_type": "stream",
          "text": [
            "                   all       2572       2572      0.984      0.976      0.994      0.582      0.308      0.268      0.147     0.0323\n"
          ]
        },
        {
          "metadata": {
            "tags": null
          },
          "name": "stderr",
          "output_type": "stream",
          "text": [
            "\n"
          ]
        },
        {
          "metadata": {
            "tags": null
          },
          "name": "stdout",
          "output_type": "stream",
          "text": [
            "\n",
            "      Epoch    GPU_mem   box_loss  pose_loss  kobj_loss   cls_loss   dfl_loss  Instances       Size\n"
          ]
        },
        {
          "metadata": {
            "tags": null
          },
          "name": "stderr",
          "output_type": "stream",
          "text": [
            "      7/100      1.01G      1.112      6.858          0      0.618      1.126         22        128: 100%|██████████| 932/932 [02:02<00:00,  7.63it/s]\n",
            "                 Class     Images  Instances      Box(P          R      mAP50  mAP50-95)     Pose(P          R      mAP50  mAP50-95): 100%|██████████| 81/81 [00:13<00:00,  5.81it/s]"
          ]
        },
        {
          "metadata": {
            "tags": null
          },
          "name": "stdout",
          "output_type": "stream",
          "text": [
            "                   all       2572       2572      0.996      0.994      0.995      0.753      0.367      0.361      0.175     0.0365\n"
          ]
        },
        {
          "metadata": {
            "tags": null
          },
          "name": "stderr",
          "output_type": "stream",
          "text": [
            "\n"
          ]
        },
        {
          "metadata": {
            "tags": null
          },
          "name": "stdout",
          "output_type": "stream",
          "text": [
            "\n",
            "      Epoch    GPU_mem   box_loss  pose_loss  kobj_loss   cls_loss   dfl_loss  Instances       Size\n"
          ]
        },
        {
          "metadata": {
            "tags": null
          },
          "name": "stderr",
          "output_type": "stream",
          "text": [
            "      8/100      1.07G      1.103      6.801          0     0.6063      1.119         30        128: 100%|██████████| 932/932 [02:00<00:00,  7.74it/s]\n",
            "                 Class     Images  Instances      Box(P          R      mAP50  mAP50-95)     Pose(P          R      mAP50  mAP50-95): 100%|██████████| 81/81 [00:15<00:00,  5.27it/s]\n"
          ]
        },
        {
          "metadata": {
            "tags": null
          },
          "name": "stdout",
          "output_type": "stream",
          "text": [
            "                   all       2572       2572      0.997      0.998      0.995      0.764      0.399      0.382      0.217     0.0471\n",
            "\n",
            "      Epoch    GPU_mem   box_loss  pose_loss  kobj_loss   cls_loss   dfl_loss  Instances       Size\n"
          ]
        },
        {
          "metadata": {
            "tags": null
          },
          "name": "stderr",
          "output_type": "stream",
          "text": [
            "      9/100      1.11G      1.075      6.755          0     0.5984       1.11         32        128: 100%|██████████| 932/932 [02:01<00:00,  7.70it/s]\n",
            "                 Class     Images  Instances      Box(P          R      mAP50  mAP50-95)     Pose(P          R      mAP50  mAP50-95): 100%|██████████| 81/81 [00:13<00:00,  5.83it/s]"
          ]
        },
        {
          "metadata": {
            "tags": null
          },
          "name": "stdout",
          "output_type": "stream",
          "text": [
            "                   all       2572       2572      0.997      0.996      0.995      0.729      0.363      0.355       0.22     0.0508\n"
          ]
        },
        {
          "metadata": {
            "tags": null
          },
          "name": "stderr",
          "output_type": "stream",
          "text": [
            "\n"
          ]
        },
        {
          "metadata": {
            "tags": null
          },
          "name": "stdout",
          "output_type": "stream",
          "text": [
            "\n",
            "      Epoch    GPU_mem   box_loss  pose_loss  kobj_loss   cls_loss   dfl_loss  Instances       Size\n"
          ]
        },
        {
          "metadata": {
            "tags": null
          },
          "name": "stderr",
          "output_type": "stream",
          "text": [
            "     10/100      1.18G      1.081      6.704          0     0.5954       1.11         19        128: 100%|██████████| 932/932 [02:00<00:00,  7.76it/s]\n",
            "                 Class     Images  Instances      Box(P          R      mAP50  mAP50-95)     Pose(P          R      mAP50  mAP50-95): 100%|██████████| 81/81 [00:13<00:00,  5.86it/s]"
          ]
        },
        {
          "metadata": {
            "tags": null
          },
          "name": "stdout",
          "output_type": "stream",
          "text": [
            "                   all       2572       2572      0.996      0.997      0.995       0.77      0.383       0.36      0.185     0.0407\n"
          ]
        },
        {
          "metadata": {
            "tags": null
          },
          "name": "stderr",
          "output_type": "stream",
          "text": [
            "\n"
          ]
        },
        {
          "metadata": {
            "tags": null
          },
          "name": "stdout",
          "output_type": "stream",
          "text": [
            "\n",
            "      Epoch    GPU_mem   box_loss  pose_loss  kobj_loss   cls_loss   dfl_loss  Instances       Size\n"
          ]
        },
        {
          "metadata": {
            "tags": null
          },
          "name": "stderr",
          "output_type": "stream",
          "text": [
            "     11/100      1.24G       1.07      6.689          0      0.595      1.108         31        128: 100%|██████████| 932/932 [02:02<00:00,  7.63it/s]\n",
            "                 Class     Images  Instances      Box(P          R      mAP50  mAP50-95)     Pose(P          R      mAP50  mAP50-95): 100%|██████████| 81/81 [00:13<00:00,  5.84it/s]"
          ]
        },
        {
          "metadata": {
            "tags": null
          },
          "name": "stdout",
          "output_type": "stream",
          "text": [
            "                   all       2572       2572      0.996      0.995      0.995      0.739        0.4      0.386      0.204     0.0442\n"
          ]
        },
        {
          "metadata": {
            "tags": null
          },
          "name": "stderr",
          "output_type": "stream",
          "text": [
            "\n"
          ]
        },
        {
          "metadata": {
            "tags": null
          },
          "name": "stdout",
          "output_type": "stream",
          "text": [
            "\n",
            "      Epoch    GPU_mem   box_loss  pose_loss  kobj_loss   cls_loss   dfl_loss  Instances       Size\n"
          ]
        },
        {
          "metadata": {
            "tags": null
          },
          "name": "stderr",
          "output_type": "stream",
          "text": [
            "     12/100      1.31G       1.06      6.693          0     0.5855      1.099         22        128: 100%|██████████| 932/932 [02:01<00:00,  7.65it/s]\n",
            "                 Class     Images  Instances      Box(P          R      mAP50  mAP50-95)     Pose(P          R      mAP50  mAP50-95): 100%|██████████| 81/81 [00:13<00:00,  5.81it/s]"
          ]
        },
        {
          "metadata": {
            "tags": null
          },
          "name": "stdout",
          "output_type": "stream",
          "text": [
            "                   all       2572       2572      0.998      0.994      0.995      0.727      0.416      0.408      0.231     0.0534\n"
          ]
        },
        {
          "metadata": {
            "tags": null
          },
          "name": "stderr",
          "output_type": "stream",
          "text": [
            "\n"
          ]
        },
        {
          "metadata": {
            "tags": null
          },
          "name": "stdout",
          "output_type": "stream",
          "text": [
            "\n",
            "      Epoch    GPU_mem   box_loss  pose_loss  kobj_loss   cls_loss   dfl_loss  Instances       Size\n"
          ]
        },
        {
          "metadata": {
            "tags": null
          },
          "name": "stderr",
          "output_type": "stream",
          "text": [
            "     13/100      1.37G      1.073      6.654          0     0.5924      1.105         27        128: 100%|██████████| 932/932 [02:03<00:00,  7.57it/s]\n",
            "                 Class     Images  Instances      Box(P          R      mAP50  mAP50-95)     Pose(P          R      mAP50  mAP50-95): 100%|██████████| 81/81 [00:14<00:00,  5.62it/s]"
          ]
        },
        {
          "metadata": {
            "tags": null
          },
          "name": "stdout",
          "output_type": "stream",
          "text": [
            "                   all       2572       2572      0.998      0.997      0.995      0.758      0.402      0.394      0.232     0.0555\n"
          ]
        },
        {
          "metadata": {
            "tags": null
          },
          "name": "stderr",
          "output_type": "stream",
          "text": [
            "\n"
          ]
        },
        {
          "metadata": {
            "tags": null
          },
          "name": "stdout",
          "output_type": "stream",
          "text": [
            "\n",
            "      Epoch    GPU_mem   box_loss  pose_loss  kobj_loss   cls_loss   dfl_loss  Instances       Size\n"
          ]
        },
        {
          "metadata": {
            "tags": null
          },
          "name": "stderr",
          "output_type": "stream",
          "text": [
            "     14/100      1.43G      1.055       6.61          0     0.5843      1.097         32        128: 100%|██████████| 932/932 [02:04<00:00,  7.51it/s]\n",
            "                 Class     Images  Instances      Box(P          R      mAP50  mAP50-95)     Pose(P          R      mAP50  mAP50-95): 100%|██████████| 81/81 [00:13<00:00,  5.80it/s]"
          ]
        },
        {
          "metadata": {
            "tags": null
          },
          "name": "stdout",
          "output_type": "stream",
          "text": [
            "                   all       2572       2572      0.997      0.997      0.995      0.783      0.419      0.412      0.248     0.0576\n"
          ]
        },
        {
          "metadata": {
            "tags": null
          },
          "name": "stderr",
          "output_type": "stream",
          "text": [
            "\n"
          ]
        },
        {
          "metadata": {
            "tags": null
          },
          "name": "stdout",
          "output_type": "stream",
          "text": [
            "\n",
            "      Epoch    GPU_mem   box_loss  pose_loss  kobj_loss   cls_loss   dfl_loss  Instances       Size\n"
          ]
        },
        {
          "metadata": {
            "tags": null
          },
          "name": "stderr",
          "output_type": "stream",
          "text": [
            "     15/100      1.48G      1.056      6.623          0     0.5818        1.1         37        128: 100%|██████████| 932/932 [02:02<00:00,  7.59it/s]\n",
            "                 Class     Images  Instances      Box(P          R      mAP50  mAP50-95)     Pose(P          R      mAP50  mAP50-95): 100%|██████████| 81/81 [00:14<00:00,  5.68it/s]"
          ]
        },
        {
          "metadata": {
            "tags": null
          },
          "name": "stdout",
          "output_type": "stream",
          "text": [
            "                   all       2572       2572      0.998      0.997      0.995       0.77      0.426      0.422      0.242     0.0547\n"
          ]
        },
        {
          "metadata": {
            "tags": null
          },
          "name": "stderr",
          "output_type": "stream",
          "text": [
            "\n"
          ]
        },
        {
          "metadata": {
            "tags": null
          },
          "name": "stdout",
          "output_type": "stream",
          "text": [
            "\n",
            "      Epoch    GPU_mem   box_loss  pose_loss  kobj_loss   cls_loss   dfl_loss  Instances       Size\n"
          ]
        },
        {
          "metadata": {
            "tags": null
          },
          "name": "stderr",
          "output_type": "stream",
          "text": [
            "     16/100      1.54G      1.035      6.587          0     0.5744      1.094         38        128: 100%|██████████| 932/932 [02:04<00:00,  7.51it/s]\n",
            "                 Class     Images  Instances      Box(P          R      mAP50  mAP50-95)     Pose(P          R      mAP50  mAP50-95): 100%|██████████| 81/81 [00:14<00:00,  5.73it/s]"
          ]
        },
        {
          "metadata": {
            "tags": null
          },
          "name": "stdout",
          "output_type": "stream",
          "text": [
            "                   all       2572       2572      0.998      0.995      0.995      0.796      0.421      0.412      0.256     0.0603\n"
          ]
        },
        {
          "metadata": {
            "tags": null
          },
          "name": "stderr",
          "output_type": "stream",
          "text": [
            "\n"
          ]
        },
        {
          "metadata": {
            "tags": null
          },
          "name": "stdout",
          "output_type": "stream",
          "text": [
            "\n",
            "      Epoch    GPU_mem   box_loss  pose_loss  kobj_loss   cls_loss   dfl_loss  Instances       Size\n"
          ]
        },
        {
          "metadata": {
            "tags": null
          },
          "name": "stderr",
          "output_type": "stream",
          "text": [
            "     17/100      1.61G      1.041      6.565          0     0.5761      1.093         30        128: 100%|██████████| 932/932 [02:05<00:00,  7.43it/s]\n",
            "                 Class     Images  Instances      Box(P          R      mAP50  mAP50-95)     Pose(P          R      mAP50  mAP50-95): 100%|██████████| 81/81 [00:14<00:00,  5.69it/s]"
          ]
        },
        {
          "metadata": {
            "tags": null
          },
          "name": "stdout",
          "output_type": "stream",
          "text": [
            "                   all       2572       2572      0.998      0.996      0.995      0.793      0.448      0.441      0.274     0.0658\n"
          ]
        },
        {
          "metadata": {
            "tags": null
          },
          "name": "stderr",
          "output_type": "stream",
          "text": [
            "\n"
          ]
        },
        {
          "metadata": {
            "tags": null
          },
          "name": "stdout",
          "output_type": "stream",
          "text": [
            "\n",
            "      Epoch    GPU_mem   box_loss  pose_loss  kobj_loss   cls_loss   dfl_loss  Instances       Size\n"
          ]
        },
        {
          "metadata": {
            "tags": null
          },
          "name": "stderr",
          "output_type": "stream",
          "text": [
            "     18/100      1.67G      1.044       6.58          0     0.5826      1.097         28        128: 100%|██████████| 932/932 [02:02<00:00,  7.60it/s]\n",
            "                 Class     Images  Instances      Box(P          R      mAP50  mAP50-95)     Pose(P          R      mAP50  mAP50-95): 100%|██████████| 81/81 [00:13<00:00,  5.79it/s]"
          ]
        },
        {
          "metadata": {
            "tags": null
          },
          "name": "stdout",
          "output_type": "stream",
          "text": [
            "                   all       2572       2572      0.999      0.997      0.995      0.761      0.429      0.418       0.21     0.0456\n"
          ]
        },
        {
          "metadata": {
            "tags": null
          },
          "name": "stderr",
          "output_type": "stream",
          "text": [
            "\n"
          ]
        },
        {
          "metadata": {
            "tags": null
          },
          "name": "stdout",
          "output_type": "stream",
          "text": [
            "\n",
            "      Epoch    GPU_mem   box_loss  pose_loss  kobj_loss   cls_loss   dfl_loss  Instances       Size\n"
          ]
        },
        {
          "metadata": {
            "tags": null
          },
          "name": "stderr",
          "output_type": "stream",
          "text": [
            "     19/100      1.71G      1.038      6.591          0      0.575      1.096         18        128: 100%|██████████| 932/932 [02:03<00:00,  7.57it/s]\n",
            "                 Class     Images  Instances      Box(P          R      mAP50  mAP50-95)     Pose(P          R      mAP50  mAP50-95): 100%|██████████| 81/81 [00:14<00:00,  5.78it/s]"
          ]
        },
        {
          "metadata": {
            "tags": null
          },
          "name": "stdout",
          "output_type": "stream",
          "text": [
            "                   all       2572       2572      0.997      0.997      0.995      0.782      0.439      0.435       0.26     0.0637\n"
          ]
        },
        {
          "metadata": {
            "tags": null
          },
          "name": "stderr",
          "output_type": "stream",
          "text": [
            "\n"
          ]
        },
        {
          "metadata": {
            "tags": null
          },
          "name": "stdout",
          "output_type": "stream",
          "text": [
            "\n",
            "      Epoch    GPU_mem   box_loss  pose_loss  kobj_loss   cls_loss   dfl_loss  Instances       Size\n"
          ]
        },
        {
          "metadata": {
            "tags": null
          },
          "name": "stderr",
          "output_type": "stream",
          "text": [
            "     20/100      1.78G      1.038      6.538          0     0.5803      1.095         26        128: 100%|██████████| 932/932 [02:03<00:00,  7.56it/s]\n",
            "                 Class     Images  Instances      Box(P          R      mAP50  mAP50-95)     Pose(P          R      mAP50  mAP50-95): 100%|██████████| 81/81 [00:14<00:00,  5.71it/s]"
          ]
        },
        {
          "metadata": {
            "tags": null
          },
          "name": "stdout",
          "output_type": "stream",
          "text": [
            "                   all       2572       2572      0.998      0.996      0.995      0.776      0.437      0.432      0.258     0.0628\n"
          ]
        },
        {
          "metadata": {
            "tags": null
          },
          "name": "stderr",
          "output_type": "stream",
          "text": [
            "\n"
          ]
        },
        {
          "metadata": {
            "tags": null
          },
          "name": "stdout",
          "output_type": "stream",
          "text": [
            "\n",
            "      Epoch    GPU_mem   box_loss  pose_loss  kobj_loss   cls_loss   dfl_loss  Instances       Size\n"
          ]
        },
        {
          "metadata": {
            "tags": null
          },
          "name": "stderr",
          "output_type": "stream",
          "text": [
            "     21/100      1.84G      1.025      6.486          0     0.5672      1.087         33        128: 100%|██████████| 932/932 [02:03<00:00,  7.52it/s]\n",
            "                 Class     Images  Instances      Box(P          R      mAP50  mAP50-95)     Pose(P          R      mAP50  mAP50-95): 100%|██████████| 81/81 [00:14<00:00,  5.77it/s]"
          ]
        },
        {
          "metadata": {
            "tags": null
          },
          "name": "stdout",
          "output_type": "stream",
          "text": [
            "                   all       2572       2572      0.998      0.996      0.995      0.785      0.462      0.453      0.275     0.0633\n"
          ]
        },
        {
          "metadata": {
            "tags": null
          },
          "name": "stderr",
          "output_type": "stream",
          "text": [
            "\n"
          ]
        },
        {
          "metadata": {
            "tags": null
          },
          "name": "stdout",
          "output_type": "stream",
          "text": [
            "\n",
            "      Epoch    GPU_mem   box_loss  pose_loss  kobj_loss   cls_loss   dfl_loss  Instances       Size\n"
          ]
        },
        {
          "metadata": {
            "tags": null
          },
          "name": "stderr",
          "output_type": "stream",
          "text": [
            "     22/100      1.89G      1.029      6.468          0     0.5638      1.089         30        128: 100%|██████████| 932/932 [02:03<00:00,  7.55it/s]\n",
            "                 Class     Images  Instances      Box(P          R      mAP50  mAP50-95)     Pose(P          R      mAP50  mAP50-95): 100%|██████████| 81/81 [00:14<00:00,  5.67it/s]"
          ]
        },
        {
          "metadata": {
            "tags": null
          },
          "name": "stdout",
          "output_type": "stream",
          "text": [
            "                   all       2572       2572      0.999      0.997      0.995      0.779      0.459      0.454      0.247     0.0574\n"
          ]
        },
        {
          "metadata": {
            "tags": null
          },
          "name": "stderr",
          "output_type": "stream",
          "text": [
            "\n"
          ]
        },
        {
          "metadata": {
            "tags": null
          },
          "name": "stdout",
          "output_type": "stream",
          "text": [
            "\n",
            "      Epoch    GPU_mem   box_loss  pose_loss  kobj_loss   cls_loss   dfl_loss  Instances       Size\n"
          ]
        },
        {
          "metadata": {
            "tags": null
          },
          "name": "stderr",
          "output_type": "stream",
          "text": [
            "     23/100      1.95G      1.013      6.503          0     0.5609      1.087         25        128: 100%|██████████| 932/932 [02:04<00:00,  7.48it/s]\n",
            "                 Class     Images  Instances      Box(P          R      mAP50  mAP50-95)     Pose(P          R      mAP50  mAP50-95): 100%|██████████| 81/81 [00:13<00:00,  5.80it/s]"
          ]
        },
        {
          "metadata": {
            "tags": null
          },
          "name": "stdout",
          "output_type": "stream",
          "text": [
            "                   all       2572       2572      0.998      0.996      0.995      0.792      0.462      0.454      0.324     0.0846\n"
          ]
        },
        {
          "metadata": {
            "tags": null
          },
          "name": "stderr",
          "output_type": "stream",
          "text": [
            "\n"
          ]
        },
        {
          "metadata": {
            "tags": null
          },
          "name": "stdout",
          "output_type": "stream",
          "text": [
            "\n",
            "      Epoch    GPU_mem   box_loss  pose_loss  kobj_loss   cls_loss   dfl_loss  Instances       Size\n"
          ]
        },
        {
          "metadata": {
            "tags": null
          },
          "name": "stderr",
          "output_type": "stream",
          "text": [
            "     24/100      2.02G      1.021      6.478          0     0.5651      1.083         25        128: 100%|██████████| 932/932 [02:03<00:00,  7.53it/s]\n",
            "                 Class     Images  Instances      Box(P          R      mAP50  mAP50-95)     Pose(P          R      mAP50  mAP50-95): 100%|██████████| 81/81 [00:13<00:00,  5.81it/s]"
          ]
        },
        {
          "metadata": {
            "tags": null
          },
          "name": "stdout",
          "output_type": "stream",
          "text": [
            "                   all       2572       2572      0.998      0.998      0.995      0.801      0.461      0.455      0.305     0.0775\n"
          ]
        },
        {
          "metadata": {
            "tags": null
          },
          "name": "stderr",
          "output_type": "stream",
          "text": [
            "\n"
          ]
        },
        {
          "metadata": {
            "tags": null
          },
          "name": "stdout",
          "output_type": "stream",
          "text": [
            "\n",
            "      Epoch    GPU_mem   box_loss  pose_loss  kobj_loss   cls_loss   dfl_loss  Instances       Size\n"
          ]
        },
        {
          "metadata": {
            "tags": null
          },
          "name": "stderr",
          "output_type": "stream",
          "text": [
            "     25/100      2.08G      1.028      6.534          0     0.5655      1.089         23        128: 100%|██████████| 932/932 [02:04<00:00,  7.48it/s]\n",
            "                 Class     Images  Instances      Box(P          R      mAP50  mAP50-95)     Pose(P          R      mAP50  mAP50-95): 100%|██████████| 81/81 [00:14<00:00,  5.74it/s]"
          ]
        },
        {
          "metadata": {
            "tags": null
          },
          "name": "stdout",
          "output_type": "stream",
          "text": [
            "                   all       2572       2572      0.998      0.997      0.995      0.807      0.464      0.455      0.286     0.0695\n"
          ]
        },
        {
          "metadata": {
            "tags": null
          },
          "name": "stderr",
          "output_type": "stream",
          "text": [
            "\n"
          ]
        },
        {
          "metadata": {
            "tags": null
          },
          "name": "stdout",
          "output_type": "stream",
          "text": [
            "\n",
            "      Epoch    GPU_mem   box_loss  pose_loss  kobj_loss   cls_loss   dfl_loss  Instances       Size\n"
          ]
        },
        {
          "metadata": {
            "tags": null
          },
          "name": "stderr",
          "output_type": "stream",
          "text": [
            "     26/100      2.14G      1.006      6.468          0     0.5549      1.081         30        128: 100%|██████████| 932/932 [02:03<00:00,  7.53it/s]\n",
            "                 Class     Images  Instances      Box(P          R      mAP50  mAP50-95)     Pose(P          R      mAP50  mAP50-95): 100%|██████████| 81/81 [00:14<00:00,  5.67it/s]"
          ]
        },
        {
          "metadata": {
            "tags": null
          },
          "name": "stdout",
          "output_type": "stream",
          "text": [
            "                   all       2572       2572      0.998      0.998      0.995      0.793      0.486      0.476      0.309     0.0756\n"
          ]
        },
        {
          "metadata": {
            "tags": null
          },
          "name": "stderr",
          "output_type": "stream",
          "text": [
            "\n"
          ]
        },
        {
          "metadata": {
            "tags": null
          },
          "name": "stdout",
          "output_type": "stream",
          "text": [
            "\n",
            "      Epoch    GPU_mem   box_loss  pose_loss  kobj_loss   cls_loss   dfl_loss  Instances       Size\n"
          ]
        },
        {
          "metadata": {
            "tags": null
          },
          "name": "stderr",
          "output_type": "stream",
          "text": [
            "     27/100      2.21G      1.012      6.473          0     0.5618      1.081         26        128: 100%|██████████| 932/932 [02:04<00:00,  7.48it/s]\n",
            "                 Class     Images  Instances      Box(P          R      mAP50  mAP50-95)     Pose(P          R      mAP50  mAP50-95): 100%|██████████| 81/81 [00:14<00:00,  5.58it/s]"
          ]
        },
        {
          "metadata": {
            "tags": null
          },
          "name": "stdout",
          "output_type": "stream",
          "text": [
            "                   all       2572       2572      0.998      0.997      0.995      0.754      0.479      0.466      0.285     0.0687\n"
          ]
        },
        {
          "metadata": {
            "tags": null
          },
          "name": "stderr",
          "output_type": "stream",
          "text": [
            "\n"
          ]
        },
        {
          "metadata": {
            "tags": null
          },
          "name": "stdout",
          "output_type": "stream",
          "text": [
            "\n",
            "      Epoch    GPU_mem   box_loss  pose_loss  kobj_loss   cls_loss   dfl_loss  Instances       Size\n"
          ]
        },
        {
          "metadata": {
            "tags": null
          },
          "name": "stderr",
          "output_type": "stream",
          "text": [
            "     28/100      2.25G      1.007      6.418          0     0.5619      1.081         26        128: 100%|██████████| 932/932 [02:01<00:00,  7.70it/s]\n",
            "                 Class     Images  Instances      Box(P          R      mAP50  mAP50-95)     Pose(P          R      mAP50  mAP50-95): 100%|██████████| 81/81 [00:14<00:00,  5.78it/s]"
          ]
        },
        {
          "metadata": {
            "tags": null
          },
          "name": "stdout",
          "output_type": "stream",
          "text": [
            "                   all       2572       2572      0.999      0.997      0.995      0.799      0.486      0.479      0.291     0.0711\n"
          ]
        },
        {
          "metadata": {
            "tags": null
          },
          "name": "stderr",
          "output_type": "stream",
          "text": [
            "\n"
          ]
        },
        {
          "metadata": {
            "tags": null
          },
          "name": "stdout",
          "output_type": "stream",
          "text": [
            "\n",
            "      Epoch    GPU_mem   box_loss  pose_loss  kobj_loss   cls_loss   dfl_loss  Instances       Size\n"
          ]
        },
        {
          "metadata": {
            "tags": null
          },
          "name": "stderr",
          "output_type": "stream",
          "text": [
            "     29/100      2.31G      1.007      6.384          0     0.5545      1.082         22        128: 100%|██████████| 932/932 [02:05<00:00,  7.43it/s]\n",
            "                 Class     Images  Instances      Box(P          R      mAP50  mAP50-95)     Pose(P          R      mAP50  mAP50-95): 100%|██████████| 81/81 [00:14<00:00,  5.66it/s]"
          ]
        },
        {
          "metadata": {
            "tags": null
          },
          "name": "stdout",
          "output_type": "stream",
          "text": [
            "                   all       2572       2572      0.999      0.997      0.995      0.811      0.486      0.478      0.333     0.0866\n"
          ]
        },
        {
          "metadata": {
            "tags": null
          },
          "name": "stderr",
          "output_type": "stream",
          "text": [
            "\n"
          ]
        },
        {
          "metadata": {
            "tags": null
          },
          "name": "stdout",
          "output_type": "stream",
          "text": [
            "\n",
            "      Epoch    GPU_mem   box_loss  pose_loss  kobj_loss   cls_loss   dfl_loss  Instances       Size\n"
          ]
        },
        {
          "metadata": {
            "tags": null
          },
          "name": "stderr",
          "output_type": "stream",
          "text": [
            "     30/100      2.38G     0.9968      6.387          0     0.5544      1.073         29        128: 100%|██████████| 932/932 [02:01<00:00,  7.68it/s]\n",
            "                 Class     Images  Instances      Box(P          R      mAP50  mAP50-95)     Pose(P          R      mAP50  mAP50-95): 100%|██████████| 81/81 [00:14<00:00,  5.75it/s]"
          ]
        },
        {
          "metadata": {
            "tags": null
          },
          "name": "stdout",
          "output_type": "stream",
          "text": [
            "                   all       2572       2572      0.999      0.997      0.995        0.8       0.49      0.482       0.32     0.0798\n"
          ]
        },
        {
          "metadata": {
            "tags": null
          },
          "name": "stderr",
          "output_type": "stream",
          "text": [
            "\n"
          ]
        },
        {
          "metadata": {
            "tags": null
          },
          "name": "stdout",
          "output_type": "stream",
          "text": [
            "\n",
            "      Epoch    GPU_mem   box_loss  pose_loss  kobj_loss   cls_loss   dfl_loss  Instances       Size\n"
          ]
        },
        {
          "metadata": {
            "tags": null
          },
          "name": "stderr",
          "output_type": "stream",
          "text": [
            "     31/100      2.44G      1.015       6.43          0     0.5626      1.086         26        128: 100%|██████████| 932/932 [02:01<00:00,  7.68it/s]\n",
            "                 Class     Images  Instances      Box(P          R      mAP50  mAP50-95)     Pose(P          R      mAP50  mAP50-95): 100%|██████████| 81/81 [00:13<00:00,  5.89it/s]"
          ]
        },
        {
          "metadata": {
            "tags": null
          },
          "name": "stdout",
          "output_type": "stream",
          "text": [
            "                   all       2572       2572      0.998      0.997      0.995      0.786      0.487      0.478       0.33     0.0835\n"
          ]
        },
        {
          "metadata": {
            "tags": null
          },
          "name": "stderr",
          "output_type": "stream",
          "text": [
            "\n"
          ]
        },
        {
          "metadata": {
            "tags": null
          },
          "name": "stdout",
          "output_type": "stream",
          "text": [
            "\n",
            "      Epoch    GPU_mem   box_loss  pose_loss  kobj_loss   cls_loss   dfl_loss  Instances       Size\n"
          ]
        },
        {
          "metadata": {
            "tags": null
          },
          "name": "stderr",
          "output_type": "stream",
          "text": [
            "     32/100      2.49G     0.9969       6.39          0     0.5566      1.077         35        128: 100%|██████████| 932/932 [02:01<00:00,  7.67it/s]\n",
            "                 Class     Images  Instances      Box(P          R      mAP50  mAP50-95)     Pose(P          R      mAP50  mAP50-95): 100%|██████████| 81/81 [00:13<00:00,  5.84it/s]"
          ]
        },
        {
          "metadata": {
            "tags": null
          },
          "name": "stdout",
          "output_type": "stream",
          "text": [
            "                   all       2572       2572      0.998      0.998      0.995      0.791      0.486       0.48      0.341     0.0887\n"
          ]
        },
        {
          "metadata": {
            "tags": null
          },
          "name": "stderr",
          "output_type": "stream",
          "text": [
            "\n"
          ]
        },
        {
          "metadata": {
            "tags": null
          },
          "name": "stdout",
          "output_type": "stream",
          "text": [
            "\n",
            "      Epoch    GPU_mem   box_loss  pose_loss  kobj_loss   cls_loss   dfl_loss  Instances       Size\n"
          ]
        },
        {
          "metadata": {
            "tags": null
          },
          "name": "stderr",
          "output_type": "stream",
          "text": [
            "     33/100      2.55G     0.9999      6.387          0     0.5524      1.079         35        128: 100%|██████████| 932/932 [02:02<00:00,  7.64it/s]\n",
            "                 Class     Images  Instances      Box(P          R      mAP50  mAP50-95)     Pose(P          R      mAP50  mAP50-95): 100%|██████████| 81/81 [00:13<00:00,  5.80it/s]"
          ]
        },
        {
          "metadata": {
            "tags": null
          },
          "name": "stdout",
          "output_type": "stream",
          "text": [
            "                   all       2572       2572      0.998      0.997      0.995      0.784      0.492      0.485       0.36     0.0963\n"
          ]
        },
        {
          "metadata": {
            "tags": null
          },
          "name": "stderr",
          "output_type": "stream",
          "text": [
            "\n"
          ]
        },
        {
          "metadata": {
            "tags": null
          },
          "name": "stdout",
          "output_type": "stream",
          "text": [
            "\n",
            "      Epoch    GPU_mem   box_loss  pose_loss  kobj_loss   cls_loss   dfl_loss  Instances       Size\n"
          ]
        },
        {
          "metadata": {
            "tags": null
          },
          "name": "stderr",
          "output_type": "stream",
          "text": [
            "     34/100      2.62G     0.9849      6.362          0     0.5478      1.074         28        128: 100%|██████████| 932/932 [02:02<00:00,  7.62it/s]\n",
            "                 Class     Images  Instances      Box(P          R      mAP50  mAP50-95)     Pose(P          R      mAP50  mAP50-95): 100%|██████████| 81/81 [00:14<00:00,  5.65it/s]\n"
          ]
        },
        {
          "metadata": {
            "tags": null
          },
          "name": "stdout",
          "output_type": "stream",
          "text": [
            "                   all       2572       2572      0.999      0.997      0.995      0.784      0.489      0.483      0.324     0.0834\n",
            "\n",
            "      Epoch    GPU_mem   box_loss  pose_loss  kobj_loss   cls_loss   dfl_loss  Instances       Size\n"
          ]
        },
        {
          "metadata": {
            "tags": null
          },
          "name": "stderr",
          "output_type": "stream",
          "text": [
            "     35/100      2.66G     0.9905      6.393          0     0.5463      1.072         23        128: 100%|██████████| 932/932 [02:02<00:00,  7.60it/s]\n",
            "                 Class     Images  Instances      Box(P          R      mAP50  mAP50-95)     Pose(P          R      mAP50  mAP50-95): 100%|██████████| 81/81 [00:13<00:00,  5.94it/s]"
          ]
        },
        {
          "metadata": {
            "tags": null
          },
          "name": "stdout",
          "output_type": "stream",
          "text": [
            "                   all       2572       2572      0.999      0.997      0.995      0.803      0.494      0.489      0.337     0.0887\n"
          ]
        },
        {
          "metadata": {
            "tags": null
          },
          "name": "stderr",
          "output_type": "stream",
          "text": [
            "\n"
          ]
        },
        {
          "metadata": {
            "tags": null
          },
          "name": "stdout",
          "output_type": "stream",
          "text": [
            "\n",
            "      Epoch    GPU_mem   box_loss  pose_loss  kobj_loss   cls_loss   dfl_loss  Instances       Size\n"
          ]
        },
        {
          "metadata": {
            "tags": null
          },
          "name": "stderr",
          "output_type": "stream",
          "text": [
            "     36/100      2.72G     0.9871      6.367          0     0.5457      1.073         32        128: 100%|██████████| 932/932 [02:01<00:00,  7.67it/s]\n",
            "                 Class     Images  Instances      Box(P          R      mAP50  mAP50-95)     Pose(P          R      mAP50  mAP50-95): 100%|██████████| 81/81 [00:13<00:00,  5.91it/s]"
          ]
        },
        {
          "metadata": {
            "tags": null
          },
          "name": "stdout",
          "output_type": "stream",
          "text": [
            "                   all       2572       2572      0.999      0.997      0.995      0.815      0.499      0.489      0.364     0.0984\n"
          ]
        },
        {
          "metadata": {
            "tags": null
          },
          "name": "stderr",
          "output_type": "stream",
          "text": [
            "\n"
          ]
        },
        {
          "metadata": {
            "tags": null
          },
          "name": "stdout",
          "output_type": "stream",
          "text": [
            "\n",
            "      Epoch    GPU_mem   box_loss  pose_loss  kobj_loss   cls_loss   dfl_loss  Instances       Size\n"
          ]
        },
        {
          "metadata": {
            "tags": null
          },
          "name": "stderr",
          "output_type": "stream",
          "text": [
            "     37/100      2.79G     0.9853      6.347          0     0.5416      1.072         28        128: 100%|██████████| 932/932 [02:02<00:00,  7.61it/s]\n",
            "                 Class     Images  Instances      Box(P          R      mAP50  mAP50-95)     Pose(P          R      mAP50  mAP50-95): 100%|██████████| 81/81 [00:13<00:00,  5.89it/s]"
          ]
        },
        {
          "metadata": {
            "tags": null
          },
          "name": "stdout",
          "output_type": "stream",
          "text": [
            "                   all       2572       2572      0.998      0.997      0.995      0.794      0.503      0.496      0.358     0.0959\n"
          ]
        },
        {
          "metadata": {
            "tags": null
          },
          "name": "stderr",
          "output_type": "stream",
          "text": [
            "\n"
          ]
        },
        {
          "metadata": {
            "tags": null
          },
          "name": "stdout",
          "output_type": "stream",
          "text": [
            "\n",
            "      Epoch    GPU_mem   box_loss  pose_loss  kobj_loss   cls_loss   dfl_loss  Instances       Size\n"
          ]
        },
        {
          "metadata": {
            "tags": null
          },
          "name": "stderr",
          "output_type": "stream",
          "text": [
            "     38/100      2.85G     0.9836      6.311          0     0.5399       1.07         20        128: 100%|██████████| 932/932 [02:02<00:00,  7.62it/s]\n",
            "                 Class     Images  Instances      Box(P          R      mAP50  mAP50-95)     Pose(P          R      mAP50  mAP50-95): 100%|██████████| 81/81 [00:13<00:00,  5.93it/s]"
          ]
        },
        {
          "metadata": {
            "tags": null
          },
          "name": "stdout",
          "output_type": "stream",
          "text": [
            "                   all       2572       2572      0.999      0.997      0.995      0.793      0.496      0.487      0.338     0.0911\n"
          ]
        },
        {
          "metadata": {
            "tags": null
          },
          "name": "stderr",
          "output_type": "stream",
          "text": [
            "\n"
          ]
        },
        {
          "metadata": {
            "tags": null
          },
          "name": "stdout",
          "output_type": "stream",
          "text": [
            "\n",
            "      Epoch    GPU_mem   box_loss  pose_loss  kobj_loss   cls_loss   dfl_loss  Instances       Size\n"
          ]
        },
        {
          "metadata": {
            "tags": null
          },
          "name": "stderr",
          "output_type": "stream",
          "text": [
            "     39/100      2.92G     0.9833      6.287          0     0.5428      1.072         29        128: 100%|██████████| 932/932 [02:03<00:00,  7.54it/s]\n",
            "                 Class     Images  Instances      Box(P          R      mAP50  mAP50-95)     Pose(P          R      mAP50  mAP50-95): 100%|██████████| 81/81 [00:13<00:00,  5.84it/s]"
          ]
        },
        {
          "metadata": {
            "tags": null
          },
          "name": "stdout",
          "output_type": "stream",
          "text": [
            "                   all       2572       2572      0.999      0.997      0.995      0.799       0.51        0.5      0.342     0.0879\n"
          ]
        },
        {
          "metadata": {
            "tags": null
          },
          "name": "stderr",
          "output_type": "stream",
          "text": [
            "\n"
          ]
        },
        {
          "metadata": {
            "tags": null
          },
          "name": "stdout",
          "output_type": "stream",
          "text": [
            "\n",
            "      Epoch    GPU_mem   box_loss  pose_loss  kobj_loss   cls_loss   dfl_loss  Instances       Size\n"
          ]
        },
        {
          "metadata": {
            "tags": null
          },
          "name": "stderr",
          "output_type": "stream",
          "text": [
            "     40/100      2.98G      0.984      6.293          0     0.5382      1.068         21        128: 100%|██████████| 932/932 [02:03<00:00,  7.53it/s]\n",
            "                 Class     Images  Instances      Box(P          R      mAP50  mAP50-95)     Pose(P          R      mAP50  mAP50-95): 100%|██████████| 81/81 [00:14<00:00,  5.54it/s]\n"
          ]
        },
        {
          "metadata": {
            "tags": null
          },
          "name": "stdout",
          "output_type": "stream",
          "text": [
            "                   all       2572       2572      0.998      0.997      0.995      0.805      0.511        0.5       0.35      0.091\n",
            "\n",
            "      Epoch    GPU_mem   box_loss  pose_loss  kobj_loss   cls_loss   dfl_loss  Instances       Size\n"
          ]
        },
        {
          "metadata": {
            "tags": null
          },
          "name": "stderr",
          "output_type": "stream",
          "text": [
            "     41/100      3.03G     0.9744      6.343          0     0.5378      1.067         23        128: 100%|██████████| 932/932 [02:03<00:00,  7.57it/s]\n",
            "                 Class     Images  Instances      Box(P          R      mAP50  mAP50-95)     Pose(P          R      mAP50  mAP50-95): 100%|██████████| 81/81 [00:13<00:00,  5.89it/s]"
          ]
        },
        {
          "metadata": {
            "tags": null
          },
          "name": "stdout",
          "output_type": "stream",
          "text": [
            "                   all       2572       2572      0.999      0.996      0.995      0.801      0.505      0.496      0.338     0.0886\n"
          ]
        },
        {
          "metadata": {
            "tags": null
          },
          "name": "stderr",
          "output_type": "stream",
          "text": [
            "\n"
          ]
        },
        {
          "metadata": {
            "tags": null
          },
          "name": "stdout",
          "output_type": "stream",
          "text": [
            "\n",
            "      Epoch    GPU_mem   box_loss  pose_loss  kobj_loss   cls_loss   dfl_loss  Instances       Size\n"
          ]
        },
        {
          "metadata": {
            "tags": null
          },
          "name": "stderr",
          "output_type": "stream",
          "text": [
            "     42/100      3.09G     0.9685      6.365          0      0.531      1.065         24        128: 100%|██████████| 932/932 [02:00<00:00,  7.73it/s]\n",
            "                 Class     Images  Instances      Box(P          R      mAP50  mAP50-95)     Pose(P          R      mAP50  mAP50-95): 100%|██████████| 81/81 [00:13<00:00,  5.89it/s]"
          ]
        },
        {
          "metadata": {
            "tags": null
          },
          "name": "stdout",
          "output_type": "stream",
          "text": [
            "                   all       2572       2572      0.999      0.997      0.995      0.818      0.503      0.496       0.36     0.0972\n"
          ]
        },
        {
          "metadata": {
            "tags": null
          },
          "name": "stderr",
          "output_type": "stream",
          "text": [
            "\n"
          ]
        },
        {
          "metadata": {
            "tags": null
          },
          "name": "stdout",
          "output_type": "stream",
          "text": [
            "\n",
            "      Epoch    GPU_mem   box_loss  pose_loss  kobj_loss   cls_loss   dfl_loss  Instances       Size\n"
          ]
        },
        {
          "metadata": {
            "tags": null
          },
          "name": "stderr",
          "output_type": "stream",
          "text": [
            "     43/100      3.15G     0.9757      6.305          0     0.5417      1.068         30        128: 100%|██████████| 932/932 [02:06<00:00,  7.34it/s]\n",
            "                 Class     Images  Instances      Box(P          R      mAP50  mAP50-95)     Pose(P          R      mAP50  mAP50-95): 100%|██████████| 81/81 [00:13<00:00,  5.80it/s]"
          ]
        },
        {
          "metadata": {
            "tags": null
          },
          "name": "stdout",
          "output_type": "stream",
          "text": [
            "                   all       2572       2572      0.998      0.998      0.995      0.818      0.506      0.497      0.359     0.0963\n"
          ]
        },
        {
          "metadata": {
            "tags": null
          },
          "name": "stderr",
          "output_type": "stream",
          "text": [
            "\n"
          ]
        },
        {
          "metadata": {
            "tags": null
          },
          "name": "stdout",
          "output_type": "stream",
          "text": [
            "\n",
            "      Epoch    GPU_mem   box_loss  pose_loss  kobj_loss   cls_loss   dfl_loss  Instances       Size\n"
          ]
        },
        {
          "metadata": {
            "tags": null
          },
          "name": "stderr",
          "output_type": "stream",
          "text": [
            "     44/100      3.22G     0.9705      6.261          0     0.5379      1.068         25        128: 100%|██████████| 932/932 [02:02<00:00,  7.58it/s]\n",
            "                 Class     Images  Instances      Box(P          R      mAP50  mAP50-95)     Pose(P          R      mAP50  mAP50-95): 100%|██████████| 81/81 [00:13<00:00,  5.80it/s]"
          ]
        },
        {
          "metadata": {
            "tags": null
          },
          "name": "stdout",
          "output_type": "stream",
          "text": [
            "                   all       2572       2572      0.998      0.998      0.995      0.812      0.505      0.495      0.355     0.0944\n"
          ]
        },
        {
          "metadata": {
            "tags": null
          },
          "name": "stderr",
          "output_type": "stream",
          "text": [
            "\n"
          ]
        },
        {
          "metadata": {
            "tags": null
          },
          "name": "stdout",
          "output_type": "stream",
          "text": [
            "\n",
            "      Epoch    GPU_mem   box_loss  pose_loss  kobj_loss   cls_loss   dfl_loss  Instances       Size\n"
          ]
        },
        {
          "metadata": {
            "tags": null
          },
          "name": "stderr",
          "output_type": "stream",
          "text": [
            "     45/100      3.26G     0.9685      6.297          0       0.53      1.065         23        128: 100%|██████████| 932/932 [02:02<00:00,  7.62it/s]\n",
            "                 Class     Images  Instances      Box(P          R      mAP50  mAP50-95)     Pose(P          R      mAP50  mAP50-95): 100%|██████████| 81/81 [00:13<00:00,  5.87it/s]"
          ]
        },
        {
          "metadata": {
            "tags": null
          },
          "name": "stdout",
          "output_type": "stream",
          "text": [
            "                   all       2572       2572      0.998      0.997      0.995      0.805      0.506      0.494      0.357     0.0957\n"
          ]
        },
        {
          "metadata": {
            "tags": null
          },
          "name": "stderr",
          "output_type": "stream",
          "text": [
            "\n"
          ]
        },
        {
          "metadata": {
            "tags": null
          },
          "name": "stdout",
          "output_type": "stream",
          "text": [
            "\n",
            "      Epoch    GPU_mem   box_loss  pose_loss  kobj_loss   cls_loss   dfl_loss  Instances       Size\n"
          ]
        },
        {
          "metadata": {
            "tags": null
          },
          "name": "stderr",
          "output_type": "stream",
          "text": [
            "     46/100      3.32G     0.9614      6.238          0     0.5286      1.063         33        128: 100%|██████████| 932/932 [02:00<00:00,  7.74it/s]\n",
            "                 Class     Images  Instances      Box(P          R      mAP50  mAP50-95)     Pose(P          R      mAP50  mAP50-95): 100%|██████████| 81/81 [00:14<00:00,  5.71it/s]"
          ]
        },
        {
          "metadata": {
            "tags": null
          },
          "name": "stdout",
          "output_type": "stream",
          "text": [
            "                   all       2572       2572      0.998      0.998      0.995      0.798      0.511      0.498      0.351     0.0915\n"
          ]
        },
        {
          "metadata": {
            "tags": null
          },
          "name": "stderr",
          "output_type": "stream",
          "text": [
            "\n"
          ]
        },
        {
          "metadata": {
            "tags": null
          },
          "name": "stdout",
          "output_type": "stream",
          "text": [
            "\n",
            "      Epoch    GPU_mem   box_loss  pose_loss  kobj_loss   cls_loss   dfl_loss  Instances       Size\n"
          ]
        },
        {
          "metadata": {
            "tags": null
          },
          "name": "stderr",
          "output_type": "stream",
          "text": [
            "     47/100      3.39G     0.9625      6.234          0     0.5254      1.063         30        128: 100%|██████████| 932/932 [02:01<00:00,  7.66it/s]\n",
            "                 Class     Images  Instances      Box(P          R      mAP50  mAP50-95)     Pose(P          R      mAP50  mAP50-95): 100%|██████████| 81/81 [00:13<00:00,  5.94it/s]"
          ]
        },
        {
          "metadata": {
            "tags": null
          },
          "name": "stdout",
          "output_type": "stream",
          "text": [
            "                   all       2572       2572      0.998      0.998      0.995      0.813      0.514      0.503      0.372      0.102\n"
          ]
        },
        {
          "metadata": {
            "tags": null
          },
          "name": "stderr",
          "output_type": "stream",
          "text": [
            "\n"
          ]
        },
        {
          "metadata": {
            "tags": null
          },
          "name": "stdout",
          "output_type": "stream",
          "text": [
            "\n",
            "      Epoch    GPU_mem   box_loss  pose_loss  kobj_loss   cls_loss   dfl_loss  Instances       Size\n"
          ]
        },
        {
          "output_type": "stream",
          "name": "stderr",
          "text": [
            "     48/100      3.45G     0.9605      6.261          0       0.53      1.062         23        128: 100%|██████████| 932/932 [01:59<00:00,  7.79it/s]\n",
            "                 Class     Images  Instances      Box(P          R      mAP50  mAP50-95)     Pose(P          R      mAP50  mAP50-95): 100%|██████████| 81/81 [00:13<00:00,  5.81it/s]"
          ]
        },
        {
          "output_type": "stream",
          "name": "stdout",
          "text": [
            "                   all       2572       2572      0.998      0.998      0.995      0.813       0.51      0.499      0.368      0.101\n"
          ]
        },
        {
          "output_type": "stream",
          "name": "stderr",
          "text": [
            "\n"
          ]
        },
        {
          "output_type": "stream",
          "name": "stdout",
          "text": [
            "\n",
            "      Epoch    GPU_mem   box_loss  pose_loss  kobj_loss   cls_loss   dfl_loss  Instances       Size\n"
          ]
        },
        {
          "output_type": "stream",
          "name": "stderr",
          "text": [
            "     49/100       3.5G     0.9613      6.218          0     0.5286      1.059         24        128: 100%|██████████| 932/932 [02:02<00:00,  7.63it/s]\n",
            "                 Class     Images  Instances      Box(P          R      mAP50  mAP50-95)     Pose(P          R      mAP50  mAP50-95): 100%|██████████| 81/81 [00:13<00:00,  5.88it/s]"
          ]
        },
        {
          "output_type": "stream",
          "name": "stdout",
          "text": [
            "                   all       2572       2572      0.998      0.998      0.995      0.814      0.505      0.497      0.361     0.0992\n"
          ]
        },
        {
          "output_type": "stream",
          "name": "stderr",
          "text": [
            "\n"
          ]
        },
        {
          "output_type": "stream",
          "name": "stdout",
          "text": [
            "\n",
            "      Epoch    GPU_mem   box_loss  pose_loss  kobj_loss   cls_loss   dfl_loss  Instances       Size\n"
          ]
        },
        {
          "output_type": "stream",
          "name": "stderr",
          "text": [
            "     50/100      3.56G     0.9527      6.271          0     0.5289      1.058         23        128: 100%|██████████| 932/932 [02:05<00:00,  7.43it/s]\n",
            "                 Class     Images  Instances      Box(P          R      mAP50  mAP50-95)     Pose(P          R      mAP50  mAP50-95): 100%|██████████| 81/81 [00:14<00:00,  5.60it/s]"
          ]
        },
        {
          "output_type": "stream",
          "name": "stdout",
          "text": [
            "                   all       2572       2572      0.998      0.998      0.995      0.812      0.503      0.494      0.349      0.096\n"
          ]
        },
        {
          "output_type": "stream",
          "name": "stderr",
          "text": [
            "\n"
          ]
        },
        {
          "output_type": "stream",
          "name": "stdout",
          "text": [
            "\n",
            "      Epoch    GPU_mem   box_loss  pose_loss  kobj_loss   cls_loss   dfl_loss  Instances       Size\n"
          ]
        },
        {
          "output_type": "stream",
          "name": "stderr",
          "text": [
            "     51/100      3.62G     0.9569      6.301          0     0.5276      1.056         30        128:  38%|███▊      | 355/932 [00:48<01:19,  7.30it/s]\n"
          ]
        },
        {
          "output_type": "error",
          "ename": "KeyboardInterrupt",
          "evalue": "",
          "traceback": [
            "\u001b[0;31m---------------------------------------------------------------------------\u001b[0m",
            "\u001b[0;31mKeyboardInterrupt\u001b[0m                         Traceback (most recent call last)",
            "\u001b[0;32m/tmp/ipython-input-3751936751.py\u001b[0m in \u001b[0;36m<cell line: 0>\u001b[0;34m()\u001b[0m\n\u001b[1;32m      3\u001b[0m \u001b[0mmodel\u001b[0m \u001b[0;34m=\u001b[0m \u001b[0mYOLO\u001b[0m\u001b[0;34m(\u001b[0m\u001b[0;34m\"yolo11s-pose.pt\"\u001b[0m\u001b[0;34m)\u001b[0m\u001b[0;34m\u001b[0m\u001b[0;34m\u001b[0m\u001b[0m\n\u001b[1;32m      4\u001b[0m \u001b[0;34m\u001b[0m\u001b[0m\n\u001b[0;32m----> 5\u001b[0;31m results = model.train(\n\u001b[0m\u001b[1;32m      6\u001b[0m     \u001b[0mdata\u001b[0m\u001b[0;34m=\u001b[0m\u001b[0;34m\"data_keypoints.yaml\"\u001b[0m\u001b[0;34m,\u001b[0m\u001b[0;34m\u001b[0m\u001b[0;34m\u001b[0m\u001b[0m\n\u001b[1;32m      7\u001b[0m     \u001b[0mepochs\u001b[0m\u001b[0;34m=\u001b[0m\u001b[0;36m100\u001b[0m\u001b[0;34m,\u001b[0m\u001b[0;34m\u001b[0m\u001b[0;34m\u001b[0m\u001b[0m\n",
            "\u001b[0;32m/usr/local/lib/python3.11/dist-packages/ultralytics/engine/model.py\u001b[0m in \u001b[0;36mtrain\u001b[0;34m(self, trainer, **kwargs)\u001b[0m\n\u001b[1;32m    797\u001b[0m \u001b[0;34m\u001b[0m\u001b[0m\n\u001b[1;32m    798\u001b[0m         \u001b[0mself\u001b[0m\u001b[0;34m.\u001b[0m\u001b[0mtrainer\u001b[0m\u001b[0;34m.\u001b[0m\u001b[0mhub_session\u001b[0m \u001b[0;34m=\u001b[0m \u001b[0mself\u001b[0m\u001b[0;34m.\u001b[0m\u001b[0msession\u001b[0m  \u001b[0;31m# attach optional HUB session\u001b[0m\u001b[0;34m\u001b[0m\u001b[0;34m\u001b[0m\u001b[0m\n\u001b[0;32m--> 799\u001b[0;31m         \u001b[0mself\u001b[0m\u001b[0;34m.\u001b[0m\u001b[0mtrainer\u001b[0m\u001b[0;34m.\u001b[0m\u001b[0mtrain\u001b[0m\u001b[0;34m(\u001b[0m\u001b[0;34m)\u001b[0m\u001b[0;34m\u001b[0m\u001b[0;34m\u001b[0m\u001b[0m\n\u001b[0m\u001b[1;32m    800\u001b[0m         \u001b[0;31m# Update model and cfg after training\u001b[0m\u001b[0;34m\u001b[0m\u001b[0;34m\u001b[0m\u001b[0m\n\u001b[1;32m    801\u001b[0m         \u001b[0;32mif\u001b[0m \u001b[0mRANK\u001b[0m \u001b[0;32min\u001b[0m \u001b[0;34m{\u001b[0m\u001b[0;34m-\u001b[0m\u001b[0;36m1\u001b[0m\u001b[0;34m,\u001b[0m \u001b[0;36m0\u001b[0m\u001b[0;34m}\u001b[0m\u001b[0;34m:\u001b[0m\u001b[0;34m\u001b[0m\u001b[0;34m\u001b[0m\u001b[0m\n",
            "\u001b[0;32m/usr/local/lib/python3.11/dist-packages/ultralytics/engine/trainer.py\u001b[0m in \u001b[0;36mtrain\u001b[0;34m(self)\u001b[0m\n\u001b[1;32m    225\u001b[0m \u001b[0;34m\u001b[0m\u001b[0m\n\u001b[1;32m    226\u001b[0m         \u001b[0;32melse\u001b[0m\u001b[0;34m:\u001b[0m\u001b[0;34m\u001b[0m\u001b[0;34m\u001b[0m\u001b[0m\n\u001b[0;32m--> 227\u001b[0;31m             \u001b[0mself\u001b[0m\u001b[0;34m.\u001b[0m\u001b[0m_do_train\u001b[0m\u001b[0;34m(\u001b[0m\u001b[0mworld_size\u001b[0m\u001b[0;34m)\u001b[0m\u001b[0;34m\u001b[0m\u001b[0;34m\u001b[0m\u001b[0m\n\u001b[0m\u001b[1;32m    228\u001b[0m \u001b[0;34m\u001b[0m\u001b[0m\n\u001b[1;32m    229\u001b[0m     \u001b[0;32mdef\u001b[0m \u001b[0m_setup_scheduler\u001b[0m\u001b[0;34m(\u001b[0m\u001b[0mself\u001b[0m\u001b[0;34m)\u001b[0m\u001b[0;34m:\u001b[0m\u001b[0;34m\u001b[0m\u001b[0;34m\u001b[0m\u001b[0m\n",
            "\u001b[0;32m/usr/local/lib/python3.11/dist-packages/ultralytics/engine/trainer.py\u001b[0m in \u001b[0;36m_do_train\u001b[0;34m(self, world_size)\u001b[0m\n\u001b[1;32m    404\u001b[0m                 \u001b[0;32mwith\u001b[0m \u001b[0mautocast\u001b[0m\u001b[0;34m(\u001b[0m\u001b[0mself\u001b[0m\u001b[0;34m.\u001b[0m\u001b[0mamp\u001b[0m\u001b[0;34m)\u001b[0m\u001b[0;34m:\u001b[0m\u001b[0;34m\u001b[0m\u001b[0;34m\u001b[0m\u001b[0m\n\u001b[1;32m    405\u001b[0m                     \u001b[0mbatch\u001b[0m \u001b[0;34m=\u001b[0m \u001b[0mself\u001b[0m\u001b[0;34m.\u001b[0m\u001b[0mpreprocess_batch\u001b[0m\u001b[0;34m(\u001b[0m\u001b[0mbatch\u001b[0m\u001b[0;34m)\u001b[0m\u001b[0;34m\u001b[0m\u001b[0;34m\u001b[0m\u001b[0m\n\u001b[0;32m--> 406\u001b[0;31m                     \u001b[0mloss\u001b[0m\u001b[0;34m,\u001b[0m \u001b[0mself\u001b[0m\u001b[0;34m.\u001b[0m\u001b[0mloss_items\u001b[0m \u001b[0;34m=\u001b[0m \u001b[0mself\u001b[0m\u001b[0;34m.\u001b[0m\u001b[0mmodel\u001b[0m\u001b[0;34m(\u001b[0m\u001b[0mbatch\u001b[0m\u001b[0;34m)\u001b[0m\u001b[0;34m\u001b[0m\u001b[0;34m\u001b[0m\u001b[0m\n\u001b[0m\u001b[1;32m    407\u001b[0m                     \u001b[0mself\u001b[0m\u001b[0;34m.\u001b[0m\u001b[0mloss\u001b[0m \u001b[0;34m=\u001b[0m \u001b[0mloss\u001b[0m\u001b[0;34m.\u001b[0m\u001b[0msum\u001b[0m\u001b[0;34m(\u001b[0m\u001b[0;34m)\u001b[0m\u001b[0;34m\u001b[0m\u001b[0;34m\u001b[0m\u001b[0m\n\u001b[1;32m    408\u001b[0m                     \u001b[0;32mif\u001b[0m \u001b[0mRANK\u001b[0m \u001b[0;34m!=\u001b[0m \u001b[0;34m-\u001b[0m\u001b[0;36m1\u001b[0m\u001b[0;34m:\u001b[0m\u001b[0;34m\u001b[0m\u001b[0;34m\u001b[0m\u001b[0m\n",
            "\u001b[0;32m/usr/local/lib/python3.11/dist-packages/torch/nn/modules/module.py\u001b[0m in \u001b[0;36m_wrapped_call_impl\u001b[0;34m(self, *args, **kwargs)\u001b[0m\n\u001b[1;32m   1737\u001b[0m             \u001b[0;32mreturn\u001b[0m \u001b[0mself\u001b[0m\u001b[0;34m.\u001b[0m\u001b[0m_compiled_call_impl\u001b[0m\u001b[0;34m(\u001b[0m\u001b[0;34m*\u001b[0m\u001b[0margs\u001b[0m\u001b[0;34m,\u001b[0m \u001b[0;34m**\u001b[0m\u001b[0mkwargs\u001b[0m\u001b[0;34m)\u001b[0m  \u001b[0;31m# type: ignore[misc]\u001b[0m\u001b[0;34m\u001b[0m\u001b[0;34m\u001b[0m\u001b[0m\n\u001b[1;32m   1738\u001b[0m         \u001b[0;32melse\u001b[0m\u001b[0;34m:\u001b[0m\u001b[0;34m\u001b[0m\u001b[0;34m\u001b[0m\u001b[0m\n\u001b[0;32m-> 1739\u001b[0;31m             \u001b[0;32mreturn\u001b[0m \u001b[0mself\u001b[0m\u001b[0;34m.\u001b[0m\u001b[0m_call_impl\u001b[0m\u001b[0;34m(\u001b[0m\u001b[0;34m*\u001b[0m\u001b[0margs\u001b[0m\u001b[0;34m,\u001b[0m \u001b[0;34m**\u001b[0m\u001b[0mkwargs\u001b[0m\u001b[0;34m)\u001b[0m\u001b[0;34m\u001b[0m\u001b[0;34m\u001b[0m\u001b[0m\n\u001b[0m\u001b[1;32m   1740\u001b[0m \u001b[0;34m\u001b[0m\u001b[0m\n\u001b[1;32m   1741\u001b[0m     \u001b[0;31m# torchrec tests the code consistency with the following code\u001b[0m\u001b[0;34m\u001b[0m\u001b[0;34m\u001b[0m\u001b[0m\n",
            "\u001b[0;32m/usr/local/lib/python3.11/dist-packages/torch/nn/modules/module.py\u001b[0m in \u001b[0;36m_call_impl\u001b[0;34m(self, *args, **kwargs)\u001b[0m\n\u001b[1;32m   1748\u001b[0m                 \u001b[0;32mor\u001b[0m \u001b[0m_global_backward_pre_hooks\u001b[0m \u001b[0;32mor\u001b[0m \u001b[0m_global_backward_hooks\u001b[0m\u001b[0;34m\u001b[0m\u001b[0;34m\u001b[0m\u001b[0m\n\u001b[1;32m   1749\u001b[0m                 or _global_forward_hooks or _global_forward_pre_hooks):\n\u001b[0;32m-> 1750\u001b[0;31m             \u001b[0;32mreturn\u001b[0m \u001b[0mforward_call\u001b[0m\u001b[0;34m(\u001b[0m\u001b[0;34m*\u001b[0m\u001b[0margs\u001b[0m\u001b[0;34m,\u001b[0m \u001b[0;34m**\u001b[0m\u001b[0mkwargs\u001b[0m\u001b[0;34m)\u001b[0m\u001b[0;34m\u001b[0m\u001b[0;34m\u001b[0m\u001b[0m\n\u001b[0m\u001b[1;32m   1751\u001b[0m \u001b[0;34m\u001b[0m\u001b[0m\n\u001b[1;32m   1752\u001b[0m         \u001b[0mresult\u001b[0m \u001b[0;34m=\u001b[0m \u001b[0;32mNone\u001b[0m\u001b[0;34m\u001b[0m\u001b[0;34m\u001b[0m\u001b[0m\n",
            "\u001b[0;32m/usr/local/lib/python3.11/dist-packages/ultralytics/nn/tasks.py\u001b[0m in \u001b[0;36mforward\u001b[0;34m(self, x, *args, **kwargs)\u001b[0m\n\u001b[1;32m    136\u001b[0m         \"\"\"\n\u001b[1;32m    137\u001b[0m         \u001b[0;32mif\u001b[0m \u001b[0misinstance\u001b[0m\u001b[0;34m(\u001b[0m\u001b[0mx\u001b[0m\u001b[0;34m,\u001b[0m \u001b[0mdict\u001b[0m\u001b[0;34m)\u001b[0m\u001b[0;34m:\u001b[0m  \u001b[0;31m# for cases of training and validating while training.\u001b[0m\u001b[0;34m\u001b[0m\u001b[0;34m\u001b[0m\u001b[0m\n\u001b[0;32m--> 138\u001b[0;31m             \u001b[0;32mreturn\u001b[0m \u001b[0mself\u001b[0m\u001b[0;34m.\u001b[0m\u001b[0mloss\u001b[0m\u001b[0;34m(\u001b[0m\u001b[0mx\u001b[0m\u001b[0;34m,\u001b[0m \u001b[0;34m*\u001b[0m\u001b[0margs\u001b[0m\u001b[0;34m,\u001b[0m \u001b[0;34m**\u001b[0m\u001b[0mkwargs\u001b[0m\u001b[0;34m)\u001b[0m\u001b[0;34m\u001b[0m\u001b[0;34m\u001b[0m\u001b[0m\n\u001b[0m\u001b[1;32m    139\u001b[0m         \u001b[0;32mreturn\u001b[0m \u001b[0mself\u001b[0m\u001b[0;34m.\u001b[0m\u001b[0mpredict\u001b[0m\u001b[0;34m(\u001b[0m\u001b[0mx\u001b[0m\u001b[0;34m,\u001b[0m \u001b[0;34m*\u001b[0m\u001b[0margs\u001b[0m\u001b[0;34m,\u001b[0m \u001b[0;34m**\u001b[0m\u001b[0mkwargs\u001b[0m\u001b[0;34m)\u001b[0m\u001b[0;34m\u001b[0m\u001b[0;34m\u001b[0m\u001b[0m\n\u001b[1;32m    140\u001b[0m \u001b[0;34m\u001b[0m\u001b[0m\n",
            "\u001b[0;32m/usr/local/lib/python3.11/dist-packages/ultralytics/nn/tasks.py\u001b[0m in \u001b[0;36mloss\u001b[0;34m(self, batch, preds)\u001b[0m\n\u001b[1;32m    338\u001b[0m \u001b[0;34m\u001b[0m\u001b[0m\n\u001b[1;32m    339\u001b[0m         \u001b[0mpreds\u001b[0m \u001b[0;34m=\u001b[0m \u001b[0mself\u001b[0m\u001b[0;34m.\u001b[0m\u001b[0mforward\u001b[0m\u001b[0;34m(\u001b[0m\u001b[0mbatch\u001b[0m\u001b[0;34m[\u001b[0m\u001b[0;34m\"img\"\u001b[0m\u001b[0;34m]\u001b[0m\u001b[0;34m)\u001b[0m \u001b[0;32mif\u001b[0m \u001b[0mpreds\u001b[0m \u001b[0;32mis\u001b[0m \u001b[0;32mNone\u001b[0m \u001b[0;32melse\u001b[0m \u001b[0mpreds\u001b[0m\u001b[0;34m\u001b[0m\u001b[0;34m\u001b[0m\u001b[0m\n\u001b[0;32m--> 340\u001b[0;31m         \u001b[0;32mreturn\u001b[0m \u001b[0mself\u001b[0m\u001b[0;34m.\u001b[0m\u001b[0mcriterion\u001b[0m\u001b[0;34m(\u001b[0m\u001b[0mpreds\u001b[0m\u001b[0;34m,\u001b[0m \u001b[0mbatch\u001b[0m\u001b[0;34m)\u001b[0m\u001b[0;34m\u001b[0m\u001b[0;34m\u001b[0m\u001b[0m\n\u001b[0m\u001b[1;32m    341\u001b[0m \u001b[0;34m\u001b[0m\u001b[0m\n\u001b[1;32m    342\u001b[0m     \u001b[0;32mdef\u001b[0m \u001b[0minit_criterion\u001b[0m\u001b[0;34m(\u001b[0m\u001b[0mself\u001b[0m\u001b[0;34m)\u001b[0m\u001b[0;34m:\u001b[0m\u001b[0;34m\u001b[0m\u001b[0;34m\u001b[0m\u001b[0m\n",
            "\u001b[0;32m/usr/local/lib/python3.11/dist-packages/ultralytics/utils/loss.py\u001b[0m in \u001b[0;36m__call__\u001b[0;34m(self, preds, batch)\u001b[0m\n\u001b[1;32m    548\u001b[0m             \u001b[0mkeypoints\u001b[0m\u001b[0;34m[\u001b[0m\u001b[0;34m...\u001b[0m\u001b[0;34m,\u001b[0m \u001b[0;36m1\u001b[0m\u001b[0;34m]\u001b[0m \u001b[0;34m*=\u001b[0m \u001b[0mimgsz\u001b[0m\u001b[0;34m[\u001b[0m\u001b[0;36m0\u001b[0m\u001b[0;34m]\u001b[0m\u001b[0;34m\u001b[0m\u001b[0;34m\u001b[0m\u001b[0m\n\u001b[1;32m    549\u001b[0m \u001b[0;34m\u001b[0m\u001b[0m\n\u001b[0;32m--> 550\u001b[0;31m             loss[1], loss[2] = self.calculate_keypoints_loss(\n\u001b[0m\u001b[1;32m    551\u001b[0m                 \u001b[0mfg_mask\u001b[0m\u001b[0;34m,\u001b[0m \u001b[0mtarget_gt_idx\u001b[0m\u001b[0;34m,\u001b[0m \u001b[0mkeypoints\u001b[0m\u001b[0;34m,\u001b[0m \u001b[0mbatch_idx\u001b[0m\u001b[0;34m,\u001b[0m \u001b[0mstride_tensor\u001b[0m\u001b[0;34m,\u001b[0m \u001b[0mtarget_bboxes\u001b[0m\u001b[0;34m,\u001b[0m \u001b[0mpred_kpts\u001b[0m\u001b[0;34m\u001b[0m\u001b[0;34m\u001b[0m\u001b[0m\n\u001b[1;32m    552\u001b[0m             )\n",
            "\u001b[0;32m/usr/local/lib/python3.11/dist-packages/ultralytics/utils/loss.py\u001b[0m in \u001b[0;36mcalculate_keypoints_loss\u001b[0;34m(self, masks, target_gt_idx, keypoints, batch_idx, stride_tensor, target_bboxes, pred_kpts)\u001b[0m\n\u001b[1;32m    614\u001b[0m         \u001b[0;32mfor\u001b[0m \u001b[0mi\u001b[0m \u001b[0;32min\u001b[0m \u001b[0mrange\u001b[0m\u001b[0;34m(\u001b[0m\u001b[0mbatch_size\u001b[0m\u001b[0;34m)\u001b[0m\u001b[0;34m:\u001b[0m\u001b[0;34m\u001b[0m\u001b[0;34m\u001b[0m\u001b[0m\n\u001b[1;32m    615\u001b[0m             \u001b[0mkeypoints_i\u001b[0m \u001b[0;34m=\u001b[0m \u001b[0mkeypoints\u001b[0m\u001b[0;34m[\u001b[0m\u001b[0mbatch_idx\u001b[0m \u001b[0;34m==\u001b[0m \u001b[0mi\u001b[0m\u001b[0;34m]\u001b[0m\u001b[0;34m\u001b[0m\u001b[0;34m\u001b[0m\u001b[0m\n\u001b[0;32m--> 616\u001b[0;31m             \u001b[0mbatched_keypoints\u001b[0m\u001b[0;34m[\u001b[0m\u001b[0mi\u001b[0m\u001b[0;34m,\u001b[0m \u001b[0;34m:\u001b[0m \u001b[0mkeypoints_i\u001b[0m\u001b[0;34m.\u001b[0m\u001b[0mshape\u001b[0m\u001b[0;34m[\u001b[0m\u001b[0;36m0\u001b[0m\u001b[0;34m]\u001b[0m\u001b[0;34m]\u001b[0m \u001b[0;34m=\u001b[0m \u001b[0mkeypoints_i\u001b[0m\u001b[0;34m\u001b[0m\u001b[0;34m\u001b[0m\u001b[0m\n\u001b[0m\u001b[1;32m    617\u001b[0m \u001b[0;34m\u001b[0m\u001b[0m\n\u001b[1;32m    618\u001b[0m         \u001b[0;31m# Expand dimensions of target_gt_idx to match the shape of batched_keypoints\u001b[0m\u001b[0;34m\u001b[0m\u001b[0;34m\u001b[0m\u001b[0m\n",
            "\u001b[0;31mKeyboardInterrupt\u001b[0m: "
          ]
        }
      ],
      "source": [
        "from ultralytics import YOLO\n",
        "\n",
        "model = YOLO(\"yolo11s-pose.pt\")\n",
        "\n",
        "results = model.train(\n",
        "    data=\"data_keypoints.yaml\",\n",
        "    epochs=100,\n",
        "    imgsz=128,\n",
        "    batch=16,\n",
        "    device=0,\n",
        "    patience=10,       # stops training if validation metric doesn't improve for 10 epochs\n",
        "    lr0=0.01,\n",
        "    optimizer=\"Adam\",\n",
        "    cos_lr=False       # disable cosine decay if you prefer default linear scheduling\n",
        ")"
      ]
    },
    {
      "cell_type": "code",
      "execution_count": null,
      "metadata": {
        "colab": {
          "base_uri": "https://localhost:8080/",
          "height": 1000
        },
        "id": "Y0xlqTFRIeaF",
        "outputId": "83acabf3-cf76-4950-de5e-231deb0e1cde"
      },
      "outputs": [
        {
          "output_type": "stream",
          "name": "stdout",
          "text": [
            "updating: runs/ (stored 0%)\n",
            "updating: runs/pose/ (stored 0%)\n",
            "updating: runs/pose/train/ (stored 0%)\n",
            "updating: runs/pose/train/weights/ (stored 0%)\n",
            "updating: runs/pose/train/args.yaml (deflated 52%)\n",
            "  adding: runs/pose/train12/ (stored 0%)\n",
            "  adding: runs/pose/train12/weights/ (stored 0%)\n",
            "  adding: runs/pose/train12/args.yaml (deflated 52%)\n",
            "  adding: runs/pose/train7/ (stored 0%)\n",
            "  adding: runs/pose/train7/weights/ (stored 0%)\n",
            "  adding: runs/pose/train7/args.yaml (deflated 52%)\n",
            "  adding: runs/pose/train13/ (stored 0%)\n",
            "  adding: runs/pose/train13/weights/ (stored 0%)\n",
            "  adding: runs/pose/train13/args.yaml (deflated 52%)\n",
            "  adding: runs/pose/train15/ (stored 0%)\n",
            "  adding: runs/pose/train15/weights/ (stored 0%)\n",
            "  adding: runs/pose/train15/args.yaml (deflated 52%)\n",
            "  adding: runs/pose/train14/ (stored 0%)\n",
            "  adding: runs/pose/train14/weights/ (stored 0%)\n",
            "  adding: runs/pose/train14/args.yaml (deflated 52%)\n",
            "  adding: runs/pose/train2/ (stored 0%)\n",
            "  adding: runs/pose/train2/weights/ (stored 0%)\n",
            "  adding: runs/pose/train2/args.yaml (deflated 52%)\n",
            "  adding: runs/pose/train16/ (stored 0%)\n",
            "  adding: runs/pose/train16/labels_correlogram.jpg (deflated 41%)\n",
            "  adding: runs/pose/train16/train_batch0.jpg (deflated 4%)\n",
            "  adding: runs/pose/train16/weights/ (stored 0%)\n",
            "  adding: runs/pose/train16/weights/last.pt (deflated 76%)\n",
            "  adding: runs/pose/train16/weights/best.pt (deflated 78%)\n",
            "  adding: runs/pose/train16/train_batch2.jpg (deflated 4%)\n",
            "  adding: runs/pose/train16/train_batch1.jpg (deflated 4%)\n",
            "  adding: runs/pose/train16/args.yaml (deflated 52%)\n",
            "  adding: runs/pose/train16/results.csv (deflated 61%)\n",
            "  adding: runs/pose/train16/labels.jpg (deflated 44%)\n",
            "  adding: runs/pose/train8/ (stored 0%)\n",
            "  adding: runs/pose/train8/weights/ (stored 0%)\n",
            "  adding: runs/pose/train8/args.yaml (deflated 52%)\n",
            "  adding: runs/pose/train11/ (stored 0%)\n",
            "  adding: runs/pose/train11/weights/ (stored 0%)\n",
            "  adding: runs/pose/train11/args.yaml (deflated 52%)\n",
            "  adding: runs/pose/train10/ (stored 0%)\n",
            "  adding: runs/pose/train10/weights/ (stored 0%)\n",
            "  adding: runs/pose/train10/args.yaml (deflated 52%)\n",
            "  adding: runs/pose/train3/ (stored 0%)\n",
            "  adding: runs/pose/train3/weights/ (stored 0%)\n",
            "  adding: runs/pose/train3/args.yaml (deflated 52%)\n",
            "  adding: runs/pose/train4/ (stored 0%)\n",
            "  adding: runs/pose/train4/weights/ (stored 0%)\n",
            "  adding: runs/pose/train4/args.yaml (deflated 52%)\n",
            "  adding: runs/pose/train6/ (stored 0%)\n",
            "  adding: runs/pose/train6/weights/ (stored 0%)\n",
            "  adding: runs/pose/train6/args.yaml (deflated 52%)\n",
            "  adding: runs/pose/train5/ (stored 0%)\n",
            "  adding: runs/pose/train5/weights/ (stored 0%)\n",
            "  adding: runs/pose/train5/args.yaml (deflated 52%)\n",
            "  adding: runs/pose/train9/ (stored 0%)\n",
            "  adding: runs/pose/train9/weights/ (stored 0%)\n",
            "  adding: runs/pose/train9/args.yaml (deflated 52%)\n"
          ]
        },
        {
          "output_type": "display_data",
          "data": {
            "text/plain": [
              "<IPython.core.display.Javascript object>"
            ],
            "application/javascript": [
              "\n",
              "    async function download(id, filename, size) {\n",
              "      if (!google.colab.kernel.accessAllowed) {\n",
              "        return;\n",
              "      }\n",
              "      const div = document.createElement('div');\n",
              "      const label = document.createElement('label');\n",
              "      label.textContent = `Downloading \"${filename}\": `;\n",
              "      div.appendChild(label);\n",
              "      const progress = document.createElement('progress');\n",
              "      progress.max = size;\n",
              "      div.appendChild(progress);\n",
              "      document.body.appendChild(div);\n",
              "\n",
              "      const buffers = [];\n",
              "      let downloaded = 0;\n",
              "\n",
              "      const channel = await google.colab.kernel.comms.open(id);\n",
              "      // Send a message to notify the kernel that we're ready.\n",
              "      channel.send({})\n",
              "\n",
              "      for await (const message of channel.messages) {\n",
              "        // Send a message to notify the kernel that we're ready.\n",
              "        channel.send({})\n",
              "        if (message.buffers) {\n",
              "          for (const buffer of message.buffers) {\n",
              "            buffers.push(buffer);\n",
              "            downloaded += buffer.byteLength;\n",
              "            progress.value = downloaded;\n",
              "          }\n",
              "        }\n",
              "      }\n",
              "      const blob = new Blob(buffers, {type: 'application/binary'});\n",
              "      const a = document.createElement('a');\n",
              "      a.href = window.URL.createObjectURL(blob);\n",
              "      a.download = filename;\n",
              "      div.appendChild(a);\n",
              "      a.click();\n",
              "      div.remove();\n",
              "    }\n",
              "  "
            ]
          },
          "metadata": {}
        },
        {
          "output_type": "display_data",
          "data": {
            "text/plain": [
              "<IPython.core.display.Javascript object>"
            ],
            "application/javascript": [
              "download(\"download_bc589c78-3003-438e-b39b-d037ec1fd588\", \"runs.zip\", 29276214)"
            ]
          },
          "metadata": {}
        }
      ],
      "source": [
        "# 1. Zip the folder (e.g. 'yolo_keypoints_dataset_fixed21')\n",
        "!zip -r runs.zip runs\n",
        "\n",
        "# 2. Download the zip to your local machine\n",
        "from google.colab import files\n",
        "files.download('runs.zip')\n"
      ]
    },
    {
      "cell_type": "markdown",
      "metadata": {
        "id": "VxlM05Y6zwKa"
      },
      "source": [
        "# Evaluate"
      ]
    },
    {
      "cell_type": "code",
      "execution_count": 8,
      "metadata": {
        "id": "xI0vhxfdIrqH",
        "colab": {
          "base_uri": "https://localhost:8080/"
        },
        "outputId": "27676721-af4a-466d-a8d3-2fd21322d1d4"
      },
      "outputs": [
        {
          "output_type": "stream",
          "name": "stdout",
          "text": [
            "Ultralytics 8.3.174 🚀 Python-3.11.13 torch-2.6.0+cu124 CUDA:0 (Tesla T4, 15095MiB)\n",
            "YOLO11s-pose summary (fused): 109 layers, 10,251,027 parameters, 0 gradients, 24.4 GFLOPs\n",
            "\u001b[34m\u001b[1mval: \u001b[0mFast image access ✅ (ping: 0.0±0.0 ms, read: 201.0±54.2 MB/s, size: 5.6 KB)\n"
          ]
        },
        {
          "output_type": "stream",
          "name": "stderr",
          "text": [
            "\u001b[34m\u001b[1mval: \u001b[0mScanning /content/yolo_keypoints_dataset/yolo_keypoints_dataset/val/labels.cache... 2576 images, 0 backgrounds, 4 corrupt: 100%|██████████| 2576/2576 [00:00<?, ?it/s]"
          ]
        },
        {
          "output_type": "stream",
          "name": "stdout",
          "text": [
            "\u001b[34m\u001b[1mval: \u001b[0m/content/yolo_keypoints_dataset/yolo_keypoints_dataset/val/images/0X374099556945A9EA_f121.jpg: ignoring corrupt image/label: non-normalized or out of bounds coordinates [     1.0127      1.0159      1.0148      1.0137      1.0126       1.025      1.0193]\n",
            "\u001b[34m\u001b[1mval: \u001b[0m/content/yolo_keypoints_dataset/yolo_keypoints_dataset/val/images/0X50807FBC49B44ED4_f43.jpg: ignoring corrupt image/label: non-normalized or out of bounds coordinates [     1.0116      1.0143      1.0191]\n",
            "\u001b[34m\u001b[1mval: \u001b[0m/content/yolo_keypoints_dataset/yolo_keypoints_dataset/val/images/0X62473A8FCF726A75_f52.jpg: ignoring corrupt image/label: non-normalized or out of bounds coordinates [     1.0157      1.0271      1.0384      1.0497       1.061]\n",
            "\u001b[34m\u001b[1mval: \u001b[0m/content/yolo_keypoints_dataset/yolo_keypoints_dataset/val/images/0XDB100B9990F3EB_f2.jpg: ignoring corrupt image/label: non-normalized or out of bounds coordinates [     1.0109]\n"
          ]
        },
        {
          "output_type": "stream",
          "name": "stderr",
          "text": [
            "\n",
            "                 Class     Images  Instances      Box(P          R      mAP50  mAP50-95)     Pose(P          R      mAP50  mAP50-95): 100%|██████████| 161/161 [00:22<00:00,  7.21it/s]\n"
          ]
        },
        {
          "output_type": "stream",
          "name": "stdout",
          "text": [
            "                   all       2572       2572      0.998      0.998      0.995      0.813      0.514      0.502      0.371      0.102\n",
            "Speed: 0.1ms preprocess, 2.0ms inference, 0.0ms loss, 1.5ms postprocess per image\n",
            "Results saved to \u001b[1mruns/pose/val\u001b[0m\n",
            "ultralytics.utils.metrics.PoseMetrics object with attributes:\n",
            "\n",
            "ap_class_index: array([0])\n",
            "box: ultralytics.utils.metrics.Metric object\n",
            "confusion_matrix: <ultralytics.utils.metrics.ConfusionMatrix object at 0x78d07c686510>\n",
            "curves: ['Precision-Recall(B)', 'F1-Confidence(B)', 'Precision-Confidence(B)', 'Recall-Confidence(B)', 'Precision-Recall(B)', 'F1-Confidence(B)', 'Precision-Confidence(B)', 'Recall-Confidence(B)', 'Precision-Recall(P)', 'F1-Confidence(P)', 'Precision-Confidence(P)', 'Recall-Confidence(P)']\n",
            "curves_results: [[array([          0,    0.001001,    0.002002,    0.003003,    0.004004,    0.005005,    0.006006,    0.007007,    0.008008,    0.009009,     0.01001,    0.011011,    0.012012,    0.013013,    0.014014,    0.015015,    0.016016,    0.017017,    0.018018,    0.019019,     0.02002,    0.021021,    0.022022,    0.023023,\n",
            "          0.024024,    0.025025,    0.026026,    0.027027,    0.028028,    0.029029,     0.03003,    0.031031,    0.032032,    0.033033,    0.034034,    0.035035,    0.036036,    0.037037,    0.038038,    0.039039,     0.04004,    0.041041,    0.042042,    0.043043,    0.044044,    0.045045,    0.046046,    0.047047,\n",
            "          0.048048,    0.049049,     0.05005,    0.051051,    0.052052,    0.053053,    0.054054,    0.055055,    0.056056,    0.057057,    0.058058,    0.059059,     0.06006,    0.061061,    0.062062,    0.063063,    0.064064,    0.065065,    0.066066,    0.067067,    0.068068,    0.069069,     0.07007,    0.071071,\n",
            "          0.072072,    0.073073,    0.074074,    0.075075,    0.076076,    0.077077,    0.078078,    0.079079,     0.08008,    0.081081,    0.082082,    0.083083,    0.084084,    0.085085,    0.086086,    0.087087,    0.088088,    0.089089,     0.09009,    0.091091,    0.092092,    0.093093,    0.094094,    0.095095,\n",
            "          0.096096,    0.097097,    0.098098,    0.099099,      0.1001,      0.1011,      0.1021,      0.1031,      0.1041,     0.10511,     0.10611,     0.10711,     0.10811,     0.10911,     0.11011,     0.11111,     0.11211,     0.11311,     0.11411,     0.11512,     0.11612,     0.11712,     0.11812,     0.11912,\n",
            "           0.12012,     0.12112,     0.12212,     0.12312,     0.12412,     0.12513,     0.12613,     0.12713,     0.12813,     0.12913,     0.13013,     0.13113,     0.13213,     0.13313,     0.13413,     0.13514,     0.13614,     0.13714,     0.13814,     0.13914,     0.14014,     0.14114,     0.14214,     0.14314,\n",
            "           0.14414,     0.14515,     0.14615,     0.14715,     0.14815,     0.14915,     0.15015,     0.15115,     0.15215,     0.15315,     0.15415,     0.15516,     0.15616,     0.15716,     0.15816,     0.15916,     0.16016,     0.16116,     0.16216,     0.16316,     0.16416,     0.16517,     0.16617,     0.16717,\n",
            "           0.16817,     0.16917,     0.17017,     0.17117,     0.17217,     0.17317,     0.17417,     0.17518,     0.17618,     0.17718,     0.17818,     0.17918,     0.18018,     0.18118,     0.18218,     0.18318,     0.18418,     0.18519,     0.18619,     0.18719,     0.18819,     0.18919,     0.19019,     0.19119,\n",
            "           0.19219,     0.19319,     0.19419,      0.1952,      0.1962,      0.1972,      0.1982,      0.1992,      0.2002,      0.2012,      0.2022,      0.2032,      0.2042,     0.20521,     0.20621,     0.20721,     0.20821,     0.20921,     0.21021,     0.21121,     0.21221,     0.21321,     0.21421,     0.21522,\n",
            "           0.21622,     0.21722,     0.21822,     0.21922,     0.22022,     0.22122,     0.22222,     0.22322,     0.22422,     0.22523,     0.22623,     0.22723,     0.22823,     0.22923,     0.23023,     0.23123,     0.23223,     0.23323,     0.23423,     0.23524,     0.23624,     0.23724,     0.23824,     0.23924,\n",
            "           0.24024,     0.24124,     0.24224,     0.24324,     0.24424,     0.24525,     0.24625,     0.24725,     0.24825,     0.24925,     0.25025,     0.25125,     0.25225,     0.25325,     0.25425,     0.25526,     0.25626,     0.25726,     0.25826,     0.25926,     0.26026,     0.26126,     0.26226,     0.26326,\n",
            "           0.26426,     0.26527,     0.26627,     0.26727,     0.26827,     0.26927,     0.27027,     0.27127,     0.27227,     0.27327,     0.27427,     0.27528,     0.27628,     0.27728,     0.27828,     0.27928,     0.28028,     0.28128,     0.28228,     0.28328,     0.28428,     0.28529,     0.28629,     0.28729,\n",
            "           0.28829,     0.28929,     0.29029,     0.29129,     0.29229,     0.29329,     0.29429,      0.2953,      0.2963,      0.2973,      0.2983,      0.2993,      0.3003,      0.3013,      0.3023,      0.3033,      0.3043,     0.30531,     0.30631,     0.30731,     0.30831,     0.30931,     0.31031,     0.31131,\n",
            "           0.31231,     0.31331,     0.31431,     0.31532,     0.31632,     0.31732,     0.31832,     0.31932,     0.32032,     0.32132,     0.32232,     0.32332,     0.32432,     0.32533,     0.32633,     0.32733,     0.32833,     0.32933,     0.33033,     0.33133,     0.33233,     0.33333,     0.33433,     0.33534,\n",
            "           0.33634,     0.33734,     0.33834,     0.33934,     0.34034,     0.34134,     0.34234,     0.34334,     0.34434,     0.34535,     0.34635,     0.34735,     0.34835,     0.34935,     0.35035,     0.35135,     0.35235,     0.35335,     0.35435,     0.35536,     0.35636,     0.35736,     0.35836,     0.35936,\n",
            "           0.36036,     0.36136,     0.36236,     0.36336,     0.36436,     0.36537,     0.36637,     0.36737,     0.36837,     0.36937,     0.37037,     0.37137,     0.37237,     0.37337,     0.37437,     0.37538,     0.37638,     0.37738,     0.37838,     0.37938,     0.38038,     0.38138,     0.38238,     0.38338,\n",
            "           0.38438,     0.38539,     0.38639,     0.38739,     0.38839,     0.38939,     0.39039,     0.39139,     0.39239,     0.39339,     0.39439,      0.3954,      0.3964,      0.3974,      0.3984,      0.3994,      0.4004,      0.4014,      0.4024,      0.4034,      0.4044,     0.40541,     0.40641,     0.40741,\n",
            "           0.40841,     0.40941,     0.41041,     0.41141,     0.41241,     0.41341,     0.41441,     0.41542,     0.41642,     0.41742,     0.41842,     0.41942,     0.42042,     0.42142,     0.42242,     0.42342,     0.42442,     0.42543,     0.42643,     0.42743,     0.42843,     0.42943,     0.43043,     0.43143,\n",
            "           0.43243,     0.43343,     0.43443,     0.43544,     0.43644,     0.43744,     0.43844,     0.43944,     0.44044,     0.44144,     0.44244,     0.44344,     0.44444,     0.44545,     0.44645,     0.44745,     0.44845,     0.44945,     0.45045,     0.45145,     0.45245,     0.45345,     0.45445,     0.45546,\n",
            "           0.45646,     0.45746,     0.45846,     0.45946,     0.46046,     0.46146,     0.46246,     0.46346,     0.46446,     0.46547,     0.46647,     0.46747,     0.46847,     0.46947,     0.47047,     0.47147,     0.47247,     0.47347,     0.47447,     0.47548,     0.47648,     0.47748,     0.47848,     0.47948,\n",
            "           0.48048,     0.48148,     0.48248,     0.48348,     0.48448,     0.48549,     0.48649,     0.48749,     0.48849,     0.48949,     0.49049,     0.49149,     0.49249,     0.49349,     0.49449,      0.4955,      0.4965,      0.4975,      0.4985,      0.4995,      0.5005,      0.5015,      0.5025,      0.5035,\n",
            "            0.5045,     0.50551,     0.50651,     0.50751,     0.50851,     0.50951,     0.51051,     0.51151,     0.51251,     0.51351,     0.51451,     0.51552,     0.51652,     0.51752,     0.51852,     0.51952,     0.52052,     0.52152,     0.52252,     0.52352,     0.52452,     0.52553,     0.52653,     0.52753,\n",
            "           0.52853,     0.52953,     0.53053,     0.53153,     0.53253,     0.53353,     0.53453,     0.53554,     0.53654,     0.53754,     0.53854,     0.53954,     0.54054,     0.54154,     0.54254,     0.54354,     0.54454,     0.54555,     0.54655,     0.54755,     0.54855,     0.54955,     0.55055,     0.55155,\n",
            "           0.55255,     0.55355,     0.55455,     0.55556,     0.55656,     0.55756,     0.55856,     0.55956,     0.56056,     0.56156,     0.56256,     0.56356,     0.56456,     0.56557,     0.56657,     0.56757,     0.56857,     0.56957,     0.57057,     0.57157,     0.57257,     0.57357,     0.57457,     0.57558,\n",
            "           0.57658,     0.57758,     0.57858,     0.57958,     0.58058,     0.58158,     0.58258,     0.58358,     0.58458,     0.58559,     0.58659,     0.58759,     0.58859,     0.58959,     0.59059,     0.59159,     0.59259,     0.59359,     0.59459,      0.5956,      0.5966,      0.5976,      0.5986,      0.5996,\n",
            "            0.6006,      0.6016,      0.6026,      0.6036,      0.6046,     0.60561,     0.60661,     0.60761,     0.60861,     0.60961,     0.61061,     0.61161,     0.61261,     0.61361,     0.61461,     0.61562,     0.61662,     0.61762,     0.61862,     0.61962,     0.62062,     0.62162,     0.62262,     0.62362,\n",
            "           0.62462,     0.62563,     0.62663,     0.62763,     0.62863,     0.62963,     0.63063,     0.63163,     0.63263,     0.63363,     0.63463,     0.63564,     0.63664,     0.63764,     0.63864,     0.63964,     0.64064,     0.64164,     0.64264,     0.64364,     0.64464,     0.64565,     0.64665,     0.64765,\n",
            "           0.64865,     0.64965,     0.65065,     0.65165,     0.65265,     0.65365,     0.65465,     0.65566,     0.65666,     0.65766,     0.65866,     0.65966,     0.66066,     0.66166,     0.66266,     0.66366,     0.66466,     0.66567,     0.66667,     0.66767,     0.66867,     0.66967,     0.67067,     0.67167,\n",
            "           0.67267,     0.67367,     0.67467,     0.67568,     0.67668,     0.67768,     0.67868,     0.67968,     0.68068,     0.68168,     0.68268,     0.68368,     0.68468,     0.68569,     0.68669,     0.68769,     0.68869,     0.68969,     0.69069,     0.69169,     0.69269,     0.69369,     0.69469,      0.6957,\n",
            "            0.6967,      0.6977,      0.6987,      0.6997,      0.7007,      0.7017,      0.7027,      0.7037,      0.7047,     0.70571,     0.70671,     0.70771,     0.70871,     0.70971,     0.71071,     0.71171,     0.71271,     0.71371,     0.71471,     0.71572,     0.71672,     0.71772,     0.71872,     0.71972,\n",
            "           0.72072,     0.72172,     0.72272,     0.72372,     0.72472,     0.72573,     0.72673,     0.72773,     0.72873,     0.72973,     0.73073,     0.73173,     0.73273,     0.73373,     0.73473,     0.73574,     0.73674,     0.73774,     0.73874,     0.73974,     0.74074,     0.74174,     0.74274,     0.74374,\n",
            "           0.74474,     0.74575,     0.74675,     0.74775,     0.74875,     0.74975,     0.75075,     0.75175,     0.75275,     0.75375,     0.75475,     0.75576,     0.75676,     0.75776,     0.75876,     0.75976,     0.76076,     0.76176,     0.76276,     0.76376,     0.76476,     0.76577,     0.76677,     0.76777,\n",
            "           0.76877,     0.76977,     0.77077,     0.77177,     0.77277,     0.77377,     0.77477,     0.77578,     0.77678,     0.77778,     0.77878,     0.77978,     0.78078,     0.78178,     0.78278,     0.78378,     0.78478,     0.78579,     0.78679,     0.78779,     0.78879,     0.78979,     0.79079,     0.79179,\n",
            "           0.79279,     0.79379,     0.79479,      0.7958,      0.7968,      0.7978,      0.7988,      0.7998,      0.8008,      0.8018,      0.8028,      0.8038,      0.8048,     0.80581,     0.80681,     0.80781,     0.80881,     0.80981,     0.81081,     0.81181,     0.81281,     0.81381,     0.81481,     0.81582,\n",
            "           0.81682,     0.81782,     0.81882,     0.81982,     0.82082,     0.82182,     0.82282,     0.82382,     0.82482,     0.82583,     0.82683,     0.82783,     0.82883,     0.82983,     0.83083,     0.83183,     0.83283,     0.83383,     0.83483,     0.83584,     0.83684,     0.83784,     0.83884,     0.83984,\n",
            "           0.84084,     0.84184,     0.84284,     0.84384,     0.84484,     0.84585,     0.84685,     0.84785,     0.84885,     0.84985,     0.85085,     0.85185,     0.85285,     0.85385,     0.85485,     0.85586,     0.85686,     0.85786,     0.85886,     0.85986,     0.86086,     0.86186,     0.86286,     0.86386,\n",
            "           0.86486,     0.86587,     0.86687,     0.86787,     0.86887,     0.86987,     0.87087,     0.87187,     0.87287,     0.87387,     0.87487,     0.87588,     0.87688,     0.87788,     0.87888,     0.87988,     0.88088,     0.88188,     0.88288,     0.88388,     0.88488,     0.88589,     0.88689,     0.88789,\n",
            "           0.88889,     0.88989,     0.89089,     0.89189,     0.89289,     0.89389,     0.89489,      0.8959,      0.8969,      0.8979,      0.8989,      0.8999,      0.9009,      0.9019,      0.9029,      0.9039,      0.9049,     0.90591,     0.90691,     0.90791,     0.90891,     0.90991,     0.91091,     0.91191,\n",
            "           0.91291,     0.91391,     0.91491,     0.91592,     0.91692,     0.91792,     0.91892,     0.91992,     0.92092,     0.92192,     0.92292,     0.92392,     0.92492,     0.92593,     0.92693,     0.92793,     0.92893,     0.92993,     0.93093,     0.93193,     0.93293,     0.93393,     0.93493,     0.93594,\n",
            "           0.93694,     0.93794,     0.93894,     0.93994,     0.94094,     0.94194,     0.94294,     0.94394,     0.94494,     0.94595,     0.94695,     0.94795,     0.94895,     0.94995,     0.95095,     0.95195,     0.95295,     0.95395,     0.95495,     0.95596,     0.95696,     0.95796,     0.95896,     0.95996,\n",
            "           0.96096,     0.96196,     0.96296,     0.96396,     0.96496,     0.96597,     0.96697,     0.96797,     0.96897,     0.96997,     0.97097,     0.97197,     0.97297,     0.97397,     0.97497,     0.97598,     0.97698,     0.97798,     0.97898,     0.97998,     0.98098,     0.98198,     0.98298,     0.98398,\n",
            "           0.98498,     0.98599,     0.98699,     0.98799,     0.98899,     0.98999,     0.99099,     0.99199,     0.99299,     0.99399,     0.99499,       0.996,       0.997,       0.998,       0.999,           1]), array([[          1,           1,           1,           1,           1,           1,           1,           1,           1,           1,           1,           1,           1,           1,           1,           1,           1,           1,           1,           1,           1,           1,           1,\n",
            "                  1,           1,           1,           1,           1,           1,           1,           1,           1,           1,           1,           1,           1,           1,           1,           1,           1,           1,           1,           1,           1,           1,           1,\n",
            "                  1,           1,           1,           1,           1,           1,           1,           1,           1,           1,           1,           1,           1,           1,           1,           1,           1,           1,           1,           1,           1,           1,           1,\n",
            "                  1,           1,           1,           1,           1,           1,           1,           1,           1,           1,           1,           1,           1,           1,           1,           1,           1,           1,           1,           1,           1,           1,           1,\n",
            "                  1,           1,           1,           1,           1,           1,           1,           1,           1,           1,           1,           1,           1,           1,           1,           1,           1,           1,           1,           1,           1,           1,           1,\n",
            "                  1,           1,           1,           1,           1,           1,           1,           1,           1,           1,           1,           1,           1,           1,           1,           1,           1,           1,           1,           1,           1,           1,           1,\n",
            "                  1,           1,           1,           1,           1,           1,           1,           1,           1,           1,           1,           1,           1,           1,           1,           1,           1,           1,           1,           1,           1,           1,           1,\n",
            "                  1,           1,           1,           1,           1,           1,           1,           1,           1,           1,           1,           1,           1,           1,           1,           1,           1,           1,           1,           1,           1,           1,           1,\n",
            "                  1,           1,           1,           1,           1,           1,           1,           1,           1,           1,           1,           1,           1,           1,           1,           1,           1,           1,           1,           1,           1,           1,           1,\n",
            "                  1,           1,           1,           1,           1,           1,           1,           1,           1,           1,           1,           1,           1,           1,           1,           1,           1,           1,           1,           1,           1,           1,           1,\n",
            "                  1,           1,           1,           1,           1,           1,           1,           1,           1,           1,           1,           1,           1,           1,           1,           1,           1,           1,           1,           1,           1,           1,           1,\n",
            "                  1,           1,           1,           1,           1,           1,           1,           1,           1,           1,           1,           1,           1,           1,           1,           1,           1,           1,           1,           1,           1,           1,           1,\n",
            "                  1,           1,           1,           1,           1,           1,           1,           1,           1,           1,           1,           1,           1,           1,           1,           1,           1,           1,           1,           1,           1,           1,           1,\n",
            "                  1,           1,           1,           1,           1,           1,           1,           1,           1,           1,           1,           1,           1,           1,           1,           1,           1,           1,           1,           1,           1,           1,           1,\n",
            "                  1,           1,           1,           1,           1,           1,           1,           1,           1,           1,           1,           1,           1,           1,           1,           1,           1,           1,           1,           1,           1,           1,           1,\n",
            "                  1,           1,           1,           1,           1,           1,           1,           1,           1,           1,           1,           1,           1,           1,           1,           1,           1,           1,           1,           1,           1,           1,           1,\n",
            "                  1,           1,           1,           1,           1,           1,           1,           1,           1,           1,           1,           1,           1,           1,           1,           1,           1,           1,           1,           1,           1,           1,           1,\n",
            "                  1,           1,           1,           1,           1,           1,           1,           1,           1,           1,           1,           1,           1,           1,           1,           1,           1,           1,           1,           1,           1,           1,           1,\n",
            "                  1,           1,           1,           1,           1,           1,           1,           1,           1,           1,           1,           1,           1,           1,           1,           1,           1,           1,           1,           1,           1,           1,           1,\n",
            "                  1,           1,           1,           1,           1,           1,           1,           1,           1,           1,           1,           1,           1,           1,           1,           1,           1,           1,           1,           1,           1,           1,           1,\n",
            "                  1,           1,           1,           1,           1,           1,           1,           1,           1,           1,           1,           1,           1,           1,           1,           1,           1,           1,           1,           1,           1,           1,           1,\n",
            "                  1,           1,           1,           1,           1,           1,           1,           1,           1,           1,           1,           1,           1,           1,           1,           1,           1,           1,           1,           1,           1,           1,           1,\n",
            "                  1,           1,           1,           1,           1,           1,           1,           1,           1,           1,           1,           1,           1,           1,           1,           1,           1,           1,           1,           1,           1,           1,           1,\n",
            "                  1,           1,           1,           1,           1,           1,           1,           1,           1,           1,           1,           1,           1,           1,           1,           1,           1,           1,           1,           1,           1,           1,           1,\n",
            "                  1,           1,           1,           1,           1,           1,           1,           1,           1,           1,           1,           1,           1,           1,           1,           1,           1,           1,           1,           1,           1,           1,           1,\n",
            "                  1,           1,           1,           1,           1,           1,           1,           1,           1,           1,           1,           1,           1,           1,           1,           1,           1,           1,           1,           1,           1,           1,           1,\n",
            "                  1,           1,           1,           1,           1,           1,           1,           1,           1,           1,           1,           1,           1,           1,           1,           1,           1,           1,           1,           1,           1,           1,           1,\n",
            "                  1,           1,           1,           1,           1,           1,           1,           1,           1,           1,           1,           1,           1,           1,           1,           1,           1,           1,           1,           1,           1,           1,           1,\n",
            "                  1,           1,           1,           1,           1,           1,           1,           1,           1,           1,           1,           1,           1,           1,           1,           1,           1,           1,           1,           1,           1,           1,           1,\n",
            "                  1,           1,           1,           1,           1,           1,           1,           1,           1,           1,           1,           1,           1,           1,           1,           1,           1,           1,           1,           1,           1,           1,           1,\n",
            "                  1,           1,           1,           1,           1,           1,           1,           1,           1,           1,           1,           1,           1,           1,           1,           1,           1,           1,           1,           1,           1,           1,           1,\n",
            "                  1,           1,           1,           1,           1,           1,           1,           1,           1,           1,           1,           1,           1,           1,           1,           1,           1,           1,           1,           1,           1,           1,           1,\n",
            "                  1,           1,           1,           1,           1,           1,           1,           1,           1,           1,           1,           1,           1,           1,           1,           1,           1,           1,           1,           1,           1,           1,           1,\n",
            "                  1,           1,           1,           1,           1,           1,           1,           1,           1,           1,           1,           1,           1,           1,           1,           1,           1,           1,           1,           1,           1,           1,           1,\n",
            "                  1,           1,           1,           1,           1,           1,           1,           1,           1,           1,           1,           1,           1,           1,           1,           1,           1,           1,           1,           1,           1,           1,           1,\n",
            "                  1,           1,           1,           1,           1,           1,           1,           1,           1,           1,           1,           1,           1,           1,           1,           1,           1,           1,           1,           1,           1,           1,           1,\n",
            "                  1,           1,           1,           1,           1,           1,           1,           1,           1,           1,           1,           1,           1,           1,           1,           1,           1,           1,           1,           1,           1,           1,           1,\n",
            "                  1,           1,           1,           1,           1,           1,           1,           1,           1,           1,           1,           1,           1,           1,           1,           1,           1,           1,           1,           1,           1,           1,           1,\n",
            "                  1,           1,           1,           1,           1,           1,           1,           1,           1,           1,           1,           1,           1,           1,           1,           1,           1,           1,           1,           1,           1,           1,           1,\n",
            "                  1,           1,           1,           1,           1,           1,           1,           1,           1,           1,           1,           1,           1,           1,           1,           1,           1,           1,           1,           1,           1,           1,           1,\n",
            "                  1,           1,           1,           1,           1,           1,           1,           1,           1,           1,           1,           1,           1,           1,           1,           1,           1,           1,           1,           1,           1,           1,           1,\n",
            "                  1,           1,           1,           1,           1,           1,           1,           1,           1,           1,           1,           1,           1,           1,           1,           1,           1,           1,           1,           1,           1,           1,           1,\n",
            "                  1,           1,           1,           1,           1,           1,           1,           1,           1,           1,           1,           1,           1,           1,           1,           1,           1,           1,           1,           1,           1,           1,           1,\n",
            "                  1,           1,     0.99961,     0.99961,     0.99961,     0.99961,     0.99961,     0.99767,     0.99767,     0.99266,           0]]), 'Recall', 'Precision'], [array([          0,    0.001001,    0.002002,    0.003003,    0.004004,    0.005005,    0.006006,    0.007007,    0.008008,    0.009009,     0.01001,    0.011011,    0.012012,    0.013013,    0.014014,    0.015015,    0.016016,    0.017017,    0.018018,    0.019019,     0.02002,    0.021021,    0.022022,    0.023023,\n",
            "          0.024024,    0.025025,    0.026026,    0.027027,    0.028028,    0.029029,     0.03003,    0.031031,    0.032032,    0.033033,    0.034034,    0.035035,    0.036036,    0.037037,    0.038038,    0.039039,     0.04004,    0.041041,    0.042042,    0.043043,    0.044044,    0.045045,    0.046046,    0.047047,\n",
            "          0.048048,    0.049049,     0.05005,    0.051051,    0.052052,    0.053053,    0.054054,    0.055055,    0.056056,    0.057057,    0.058058,    0.059059,     0.06006,    0.061061,    0.062062,    0.063063,    0.064064,    0.065065,    0.066066,    0.067067,    0.068068,    0.069069,     0.07007,    0.071071,\n",
            "          0.072072,    0.073073,    0.074074,    0.075075,    0.076076,    0.077077,    0.078078,    0.079079,     0.08008,    0.081081,    0.082082,    0.083083,    0.084084,    0.085085,    0.086086,    0.087087,    0.088088,    0.089089,     0.09009,    0.091091,    0.092092,    0.093093,    0.094094,    0.095095,\n",
            "          0.096096,    0.097097,    0.098098,    0.099099,      0.1001,      0.1011,      0.1021,      0.1031,      0.1041,     0.10511,     0.10611,     0.10711,     0.10811,     0.10911,     0.11011,     0.11111,     0.11211,     0.11311,     0.11411,     0.11512,     0.11612,     0.11712,     0.11812,     0.11912,\n",
            "           0.12012,     0.12112,     0.12212,     0.12312,     0.12412,     0.12513,     0.12613,     0.12713,     0.12813,     0.12913,     0.13013,     0.13113,     0.13213,     0.13313,     0.13413,     0.13514,     0.13614,     0.13714,     0.13814,     0.13914,     0.14014,     0.14114,     0.14214,     0.14314,\n",
            "           0.14414,     0.14515,     0.14615,     0.14715,     0.14815,     0.14915,     0.15015,     0.15115,     0.15215,     0.15315,     0.15415,     0.15516,     0.15616,     0.15716,     0.15816,     0.15916,     0.16016,     0.16116,     0.16216,     0.16316,     0.16416,     0.16517,     0.16617,     0.16717,\n",
            "           0.16817,     0.16917,     0.17017,     0.17117,     0.17217,     0.17317,     0.17417,     0.17518,     0.17618,     0.17718,     0.17818,     0.17918,     0.18018,     0.18118,     0.18218,     0.18318,     0.18418,     0.18519,     0.18619,     0.18719,     0.18819,     0.18919,     0.19019,     0.19119,\n",
            "           0.19219,     0.19319,     0.19419,      0.1952,      0.1962,      0.1972,      0.1982,      0.1992,      0.2002,      0.2012,      0.2022,      0.2032,      0.2042,     0.20521,     0.20621,     0.20721,     0.20821,     0.20921,     0.21021,     0.21121,     0.21221,     0.21321,     0.21421,     0.21522,\n",
            "           0.21622,     0.21722,     0.21822,     0.21922,     0.22022,     0.22122,     0.22222,     0.22322,     0.22422,     0.22523,     0.22623,     0.22723,     0.22823,     0.22923,     0.23023,     0.23123,     0.23223,     0.23323,     0.23423,     0.23524,     0.23624,     0.23724,     0.23824,     0.23924,\n",
            "           0.24024,     0.24124,     0.24224,     0.24324,     0.24424,     0.24525,     0.24625,     0.24725,     0.24825,     0.24925,     0.25025,     0.25125,     0.25225,     0.25325,     0.25425,     0.25526,     0.25626,     0.25726,     0.25826,     0.25926,     0.26026,     0.26126,     0.26226,     0.26326,\n",
            "           0.26426,     0.26527,     0.26627,     0.26727,     0.26827,     0.26927,     0.27027,     0.27127,     0.27227,     0.27327,     0.27427,     0.27528,     0.27628,     0.27728,     0.27828,     0.27928,     0.28028,     0.28128,     0.28228,     0.28328,     0.28428,     0.28529,     0.28629,     0.28729,\n",
            "           0.28829,     0.28929,     0.29029,     0.29129,     0.29229,     0.29329,     0.29429,      0.2953,      0.2963,      0.2973,      0.2983,      0.2993,      0.3003,      0.3013,      0.3023,      0.3033,      0.3043,     0.30531,     0.30631,     0.30731,     0.30831,     0.30931,     0.31031,     0.31131,\n",
            "           0.31231,     0.31331,     0.31431,     0.31532,     0.31632,     0.31732,     0.31832,     0.31932,     0.32032,     0.32132,     0.32232,     0.32332,     0.32432,     0.32533,     0.32633,     0.32733,     0.32833,     0.32933,     0.33033,     0.33133,     0.33233,     0.33333,     0.33433,     0.33534,\n",
            "           0.33634,     0.33734,     0.33834,     0.33934,     0.34034,     0.34134,     0.34234,     0.34334,     0.34434,     0.34535,     0.34635,     0.34735,     0.34835,     0.34935,     0.35035,     0.35135,     0.35235,     0.35335,     0.35435,     0.35536,     0.35636,     0.35736,     0.35836,     0.35936,\n",
            "           0.36036,     0.36136,     0.36236,     0.36336,     0.36436,     0.36537,     0.36637,     0.36737,     0.36837,     0.36937,     0.37037,     0.37137,     0.37237,     0.37337,     0.37437,     0.37538,     0.37638,     0.37738,     0.37838,     0.37938,     0.38038,     0.38138,     0.38238,     0.38338,\n",
            "           0.38438,     0.38539,     0.38639,     0.38739,     0.38839,     0.38939,     0.39039,     0.39139,     0.39239,     0.39339,     0.39439,      0.3954,      0.3964,      0.3974,      0.3984,      0.3994,      0.4004,      0.4014,      0.4024,      0.4034,      0.4044,     0.40541,     0.40641,     0.40741,\n",
            "           0.40841,     0.40941,     0.41041,     0.41141,     0.41241,     0.41341,     0.41441,     0.41542,     0.41642,     0.41742,     0.41842,     0.41942,     0.42042,     0.42142,     0.42242,     0.42342,     0.42442,     0.42543,     0.42643,     0.42743,     0.42843,     0.42943,     0.43043,     0.43143,\n",
            "           0.43243,     0.43343,     0.43443,     0.43544,     0.43644,     0.43744,     0.43844,     0.43944,     0.44044,     0.44144,     0.44244,     0.44344,     0.44444,     0.44545,     0.44645,     0.44745,     0.44845,     0.44945,     0.45045,     0.45145,     0.45245,     0.45345,     0.45445,     0.45546,\n",
            "           0.45646,     0.45746,     0.45846,     0.45946,     0.46046,     0.46146,     0.46246,     0.46346,     0.46446,     0.46547,     0.46647,     0.46747,     0.46847,     0.46947,     0.47047,     0.47147,     0.47247,     0.47347,     0.47447,     0.47548,     0.47648,     0.47748,     0.47848,     0.47948,\n",
            "           0.48048,     0.48148,     0.48248,     0.48348,     0.48448,     0.48549,     0.48649,     0.48749,     0.48849,     0.48949,     0.49049,     0.49149,     0.49249,     0.49349,     0.49449,      0.4955,      0.4965,      0.4975,      0.4985,      0.4995,      0.5005,      0.5015,      0.5025,      0.5035,\n",
            "            0.5045,     0.50551,     0.50651,     0.50751,     0.50851,     0.50951,     0.51051,     0.51151,     0.51251,     0.51351,     0.51451,     0.51552,     0.51652,     0.51752,     0.51852,     0.51952,     0.52052,     0.52152,     0.52252,     0.52352,     0.52452,     0.52553,     0.52653,     0.52753,\n",
            "           0.52853,     0.52953,     0.53053,     0.53153,     0.53253,     0.53353,     0.53453,     0.53554,     0.53654,     0.53754,     0.53854,     0.53954,     0.54054,     0.54154,     0.54254,     0.54354,     0.54454,     0.54555,     0.54655,     0.54755,     0.54855,     0.54955,     0.55055,     0.55155,\n",
            "           0.55255,     0.55355,     0.55455,     0.55556,     0.55656,     0.55756,     0.55856,     0.55956,     0.56056,     0.56156,     0.56256,     0.56356,     0.56456,     0.56557,     0.56657,     0.56757,     0.56857,     0.56957,     0.57057,     0.57157,     0.57257,     0.57357,     0.57457,     0.57558,\n",
            "           0.57658,     0.57758,     0.57858,     0.57958,     0.58058,     0.58158,     0.58258,     0.58358,     0.58458,     0.58559,     0.58659,     0.58759,     0.58859,     0.58959,     0.59059,     0.59159,     0.59259,     0.59359,     0.59459,      0.5956,      0.5966,      0.5976,      0.5986,      0.5996,\n",
            "            0.6006,      0.6016,      0.6026,      0.6036,      0.6046,     0.60561,     0.60661,     0.60761,     0.60861,     0.60961,     0.61061,     0.61161,     0.61261,     0.61361,     0.61461,     0.61562,     0.61662,     0.61762,     0.61862,     0.61962,     0.62062,     0.62162,     0.62262,     0.62362,\n",
            "           0.62462,     0.62563,     0.62663,     0.62763,     0.62863,     0.62963,     0.63063,     0.63163,     0.63263,     0.63363,     0.63463,     0.63564,     0.63664,     0.63764,     0.63864,     0.63964,     0.64064,     0.64164,     0.64264,     0.64364,     0.64464,     0.64565,     0.64665,     0.64765,\n",
            "           0.64865,     0.64965,     0.65065,     0.65165,     0.65265,     0.65365,     0.65465,     0.65566,     0.65666,     0.65766,     0.65866,     0.65966,     0.66066,     0.66166,     0.66266,     0.66366,     0.66466,     0.66567,     0.66667,     0.66767,     0.66867,     0.66967,     0.67067,     0.67167,\n",
            "           0.67267,     0.67367,     0.67467,     0.67568,     0.67668,     0.67768,     0.67868,     0.67968,     0.68068,     0.68168,     0.68268,     0.68368,     0.68468,     0.68569,     0.68669,     0.68769,     0.68869,     0.68969,     0.69069,     0.69169,     0.69269,     0.69369,     0.69469,      0.6957,\n",
            "            0.6967,      0.6977,      0.6987,      0.6997,      0.7007,      0.7017,      0.7027,      0.7037,      0.7047,     0.70571,     0.70671,     0.70771,     0.70871,     0.70971,     0.71071,     0.71171,     0.71271,     0.71371,     0.71471,     0.71572,     0.71672,     0.71772,     0.71872,     0.71972,\n",
            "           0.72072,     0.72172,     0.72272,     0.72372,     0.72472,     0.72573,     0.72673,     0.72773,     0.72873,     0.72973,     0.73073,     0.73173,     0.73273,     0.73373,     0.73473,     0.73574,     0.73674,     0.73774,     0.73874,     0.73974,     0.74074,     0.74174,     0.74274,     0.74374,\n",
            "           0.74474,     0.74575,     0.74675,     0.74775,     0.74875,     0.74975,     0.75075,     0.75175,     0.75275,     0.75375,     0.75475,     0.75576,     0.75676,     0.75776,     0.75876,     0.75976,     0.76076,     0.76176,     0.76276,     0.76376,     0.76476,     0.76577,     0.76677,     0.76777,\n",
            "           0.76877,     0.76977,     0.77077,     0.77177,     0.77277,     0.77377,     0.77477,     0.77578,     0.77678,     0.77778,     0.77878,     0.77978,     0.78078,     0.78178,     0.78278,     0.78378,     0.78478,     0.78579,     0.78679,     0.78779,     0.78879,     0.78979,     0.79079,     0.79179,\n",
            "           0.79279,     0.79379,     0.79479,      0.7958,      0.7968,      0.7978,      0.7988,      0.7998,      0.8008,      0.8018,      0.8028,      0.8038,      0.8048,     0.80581,     0.80681,     0.80781,     0.80881,     0.80981,     0.81081,     0.81181,     0.81281,     0.81381,     0.81481,     0.81582,\n",
            "           0.81682,     0.81782,     0.81882,     0.81982,     0.82082,     0.82182,     0.82282,     0.82382,     0.82482,     0.82583,     0.82683,     0.82783,     0.82883,     0.82983,     0.83083,     0.83183,     0.83283,     0.83383,     0.83483,     0.83584,     0.83684,     0.83784,     0.83884,     0.83984,\n",
            "           0.84084,     0.84184,     0.84284,     0.84384,     0.84484,     0.84585,     0.84685,     0.84785,     0.84885,     0.84985,     0.85085,     0.85185,     0.85285,     0.85385,     0.85485,     0.85586,     0.85686,     0.85786,     0.85886,     0.85986,     0.86086,     0.86186,     0.86286,     0.86386,\n",
            "           0.86486,     0.86587,     0.86687,     0.86787,     0.86887,     0.86987,     0.87087,     0.87187,     0.87287,     0.87387,     0.87487,     0.87588,     0.87688,     0.87788,     0.87888,     0.87988,     0.88088,     0.88188,     0.88288,     0.88388,     0.88488,     0.88589,     0.88689,     0.88789,\n",
            "           0.88889,     0.88989,     0.89089,     0.89189,     0.89289,     0.89389,     0.89489,      0.8959,      0.8969,      0.8979,      0.8989,      0.8999,      0.9009,      0.9019,      0.9029,      0.9039,      0.9049,     0.90591,     0.90691,     0.90791,     0.90891,     0.90991,     0.91091,     0.91191,\n",
            "           0.91291,     0.91391,     0.91491,     0.91592,     0.91692,     0.91792,     0.91892,     0.91992,     0.92092,     0.92192,     0.92292,     0.92392,     0.92492,     0.92593,     0.92693,     0.92793,     0.92893,     0.92993,     0.93093,     0.93193,     0.93293,     0.93393,     0.93493,     0.93594,\n",
            "           0.93694,     0.93794,     0.93894,     0.93994,     0.94094,     0.94194,     0.94294,     0.94394,     0.94494,     0.94595,     0.94695,     0.94795,     0.94895,     0.94995,     0.95095,     0.95195,     0.95295,     0.95395,     0.95495,     0.95596,     0.95696,     0.95796,     0.95896,     0.95996,\n",
            "           0.96096,     0.96196,     0.96296,     0.96396,     0.96496,     0.96597,     0.96697,     0.96797,     0.96897,     0.96997,     0.97097,     0.97197,     0.97297,     0.97397,     0.97497,     0.97598,     0.97698,     0.97798,     0.97898,     0.97998,     0.98098,     0.98198,     0.98298,     0.98398,\n",
            "           0.98498,     0.98599,     0.98699,     0.98799,     0.98899,     0.98999,     0.99099,     0.99199,     0.99299,     0.99399,     0.99499,       0.996,       0.997,       0.998,       0.999,           1]), array([[    0.69711,     0.69724,     0.83174,     0.88618,     0.91181,     0.93135,     0.94324,     0.95141,     0.95762,     0.96162,     0.96432,     0.96695,     0.96979,     0.97245,      0.9739,     0.97575,     0.97687,      0.9783,      0.9799,     0.98034,     0.98089,      0.9822,     0.98339,\n",
            "            0.98441,     0.98574,     0.98656,     0.98673,     0.98713,     0.98793,     0.98799,     0.98805,     0.98816,     0.98886,     0.98901,     0.98886,     0.98905,     0.98932,     0.98958,     0.98991,     0.99023,     0.99053,     0.99105,     0.99133,     0.99138,     0.99143,     0.99148,\n",
            "            0.99156,     0.99169,     0.99182,     0.99199,     0.99229,     0.99233,     0.99237,      0.9924,     0.99244,      0.9925,     0.99269,     0.99273,     0.99276,     0.99279,     0.99283,     0.99287,     0.99295,     0.99302,      0.9931,     0.99317,     0.99326,     0.99343,     0.99337,\n",
            "             0.9936,     0.99382,     0.99386,     0.99389,     0.99393,     0.99396,       0.994,     0.99404,     0.99409,     0.99414,     0.99418,     0.99423,     0.99427,     0.99431,     0.99436,     0.99444,     0.99468,      0.9948,     0.99484,     0.99487,     0.99491,     0.99495,     0.99498,\n",
            "            0.99501,     0.99503,     0.99506,     0.99509,     0.99512,     0.99514,     0.99517,      0.9952,     0.99524,     0.99527,      0.9953,     0.99533,     0.99536,     0.99539,     0.99542,     0.99544,     0.99547,      0.9955,     0.99552,     0.99555,     0.99561,     0.99566,     0.99571,\n",
            "            0.99574,     0.99576,     0.99577,     0.99578,     0.99579,      0.9958,     0.99582,     0.99583,     0.99584,     0.99585,     0.99586,     0.99588,     0.99589,      0.9959,     0.99591,     0.99592,     0.99592,     0.99589,     0.99586,     0.99583,      0.9958,     0.99577,     0.99574,\n",
            "            0.99576,     0.99578,      0.9958,     0.99582,     0.99585,     0.99587,     0.99589,     0.99591,     0.99593,     0.99595,     0.99596,     0.99597,     0.99599,       0.996,     0.99602,     0.99603,     0.99605,     0.99606,     0.99607,     0.99609,      0.9961,     0.99612,     0.99613,\n",
            "            0.99613,     0.99614,     0.99615,     0.99616,     0.99617,     0.99617,     0.99618,     0.99619,      0.9962,      0.9962,     0.99621,     0.99622,     0.99623,     0.99624,     0.99624,     0.99625,     0.99626,     0.99627,     0.99627,     0.99628,     0.99629,      0.9963,      0.9963,\n",
            "            0.99631,     0.99632,     0.99634,     0.99635,     0.99637,     0.99638,     0.99639,     0.99641,     0.99642,     0.99644,     0.99645,     0.99646,     0.99648,     0.99649,     0.99651,      0.9965,     0.99649,     0.99649,     0.99648,     0.99647,     0.99647,     0.99646,     0.99645,\n",
            "            0.99644,     0.99644,     0.99643,     0.99642,     0.99641,     0.99641,      0.9964,     0.99639,     0.99638,     0.99638,     0.99637,     0.99636,     0.99635,     0.99635,     0.99634,     0.99633,     0.99633,     0.99632,     0.99632,     0.99633,     0.99634,     0.99635,     0.99635,\n",
            "            0.99636,     0.99637,     0.99638,     0.99639,      0.9964,     0.99641,     0.99642,     0.99643,     0.99643,     0.99644,     0.99645,     0.99646,     0.99647,     0.99648,     0.99649,      0.9965,      0.9965,     0.99654,      0.9966,     0.99665,      0.9967,     0.99671,     0.99671,\n",
            "            0.99672,     0.99672,     0.99673,     0.99673,     0.99674,     0.99674,     0.99675,     0.99675,     0.99676,     0.99677,     0.99677,     0.99678,     0.99678,     0.99679,     0.99679,      0.9968,      0.9968,     0.99681,     0.99681,     0.99682,     0.99682,     0.99683,     0.99683,\n",
            "            0.99684,     0.99685,     0.99685,     0.99686,     0.99686,     0.99687,     0.99687,     0.99688,     0.99688,     0.99689,     0.99689,     0.99691,     0.99693,     0.99695,     0.99698,       0.997,     0.99702,     0.99704,     0.99706,     0.99708,     0.99713,     0.99717,     0.99722,\n",
            "            0.99726,     0.99728,     0.99729,      0.9973,      0.9973,     0.99731,     0.99731,     0.99732,     0.99732,     0.99733,     0.99733,     0.99734,     0.99734,     0.99735,     0.99735,     0.99736,     0.99736,     0.99737,     0.99738,     0.99738,     0.99739,     0.99739,      0.9974,\n",
            "             0.9974,     0.99741,     0.99741,     0.99742,     0.99742,     0.99743,     0.99743,     0.99744,     0.99744,     0.99745,     0.99746,     0.99746,     0.99747,     0.99747,     0.99747,     0.99746,     0.99745,     0.99745,     0.99744,     0.99743,     0.99742,     0.99741,      0.9974,\n",
            "            0.99739,     0.99738,     0.99737,     0.99736,     0.99735,     0.99734,     0.99733,     0.99732,     0.99732,     0.99731,      0.9973,     0.99729,     0.99728,     0.99729,      0.9973,     0.99731,     0.99731,     0.99732,     0.99733,     0.99734,     0.99734,     0.99735,     0.99736,\n",
            "            0.99737,     0.99737,     0.99738,     0.99739,      0.9974,     0.99741,     0.99741,     0.99742,     0.99743,     0.99744,     0.99744,     0.99745,     0.99746,     0.99747,     0.99747,     0.99749,     0.99751,     0.99752,     0.99754,     0.99756,     0.99757,     0.99759,     0.99761,\n",
            "            0.99762,     0.99764,     0.99766,     0.99767,     0.99767,     0.99768,     0.99768,     0.99769,     0.99769,      0.9977,      0.9977,      0.9977,     0.99771,     0.99771,     0.99772,     0.99772,     0.99773,     0.99773,     0.99774,     0.99774,     0.99774,     0.99775,     0.99775,\n",
            "            0.99776,     0.99776,     0.99777,     0.99777,     0.99778,     0.99778,     0.99778,     0.99779,     0.99779,      0.9978,      0.9978,     0.99781,     0.99781,     0.99782,     0.99782,     0.99782,     0.99783,     0.99783,     0.99784,     0.99784,     0.99785,     0.99785,     0.99785,\n",
            "            0.99786,     0.99786,     0.99784,     0.99782,     0.99781,     0.99779,     0.99777,     0.99776,     0.99774,     0.99772,     0.99771,     0.99769,     0.99767,     0.99767,     0.99766,     0.99766,     0.99766,     0.99765,     0.99765,     0.99765,     0.99764,     0.99764,     0.99764,\n",
            "            0.99763,     0.99763,     0.99763,     0.99762,     0.99762,     0.99762,     0.99762,     0.99761,     0.99761,     0.99761,      0.9976,      0.9976,      0.9976,     0.99759,     0.99759,     0.99759,     0.99758,     0.99758,     0.99758,     0.99757,     0.99757,     0.99757,     0.99757,\n",
            "            0.99756,     0.99756,     0.99756,     0.99755,     0.99755,     0.99755,     0.99754,     0.99754,     0.99754,     0.99753,     0.99753,     0.99753,     0.99752,     0.99752,     0.99752,     0.99752,     0.99751,     0.99751,     0.99751,      0.9975,      0.9975,      0.9975,     0.99749,\n",
            "            0.99749,     0.99749,     0.99748,     0.99748,     0.99748,     0.99747,     0.99747,     0.99746,     0.99745,     0.99744,     0.99744,     0.99743,     0.99742,     0.99741,      0.9974,     0.99739,     0.99739,     0.99738,     0.99737,     0.99736,     0.99735,     0.99734,     0.99733,\n",
            "            0.99733,     0.99732,     0.99731,      0.9973,     0.99729,     0.99728,     0.99728,     0.99728,     0.99729,      0.9973,      0.9973,     0.99731,     0.99731,     0.99732,     0.99732,     0.99733,     0.99733,     0.99734,     0.99735,     0.99735,     0.99736,     0.99736,     0.99737,\n",
            "            0.99737,     0.99738,     0.99738,     0.99739,      0.9974,      0.9974,     0.99741,     0.99741,     0.99742,     0.99742,     0.99743,     0.99743,     0.99744,     0.99745,     0.99745,     0.99746,     0.99746,     0.99747,     0.99747,     0.99746,     0.99745,     0.99744,     0.99744,\n",
            "            0.99743,     0.99742,     0.99741,     0.99741,      0.9974,     0.99739,     0.99738,     0.99737,     0.99737,     0.99736,     0.99735,     0.99734,     0.99733,     0.99733,     0.99732,     0.99731,      0.9973,      0.9973,     0.99729,     0.99728,     0.99729,     0.99733,     0.99736,\n",
            "             0.9974,     0.99744,     0.99747,     0.99748,     0.99749,     0.99749,      0.9975,     0.99751,     0.99752,     0.99752,     0.99753,     0.99754,     0.99755,     0.99755,     0.99756,     0.99757,     0.99758,     0.99759,     0.99759,      0.9976,     0.99761,     0.99762,     0.99762,\n",
            "            0.99763,     0.99764,     0.99765,     0.99765,     0.99766,     0.99772,     0.99782,     0.99789,     0.99793,     0.99797,     0.99802,     0.99793,     0.99785,     0.99785,     0.99784,     0.99784,     0.99783,     0.99782,     0.99782,     0.99781,     0.99781,      0.9978,      0.9978,\n",
            "            0.99779,     0.99778,     0.99778,     0.99777,     0.99777,     0.99776,     0.99776,     0.99775,     0.99775,     0.99774,     0.99773,     0.99773,     0.99772,     0.99772,     0.99771,     0.99771,      0.9977,     0.99769,     0.99769,     0.99768,     0.99768,     0.99767,     0.99767,\n",
            "            0.99764,     0.99761,     0.99757,     0.99753,     0.99749,     0.99742,      0.9973,      0.9972,     0.99711,     0.99692,     0.99684,      0.9968,     0.99676,     0.99671,     0.99665,     0.99655,     0.99635,      0.9958,     0.99531,     0.99537,     0.99542,     0.99547,      0.9955,\n",
            "            0.99547,     0.99544,      0.9954,     0.99537,     0.99534,     0.99519,     0.99498,     0.99475,     0.99469,     0.99465,     0.99461,     0.99457,     0.99453,     0.99443,     0.99434,     0.99421,     0.99401,     0.99349,     0.99333,     0.99303,     0.99288,      0.9928,     0.99272,\n",
            "            0.99264,     0.99255,     0.99231,     0.99153,     0.99141,      0.9913,     0.99119,     0.99052,     0.99027,     0.98977,     0.98968,     0.98958,     0.98949,     0.98939,     0.98898,     0.98885,     0.98853,     0.98828,     0.98786,     0.98733,     0.98691,     0.98639,     0.98628,\n",
            "             0.9857,     0.98533,     0.98482,      0.9837,     0.98271,     0.98196,     0.98169,     0.98098,     0.98087,     0.98017,     0.97986,     0.97898,     0.97797,     0.97744,     0.97696,     0.97579,     0.97468,     0.97322,     0.97219,     0.97162,      0.9709,     0.96946,     0.96817,\n",
            "            0.96647,     0.96495,     0.96344,     0.96148,     0.96028,     0.95893,      0.9565,     0.95412,     0.95227,     0.95112,     0.94959,     0.94843,      0.9469,     0.94438,     0.94197,     0.94078,     0.93838,     0.93511,      0.9317,     0.92838,     0.92597,      0.9222,     0.91677,\n",
            "            0.91343,     0.91025,     0.90388,     0.89897,      0.8945,      0.8874,      0.8794,     0.87331,     0.86302,     0.85391,     0.84461,     0.83593,     0.82771,     0.81295,     0.79829,     0.78575,     0.76707,     0.75166,     0.73409,     0.71405,     0.69659,     0.67554,     0.65046,\n",
            "            0.62501,     0.60078,     0.56928,     0.53869,     0.50967,      0.4726,     0.44465,     0.41048,     0.37363,      0.3379,     0.29797,     0.26119,     0.22882,     0.19391,      0.1702,     0.14751,     0.12551,     0.10757,     0.09156,    0.079949,      0.0653,    0.056715,    0.042536,\n",
            "           0.033629,    0.029726,    0.026397,    0.021372,    0.017945,    0.013739,    0.013179,   0.0099218,   0.0089352,   0.0075999,   0.0059745,   0.0046112,   0.0043198,   0.0040282,   0.0021674,   0.0015036,   0.0013734,   0.0012431,   0.0011128,  0.00098246,  0.00085212,           0,           0,\n",
            "                  0,           0,           0,           0,           0,           0,           0,           0,           0,           0,           0,           0,           0,           0,           0,           0,           0,           0,           0,           0,           0,           0,           0,\n",
            "                  0,           0,           0,           0,           0,           0,           0,           0,           0,           0,           0,           0,           0,           0,           0,           0,           0,           0,           0,           0,           0,           0,           0,\n",
            "                  0,           0,           0,           0,           0,           0,           0,           0,           0,           0,           0,           0,           0,           0,           0,           0,           0,           0,           0,           0,           0,           0,           0,\n",
            "                  0,           0,           0,           0,           0,           0,           0,           0,           0,           0,           0,           0,           0,           0,           0,           0,           0,           0,           0,           0,           0,           0,           0,\n",
            "                  0,           0,           0,           0,           0,           0,           0,           0,           0,           0,           0,           0,           0,           0,           0,           0,           0,           0,           0,           0,           0,           0,           0,\n",
            "                  0,           0,           0,           0,           0,           0,           0,           0,           0,           0,           0,           0,           0,           0,           0,           0,           0,           0,           0,           0,           0,           0,           0,\n",
            "                  0,           0,           0,           0,           0,           0,           0,           0,           0,           0,           0]]), 'Confidence', 'F1'], [array([          0,    0.001001,    0.002002,    0.003003,    0.004004,    0.005005,    0.006006,    0.007007,    0.008008,    0.009009,     0.01001,    0.011011,    0.012012,    0.013013,    0.014014,    0.015015,    0.016016,    0.017017,    0.018018,    0.019019,     0.02002,    0.021021,    0.022022,    0.023023,\n",
            "          0.024024,    0.025025,    0.026026,    0.027027,    0.028028,    0.029029,     0.03003,    0.031031,    0.032032,    0.033033,    0.034034,    0.035035,    0.036036,    0.037037,    0.038038,    0.039039,     0.04004,    0.041041,    0.042042,    0.043043,    0.044044,    0.045045,    0.046046,    0.047047,\n",
            "          0.048048,    0.049049,     0.05005,    0.051051,    0.052052,    0.053053,    0.054054,    0.055055,    0.056056,    0.057057,    0.058058,    0.059059,     0.06006,    0.061061,    0.062062,    0.063063,    0.064064,    0.065065,    0.066066,    0.067067,    0.068068,    0.069069,     0.07007,    0.071071,\n",
            "          0.072072,    0.073073,    0.074074,    0.075075,    0.076076,    0.077077,    0.078078,    0.079079,     0.08008,    0.081081,    0.082082,    0.083083,    0.084084,    0.085085,    0.086086,    0.087087,    0.088088,    0.089089,     0.09009,    0.091091,    0.092092,    0.093093,    0.094094,    0.095095,\n",
            "          0.096096,    0.097097,    0.098098,    0.099099,      0.1001,      0.1011,      0.1021,      0.1031,      0.1041,     0.10511,     0.10611,     0.10711,     0.10811,     0.10911,     0.11011,     0.11111,     0.11211,     0.11311,     0.11411,     0.11512,     0.11612,     0.11712,     0.11812,     0.11912,\n",
            "           0.12012,     0.12112,     0.12212,     0.12312,     0.12412,     0.12513,     0.12613,     0.12713,     0.12813,     0.12913,     0.13013,     0.13113,     0.13213,     0.13313,     0.13413,     0.13514,     0.13614,     0.13714,     0.13814,     0.13914,     0.14014,     0.14114,     0.14214,     0.14314,\n",
            "           0.14414,     0.14515,     0.14615,     0.14715,     0.14815,     0.14915,     0.15015,     0.15115,     0.15215,     0.15315,     0.15415,     0.15516,     0.15616,     0.15716,     0.15816,     0.15916,     0.16016,     0.16116,     0.16216,     0.16316,     0.16416,     0.16517,     0.16617,     0.16717,\n",
            "           0.16817,     0.16917,     0.17017,     0.17117,     0.17217,     0.17317,     0.17417,     0.17518,     0.17618,     0.17718,     0.17818,     0.17918,     0.18018,     0.18118,     0.18218,     0.18318,     0.18418,     0.18519,     0.18619,     0.18719,     0.18819,     0.18919,     0.19019,     0.19119,\n",
            "           0.19219,     0.19319,     0.19419,      0.1952,      0.1962,      0.1972,      0.1982,      0.1992,      0.2002,      0.2012,      0.2022,      0.2032,      0.2042,     0.20521,     0.20621,     0.20721,     0.20821,     0.20921,     0.21021,     0.21121,     0.21221,     0.21321,     0.21421,     0.21522,\n",
            "           0.21622,     0.21722,     0.21822,     0.21922,     0.22022,     0.22122,     0.22222,     0.22322,     0.22422,     0.22523,     0.22623,     0.22723,     0.22823,     0.22923,     0.23023,     0.23123,     0.23223,     0.23323,     0.23423,     0.23524,     0.23624,     0.23724,     0.23824,     0.23924,\n",
            "           0.24024,     0.24124,     0.24224,     0.24324,     0.24424,     0.24525,     0.24625,     0.24725,     0.24825,     0.24925,     0.25025,     0.25125,     0.25225,     0.25325,     0.25425,     0.25526,     0.25626,     0.25726,     0.25826,     0.25926,     0.26026,     0.26126,     0.26226,     0.26326,\n",
            "           0.26426,     0.26527,     0.26627,     0.26727,     0.26827,     0.26927,     0.27027,     0.27127,     0.27227,     0.27327,     0.27427,     0.27528,     0.27628,     0.27728,     0.27828,     0.27928,     0.28028,     0.28128,     0.28228,     0.28328,     0.28428,     0.28529,     0.28629,     0.28729,\n",
            "           0.28829,     0.28929,     0.29029,     0.29129,     0.29229,     0.29329,     0.29429,      0.2953,      0.2963,      0.2973,      0.2983,      0.2993,      0.3003,      0.3013,      0.3023,      0.3033,      0.3043,     0.30531,     0.30631,     0.30731,     0.30831,     0.30931,     0.31031,     0.31131,\n",
            "           0.31231,     0.31331,     0.31431,     0.31532,     0.31632,     0.31732,     0.31832,     0.31932,     0.32032,     0.32132,     0.32232,     0.32332,     0.32432,     0.32533,     0.32633,     0.32733,     0.32833,     0.32933,     0.33033,     0.33133,     0.33233,     0.33333,     0.33433,     0.33534,\n",
            "           0.33634,     0.33734,     0.33834,     0.33934,     0.34034,     0.34134,     0.34234,     0.34334,     0.34434,     0.34535,     0.34635,     0.34735,     0.34835,     0.34935,     0.35035,     0.35135,     0.35235,     0.35335,     0.35435,     0.35536,     0.35636,     0.35736,     0.35836,     0.35936,\n",
            "           0.36036,     0.36136,     0.36236,     0.36336,     0.36436,     0.36537,     0.36637,     0.36737,     0.36837,     0.36937,     0.37037,     0.37137,     0.37237,     0.37337,     0.37437,     0.37538,     0.37638,     0.37738,     0.37838,     0.37938,     0.38038,     0.38138,     0.38238,     0.38338,\n",
            "           0.38438,     0.38539,     0.38639,     0.38739,     0.38839,     0.38939,     0.39039,     0.39139,     0.39239,     0.39339,     0.39439,      0.3954,      0.3964,      0.3974,      0.3984,      0.3994,      0.4004,      0.4014,      0.4024,      0.4034,      0.4044,     0.40541,     0.40641,     0.40741,\n",
            "           0.40841,     0.40941,     0.41041,     0.41141,     0.41241,     0.41341,     0.41441,     0.41542,     0.41642,     0.41742,     0.41842,     0.41942,     0.42042,     0.42142,     0.42242,     0.42342,     0.42442,     0.42543,     0.42643,     0.42743,     0.42843,     0.42943,     0.43043,     0.43143,\n",
            "           0.43243,     0.43343,     0.43443,     0.43544,     0.43644,     0.43744,     0.43844,     0.43944,     0.44044,     0.44144,     0.44244,     0.44344,     0.44444,     0.44545,     0.44645,     0.44745,     0.44845,     0.44945,     0.45045,     0.45145,     0.45245,     0.45345,     0.45445,     0.45546,\n",
            "           0.45646,     0.45746,     0.45846,     0.45946,     0.46046,     0.46146,     0.46246,     0.46346,     0.46446,     0.46547,     0.46647,     0.46747,     0.46847,     0.46947,     0.47047,     0.47147,     0.47247,     0.47347,     0.47447,     0.47548,     0.47648,     0.47748,     0.47848,     0.47948,\n",
            "           0.48048,     0.48148,     0.48248,     0.48348,     0.48448,     0.48549,     0.48649,     0.48749,     0.48849,     0.48949,     0.49049,     0.49149,     0.49249,     0.49349,     0.49449,      0.4955,      0.4965,      0.4975,      0.4985,      0.4995,      0.5005,      0.5015,      0.5025,      0.5035,\n",
            "            0.5045,     0.50551,     0.50651,     0.50751,     0.50851,     0.50951,     0.51051,     0.51151,     0.51251,     0.51351,     0.51451,     0.51552,     0.51652,     0.51752,     0.51852,     0.51952,     0.52052,     0.52152,     0.52252,     0.52352,     0.52452,     0.52553,     0.52653,     0.52753,\n",
            "           0.52853,     0.52953,     0.53053,     0.53153,     0.53253,     0.53353,     0.53453,     0.53554,     0.53654,     0.53754,     0.53854,     0.53954,     0.54054,     0.54154,     0.54254,     0.54354,     0.54454,     0.54555,     0.54655,     0.54755,     0.54855,     0.54955,     0.55055,     0.55155,\n",
            "           0.55255,     0.55355,     0.55455,     0.55556,     0.55656,     0.55756,     0.55856,     0.55956,     0.56056,     0.56156,     0.56256,     0.56356,     0.56456,     0.56557,     0.56657,     0.56757,     0.56857,     0.56957,     0.57057,     0.57157,     0.57257,     0.57357,     0.57457,     0.57558,\n",
            "           0.57658,     0.57758,     0.57858,     0.57958,     0.58058,     0.58158,     0.58258,     0.58358,     0.58458,     0.58559,     0.58659,     0.58759,     0.58859,     0.58959,     0.59059,     0.59159,     0.59259,     0.59359,     0.59459,      0.5956,      0.5966,      0.5976,      0.5986,      0.5996,\n",
            "            0.6006,      0.6016,      0.6026,      0.6036,      0.6046,     0.60561,     0.60661,     0.60761,     0.60861,     0.60961,     0.61061,     0.61161,     0.61261,     0.61361,     0.61461,     0.61562,     0.61662,     0.61762,     0.61862,     0.61962,     0.62062,     0.62162,     0.62262,     0.62362,\n",
            "           0.62462,     0.62563,     0.62663,     0.62763,     0.62863,     0.62963,     0.63063,     0.63163,     0.63263,     0.63363,     0.63463,     0.63564,     0.63664,     0.63764,     0.63864,     0.63964,     0.64064,     0.64164,     0.64264,     0.64364,     0.64464,     0.64565,     0.64665,     0.64765,\n",
            "           0.64865,     0.64965,     0.65065,     0.65165,     0.65265,     0.65365,     0.65465,     0.65566,     0.65666,     0.65766,     0.65866,     0.65966,     0.66066,     0.66166,     0.66266,     0.66366,     0.66466,     0.66567,     0.66667,     0.66767,     0.66867,     0.66967,     0.67067,     0.67167,\n",
            "           0.67267,     0.67367,     0.67467,     0.67568,     0.67668,     0.67768,     0.67868,     0.67968,     0.68068,     0.68168,     0.68268,     0.68368,     0.68468,     0.68569,     0.68669,     0.68769,     0.68869,     0.68969,     0.69069,     0.69169,     0.69269,     0.69369,     0.69469,      0.6957,\n",
            "            0.6967,      0.6977,      0.6987,      0.6997,      0.7007,      0.7017,      0.7027,      0.7037,      0.7047,     0.70571,     0.70671,     0.70771,     0.70871,     0.70971,     0.71071,     0.71171,     0.71271,     0.71371,     0.71471,     0.71572,     0.71672,     0.71772,     0.71872,     0.71972,\n",
            "           0.72072,     0.72172,     0.72272,     0.72372,     0.72472,     0.72573,     0.72673,     0.72773,     0.72873,     0.72973,     0.73073,     0.73173,     0.73273,     0.73373,     0.73473,     0.73574,     0.73674,     0.73774,     0.73874,     0.73974,     0.74074,     0.74174,     0.74274,     0.74374,\n",
            "           0.74474,     0.74575,     0.74675,     0.74775,     0.74875,     0.74975,     0.75075,     0.75175,     0.75275,     0.75375,     0.75475,     0.75576,     0.75676,     0.75776,     0.75876,     0.75976,     0.76076,     0.76176,     0.76276,     0.76376,     0.76476,     0.76577,     0.76677,     0.76777,\n",
            "           0.76877,     0.76977,     0.77077,     0.77177,     0.77277,     0.77377,     0.77477,     0.77578,     0.77678,     0.77778,     0.77878,     0.77978,     0.78078,     0.78178,     0.78278,     0.78378,     0.78478,     0.78579,     0.78679,     0.78779,     0.78879,     0.78979,     0.79079,     0.79179,\n",
            "           0.79279,     0.79379,     0.79479,      0.7958,      0.7968,      0.7978,      0.7988,      0.7998,      0.8008,      0.8018,      0.8028,      0.8038,      0.8048,     0.80581,     0.80681,     0.80781,     0.80881,     0.80981,     0.81081,     0.81181,     0.81281,     0.81381,     0.81481,     0.81582,\n",
            "           0.81682,     0.81782,     0.81882,     0.81982,     0.82082,     0.82182,     0.82282,     0.82382,     0.82482,     0.82583,     0.82683,     0.82783,     0.82883,     0.82983,     0.83083,     0.83183,     0.83283,     0.83383,     0.83483,     0.83584,     0.83684,     0.83784,     0.83884,     0.83984,\n",
            "           0.84084,     0.84184,     0.84284,     0.84384,     0.84484,     0.84585,     0.84685,     0.84785,     0.84885,     0.84985,     0.85085,     0.85185,     0.85285,     0.85385,     0.85485,     0.85586,     0.85686,     0.85786,     0.85886,     0.85986,     0.86086,     0.86186,     0.86286,     0.86386,\n",
            "           0.86486,     0.86587,     0.86687,     0.86787,     0.86887,     0.86987,     0.87087,     0.87187,     0.87287,     0.87387,     0.87487,     0.87588,     0.87688,     0.87788,     0.87888,     0.87988,     0.88088,     0.88188,     0.88288,     0.88388,     0.88488,     0.88589,     0.88689,     0.88789,\n",
            "           0.88889,     0.88989,     0.89089,     0.89189,     0.89289,     0.89389,     0.89489,      0.8959,      0.8969,      0.8979,      0.8989,      0.8999,      0.9009,      0.9019,      0.9029,      0.9039,      0.9049,     0.90591,     0.90691,     0.90791,     0.90891,     0.90991,     0.91091,     0.91191,\n",
            "           0.91291,     0.91391,     0.91491,     0.91592,     0.91692,     0.91792,     0.91892,     0.91992,     0.92092,     0.92192,     0.92292,     0.92392,     0.92492,     0.92593,     0.92693,     0.92793,     0.92893,     0.92993,     0.93093,     0.93193,     0.93293,     0.93393,     0.93493,     0.93594,\n",
            "           0.93694,     0.93794,     0.93894,     0.93994,     0.94094,     0.94194,     0.94294,     0.94394,     0.94494,     0.94595,     0.94695,     0.94795,     0.94895,     0.94995,     0.95095,     0.95195,     0.95295,     0.95395,     0.95495,     0.95596,     0.95696,     0.95796,     0.95896,     0.95996,\n",
            "           0.96096,     0.96196,     0.96296,     0.96396,     0.96496,     0.96597,     0.96697,     0.96797,     0.96897,     0.96997,     0.97097,     0.97197,     0.97297,     0.97397,     0.97497,     0.97598,     0.97698,     0.97798,     0.97898,     0.97998,     0.98098,     0.98198,     0.98298,     0.98398,\n",
            "           0.98498,     0.98599,     0.98699,     0.98799,     0.98899,     0.98999,     0.99099,     0.99199,     0.99299,     0.99399,     0.99499,       0.996,       0.997,       0.998,       0.999,           1]), array([[    0.53505,      0.5352,     0.71194,     0.79562,     0.83791,     0.87152,     0.89257,     0.90733,     0.91868,     0.92608,      0.9311,     0.93601,     0.94136,     0.94638,     0.94914,     0.95265,     0.95478,     0.95753,      0.9606,     0.96143,     0.96249,     0.96502,     0.96732,\n",
            "             0.9693,     0.97189,     0.97348,     0.97381,     0.97459,     0.97615,     0.97626,     0.97638,     0.97659,     0.97797,     0.97832,     0.97834,     0.97872,     0.97924,     0.97975,      0.9804,     0.98103,     0.98161,     0.98264,     0.98319,     0.98329,     0.98339,     0.98349,\n",
            "            0.98364,     0.98389,     0.98414,     0.98448,     0.98508,     0.98515,     0.98522,     0.98529,     0.98537,     0.98549,     0.98587,     0.98594,       0.986,     0.98607,     0.98614,     0.98622,     0.98637,     0.98652,     0.98667,     0.98682,     0.98698,     0.98732,     0.98759,\n",
            "            0.98804,     0.98848,     0.98855,     0.98862,     0.98869,     0.98876,     0.98883,     0.98892,     0.98901,      0.9891,     0.98919,     0.98928,     0.98936,     0.98945,     0.98954,      0.9897,     0.99017,     0.99041,     0.99049,     0.99056,     0.99063,     0.99071,     0.99077,\n",
            "            0.99083,     0.99088,     0.99094,     0.99099,     0.99104,      0.9911,     0.99116,     0.99122,     0.99128,     0.99135,     0.99141,     0.99147,     0.99153,     0.99158,     0.99164,     0.99169,     0.99174,      0.9918,     0.99185,     0.99191,     0.99202,     0.99212,     0.99223,\n",
            "            0.99229,     0.99231,     0.99234,     0.99236,     0.99239,     0.99241,     0.99243,     0.99246,     0.99248,     0.99251,     0.99253,     0.99255,     0.99258,      0.9926,     0.99262,     0.99265,     0.99266,     0.99266,     0.99266,     0.99266,     0.99266,     0.99266,     0.99266,\n",
            "             0.9927,     0.99275,     0.99279,     0.99283,     0.99288,     0.99292,     0.99296,     0.99301,     0.99305,     0.99308,      0.9931,     0.99313,     0.99316,     0.99319,     0.99322,     0.99324,     0.99327,      0.9933,     0.99333,     0.99336,     0.99339,     0.99341,     0.99343,\n",
            "            0.99345,     0.99347,     0.99348,      0.9935,     0.99351,     0.99353,     0.99354,     0.99356,     0.99357,     0.99359,      0.9936,     0.99362,     0.99363,     0.99365,     0.99367,     0.99368,      0.9937,     0.99371,     0.99373,     0.99374,     0.99376,     0.99377,     0.99379,\n",
            "             0.9938,     0.99383,     0.99385,     0.99388,     0.99391,     0.99394,     0.99397,       0.994,     0.99402,     0.99405,     0.99408,     0.99411,     0.99414,     0.99416,     0.99419,     0.99419,     0.99419,     0.99419,     0.99419,     0.99419,     0.99419,     0.99419,     0.99419,\n",
            "            0.99419,     0.99419,     0.99419,     0.99419,     0.99419,     0.99419,     0.99419,     0.99419,     0.99419,     0.99419,     0.99419,     0.99419,     0.99419,     0.99419,     0.99419,     0.99419,     0.99419,     0.99419,      0.9942,     0.99422,     0.99424,     0.99426,     0.99427,\n",
            "            0.99429,     0.99431,     0.99433,     0.99434,     0.99436,     0.99438,      0.9944,     0.99441,     0.99443,     0.99445,     0.99447,     0.99448,      0.9945,     0.99452,     0.99454,     0.99455,     0.99457,     0.99465,     0.99476,     0.99486,     0.99496,     0.99497,     0.99498,\n",
            "              0.995,     0.99501,     0.99502,     0.99503,     0.99504,     0.99505,     0.99506,     0.99507,     0.99508,     0.99509,      0.9951,     0.99511,     0.99512,     0.99513,     0.99514,     0.99515,     0.99517,     0.99518,     0.99519,      0.9952,     0.99521,     0.99522,     0.99523,\n",
            "            0.99524,     0.99525,     0.99526,     0.99527,     0.99528,     0.99529,      0.9953,     0.99531,     0.99533,     0.99534,     0.99535,     0.99538,     0.99543,     0.99547,     0.99551,     0.99555,      0.9956,     0.99564,     0.99568,     0.99573,     0.99581,      0.9959,     0.99599,\n",
            "            0.99608,     0.99613,     0.99614,     0.99615,     0.99616,     0.99617,     0.99618,     0.99619,      0.9962,     0.99621,     0.99622,     0.99623,     0.99624,     0.99625,     0.99627,     0.99628,     0.99629,      0.9963,     0.99631,     0.99632,     0.99633,     0.99634,     0.99635,\n",
            "            0.99636,     0.99637,     0.99638,     0.99639,      0.9964,     0.99641,     0.99642,     0.99644,     0.99645,     0.99646,     0.99647,     0.99648,     0.99649,      0.9965,     0.99651,     0.99651,     0.99651,     0.99651,     0.99651,     0.99651,     0.99651,     0.99651,     0.99651,\n",
            "            0.99651,     0.99651,     0.99651,     0.99651,     0.99651,     0.99651,     0.99651,     0.99651,     0.99651,     0.99651,     0.99651,     0.99651,     0.99651,     0.99653,     0.99654,     0.99656,     0.99657,     0.99659,      0.9966,     0.99662,     0.99663,     0.99665,     0.99666,\n",
            "            0.99668,     0.99669,     0.99671,     0.99672,     0.99674,     0.99676,     0.99677,     0.99679,      0.9968,     0.99682,     0.99683,     0.99685,     0.99686,     0.99688,     0.99689,     0.99693,     0.99696,     0.99699,     0.99703,     0.99706,     0.99709,     0.99713,     0.99716,\n",
            "            0.99719,     0.99722,     0.99726,     0.99728,     0.99729,      0.9973,     0.99731,     0.99732,     0.99733,     0.99734,     0.99735,     0.99735,     0.99736,     0.99737,     0.99738,     0.99739,      0.9974,     0.99741,     0.99742,     0.99742,     0.99743,     0.99744,     0.99745,\n",
            "            0.99746,     0.99747,     0.99748,     0.99749,      0.9975,      0.9975,     0.99751,     0.99752,     0.99753,     0.99754,     0.99755,     0.99756,     0.99757,     0.99757,     0.99758,     0.99759,      0.9976,     0.99761,     0.99762,     0.99763,     0.99764,     0.99765,     0.99765,\n",
            "            0.99766,     0.99767,     0.99767,     0.99767,     0.99767,     0.99767,     0.99767,     0.99767,     0.99767,     0.99767,     0.99767,     0.99767,     0.99767,     0.99767,     0.99767,     0.99767,     0.99767,     0.99767,     0.99767,     0.99767,     0.99767,     0.99767,     0.99767,\n",
            "            0.99767,     0.99767,     0.99767,     0.99767,     0.99767,     0.99767,     0.99767,     0.99767,     0.99767,     0.99767,     0.99767,     0.99767,     0.99767,     0.99767,     0.99767,     0.99767,     0.99767,     0.99767,     0.99767,     0.99767,     0.99767,     0.99767,     0.99767,\n",
            "            0.99767,     0.99767,     0.99767,     0.99767,     0.99767,     0.99767,     0.99767,     0.99767,     0.99767,     0.99767,     0.99767,     0.99767,     0.99767,     0.99767,     0.99767,     0.99767,     0.99767,     0.99767,     0.99767,     0.99767,     0.99767,     0.99767,     0.99767,\n",
            "            0.99767,     0.99767,     0.99767,     0.99767,     0.99767,     0.99767,     0.99767,     0.99767,     0.99767,     0.99767,     0.99767,     0.99767,     0.99767,     0.99767,     0.99767,     0.99767,     0.99767,     0.99767,     0.99767,     0.99767,     0.99767,     0.99767,     0.99767,\n",
            "            0.99767,     0.99767,     0.99767,     0.99767,     0.99767,     0.99767,     0.99767,     0.99768,     0.99769,      0.9977,     0.99771,     0.99772,     0.99773,     0.99775,     0.99776,     0.99777,     0.99778,     0.99779,      0.9978,     0.99781,     0.99782,     0.99784,     0.99785,\n",
            "            0.99786,     0.99787,     0.99788,     0.99789,      0.9979,     0.99791,     0.99792,     0.99794,     0.99795,     0.99796,     0.99797,     0.99798,     0.99799,       0.998,     0.99801,     0.99803,     0.99804,     0.99805,     0.99805,     0.99805,     0.99805,     0.99805,     0.99805,\n",
            "            0.99805,     0.99805,     0.99805,     0.99805,     0.99805,     0.99805,     0.99805,     0.99805,     0.99805,     0.99805,     0.99805,     0.99805,     0.99805,     0.99805,     0.99805,     0.99805,     0.99805,     0.99805,     0.99805,     0.99805,     0.99809,     0.99816,     0.99823,\n",
            "             0.9983,     0.99837,     0.99844,     0.99846,     0.99847,     0.99849,      0.9985,     0.99852,     0.99853,     0.99855,     0.99856,     0.99858,      0.9986,     0.99861,     0.99863,     0.99864,     0.99866,     0.99867,     0.99869,      0.9987,     0.99872,     0.99873,     0.99875,\n",
            "            0.99876,     0.99878,     0.99879,     0.99881,     0.99882,     0.99895,     0.99915,     0.99928,     0.99936,     0.99945,     0.99954,     0.99961,     0.99961,     0.99961,     0.99961,     0.99961,     0.99961,     0.99961,     0.99961,     0.99961,     0.99961,     0.99961,     0.99961,\n",
            "            0.99961,     0.99961,     0.99961,     0.99961,     0.99961,     0.99961,     0.99961,     0.99961,     0.99961,     0.99961,     0.99961,     0.99961,     0.99961,     0.99961,     0.99961,     0.99961,     0.99961,     0.99961,     0.99961,     0.99961,     0.99961,     0.99961,     0.99961,\n",
            "            0.99961,     0.99961,     0.99961,     0.99961,     0.99961,     0.99961,     0.99961,     0.99961,     0.99961,     0.99961,     0.99961,     0.99961,     0.99961,     0.99961,     0.99961,     0.99961,     0.99961,     0.99961,     0.99961,     0.99971,     0.99981,     0.99992,           1,\n",
            "                  1,           1,           1,           1,           1,           1,           1,           1,           1,           1,           1,           1,           1,           1,           1,           1,           1,           1,           1,           1,           1,           1,           1,\n",
            "                  1,           1,           1,           1,           1,           1,           1,           1,           1,           1,           1,           1,           1,           1,           1,           1,           1,           1,           1,           1,           1,           1,           1,\n",
            "                  1,           1,           1,           1,           1,           1,           1,           1,           1,           1,           1,           1,           1,           1,           1,           1,           1,           1,           1,           1,           1,           1,           1,\n",
            "                  1,           1,           1,           1,           1,           1,           1,           1,           1,           1,           1,           1,           1,           1,           1,           1,           1,           1,           1,           1,           1,           1,           1,\n",
            "                  1,           1,           1,           1,           1,           1,           1,           1,           1,           1,           1,           1,           1,           1,           1,           1,           1,           1,           1,           1,           1,           1,           1,\n",
            "                  1,           1,           1,           1,           1,           1,           1,           1,           1,           1,           1,           1,           1,           1,           1,           1,           1,           1,           1,           1,           1,           1,           1,\n",
            "                  1,           1,           1,           1,           1,           1,           1,           1,           1,           1,           1,           1,           1,           1,           1,           1,           1,           1,           1,           1,           1,           1,           1,\n",
            "                  1,           1,           1,           1,           1,           1,           1,           1,           1,           1,           1,           1,           1,           1,           1,           1,           1,           1,           1,           1,           1,           1,           1,\n",
            "                  1,           1,           1,           1,           1,           1,           1,           1,           1,           1,           1,           1,           1,           1,           1,           1,           1,           1,           1,           1,           1,           1,           1,\n",
            "                  1,           1,           1,           1,           1,           1,           1,           1,           1,           1,           1,           1,           1,           1,           1,           1,           1,           1,           1,           1,           1,           1,           1,\n",
            "                  1,           1,           1,           1,           1,           1,           1,           1,           1,           1,           1,           1,           1,           1,           1,           1,           1,           1,           1,           1,           1,           1,           1,\n",
            "                  1,           1,           1,           1,           1,           1,           1,           1,           1,           1,           1,           1,           1,           1,           1,           1,           1,           1,           1,           1,           1,           1,           1,\n",
            "                  1,           1,           1,           1,           1,           1,           1,           1,           1,           1,           1,           1,           1,           1,           1,           1,           1,           1,           1,           1,           1,           1,           1,\n",
            "                  1,           1,           1,           1,           1,           1,           1,           1,           1,           1,           1]]), 'Confidence', 'Precision'], [array([          0,    0.001001,    0.002002,    0.003003,    0.004004,    0.005005,    0.006006,    0.007007,    0.008008,    0.009009,     0.01001,    0.011011,    0.012012,    0.013013,    0.014014,    0.015015,    0.016016,    0.017017,    0.018018,    0.019019,     0.02002,    0.021021,    0.022022,    0.023023,\n",
            "          0.024024,    0.025025,    0.026026,    0.027027,    0.028028,    0.029029,     0.03003,    0.031031,    0.032032,    0.033033,    0.034034,    0.035035,    0.036036,    0.037037,    0.038038,    0.039039,     0.04004,    0.041041,    0.042042,    0.043043,    0.044044,    0.045045,    0.046046,    0.047047,\n",
            "          0.048048,    0.049049,     0.05005,    0.051051,    0.052052,    0.053053,    0.054054,    0.055055,    0.056056,    0.057057,    0.058058,    0.059059,     0.06006,    0.061061,    0.062062,    0.063063,    0.064064,    0.065065,    0.066066,    0.067067,    0.068068,    0.069069,     0.07007,    0.071071,\n",
            "          0.072072,    0.073073,    0.074074,    0.075075,    0.076076,    0.077077,    0.078078,    0.079079,     0.08008,    0.081081,    0.082082,    0.083083,    0.084084,    0.085085,    0.086086,    0.087087,    0.088088,    0.089089,     0.09009,    0.091091,    0.092092,    0.093093,    0.094094,    0.095095,\n",
            "          0.096096,    0.097097,    0.098098,    0.099099,      0.1001,      0.1011,      0.1021,      0.1031,      0.1041,     0.10511,     0.10611,     0.10711,     0.10811,     0.10911,     0.11011,     0.11111,     0.11211,     0.11311,     0.11411,     0.11512,     0.11612,     0.11712,     0.11812,     0.11912,\n",
            "           0.12012,     0.12112,     0.12212,     0.12312,     0.12412,     0.12513,     0.12613,     0.12713,     0.12813,     0.12913,     0.13013,     0.13113,     0.13213,     0.13313,     0.13413,     0.13514,     0.13614,     0.13714,     0.13814,     0.13914,     0.14014,     0.14114,     0.14214,     0.14314,\n",
            "           0.14414,     0.14515,     0.14615,     0.14715,     0.14815,     0.14915,     0.15015,     0.15115,     0.15215,     0.15315,     0.15415,     0.15516,     0.15616,     0.15716,     0.15816,     0.15916,     0.16016,     0.16116,     0.16216,     0.16316,     0.16416,     0.16517,     0.16617,     0.16717,\n",
            "           0.16817,     0.16917,     0.17017,     0.17117,     0.17217,     0.17317,     0.17417,     0.17518,     0.17618,     0.17718,     0.17818,     0.17918,     0.18018,     0.18118,     0.18218,     0.18318,     0.18418,     0.18519,     0.18619,     0.18719,     0.18819,     0.18919,     0.19019,     0.19119,\n",
            "           0.19219,     0.19319,     0.19419,      0.1952,      0.1962,      0.1972,      0.1982,      0.1992,      0.2002,      0.2012,      0.2022,      0.2032,      0.2042,     0.20521,     0.20621,     0.20721,     0.20821,     0.20921,     0.21021,     0.21121,     0.21221,     0.21321,     0.21421,     0.21522,\n",
            "           0.21622,     0.21722,     0.21822,     0.21922,     0.22022,     0.22122,     0.22222,     0.22322,     0.22422,     0.22523,     0.22623,     0.22723,     0.22823,     0.22923,     0.23023,     0.23123,     0.23223,     0.23323,     0.23423,     0.23524,     0.23624,     0.23724,     0.23824,     0.23924,\n",
            "           0.24024,     0.24124,     0.24224,     0.24324,     0.24424,     0.24525,     0.24625,     0.24725,     0.24825,     0.24925,     0.25025,     0.25125,     0.25225,     0.25325,     0.25425,     0.25526,     0.25626,     0.25726,     0.25826,     0.25926,     0.26026,     0.26126,     0.26226,     0.26326,\n",
            "           0.26426,     0.26527,     0.26627,     0.26727,     0.26827,     0.26927,     0.27027,     0.27127,     0.27227,     0.27327,     0.27427,     0.27528,     0.27628,     0.27728,     0.27828,     0.27928,     0.28028,     0.28128,     0.28228,     0.28328,     0.28428,     0.28529,     0.28629,     0.28729,\n",
            "           0.28829,     0.28929,     0.29029,     0.29129,     0.29229,     0.29329,     0.29429,      0.2953,      0.2963,      0.2973,      0.2983,      0.2993,      0.3003,      0.3013,      0.3023,      0.3033,      0.3043,     0.30531,     0.30631,     0.30731,     0.30831,     0.30931,     0.31031,     0.31131,\n",
            "           0.31231,     0.31331,     0.31431,     0.31532,     0.31632,     0.31732,     0.31832,     0.31932,     0.32032,     0.32132,     0.32232,     0.32332,     0.32432,     0.32533,     0.32633,     0.32733,     0.32833,     0.32933,     0.33033,     0.33133,     0.33233,     0.33333,     0.33433,     0.33534,\n",
            "           0.33634,     0.33734,     0.33834,     0.33934,     0.34034,     0.34134,     0.34234,     0.34334,     0.34434,     0.34535,     0.34635,     0.34735,     0.34835,     0.34935,     0.35035,     0.35135,     0.35235,     0.35335,     0.35435,     0.35536,     0.35636,     0.35736,     0.35836,     0.35936,\n",
            "           0.36036,     0.36136,     0.36236,     0.36336,     0.36436,     0.36537,     0.36637,     0.36737,     0.36837,     0.36937,     0.37037,     0.37137,     0.37237,     0.37337,     0.37437,     0.37538,     0.37638,     0.37738,     0.37838,     0.37938,     0.38038,     0.38138,     0.38238,     0.38338,\n",
            "           0.38438,     0.38539,     0.38639,     0.38739,     0.38839,     0.38939,     0.39039,     0.39139,     0.39239,     0.39339,     0.39439,      0.3954,      0.3964,      0.3974,      0.3984,      0.3994,      0.4004,      0.4014,      0.4024,      0.4034,      0.4044,     0.40541,     0.40641,     0.40741,\n",
            "           0.40841,     0.40941,     0.41041,     0.41141,     0.41241,     0.41341,     0.41441,     0.41542,     0.41642,     0.41742,     0.41842,     0.41942,     0.42042,     0.42142,     0.42242,     0.42342,     0.42442,     0.42543,     0.42643,     0.42743,     0.42843,     0.42943,     0.43043,     0.43143,\n",
            "           0.43243,     0.43343,     0.43443,     0.43544,     0.43644,     0.43744,     0.43844,     0.43944,     0.44044,     0.44144,     0.44244,     0.44344,     0.44444,     0.44545,     0.44645,     0.44745,     0.44845,     0.44945,     0.45045,     0.45145,     0.45245,     0.45345,     0.45445,     0.45546,\n",
            "           0.45646,     0.45746,     0.45846,     0.45946,     0.46046,     0.46146,     0.46246,     0.46346,     0.46446,     0.46547,     0.46647,     0.46747,     0.46847,     0.46947,     0.47047,     0.47147,     0.47247,     0.47347,     0.47447,     0.47548,     0.47648,     0.47748,     0.47848,     0.47948,\n",
            "           0.48048,     0.48148,     0.48248,     0.48348,     0.48448,     0.48549,     0.48649,     0.48749,     0.48849,     0.48949,     0.49049,     0.49149,     0.49249,     0.49349,     0.49449,      0.4955,      0.4965,      0.4975,      0.4985,      0.4995,      0.5005,      0.5015,      0.5025,      0.5035,\n",
            "            0.5045,     0.50551,     0.50651,     0.50751,     0.50851,     0.50951,     0.51051,     0.51151,     0.51251,     0.51351,     0.51451,     0.51552,     0.51652,     0.51752,     0.51852,     0.51952,     0.52052,     0.52152,     0.52252,     0.52352,     0.52452,     0.52553,     0.52653,     0.52753,\n",
            "           0.52853,     0.52953,     0.53053,     0.53153,     0.53253,     0.53353,     0.53453,     0.53554,     0.53654,     0.53754,     0.53854,     0.53954,     0.54054,     0.54154,     0.54254,     0.54354,     0.54454,     0.54555,     0.54655,     0.54755,     0.54855,     0.54955,     0.55055,     0.55155,\n",
            "           0.55255,     0.55355,     0.55455,     0.55556,     0.55656,     0.55756,     0.55856,     0.55956,     0.56056,     0.56156,     0.56256,     0.56356,     0.56456,     0.56557,     0.56657,     0.56757,     0.56857,     0.56957,     0.57057,     0.57157,     0.57257,     0.57357,     0.57457,     0.57558,\n",
            "           0.57658,     0.57758,     0.57858,     0.57958,     0.58058,     0.58158,     0.58258,     0.58358,     0.58458,     0.58559,     0.58659,     0.58759,     0.58859,     0.58959,     0.59059,     0.59159,     0.59259,     0.59359,     0.59459,      0.5956,      0.5966,      0.5976,      0.5986,      0.5996,\n",
            "            0.6006,      0.6016,      0.6026,      0.6036,      0.6046,     0.60561,     0.60661,     0.60761,     0.60861,     0.60961,     0.61061,     0.61161,     0.61261,     0.61361,     0.61461,     0.61562,     0.61662,     0.61762,     0.61862,     0.61962,     0.62062,     0.62162,     0.62262,     0.62362,\n",
            "           0.62462,     0.62563,     0.62663,     0.62763,     0.62863,     0.62963,     0.63063,     0.63163,     0.63263,     0.63363,     0.63463,     0.63564,     0.63664,     0.63764,     0.63864,     0.63964,     0.64064,     0.64164,     0.64264,     0.64364,     0.64464,     0.64565,     0.64665,     0.64765,\n",
            "           0.64865,     0.64965,     0.65065,     0.65165,     0.65265,     0.65365,     0.65465,     0.65566,     0.65666,     0.65766,     0.65866,     0.65966,     0.66066,     0.66166,     0.66266,     0.66366,     0.66466,     0.66567,     0.66667,     0.66767,     0.66867,     0.66967,     0.67067,     0.67167,\n",
            "           0.67267,     0.67367,     0.67467,     0.67568,     0.67668,     0.67768,     0.67868,     0.67968,     0.68068,     0.68168,     0.68268,     0.68368,     0.68468,     0.68569,     0.68669,     0.68769,     0.68869,     0.68969,     0.69069,     0.69169,     0.69269,     0.69369,     0.69469,      0.6957,\n",
            "            0.6967,      0.6977,      0.6987,      0.6997,      0.7007,      0.7017,      0.7027,      0.7037,      0.7047,     0.70571,     0.70671,     0.70771,     0.70871,     0.70971,     0.71071,     0.71171,     0.71271,     0.71371,     0.71471,     0.71572,     0.71672,     0.71772,     0.71872,     0.71972,\n",
            "           0.72072,     0.72172,     0.72272,     0.72372,     0.72472,     0.72573,     0.72673,     0.72773,     0.72873,     0.72973,     0.73073,     0.73173,     0.73273,     0.73373,     0.73473,     0.73574,     0.73674,     0.73774,     0.73874,     0.73974,     0.74074,     0.74174,     0.74274,     0.74374,\n",
            "           0.74474,     0.74575,     0.74675,     0.74775,     0.74875,     0.74975,     0.75075,     0.75175,     0.75275,     0.75375,     0.75475,     0.75576,     0.75676,     0.75776,     0.75876,     0.75976,     0.76076,     0.76176,     0.76276,     0.76376,     0.76476,     0.76577,     0.76677,     0.76777,\n",
            "           0.76877,     0.76977,     0.77077,     0.77177,     0.77277,     0.77377,     0.77477,     0.77578,     0.77678,     0.77778,     0.77878,     0.77978,     0.78078,     0.78178,     0.78278,     0.78378,     0.78478,     0.78579,     0.78679,     0.78779,     0.78879,     0.78979,     0.79079,     0.79179,\n",
            "           0.79279,     0.79379,     0.79479,      0.7958,      0.7968,      0.7978,      0.7988,      0.7998,      0.8008,      0.8018,      0.8028,      0.8038,      0.8048,     0.80581,     0.80681,     0.80781,     0.80881,     0.80981,     0.81081,     0.81181,     0.81281,     0.81381,     0.81481,     0.81582,\n",
            "           0.81682,     0.81782,     0.81882,     0.81982,     0.82082,     0.82182,     0.82282,     0.82382,     0.82482,     0.82583,     0.82683,     0.82783,     0.82883,     0.82983,     0.83083,     0.83183,     0.83283,     0.83383,     0.83483,     0.83584,     0.83684,     0.83784,     0.83884,     0.83984,\n",
            "           0.84084,     0.84184,     0.84284,     0.84384,     0.84484,     0.84585,     0.84685,     0.84785,     0.84885,     0.84985,     0.85085,     0.85185,     0.85285,     0.85385,     0.85485,     0.85586,     0.85686,     0.85786,     0.85886,     0.85986,     0.86086,     0.86186,     0.86286,     0.86386,\n",
            "           0.86486,     0.86587,     0.86687,     0.86787,     0.86887,     0.86987,     0.87087,     0.87187,     0.87287,     0.87387,     0.87487,     0.87588,     0.87688,     0.87788,     0.87888,     0.87988,     0.88088,     0.88188,     0.88288,     0.88388,     0.88488,     0.88589,     0.88689,     0.88789,\n",
            "           0.88889,     0.88989,     0.89089,     0.89189,     0.89289,     0.89389,     0.89489,      0.8959,      0.8969,      0.8979,      0.8989,      0.8999,      0.9009,      0.9019,      0.9029,      0.9039,      0.9049,     0.90591,     0.90691,     0.90791,     0.90891,     0.90991,     0.91091,     0.91191,\n",
            "           0.91291,     0.91391,     0.91491,     0.91592,     0.91692,     0.91792,     0.91892,     0.91992,     0.92092,     0.92192,     0.92292,     0.92392,     0.92492,     0.92593,     0.92693,     0.92793,     0.92893,     0.92993,     0.93093,     0.93193,     0.93293,     0.93393,     0.93493,     0.93594,\n",
            "           0.93694,     0.93794,     0.93894,     0.93994,     0.94094,     0.94194,     0.94294,     0.94394,     0.94494,     0.94595,     0.94695,     0.94795,     0.94895,     0.94995,     0.95095,     0.95195,     0.95295,     0.95395,     0.95495,     0.95596,     0.95696,     0.95796,     0.95896,     0.95996,\n",
            "           0.96096,     0.96196,     0.96296,     0.96396,     0.96496,     0.96597,     0.96697,     0.96797,     0.96897,     0.96997,     0.97097,     0.97197,     0.97297,     0.97397,     0.97497,     0.97598,     0.97698,     0.97798,     0.97898,     0.97998,     0.98098,     0.98198,     0.98298,     0.98398,\n",
            "           0.98498,     0.98599,     0.98699,     0.98799,     0.98899,     0.98999,     0.99099,     0.99199,     0.99299,     0.99399,     0.99499,       0.996,       0.997,       0.998,       0.999,           1]), array([[          1,           1,           1,           1,           1,           1,           1,           1,           1,           1,           1,           1,           1,           1,           1,           1,           1,           1,           1,           1,           1,           1,           1,\n",
            "                  1,           1,           1,           1,           1,           1,           1,           1,           1,           1,     0.99994,     0.99961,     0.99961,     0.99961,     0.99961,     0.99961,     0.99961,     0.99961,     0.99961,     0.99961,     0.99961,     0.99961,     0.99961,\n",
            "            0.99961,     0.99961,     0.99961,     0.99961,     0.99961,     0.99961,     0.99961,     0.99961,     0.99961,     0.99961,     0.99961,     0.99961,     0.99961,     0.99961,     0.99961,     0.99961,     0.99961,     0.99961,     0.99961,     0.99961,     0.99961,     0.99961,     0.99922,\n",
            "            0.99922,     0.99922,     0.99922,     0.99922,     0.99922,     0.99922,     0.99922,     0.99922,     0.99922,     0.99922,     0.99922,     0.99922,     0.99922,     0.99922,     0.99922,     0.99922,     0.99922,     0.99922,     0.99922,     0.99922,     0.99922,     0.99922,     0.99922,\n",
            "            0.99922,     0.99922,     0.99922,     0.99922,     0.99922,     0.99922,     0.99922,     0.99922,     0.99922,     0.99922,     0.99922,     0.99922,     0.99922,     0.99922,     0.99922,     0.99922,     0.99922,     0.99922,     0.99922,     0.99922,     0.99922,     0.99922,     0.99922,\n",
            "            0.99922,     0.99922,     0.99922,     0.99922,     0.99922,     0.99922,     0.99922,     0.99922,     0.99922,     0.99922,     0.99922,     0.99922,     0.99922,     0.99922,     0.99922,     0.99922,      0.9992,     0.99913,     0.99907,     0.99901,     0.99895,     0.99889,     0.99883,\n",
            "            0.99883,     0.99883,     0.99883,     0.99883,     0.99883,     0.99883,     0.99883,     0.99883,     0.99883,     0.99883,     0.99883,     0.99883,     0.99883,     0.99883,     0.99883,     0.99883,     0.99883,     0.99883,     0.99883,     0.99883,     0.99883,     0.99883,     0.99883,\n",
            "            0.99883,     0.99883,     0.99883,     0.99883,     0.99883,     0.99883,     0.99883,     0.99883,     0.99883,     0.99883,     0.99883,     0.99883,     0.99883,     0.99883,     0.99883,     0.99883,     0.99883,     0.99883,     0.99883,     0.99883,     0.99883,     0.99883,     0.99883,\n",
            "            0.99883,     0.99883,     0.99883,     0.99883,     0.99883,     0.99883,     0.99883,     0.99883,     0.99883,     0.99883,     0.99883,     0.99883,     0.99883,     0.99883,     0.99883,     0.99882,     0.99881,     0.99879,     0.99878,     0.99876,     0.99875,     0.99873,     0.99872,\n",
            "             0.9987,     0.99869,     0.99867,     0.99866,     0.99864,     0.99863,     0.99861,      0.9986,     0.99858,     0.99857,     0.99855,     0.99854,     0.99853,     0.99851,      0.9985,     0.99848,     0.99847,     0.99845,     0.99844,     0.99844,     0.99844,     0.99844,     0.99844,\n",
            "            0.99844,     0.99844,     0.99844,     0.99844,     0.99844,     0.99844,     0.99844,     0.99844,     0.99844,     0.99844,     0.99844,     0.99844,     0.99844,     0.99844,     0.99844,     0.99844,     0.99844,     0.99844,     0.99844,     0.99844,     0.99844,     0.99844,     0.99844,\n",
            "            0.99844,     0.99844,     0.99844,     0.99844,     0.99844,     0.99844,     0.99844,     0.99844,     0.99844,     0.99844,     0.99844,     0.99844,     0.99844,     0.99844,     0.99844,     0.99844,     0.99844,     0.99844,     0.99844,     0.99844,     0.99844,     0.99844,     0.99844,\n",
            "            0.99844,     0.99844,     0.99844,     0.99844,     0.99844,     0.99844,     0.99844,     0.99844,     0.99844,     0.99844,     0.99844,     0.99844,     0.99844,     0.99844,     0.99844,     0.99844,     0.99844,     0.99844,     0.99844,     0.99844,     0.99844,     0.99844,     0.99844,\n",
            "            0.99844,     0.99844,     0.99844,     0.99844,     0.99844,     0.99844,     0.99844,     0.99844,     0.99844,     0.99844,     0.99844,     0.99844,     0.99844,     0.99844,     0.99844,     0.99844,     0.99844,     0.99844,     0.99844,     0.99844,     0.99844,     0.99844,     0.99844,\n",
            "            0.99844,     0.99844,     0.99844,     0.99844,     0.99844,     0.99844,     0.99844,     0.99844,     0.99844,     0.99844,     0.99844,     0.99844,     0.99844,     0.99844,     0.99844,     0.99842,      0.9984,     0.99839,     0.99837,     0.99835,     0.99833,     0.99831,     0.99829,\n",
            "            0.99827,     0.99826,     0.99824,     0.99822,      0.9982,     0.99818,     0.99816,     0.99814,     0.99813,     0.99811,     0.99809,     0.99807,     0.99806,     0.99806,     0.99806,     0.99806,     0.99806,     0.99806,     0.99806,     0.99806,     0.99806,     0.99806,     0.99806,\n",
            "            0.99806,     0.99806,     0.99806,     0.99806,     0.99806,     0.99806,     0.99806,     0.99806,     0.99806,     0.99806,     0.99806,     0.99806,     0.99806,     0.99806,     0.99806,     0.99806,     0.99806,     0.99806,     0.99806,     0.99806,     0.99806,     0.99806,     0.99806,\n",
            "            0.99806,     0.99806,     0.99806,     0.99806,     0.99806,     0.99806,     0.99806,     0.99806,     0.99806,     0.99806,     0.99806,     0.99806,     0.99806,     0.99806,     0.99806,     0.99806,     0.99806,     0.99806,     0.99806,     0.99806,     0.99806,     0.99806,     0.99806,\n",
            "            0.99806,     0.99806,     0.99806,     0.99806,     0.99806,     0.99806,     0.99806,     0.99806,     0.99806,     0.99806,     0.99806,     0.99806,     0.99806,     0.99806,     0.99806,     0.99806,     0.99806,     0.99806,     0.99806,     0.99806,     0.99806,     0.99806,     0.99806,\n",
            "            0.99806,     0.99804,     0.99801,     0.99798,     0.99794,     0.99791,     0.99788,     0.99785,     0.99781,     0.99778,     0.99775,     0.99771,     0.99768,     0.99766,     0.99766,     0.99765,     0.99765,     0.99764,     0.99763,     0.99763,     0.99762,     0.99761,     0.99761,\n",
            "             0.9976,      0.9976,     0.99759,     0.99758,     0.99758,     0.99757,     0.99756,     0.99756,     0.99755,     0.99755,     0.99754,     0.99753,     0.99753,     0.99752,     0.99751,     0.99751,      0.9975,      0.9975,     0.99749,     0.99748,     0.99748,     0.99747,     0.99746,\n",
            "            0.99746,     0.99745,     0.99745,     0.99744,     0.99743,     0.99743,     0.99742,     0.99741,     0.99741,      0.9974,      0.9974,     0.99739,     0.99738,     0.99738,     0.99737,     0.99736,     0.99736,     0.99735,     0.99735,     0.99734,     0.99733,     0.99733,     0.99732,\n",
            "            0.99731,     0.99731,      0.9973,      0.9973,     0.99729,     0.99728,     0.99727,     0.99726,     0.99724,     0.99722,     0.99721,     0.99719,     0.99717,     0.99716,     0.99714,     0.99712,     0.99711,     0.99709,     0.99707,     0.99705,     0.99704,     0.99702,       0.997,\n",
            "            0.99699,     0.99697,     0.99695,     0.99694,     0.99692,      0.9969,     0.99689,     0.99689,     0.99689,     0.99689,     0.99689,     0.99689,     0.99689,     0.99689,     0.99689,     0.99689,     0.99689,     0.99689,     0.99689,     0.99689,     0.99689,     0.99689,     0.99689,\n",
            "            0.99689,     0.99689,     0.99689,     0.99689,     0.99689,     0.99689,     0.99689,     0.99689,     0.99689,     0.99689,     0.99689,     0.99689,     0.99689,     0.99689,     0.99689,     0.99689,     0.99689,     0.99689,     0.99688,     0.99687,     0.99685,     0.99684,     0.99682,\n",
            "             0.9968,     0.99679,     0.99677,     0.99676,     0.99674,     0.99673,     0.99671,      0.9967,     0.99668,     0.99666,     0.99665,     0.99663,     0.99662,      0.9966,     0.99659,     0.99657,     0.99656,     0.99654,     0.99652,     0.99651,      0.9965,      0.9965,      0.9965,\n",
            "             0.9965,      0.9965,      0.9965,      0.9965,      0.9965,      0.9965,      0.9965,      0.9965,      0.9965,      0.9965,      0.9965,      0.9965,      0.9965,      0.9965,      0.9965,      0.9965,      0.9965,      0.9965,      0.9965,      0.9965,      0.9965,      0.9965,      0.9965,\n",
            "             0.9965,      0.9965,      0.9965,      0.9965,      0.9965,      0.9965,      0.9965,      0.9965,      0.9965,      0.9965,      0.9965,     0.99626,      0.9961,     0.99609,     0.99608,     0.99607,     0.99606,     0.99605,     0.99603,     0.99602,     0.99601,       0.996,     0.99599,\n",
            "            0.99598,     0.99597,     0.99596,     0.99594,     0.99593,     0.99592,     0.99591,      0.9959,     0.99589,     0.99588,     0.99586,     0.99585,     0.99584,     0.99583,     0.99582,     0.99581,      0.9958,     0.99579,     0.99577,     0.99576,     0.99575,     0.99574,     0.99573,\n",
            "            0.99569,     0.99561,     0.99553,     0.99546,     0.99538,     0.99523,     0.99499,      0.9948,     0.99463,     0.99425,     0.99409,     0.99401,     0.99392,     0.99383,     0.99371,     0.99352,     0.99311,     0.99202,     0.99106,     0.99106,     0.99106,     0.99106,     0.99105,\n",
            "            0.99098,     0.99091,     0.99085,     0.99078,     0.99072,     0.99043,        0.99,     0.98956,     0.98943,     0.98935,     0.98927,     0.98919,     0.98911,     0.98893,     0.98874,     0.98849,     0.98809,     0.98706,     0.98674,     0.98616,     0.98587,     0.98571,     0.98554,\n",
            "            0.98538,     0.98521,     0.98474,     0.98321,     0.98296,     0.98274,     0.98254,     0.98122,     0.98073,     0.97975,     0.97956,     0.97938,     0.97919,     0.97901,     0.97819,     0.97794,     0.97731,     0.97683,     0.97602,     0.97498,     0.97415,     0.97315,     0.97293,\n",
            "            0.97181,     0.97108,     0.97009,     0.96793,     0.96601,     0.96456,     0.96404,     0.96266,     0.96246,     0.96111,     0.96052,     0.95882,     0.95688,     0.95587,     0.95496,     0.95273,      0.9506,     0.94785,     0.94588,     0.94481,     0.94345,     0.94072,      0.9383,\n",
            "            0.93511,     0.93228,     0.92946,     0.92582,     0.92359,     0.92109,     0.91663,     0.91227,      0.9089,     0.90679,     0.90402,     0.90191,     0.89916,     0.89462,     0.89031,     0.88818,     0.88391,     0.87813,     0.87213,     0.86634,     0.86215,     0.85564,     0.84632,\n",
            "            0.84065,     0.83529,     0.82462,     0.81647,     0.80913,     0.79759,     0.78475,      0.7751,     0.75905,     0.74506,     0.73101,     0.71811,     0.70606,     0.68484,      0.6643,      0.6471,     0.62215,     0.60213,     0.57989,     0.55527,     0.53444,     0.51004,     0.48198,\n",
            "            0.45456,     0.42936,      0.3979,     0.36864,     0.34199,     0.30941,     0.28589,     0.25825,     0.22974,      0.2033,     0.17507,     0.15021,     0.12919,     0.10736,    0.093014,    0.079626,    0.066955,    0.056844,    0.047976,    0.041639,    0.033752,    0.029185,     0.02173,\n",
            "           0.017102,    0.015087,    0.013375,    0.010801,   0.0090539,   0.0069169,   0.0066332,   0.0049856,   0.0044877,   0.0038145,   0.0029962,   0.0023109,   0.0021646,   0.0020182,   0.0010849,  0.00075239,  0.00068716,  0.00062193,   0.0005567,  0.00049147,  0.00042624,           0,           0,\n",
            "                  0,           0,           0,           0,           0,           0,           0,           0,           0,           0,           0,           0,           0,           0,           0,           0,           0,           0,           0,           0,           0,           0,           0,\n",
            "                  0,           0,           0,           0,           0,           0,           0,           0,           0,           0,           0,           0,           0,           0,           0,           0,           0,           0,           0,           0,           0,           0,           0,\n",
            "                  0,           0,           0,           0,           0,           0,           0,           0,           0,           0,           0,           0,           0,           0,           0,           0,           0,           0,           0,           0,           0,           0,           0,\n",
            "                  0,           0,           0,           0,           0,           0,           0,           0,           0,           0,           0,           0,           0,           0,           0,           0,           0,           0,           0,           0,           0,           0,           0,\n",
            "                  0,           0,           0,           0,           0,           0,           0,           0,           0,           0,           0,           0,           0,           0,           0,           0,           0,           0,           0,           0,           0,           0,           0,\n",
            "                  0,           0,           0,           0,           0,           0,           0,           0,           0,           0,           0,           0,           0,           0,           0,           0,           0,           0,           0,           0,           0,           0,           0,\n",
            "                  0,           0,           0,           0,           0,           0,           0,           0,           0,           0,           0]]), 'Confidence', 'Recall'], [array([          0,    0.001001,    0.002002,    0.003003,    0.004004,    0.005005,    0.006006,    0.007007,    0.008008,    0.009009,     0.01001,    0.011011,    0.012012,    0.013013,    0.014014,    0.015015,    0.016016,    0.017017,    0.018018,    0.019019,     0.02002,    0.021021,    0.022022,    0.023023,\n",
            "          0.024024,    0.025025,    0.026026,    0.027027,    0.028028,    0.029029,     0.03003,    0.031031,    0.032032,    0.033033,    0.034034,    0.035035,    0.036036,    0.037037,    0.038038,    0.039039,     0.04004,    0.041041,    0.042042,    0.043043,    0.044044,    0.045045,    0.046046,    0.047047,\n",
            "          0.048048,    0.049049,     0.05005,    0.051051,    0.052052,    0.053053,    0.054054,    0.055055,    0.056056,    0.057057,    0.058058,    0.059059,     0.06006,    0.061061,    0.062062,    0.063063,    0.064064,    0.065065,    0.066066,    0.067067,    0.068068,    0.069069,     0.07007,    0.071071,\n",
            "          0.072072,    0.073073,    0.074074,    0.075075,    0.076076,    0.077077,    0.078078,    0.079079,     0.08008,    0.081081,    0.082082,    0.083083,    0.084084,    0.085085,    0.086086,    0.087087,    0.088088,    0.089089,     0.09009,    0.091091,    0.092092,    0.093093,    0.094094,    0.095095,\n",
            "          0.096096,    0.097097,    0.098098,    0.099099,      0.1001,      0.1011,      0.1021,      0.1031,      0.1041,     0.10511,     0.10611,     0.10711,     0.10811,     0.10911,     0.11011,     0.11111,     0.11211,     0.11311,     0.11411,     0.11512,     0.11612,     0.11712,     0.11812,     0.11912,\n",
            "           0.12012,     0.12112,     0.12212,     0.12312,     0.12412,     0.12513,     0.12613,     0.12713,     0.12813,     0.12913,     0.13013,     0.13113,     0.13213,     0.13313,     0.13413,     0.13514,     0.13614,     0.13714,     0.13814,     0.13914,     0.14014,     0.14114,     0.14214,     0.14314,\n",
            "           0.14414,     0.14515,     0.14615,     0.14715,     0.14815,     0.14915,     0.15015,     0.15115,     0.15215,     0.15315,     0.15415,     0.15516,     0.15616,     0.15716,     0.15816,     0.15916,     0.16016,     0.16116,     0.16216,     0.16316,     0.16416,     0.16517,     0.16617,     0.16717,\n",
            "           0.16817,     0.16917,     0.17017,     0.17117,     0.17217,     0.17317,     0.17417,     0.17518,     0.17618,     0.17718,     0.17818,     0.17918,     0.18018,     0.18118,     0.18218,     0.18318,     0.18418,     0.18519,     0.18619,     0.18719,     0.18819,     0.18919,     0.19019,     0.19119,\n",
            "           0.19219,     0.19319,     0.19419,      0.1952,      0.1962,      0.1972,      0.1982,      0.1992,      0.2002,      0.2012,      0.2022,      0.2032,      0.2042,     0.20521,     0.20621,     0.20721,     0.20821,     0.20921,     0.21021,     0.21121,     0.21221,     0.21321,     0.21421,     0.21522,\n",
            "           0.21622,     0.21722,     0.21822,     0.21922,     0.22022,     0.22122,     0.22222,     0.22322,     0.22422,     0.22523,     0.22623,     0.22723,     0.22823,     0.22923,     0.23023,     0.23123,     0.23223,     0.23323,     0.23423,     0.23524,     0.23624,     0.23724,     0.23824,     0.23924,\n",
            "           0.24024,     0.24124,     0.24224,     0.24324,     0.24424,     0.24525,     0.24625,     0.24725,     0.24825,     0.24925,     0.25025,     0.25125,     0.25225,     0.25325,     0.25425,     0.25526,     0.25626,     0.25726,     0.25826,     0.25926,     0.26026,     0.26126,     0.26226,     0.26326,\n",
            "           0.26426,     0.26527,     0.26627,     0.26727,     0.26827,     0.26927,     0.27027,     0.27127,     0.27227,     0.27327,     0.27427,     0.27528,     0.27628,     0.27728,     0.27828,     0.27928,     0.28028,     0.28128,     0.28228,     0.28328,     0.28428,     0.28529,     0.28629,     0.28729,\n",
            "           0.28829,     0.28929,     0.29029,     0.29129,     0.29229,     0.29329,     0.29429,      0.2953,      0.2963,      0.2973,      0.2983,      0.2993,      0.3003,      0.3013,      0.3023,      0.3033,      0.3043,     0.30531,     0.30631,     0.30731,     0.30831,     0.30931,     0.31031,     0.31131,\n",
            "           0.31231,     0.31331,     0.31431,     0.31532,     0.31632,     0.31732,     0.31832,     0.31932,     0.32032,     0.32132,     0.32232,     0.32332,     0.32432,     0.32533,     0.32633,     0.32733,     0.32833,     0.32933,     0.33033,     0.33133,     0.33233,     0.33333,     0.33433,     0.33534,\n",
            "           0.33634,     0.33734,     0.33834,     0.33934,     0.34034,     0.34134,     0.34234,     0.34334,     0.34434,     0.34535,     0.34635,     0.34735,     0.34835,     0.34935,     0.35035,     0.35135,     0.35235,     0.35335,     0.35435,     0.35536,     0.35636,     0.35736,     0.35836,     0.35936,\n",
            "           0.36036,     0.36136,     0.36236,     0.36336,     0.36436,     0.36537,     0.36637,     0.36737,     0.36837,     0.36937,     0.37037,     0.37137,     0.37237,     0.37337,     0.37437,     0.37538,     0.37638,     0.37738,     0.37838,     0.37938,     0.38038,     0.38138,     0.38238,     0.38338,\n",
            "           0.38438,     0.38539,     0.38639,     0.38739,     0.38839,     0.38939,     0.39039,     0.39139,     0.39239,     0.39339,     0.39439,      0.3954,      0.3964,      0.3974,      0.3984,      0.3994,      0.4004,      0.4014,      0.4024,      0.4034,      0.4044,     0.40541,     0.40641,     0.40741,\n",
            "           0.40841,     0.40941,     0.41041,     0.41141,     0.41241,     0.41341,     0.41441,     0.41542,     0.41642,     0.41742,     0.41842,     0.41942,     0.42042,     0.42142,     0.42242,     0.42342,     0.42442,     0.42543,     0.42643,     0.42743,     0.42843,     0.42943,     0.43043,     0.43143,\n",
            "           0.43243,     0.43343,     0.43443,     0.43544,     0.43644,     0.43744,     0.43844,     0.43944,     0.44044,     0.44144,     0.44244,     0.44344,     0.44444,     0.44545,     0.44645,     0.44745,     0.44845,     0.44945,     0.45045,     0.45145,     0.45245,     0.45345,     0.45445,     0.45546,\n",
            "           0.45646,     0.45746,     0.45846,     0.45946,     0.46046,     0.46146,     0.46246,     0.46346,     0.46446,     0.46547,     0.46647,     0.46747,     0.46847,     0.46947,     0.47047,     0.47147,     0.47247,     0.47347,     0.47447,     0.47548,     0.47648,     0.47748,     0.47848,     0.47948,\n",
            "           0.48048,     0.48148,     0.48248,     0.48348,     0.48448,     0.48549,     0.48649,     0.48749,     0.48849,     0.48949,     0.49049,     0.49149,     0.49249,     0.49349,     0.49449,      0.4955,      0.4965,      0.4975,      0.4985,      0.4995,      0.5005,      0.5015,      0.5025,      0.5035,\n",
            "            0.5045,     0.50551,     0.50651,     0.50751,     0.50851,     0.50951,     0.51051,     0.51151,     0.51251,     0.51351,     0.51451,     0.51552,     0.51652,     0.51752,     0.51852,     0.51952,     0.52052,     0.52152,     0.52252,     0.52352,     0.52452,     0.52553,     0.52653,     0.52753,\n",
            "           0.52853,     0.52953,     0.53053,     0.53153,     0.53253,     0.53353,     0.53453,     0.53554,     0.53654,     0.53754,     0.53854,     0.53954,     0.54054,     0.54154,     0.54254,     0.54354,     0.54454,     0.54555,     0.54655,     0.54755,     0.54855,     0.54955,     0.55055,     0.55155,\n",
            "           0.55255,     0.55355,     0.55455,     0.55556,     0.55656,     0.55756,     0.55856,     0.55956,     0.56056,     0.56156,     0.56256,     0.56356,     0.56456,     0.56557,     0.56657,     0.56757,     0.56857,     0.56957,     0.57057,     0.57157,     0.57257,     0.57357,     0.57457,     0.57558,\n",
            "           0.57658,     0.57758,     0.57858,     0.57958,     0.58058,     0.58158,     0.58258,     0.58358,     0.58458,     0.58559,     0.58659,     0.58759,     0.58859,     0.58959,     0.59059,     0.59159,     0.59259,     0.59359,     0.59459,      0.5956,      0.5966,      0.5976,      0.5986,      0.5996,\n",
            "            0.6006,      0.6016,      0.6026,      0.6036,      0.6046,     0.60561,     0.60661,     0.60761,     0.60861,     0.60961,     0.61061,     0.61161,     0.61261,     0.61361,     0.61461,     0.61562,     0.61662,     0.61762,     0.61862,     0.61962,     0.62062,     0.62162,     0.62262,     0.62362,\n",
            "           0.62462,     0.62563,     0.62663,     0.62763,     0.62863,     0.62963,     0.63063,     0.63163,     0.63263,     0.63363,     0.63463,     0.63564,     0.63664,     0.63764,     0.63864,     0.63964,     0.64064,     0.64164,     0.64264,     0.64364,     0.64464,     0.64565,     0.64665,     0.64765,\n",
            "           0.64865,     0.64965,     0.65065,     0.65165,     0.65265,     0.65365,     0.65465,     0.65566,     0.65666,     0.65766,     0.65866,     0.65966,     0.66066,     0.66166,     0.66266,     0.66366,     0.66466,     0.66567,     0.66667,     0.66767,     0.66867,     0.66967,     0.67067,     0.67167,\n",
            "           0.67267,     0.67367,     0.67467,     0.67568,     0.67668,     0.67768,     0.67868,     0.67968,     0.68068,     0.68168,     0.68268,     0.68368,     0.68468,     0.68569,     0.68669,     0.68769,     0.68869,     0.68969,     0.69069,     0.69169,     0.69269,     0.69369,     0.69469,      0.6957,\n",
            "            0.6967,      0.6977,      0.6987,      0.6997,      0.7007,      0.7017,      0.7027,      0.7037,      0.7047,     0.70571,     0.70671,     0.70771,     0.70871,     0.70971,     0.71071,     0.71171,     0.71271,     0.71371,     0.71471,     0.71572,     0.71672,     0.71772,     0.71872,     0.71972,\n",
            "           0.72072,     0.72172,     0.72272,     0.72372,     0.72472,     0.72573,     0.72673,     0.72773,     0.72873,     0.72973,     0.73073,     0.73173,     0.73273,     0.73373,     0.73473,     0.73574,     0.73674,     0.73774,     0.73874,     0.73974,     0.74074,     0.74174,     0.74274,     0.74374,\n",
            "           0.74474,     0.74575,     0.74675,     0.74775,     0.74875,     0.74975,     0.75075,     0.75175,     0.75275,     0.75375,     0.75475,     0.75576,     0.75676,     0.75776,     0.75876,     0.75976,     0.76076,     0.76176,     0.76276,     0.76376,     0.76476,     0.76577,     0.76677,     0.76777,\n",
            "           0.76877,     0.76977,     0.77077,     0.77177,     0.77277,     0.77377,     0.77477,     0.77578,     0.77678,     0.77778,     0.77878,     0.77978,     0.78078,     0.78178,     0.78278,     0.78378,     0.78478,     0.78579,     0.78679,     0.78779,     0.78879,     0.78979,     0.79079,     0.79179,\n",
            "           0.79279,     0.79379,     0.79479,      0.7958,      0.7968,      0.7978,      0.7988,      0.7998,      0.8008,      0.8018,      0.8028,      0.8038,      0.8048,     0.80581,     0.80681,     0.80781,     0.80881,     0.80981,     0.81081,     0.81181,     0.81281,     0.81381,     0.81481,     0.81582,\n",
            "           0.81682,     0.81782,     0.81882,     0.81982,     0.82082,     0.82182,     0.82282,     0.82382,     0.82482,     0.82583,     0.82683,     0.82783,     0.82883,     0.82983,     0.83083,     0.83183,     0.83283,     0.83383,     0.83483,     0.83584,     0.83684,     0.83784,     0.83884,     0.83984,\n",
            "           0.84084,     0.84184,     0.84284,     0.84384,     0.84484,     0.84585,     0.84685,     0.84785,     0.84885,     0.84985,     0.85085,     0.85185,     0.85285,     0.85385,     0.85485,     0.85586,     0.85686,     0.85786,     0.85886,     0.85986,     0.86086,     0.86186,     0.86286,     0.86386,\n",
            "           0.86486,     0.86587,     0.86687,     0.86787,     0.86887,     0.86987,     0.87087,     0.87187,     0.87287,     0.87387,     0.87487,     0.87588,     0.87688,     0.87788,     0.87888,     0.87988,     0.88088,     0.88188,     0.88288,     0.88388,     0.88488,     0.88589,     0.88689,     0.88789,\n",
            "           0.88889,     0.88989,     0.89089,     0.89189,     0.89289,     0.89389,     0.89489,      0.8959,      0.8969,      0.8979,      0.8989,      0.8999,      0.9009,      0.9019,      0.9029,      0.9039,      0.9049,     0.90591,     0.90691,     0.90791,     0.90891,     0.90991,     0.91091,     0.91191,\n",
            "           0.91291,     0.91391,     0.91491,     0.91592,     0.91692,     0.91792,     0.91892,     0.91992,     0.92092,     0.92192,     0.92292,     0.92392,     0.92492,     0.92593,     0.92693,     0.92793,     0.92893,     0.92993,     0.93093,     0.93193,     0.93293,     0.93393,     0.93493,     0.93594,\n",
            "           0.93694,     0.93794,     0.93894,     0.93994,     0.94094,     0.94194,     0.94294,     0.94394,     0.94494,     0.94595,     0.94695,     0.94795,     0.94895,     0.94995,     0.95095,     0.95195,     0.95295,     0.95395,     0.95495,     0.95596,     0.95696,     0.95796,     0.95896,     0.95996,\n",
            "           0.96096,     0.96196,     0.96296,     0.96396,     0.96496,     0.96597,     0.96697,     0.96797,     0.96897,     0.96997,     0.97097,     0.97197,     0.97297,     0.97397,     0.97497,     0.97598,     0.97698,     0.97798,     0.97898,     0.97998,     0.98098,     0.98198,     0.98298,     0.98398,\n",
            "           0.98498,     0.98599,     0.98699,     0.98799,     0.98899,     0.98999,     0.99099,     0.99199,     0.99299,     0.99399,     0.99499,       0.996,       0.997,       0.998,       0.999,           1]), array([[          1,           1,           1,     0.91667,     0.91667,       0.875,      0.7619,        0.75,        0.75,        0.75,        0.75,     0.71154,     0.71154,     0.71154,     0.71154,     0.70909,         0.7,     0.69118,     0.69118,     0.68056,     0.67532,     0.66279,     0.66279,\n",
            "            0.65217,     0.64062,     0.64062,     0.64062,     0.64062,     0.64062,     0.64062,     0.64062,     0.64062,     0.62774,     0.62774,     0.62521,     0.62521,     0.62521,     0.62521,     0.62521,     0.62521,     0.62521,     0.62521,     0.62521,     0.62521,     0.62521,     0.62521,\n",
            "            0.62521,     0.62521,     0.62521,     0.62521,     0.62521,     0.62521,     0.62521,     0.62521,     0.62521,     0.62521,     0.62521,     0.62521,     0.62521,     0.62521,     0.62521,     0.62521,     0.62521,     0.62521,     0.62521,     0.62521,     0.62521,     0.62521,     0.62521,\n",
            "            0.62521,     0.62521,     0.62521,     0.62521,     0.62521,     0.62521,     0.62521,     0.62521,     0.62521,     0.62521,     0.62521,     0.62521,     0.62521,     0.62521,     0.62521,     0.62521,     0.62521,     0.62521,     0.62521,     0.62521,     0.62521,     0.62521,     0.62521,\n",
            "            0.62521,     0.62521,     0.62521,     0.62521,     0.62521,     0.62521,     0.62521,     0.62521,     0.62521,     0.62521,     0.62521,     0.62521,     0.62521,     0.62521,     0.62521,     0.62521,     0.62521,     0.62521,     0.62521,     0.62521,     0.62521,     0.62521,     0.62521,\n",
            "            0.62521,     0.62521,     0.62521,     0.62521,     0.62521,     0.62521,     0.62521,     0.62521,     0.62521,     0.62521,     0.62521,     0.62521,     0.62521,     0.62521,     0.62521,     0.62521,     0.62521,     0.62521,     0.62521,     0.62521,     0.62521,     0.62521,     0.62521,\n",
            "            0.62521,     0.62521,     0.62521,     0.62521,     0.62521,     0.62482,     0.62482,     0.62482,     0.62482,     0.62482,     0.62482,     0.62482,     0.62482,     0.62482,     0.62482,     0.62482,     0.62482,     0.62482,     0.62482,     0.62482,     0.62482,     0.62482,     0.62482,\n",
            "            0.62482,     0.62482,     0.62482,     0.62482,     0.62482,     0.62482,     0.62482,     0.62482,     0.62482,     0.62482,     0.62347,     0.62347,     0.62347,     0.62347,     0.62347,     0.62347,     0.62347,     0.62195,     0.62129,     0.61749,     0.61749,     0.61749,     0.61749,\n",
            "            0.61654,     0.61654,     0.61654,     0.61654,     0.61654,     0.61654,     0.61654,     0.61654,     0.61338,     0.61294,     0.61294,     0.61239,     0.61105,     0.61105,     0.61105,     0.61105,     0.61105,     0.61105,     0.61079,     0.60941,     0.60941,     0.60941,     0.60941,\n",
            "            0.60941,     0.60941,     0.60941,     0.60941,     0.60941,     0.60941,     0.60941,     0.60941,     0.60941,     0.60941,     0.60784,     0.60784,     0.60784,     0.60784,     0.60784,     0.60784,     0.60784,     0.60784,     0.60784,     0.60784,     0.60784,     0.60784,     0.60736,\n",
            "            0.60736,     0.60714,     0.60628,     0.60606,     0.60227,     0.60227,     0.60227,     0.60227,     0.60227,     0.60227,     0.60227,     0.60227,     0.60227,     0.60227,     0.60227,     0.60227,     0.60227,     0.60227,     0.60169,     0.60168,     0.60168,     0.59963,     0.59963,\n",
            "            0.59926,     0.59873,     0.59873,     0.59821,     0.59821,     0.59821,     0.59821,     0.59821,     0.59801,     0.59801,     0.59801,     0.59801,     0.59801,     0.59801,     0.59801,     0.59801,     0.59801,     0.59801,     0.59801,     0.59801,     0.59801,     0.59801,     0.59801,\n",
            "            0.59801,     0.59801,     0.59801,     0.59801,     0.59784,     0.59659,     0.59659,     0.59659,     0.59659,     0.59659,     0.59624,     0.59624,     0.59624,     0.59624,     0.59624,     0.59624,     0.59624,     0.59624,     0.59624,     0.59624,     0.59568,     0.59568,     0.59568,\n",
            "            0.59568,     0.59553,     0.59478,     0.59468,     0.59468,     0.59467,     0.59467,     0.59467,     0.59467,     0.59467,     0.59467,     0.59467,     0.59467,     0.59467,     0.59396,     0.59354,     0.59327,      0.5923,     0.59048,     0.59048,     0.59033,     0.59033,     0.59033,\n",
            "            0.59033,      0.5896,      0.5896,      0.5896,     0.58947,     0.58892,     0.58892,     0.58892,     0.58892,     0.58892,     0.58892,     0.58892,     0.58892,     0.58856,     0.58832,     0.58824,     0.58653,      0.5863,     0.58559,     0.58559,     0.58559,     0.58559,     0.58559,\n",
            "            0.58559,     0.58559,     0.58559,     0.58559,     0.58559,     0.58559,     0.58559,     0.58559,     0.58559,     0.58387,     0.58233,     0.58233,     0.58233,     0.58233,     0.58176,     0.58085,     0.58085,     0.58085,     0.58038,     0.57943,     0.57943,     0.57782,     0.57753,\n",
            "            0.57662,     0.57662,      0.5766,      0.5766,     0.57615,     0.57615,     0.57615,     0.57615,     0.57615,     0.57615,     0.57615,     0.57615,     0.57453,     0.57326,     0.57301,     0.57184,     0.57135,     0.57102,     0.57028,     0.56939,     0.56803,     0.56803,     0.56732,\n",
            "            0.56732,     0.56646,     0.56568,     0.56517,     0.56517,     0.56517,     0.56517,     0.56517,     0.56517,     0.56517,     0.56517,     0.56517,     0.56517,     0.56517,     0.56517,      0.5651,     0.56496,     0.56414,     0.56334,      0.5629,     0.56263,     0.56257,     0.56257,\n",
            "            0.56257,     0.56257,     0.56243,     0.56201,     0.56139,     0.56139,      0.5612,     0.56108,     0.56051,     0.56051,     0.56051,     0.56039,     0.55992,      0.5598,     0.55978,     0.55978,     0.55978,     0.55978,     0.55978,     0.55978,     0.55978,     0.55843,     0.55843,\n",
            "            0.55836,     0.55836,     0.55752,     0.55752,     0.55723,     0.55723,     0.55723,     0.55723,     0.55723,     0.55723,     0.55603,     0.55603,     0.55603,     0.55603,     0.55603,     0.55603,     0.55603,     0.55603,     0.55566,     0.55524,     0.55519,     0.55243,     0.55163,\n",
            "            0.55163,     0.55158,     0.54931,     0.54849,     0.54849,     0.54849,     0.54795,     0.54607,      0.5457,     0.54492,     0.54492,     0.54492,     0.54189,     0.54167,     0.54167,     0.54163,     0.54143,     0.54143,     0.54143,     0.54143,     0.54116,      0.5402,      0.5402,\n",
            "            0.54017,     0.53889,     0.53628,     0.53504,     0.53492,     0.53444,     0.53232,     0.52934,     0.52885,     0.52594,     0.52348,     0.52238,     0.52018,     0.51911,     0.51822,     0.51734,     0.51709,     0.51663,     0.51579,      0.5135,     0.50645,     0.26927,     0.26873,\n",
            "            0.26818,     0.26764,      0.2671,     0.26655,     0.26601,     0.26546,     0.26492,     0.26438,     0.26383,     0.26329,     0.26274,      0.2622,     0.26166,     0.26111,     0.26057,     0.26002,     0.25948,     0.25894,     0.25839,     0.25785,      0.2573,     0.25676,     0.25622,\n",
            "            0.25567,     0.25513,     0.25458,     0.25404,      0.2535,     0.25295,     0.25241,     0.25186,     0.25132,     0.25078,     0.25023,     0.24969,     0.24914,      0.2486,     0.24806,     0.24751,     0.24697,     0.24642,     0.24588,     0.24534,     0.24479,     0.24425,      0.2437,\n",
            "            0.24316,     0.24262,     0.24207,     0.24153,     0.24098,     0.24044,      0.2399,     0.23935,     0.23881,     0.23826,     0.23772,     0.23718,     0.23663,     0.23609,     0.23554,       0.235,     0.23446,     0.23391,     0.23337,     0.23282,     0.23228,     0.23174,     0.23119,\n",
            "            0.23065,      0.2301,     0.22956,     0.22902,     0.22847,     0.22793,     0.22739,     0.22684,      0.2263,     0.22575,     0.22521,     0.22467,     0.22412,     0.22358,     0.22303,     0.22249,     0.22195,      0.2214,     0.22086,     0.22031,     0.21977,     0.21923,     0.21868,\n",
            "            0.21814,     0.21759,     0.21705,     0.21651,     0.21596,     0.21542,     0.21487,     0.21433,     0.21379,     0.21324,      0.2127,     0.21215,     0.21161,     0.21107,     0.21052,     0.20998,     0.20943,     0.20889,     0.20835,      0.2078,     0.20726,     0.20671,     0.20617,\n",
            "            0.20563,     0.20508,     0.20454,     0.20399,     0.20345,     0.20291,     0.20236,     0.20182,     0.20127,     0.20073,     0.20019,     0.19964,      0.1991,     0.19855,     0.19801,     0.19747,     0.19692,     0.19638,     0.19583,     0.19529,     0.19475,      0.1942,     0.19366,\n",
            "            0.19311,     0.19257,     0.19203,     0.19148,     0.19094,     0.19039,     0.18985,     0.18931,     0.18876,     0.18822,     0.18767,     0.18713,     0.18659,     0.18604,      0.1855,     0.18495,     0.18441,     0.18387,     0.18332,     0.18278,     0.18223,     0.18169,     0.18115,\n",
            "             0.1806,     0.18006,     0.17951,     0.17897,     0.17843,     0.17788,     0.17734,     0.17679,     0.17625,     0.17571,     0.17516,     0.17462,     0.17407,     0.17353,     0.17299,     0.17244,      0.1719,     0.17135,     0.17081,     0.17027,     0.16972,     0.16918,     0.16863,\n",
            "            0.16809,     0.16755,       0.167,     0.16646,     0.16591,     0.16537,     0.16483,     0.16428,     0.16374,      0.1632,     0.16265,     0.16211,     0.16156,     0.16102,     0.16048,     0.15993,     0.15939,     0.15884,      0.1583,     0.15776,     0.15721,     0.15667,     0.15612,\n",
            "            0.15558,     0.15504,     0.15449,     0.15395,      0.1534,     0.15286,     0.15232,     0.15177,     0.15123,     0.15068,     0.15014,      0.1496,     0.14905,     0.14851,     0.14796,     0.14742,     0.14688,     0.14633,     0.14579,     0.14524,      0.1447,     0.14416,     0.14361,\n",
            "            0.14307,     0.14252,     0.14198,     0.14144,     0.14089,     0.14035,      0.1398,     0.13926,     0.13872,     0.13817,     0.13763,     0.13708,     0.13654,       0.136,     0.13545,     0.13491,     0.13436,     0.13382,     0.13328,     0.13273,     0.13219,     0.13164,      0.1311,\n",
            "            0.13056,     0.13001,     0.12947,     0.12892,     0.12838,     0.12784,     0.12729,     0.12675,      0.1262,     0.12566,     0.12512,     0.12457,     0.12403,     0.12348,     0.12294,      0.1224,     0.12185,     0.12131,     0.12076,     0.12022,     0.11968,     0.11913,     0.11859,\n",
            "            0.11804,      0.1175,     0.11696,     0.11641,     0.11587,     0.11532,     0.11478,     0.11424,     0.11369,     0.11315,      0.1126,     0.11206,     0.11152,     0.11097,     0.11043,     0.10988,     0.10934,      0.1088,     0.10825,     0.10771,     0.10716,     0.10662,     0.10608,\n",
            "            0.10553,     0.10499,     0.10444,      0.1039,     0.10336,     0.10281,     0.10227,     0.10172,     0.10118,     0.10064,     0.10009,    0.099549,    0.099005,    0.098461,    0.097917,    0.097373,    0.096829,    0.096285,    0.095741,    0.095197,    0.094653,    0.094109,    0.093565,\n",
            "           0.093021,    0.092477,    0.091933,    0.091389,    0.090845,    0.090301,    0.089757,    0.089213,    0.088669,    0.088125,    0.087581,    0.087037,    0.086493,    0.085949,    0.085405,    0.084861,    0.084317,    0.083773,    0.083229,    0.082685,    0.082141,    0.081598,    0.081054,\n",
            "            0.08051,    0.079966,    0.079422,    0.078878,    0.078334,     0.07779,    0.077246,    0.076702,    0.076158,    0.075614,     0.07507,    0.074526,    0.073982,    0.073438,    0.072894,     0.07235,    0.071806,    0.071262,    0.070718,    0.070174,     0.06963,    0.069086,    0.068542,\n",
            "           0.067998,    0.067454,     0.06691,    0.066366,    0.065822,    0.065278,    0.064734,     0.06419,    0.063646,    0.063102,    0.062558,    0.062014,     0.06147,    0.060926,    0.060382,    0.059838,    0.059294,     0.05875,    0.058206,    0.057662,    0.057118,    0.056574,     0.05603,\n",
            "           0.055486,    0.054942,    0.054398,    0.053854,     0.05331,    0.052766,    0.052222,    0.051678,    0.051134,     0.05059,    0.050046,    0.049502,    0.048959,    0.048415,    0.047871,    0.047327,    0.046783,    0.046239,    0.045695,    0.045151,    0.044607,    0.044063,    0.043519,\n",
            "           0.042975,    0.042431,    0.041887,    0.041343,    0.040799,    0.040255,    0.039711,    0.039167,    0.038623,    0.038079,    0.037535,    0.036991,    0.036447,    0.035903,    0.035359,    0.034815,    0.034271,    0.033727,    0.033183,    0.032639,    0.032095,    0.031551,    0.031007,\n",
            "           0.030463,    0.029919,    0.029375,    0.028831,    0.028287,    0.027743,    0.027199,    0.026655,    0.026111,    0.025567,    0.025023,    0.024479,    0.023935,    0.023391,    0.022847,    0.022303,    0.021759,    0.021215,    0.020671,    0.020127,    0.019583,    0.019039,    0.018495,\n",
            "           0.017951,    0.017407,    0.016863,     0.01632,    0.015776,    0.015232,    0.014688,    0.014144,      0.0136,    0.013056,    0.012512,    0.011968,    0.011424,     0.01088,    0.010336,   0.0097917,   0.0092477,   0.0087037,   0.0081598,   0.0076158,   0.0070718,   0.0065278,   0.0059838,\n",
            "          0.0054398,   0.0048959,   0.0043519,   0.0038079,   0.0032639,   0.0027199,   0.0021759,    0.001632,    0.001088,  0.00054398,           0]]), 'Recall', 'Precision'], [array([          0,    0.001001,    0.002002,    0.003003,    0.004004,    0.005005,    0.006006,    0.007007,    0.008008,    0.009009,     0.01001,    0.011011,    0.012012,    0.013013,    0.014014,    0.015015,    0.016016,    0.017017,    0.018018,    0.019019,     0.02002,    0.021021,    0.022022,    0.023023,\n",
            "          0.024024,    0.025025,    0.026026,    0.027027,    0.028028,    0.029029,     0.03003,    0.031031,    0.032032,    0.033033,    0.034034,    0.035035,    0.036036,    0.037037,    0.038038,    0.039039,     0.04004,    0.041041,    0.042042,    0.043043,    0.044044,    0.045045,    0.046046,    0.047047,\n",
            "          0.048048,    0.049049,     0.05005,    0.051051,    0.052052,    0.053053,    0.054054,    0.055055,    0.056056,    0.057057,    0.058058,    0.059059,     0.06006,    0.061061,    0.062062,    0.063063,    0.064064,    0.065065,    0.066066,    0.067067,    0.068068,    0.069069,     0.07007,    0.071071,\n",
            "          0.072072,    0.073073,    0.074074,    0.075075,    0.076076,    0.077077,    0.078078,    0.079079,     0.08008,    0.081081,    0.082082,    0.083083,    0.084084,    0.085085,    0.086086,    0.087087,    0.088088,    0.089089,     0.09009,    0.091091,    0.092092,    0.093093,    0.094094,    0.095095,\n",
            "          0.096096,    0.097097,    0.098098,    0.099099,      0.1001,      0.1011,      0.1021,      0.1031,      0.1041,     0.10511,     0.10611,     0.10711,     0.10811,     0.10911,     0.11011,     0.11111,     0.11211,     0.11311,     0.11411,     0.11512,     0.11612,     0.11712,     0.11812,     0.11912,\n",
            "           0.12012,     0.12112,     0.12212,     0.12312,     0.12412,     0.12513,     0.12613,     0.12713,     0.12813,     0.12913,     0.13013,     0.13113,     0.13213,     0.13313,     0.13413,     0.13514,     0.13614,     0.13714,     0.13814,     0.13914,     0.14014,     0.14114,     0.14214,     0.14314,\n",
            "           0.14414,     0.14515,     0.14615,     0.14715,     0.14815,     0.14915,     0.15015,     0.15115,     0.15215,     0.15315,     0.15415,     0.15516,     0.15616,     0.15716,     0.15816,     0.15916,     0.16016,     0.16116,     0.16216,     0.16316,     0.16416,     0.16517,     0.16617,     0.16717,\n",
            "           0.16817,     0.16917,     0.17017,     0.17117,     0.17217,     0.17317,     0.17417,     0.17518,     0.17618,     0.17718,     0.17818,     0.17918,     0.18018,     0.18118,     0.18218,     0.18318,     0.18418,     0.18519,     0.18619,     0.18719,     0.18819,     0.18919,     0.19019,     0.19119,\n",
            "           0.19219,     0.19319,     0.19419,      0.1952,      0.1962,      0.1972,      0.1982,      0.1992,      0.2002,      0.2012,      0.2022,      0.2032,      0.2042,     0.20521,     0.20621,     0.20721,     0.20821,     0.20921,     0.21021,     0.21121,     0.21221,     0.21321,     0.21421,     0.21522,\n",
            "           0.21622,     0.21722,     0.21822,     0.21922,     0.22022,     0.22122,     0.22222,     0.22322,     0.22422,     0.22523,     0.22623,     0.22723,     0.22823,     0.22923,     0.23023,     0.23123,     0.23223,     0.23323,     0.23423,     0.23524,     0.23624,     0.23724,     0.23824,     0.23924,\n",
            "           0.24024,     0.24124,     0.24224,     0.24324,     0.24424,     0.24525,     0.24625,     0.24725,     0.24825,     0.24925,     0.25025,     0.25125,     0.25225,     0.25325,     0.25425,     0.25526,     0.25626,     0.25726,     0.25826,     0.25926,     0.26026,     0.26126,     0.26226,     0.26326,\n",
            "           0.26426,     0.26527,     0.26627,     0.26727,     0.26827,     0.26927,     0.27027,     0.27127,     0.27227,     0.27327,     0.27427,     0.27528,     0.27628,     0.27728,     0.27828,     0.27928,     0.28028,     0.28128,     0.28228,     0.28328,     0.28428,     0.28529,     0.28629,     0.28729,\n",
            "           0.28829,     0.28929,     0.29029,     0.29129,     0.29229,     0.29329,     0.29429,      0.2953,      0.2963,      0.2973,      0.2983,      0.2993,      0.3003,      0.3013,      0.3023,      0.3033,      0.3043,     0.30531,     0.30631,     0.30731,     0.30831,     0.30931,     0.31031,     0.31131,\n",
            "           0.31231,     0.31331,     0.31431,     0.31532,     0.31632,     0.31732,     0.31832,     0.31932,     0.32032,     0.32132,     0.32232,     0.32332,     0.32432,     0.32533,     0.32633,     0.32733,     0.32833,     0.32933,     0.33033,     0.33133,     0.33233,     0.33333,     0.33433,     0.33534,\n",
            "           0.33634,     0.33734,     0.33834,     0.33934,     0.34034,     0.34134,     0.34234,     0.34334,     0.34434,     0.34535,     0.34635,     0.34735,     0.34835,     0.34935,     0.35035,     0.35135,     0.35235,     0.35335,     0.35435,     0.35536,     0.35636,     0.35736,     0.35836,     0.35936,\n",
            "           0.36036,     0.36136,     0.36236,     0.36336,     0.36436,     0.36537,     0.36637,     0.36737,     0.36837,     0.36937,     0.37037,     0.37137,     0.37237,     0.37337,     0.37437,     0.37538,     0.37638,     0.37738,     0.37838,     0.37938,     0.38038,     0.38138,     0.38238,     0.38338,\n",
            "           0.38438,     0.38539,     0.38639,     0.38739,     0.38839,     0.38939,     0.39039,     0.39139,     0.39239,     0.39339,     0.39439,      0.3954,      0.3964,      0.3974,      0.3984,      0.3994,      0.4004,      0.4014,      0.4024,      0.4034,      0.4044,     0.40541,     0.40641,     0.40741,\n",
            "           0.40841,     0.40941,     0.41041,     0.41141,     0.41241,     0.41341,     0.41441,     0.41542,     0.41642,     0.41742,     0.41842,     0.41942,     0.42042,     0.42142,     0.42242,     0.42342,     0.42442,     0.42543,     0.42643,     0.42743,     0.42843,     0.42943,     0.43043,     0.43143,\n",
            "           0.43243,     0.43343,     0.43443,     0.43544,     0.43644,     0.43744,     0.43844,     0.43944,     0.44044,     0.44144,     0.44244,     0.44344,     0.44444,     0.44545,     0.44645,     0.44745,     0.44845,     0.44945,     0.45045,     0.45145,     0.45245,     0.45345,     0.45445,     0.45546,\n",
            "           0.45646,     0.45746,     0.45846,     0.45946,     0.46046,     0.46146,     0.46246,     0.46346,     0.46446,     0.46547,     0.46647,     0.46747,     0.46847,     0.46947,     0.47047,     0.47147,     0.47247,     0.47347,     0.47447,     0.47548,     0.47648,     0.47748,     0.47848,     0.47948,\n",
            "           0.48048,     0.48148,     0.48248,     0.48348,     0.48448,     0.48549,     0.48649,     0.48749,     0.48849,     0.48949,     0.49049,     0.49149,     0.49249,     0.49349,     0.49449,      0.4955,      0.4965,      0.4975,      0.4985,      0.4995,      0.5005,      0.5015,      0.5025,      0.5035,\n",
            "            0.5045,     0.50551,     0.50651,     0.50751,     0.50851,     0.50951,     0.51051,     0.51151,     0.51251,     0.51351,     0.51451,     0.51552,     0.51652,     0.51752,     0.51852,     0.51952,     0.52052,     0.52152,     0.52252,     0.52352,     0.52452,     0.52553,     0.52653,     0.52753,\n",
            "           0.52853,     0.52953,     0.53053,     0.53153,     0.53253,     0.53353,     0.53453,     0.53554,     0.53654,     0.53754,     0.53854,     0.53954,     0.54054,     0.54154,     0.54254,     0.54354,     0.54454,     0.54555,     0.54655,     0.54755,     0.54855,     0.54955,     0.55055,     0.55155,\n",
            "           0.55255,     0.55355,     0.55455,     0.55556,     0.55656,     0.55756,     0.55856,     0.55956,     0.56056,     0.56156,     0.56256,     0.56356,     0.56456,     0.56557,     0.56657,     0.56757,     0.56857,     0.56957,     0.57057,     0.57157,     0.57257,     0.57357,     0.57457,     0.57558,\n",
            "           0.57658,     0.57758,     0.57858,     0.57958,     0.58058,     0.58158,     0.58258,     0.58358,     0.58458,     0.58559,     0.58659,     0.58759,     0.58859,     0.58959,     0.59059,     0.59159,     0.59259,     0.59359,     0.59459,      0.5956,      0.5966,      0.5976,      0.5986,      0.5996,\n",
            "            0.6006,      0.6016,      0.6026,      0.6036,      0.6046,     0.60561,     0.60661,     0.60761,     0.60861,     0.60961,     0.61061,     0.61161,     0.61261,     0.61361,     0.61461,     0.61562,     0.61662,     0.61762,     0.61862,     0.61962,     0.62062,     0.62162,     0.62262,     0.62362,\n",
            "           0.62462,     0.62563,     0.62663,     0.62763,     0.62863,     0.62963,     0.63063,     0.63163,     0.63263,     0.63363,     0.63463,     0.63564,     0.63664,     0.63764,     0.63864,     0.63964,     0.64064,     0.64164,     0.64264,     0.64364,     0.64464,     0.64565,     0.64665,     0.64765,\n",
            "           0.64865,     0.64965,     0.65065,     0.65165,     0.65265,     0.65365,     0.65465,     0.65566,     0.65666,     0.65766,     0.65866,     0.65966,     0.66066,     0.66166,     0.66266,     0.66366,     0.66466,     0.66567,     0.66667,     0.66767,     0.66867,     0.66967,     0.67067,     0.67167,\n",
            "           0.67267,     0.67367,     0.67467,     0.67568,     0.67668,     0.67768,     0.67868,     0.67968,     0.68068,     0.68168,     0.68268,     0.68368,     0.68468,     0.68569,     0.68669,     0.68769,     0.68869,     0.68969,     0.69069,     0.69169,     0.69269,     0.69369,     0.69469,      0.6957,\n",
            "            0.6967,      0.6977,      0.6987,      0.6997,      0.7007,      0.7017,      0.7027,      0.7037,      0.7047,     0.70571,     0.70671,     0.70771,     0.70871,     0.70971,     0.71071,     0.71171,     0.71271,     0.71371,     0.71471,     0.71572,     0.71672,     0.71772,     0.71872,     0.71972,\n",
            "           0.72072,     0.72172,     0.72272,     0.72372,     0.72472,     0.72573,     0.72673,     0.72773,     0.72873,     0.72973,     0.73073,     0.73173,     0.73273,     0.73373,     0.73473,     0.73574,     0.73674,     0.73774,     0.73874,     0.73974,     0.74074,     0.74174,     0.74274,     0.74374,\n",
            "           0.74474,     0.74575,     0.74675,     0.74775,     0.74875,     0.74975,     0.75075,     0.75175,     0.75275,     0.75375,     0.75475,     0.75576,     0.75676,     0.75776,     0.75876,     0.75976,     0.76076,     0.76176,     0.76276,     0.76376,     0.76476,     0.76577,     0.76677,     0.76777,\n",
            "           0.76877,     0.76977,     0.77077,     0.77177,     0.77277,     0.77377,     0.77477,     0.77578,     0.77678,     0.77778,     0.77878,     0.77978,     0.78078,     0.78178,     0.78278,     0.78378,     0.78478,     0.78579,     0.78679,     0.78779,     0.78879,     0.78979,     0.79079,     0.79179,\n",
            "           0.79279,     0.79379,     0.79479,      0.7958,      0.7968,      0.7978,      0.7988,      0.7998,      0.8008,      0.8018,      0.8028,      0.8038,      0.8048,     0.80581,     0.80681,     0.80781,     0.80881,     0.80981,     0.81081,     0.81181,     0.81281,     0.81381,     0.81481,     0.81582,\n",
            "           0.81682,     0.81782,     0.81882,     0.81982,     0.82082,     0.82182,     0.82282,     0.82382,     0.82482,     0.82583,     0.82683,     0.82783,     0.82883,     0.82983,     0.83083,     0.83183,     0.83283,     0.83383,     0.83483,     0.83584,     0.83684,     0.83784,     0.83884,     0.83984,\n",
            "           0.84084,     0.84184,     0.84284,     0.84384,     0.84484,     0.84585,     0.84685,     0.84785,     0.84885,     0.84985,     0.85085,     0.85185,     0.85285,     0.85385,     0.85485,     0.85586,     0.85686,     0.85786,     0.85886,     0.85986,     0.86086,     0.86186,     0.86286,     0.86386,\n",
            "           0.86486,     0.86587,     0.86687,     0.86787,     0.86887,     0.86987,     0.87087,     0.87187,     0.87287,     0.87387,     0.87487,     0.87588,     0.87688,     0.87788,     0.87888,     0.87988,     0.88088,     0.88188,     0.88288,     0.88388,     0.88488,     0.88589,     0.88689,     0.88789,\n",
            "           0.88889,     0.88989,     0.89089,     0.89189,     0.89289,     0.89389,     0.89489,      0.8959,      0.8969,      0.8979,      0.8989,      0.8999,      0.9009,      0.9019,      0.9029,      0.9039,      0.9049,     0.90591,     0.90691,     0.90791,     0.90891,     0.90991,     0.91091,     0.91191,\n",
            "           0.91291,     0.91391,     0.91491,     0.91592,     0.91692,     0.91792,     0.91892,     0.91992,     0.92092,     0.92192,     0.92292,     0.92392,     0.92492,     0.92593,     0.92693,     0.92793,     0.92893,     0.92993,     0.93093,     0.93193,     0.93293,     0.93393,     0.93493,     0.93594,\n",
            "           0.93694,     0.93794,     0.93894,     0.93994,     0.94094,     0.94194,     0.94294,     0.94394,     0.94494,     0.94595,     0.94695,     0.94795,     0.94895,     0.94995,     0.95095,     0.95195,     0.95295,     0.95395,     0.95495,     0.95596,     0.95696,     0.95796,     0.95896,     0.95996,\n",
            "           0.96096,     0.96196,     0.96296,     0.96396,     0.96496,     0.96597,     0.96697,     0.96797,     0.96897,     0.96997,     0.97097,     0.97197,     0.97297,     0.97397,     0.97497,     0.97598,     0.97698,     0.97798,     0.97898,     0.97998,     0.98098,     0.98198,     0.98298,     0.98398,\n",
            "           0.98498,     0.98599,     0.98699,     0.98799,     0.98899,     0.98999,     0.99099,     0.99199,     0.99299,     0.99399,     0.99499,       0.996,       0.997,       0.998,       0.999,           1]), array([[    0.35127,     0.35133,      0.4191,     0.44653,     0.45945,      0.4693,     0.47529,     0.47941,     0.48253,     0.48455,     0.48591,     0.48723,     0.48867,     0.49001,     0.49074,     0.49167,     0.49223,     0.49296,     0.49376,     0.49398,     0.49426,     0.49492,     0.49552,\n",
            "            0.49603,      0.4967,     0.49712,      0.4972,      0.4974,     0.49781,     0.49784,     0.49787,     0.49792,     0.49828,     0.49838,     0.49847,     0.49857,      0.4987,     0.49883,       0.499,     0.49916,     0.49931,     0.49957,     0.49971,     0.49974,     0.49977,     0.49979,\n",
            "            0.49983,      0.4999,     0.49996,     0.50005,      0.5002,     0.50022,     0.50024,     0.50025,     0.50027,      0.5003,      0.5004,     0.50042,     0.50044,     0.50045,     0.50047,     0.50049,     0.50053,     0.50057,      0.5006,     0.50064,     0.50069,     0.50077,     0.50094,\n",
            "            0.50105,     0.50117,     0.50118,      0.5012,     0.50122,     0.50124,     0.50125,     0.50128,      0.5013,     0.50132,     0.50135,     0.50137,     0.50139,     0.50141,     0.50143,     0.50148,      0.5016,     0.50166,     0.50168,     0.50169,     0.50171,     0.50173,     0.50175,\n",
            "            0.50176,     0.50178,     0.50179,      0.5018,     0.50182,     0.50183,     0.50185,     0.50186,     0.50188,     0.50189,     0.50191,     0.50193,     0.50194,     0.50195,     0.50197,     0.50198,       0.502,     0.50201,     0.50202,     0.50204,     0.50206,     0.50209,     0.50212,\n",
            "            0.50213,     0.50214,     0.50215,     0.50215,     0.50216,     0.50216,     0.50217,     0.50218,     0.50218,     0.50219,     0.50219,      0.5022,     0.50221,     0.50221,     0.50222,     0.50222,     0.50223,     0.50225,     0.50227,     0.50228,      0.5023,     0.50231,     0.50233,\n",
            "            0.50234,     0.50235,     0.50236,     0.50237,     0.50238,     0.50239,      0.5024,     0.50241,     0.50242,     0.50243,     0.50244,     0.50245,     0.50245,     0.50246,     0.50247,     0.50247,     0.50248,     0.50249,      0.5025,      0.5025,     0.50251,     0.50252,     0.50252,\n",
            "            0.50253,     0.50253,     0.50253,     0.50254,     0.50254,     0.50255,     0.50255,     0.50255,     0.50256,     0.50256,     0.50257,     0.50257,     0.50257,     0.50258,     0.50258,     0.50258,     0.50259,     0.50259,      0.5026,      0.5026,      0.5026,     0.50261,     0.50261,\n",
            "            0.50262,     0.50262,     0.50263,     0.50264,     0.50264,     0.50265,     0.50266,     0.50266,     0.50267,     0.50268,     0.50269,     0.50269,      0.5027,     0.50271,     0.50271,     0.50272,     0.50272,     0.50273,     0.50273,     0.50273,     0.50274,     0.50274,     0.50274,\n",
            "            0.50275,     0.50275,     0.50276,     0.50276,     0.50276,     0.50277,     0.50277,     0.50277,     0.50278,     0.50278,     0.50279,     0.50279,     0.50279,      0.5028,      0.5028,      0.5028,     0.50281,     0.50281,     0.50282,     0.50282,     0.50282,     0.50283,     0.50283,\n",
            "            0.50284,     0.50284,     0.50285,     0.50285,     0.50286,     0.50286,     0.50286,     0.50287,     0.50287,     0.50288,     0.50288,     0.50289,     0.50289,      0.5029,      0.5029,      0.5029,     0.50291,     0.50293,     0.50296,     0.50298,     0.50301,     0.50301,     0.50301,\n",
            "            0.50302,     0.50302,     0.50302,     0.50302,     0.50303,     0.50303,     0.50303,     0.50303,     0.50304,     0.50304,     0.50304,     0.50305,     0.50305,     0.50305,     0.50305,     0.50306,     0.50306,     0.50306,     0.50306,     0.50307,     0.50307,     0.50307,     0.50308,\n",
            "            0.50308,     0.50308,     0.50308,     0.50309,     0.50309,     0.50309,     0.50309,      0.5031,      0.5031,      0.5031,      0.5031,     0.50311,     0.50312,     0.50314,     0.50315,     0.50316,     0.50317,     0.50318,     0.50319,      0.5032,     0.50322,     0.50325,     0.50327,\n",
            "            0.50329,      0.5033,     0.50331,     0.50331,     0.50331,     0.50331,     0.50332,     0.50332,     0.50332,     0.50332,     0.50333,     0.50333,     0.50333,     0.50333,     0.50334,     0.50334,     0.50334,     0.50335,     0.50335,     0.50335,     0.50335,     0.50336,     0.50336,\n",
            "            0.50336,     0.50336,     0.50337,     0.50337,     0.50337,     0.50338,     0.50338,     0.50338,     0.50338,     0.50339,     0.50339,     0.50339,     0.50339,      0.5034,      0.5034,      0.5034,     0.50341,     0.50341,     0.50342,     0.50342,     0.50343,     0.50343,     0.50344,\n",
            "            0.50344,     0.50345,     0.50345,     0.50346,     0.50346,     0.50347,     0.50347,     0.50347,     0.50348,     0.50348,     0.50349,     0.50349,      0.5035,      0.5035,     0.50351,     0.50351,     0.50351,     0.50352,     0.50352,     0.50352,     0.50353,     0.50353,     0.50354,\n",
            "            0.50354,     0.50354,     0.50355,     0.50355,     0.50356,     0.50356,     0.50356,     0.50357,     0.50357,     0.50358,     0.50358,     0.50358,     0.50359,     0.50359,     0.50359,      0.5036,     0.50361,     0.50362,     0.50363,     0.50364,     0.50364,     0.50365,     0.50366,\n",
            "            0.50367,     0.50368,     0.50369,     0.50369,      0.5037,      0.5037,      0.5037,      0.5037,      0.5037,     0.50371,     0.50371,     0.50371,     0.50371,     0.50372,     0.50372,     0.50372,     0.50372,     0.50372,     0.50373,     0.50373,     0.50373,     0.50373,     0.50374,\n",
            "            0.50374,     0.50374,     0.50374,     0.50374,     0.50375,     0.50375,     0.50375,     0.50375,     0.50376,     0.50376,     0.50376,     0.50376,     0.50376,     0.50377,     0.50377,     0.50377,     0.50377,     0.50378,     0.50378,     0.50378,     0.50378,     0.50378,     0.50379,\n",
            "            0.50379,     0.50379,      0.5038,     0.50381,     0.50382,     0.50383,     0.50383,     0.50384,     0.50385,     0.50386,     0.50387,     0.50388,     0.50388,     0.50389,     0.50389,     0.50389,     0.50389,      0.5039,      0.5039,      0.5039,      0.5039,      0.5039,      0.5039,\n",
            "             0.5039,     0.50391,     0.50391,     0.50391,     0.50391,     0.50391,     0.50391,     0.50392,     0.50392,     0.50392,     0.50392,     0.50392,     0.50392,     0.50393,     0.50393,     0.50393,     0.50393,     0.50393,     0.50393,     0.50393,     0.50394,     0.50394,     0.50394,\n",
            "            0.50394,     0.50394,     0.50394,     0.50395,     0.50395,     0.50395,     0.50395,     0.50395,     0.50395,     0.50395,     0.50396,     0.50396,     0.50396,     0.50396,     0.50396,     0.50396,     0.50397,     0.50397,     0.50397,     0.50397,     0.50397,     0.50397,     0.50398,\n",
            "            0.50398,     0.50398,     0.50398,     0.50398,     0.50398,     0.50398,     0.50399,     0.50399,       0.504,       0.504,       0.504,     0.50401,     0.50401,     0.50402,     0.50402,     0.50403,     0.50403,     0.50403,     0.50404,     0.50404,     0.50405,     0.50405,     0.50406,\n",
            "            0.50406,     0.50406,     0.50407,     0.50407,     0.50408,     0.50408,     0.50408,     0.50409,     0.50409,     0.50409,      0.5041,      0.5041,      0.5041,      0.5041,     0.50411,     0.50411,     0.50411,     0.50412,     0.50412,     0.50412,     0.50412,     0.50413,     0.50413,\n",
            "            0.50413,     0.50414,     0.50414,     0.50414,     0.50414,     0.50415,     0.50415,     0.50415,     0.50416,     0.50416,     0.50416,     0.50416,     0.50417,     0.50417,     0.50417,     0.50418,     0.50418,     0.50418,     0.50418,     0.50419,     0.50419,      0.5042,      0.5042,\n",
            "             0.5042,     0.50421,     0.50421,     0.50422,     0.50422,     0.50422,     0.50423,     0.50423,     0.50423,     0.50424,     0.50424,     0.50425,     0.50425,     0.50425,     0.50426,     0.50426,     0.50427,     0.50427,     0.50427,     0.50428,     0.50429,     0.50431,     0.50432,\n",
            "            0.50434,     0.50436,     0.50438,     0.50438,     0.50439,     0.50439,     0.50439,      0.5044,      0.5044,     0.50441,     0.50441,     0.50441,     0.50442,     0.50442,     0.50442,     0.50443,     0.50443,     0.50444,     0.50444,     0.50444,     0.50445,     0.50445,     0.50446,\n",
            "            0.50446,     0.50446,     0.50447,     0.50447,     0.50447,     0.50451,     0.50456,     0.50459,     0.50461,     0.50463,     0.50466,     0.50473,     0.50477,     0.50478,     0.50478,     0.50478,     0.50479,     0.50479,     0.50479,     0.50479,      0.5048,      0.5048,      0.5048,\n",
            "            0.50481,     0.50481,     0.50481,     0.50481,     0.50482,     0.50482,     0.50482,     0.50483,     0.50483,     0.50483,     0.50483,     0.50484,     0.50484,     0.50484,     0.50485,     0.50485,     0.50485,     0.50485,     0.50486,     0.50486,     0.50486,     0.50487,     0.50487,\n",
            "            0.50488,      0.5049,     0.50492,     0.50494,     0.50496,     0.50499,     0.50505,      0.5051,     0.50515,     0.50494,     0.50482,     0.50475,     0.50469,     0.50462,      0.5046,     0.50465,     0.50475,     0.50503,     0.50527,      0.5053,     0.50532,     0.50535,     0.50537,\n",
            "            0.50539,     0.50541,     0.50542,     0.50544,     0.50546,     0.50553,     0.50564,     0.50575,     0.50578,      0.5058,     0.50582,     0.50584,     0.50586,     0.50591,     0.50596,     0.50602,     0.50612,     0.50639,     0.50647,     0.50662,     0.50656,     0.50643,     0.50638,\n",
            "            0.50642,     0.50647,     0.50659,     0.50698,     0.50704,      0.5071,     0.50715,     0.50749,     0.50761,     0.50786,     0.50791,     0.50796,     0.50801,     0.50805,     0.50787,     0.50794,      0.5081,     0.50822,     0.50843,      0.5083,     0.50812,     0.50838,     0.50844,\n",
            "            0.50833,     0.50852,     0.50878,     0.50815,     0.50768,     0.50783,     0.50777,     0.50713,     0.50719,     0.50754,     0.50769,     0.50734,     0.50744,     0.50731,     0.50754,     0.50733,     0.50788,      0.5082,     0.50791,     0.50819,     0.50797,     0.50846,     0.50869,\n",
            "            0.50837,     0.50907,     0.50941,     0.50916,     0.50935,     0.51001,     0.51039,     0.51007,     0.50947,     0.50935,     0.50928,     0.50984,     0.51017,     0.51014,     0.50922,     0.50902,     0.50745,     0.50636,     0.50471,     0.50581,     0.50403,      0.5037,     0.50245,\n",
            "            0.50231,     0.50181,     0.50161,     0.49914,     0.49562,     0.49331,     0.49059,     0.48825,     0.48329,     0.47947,      0.4749,     0.47204,     0.46719,     0.46126,     0.45768,     0.45197,     0.44533,     0.43958,     0.42968,     0.41998,     0.41229,     0.40158,     0.38723,\n",
            "            0.37208,     0.35923,     0.34066,     0.32499,     0.30918,     0.29088,     0.27636,     0.25351,      0.2327,     0.20873,     0.18415,      0.1591,     0.13929,     0.11867,     0.10458,    0.088446,    0.075219,     0.06622,    0.057427,    0.049342,    0.042876,    0.037827,    0.029682,\n",
            "            0.02369,      0.0213,    0.019491,    0.015218,     0.01233,    0.011422,    0.010861,   0.0085113,   0.0081611,   0.0068253,   0.0051992,   0.0046112,   0.0043198,   0.0040282,   0.0021674,   0.0015036,   0.0013734,   0.0012431,   0.0011128,  0.00098246,  0.00085212,           0,           0,\n",
            "                  0,           0,           0,           0,           0,           0,           0,           0,           0,           0,           0,           0,           0,           0,           0,           0,           0,           0,           0,           0,           0,           0,           0,\n",
            "                  0,           0,           0,           0,           0,           0,           0,           0,           0,           0,           0,           0,           0,           0,           0,           0,           0,           0,           0,           0,           0,           0,           0,\n",
            "                  0,           0,           0,           0,           0,           0,           0,           0,           0,           0,           0,           0,           0,           0,           0,           0,           0,           0,           0,           0,           0,           0,           0,\n",
            "                  0,           0,           0,           0,           0,           0,           0,           0,           0,           0,           0,           0,           0,           0,           0,           0,           0,           0,           0,           0,           0,           0,           0,\n",
            "                  0,           0,           0,           0,           0,           0,           0,           0,           0,           0,           0,           0,           0,           0,           0,           0,           0,           0,           0,           0,           0,           0,           0,\n",
            "                  0,           0,           0,           0,           0,           0,           0,           0,           0,           0,           0,           0,           0,           0,           0,           0,           0,           0,           0,           0,           0,           0,           0,\n",
            "                  0,           0,           0,           0,           0,           0,           0,           0,           0,           0,           0]]), 'Confidence', 'F1'], [array([          0,    0.001001,    0.002002,    0.003003,    0.004004,    0.005005,    0.006006,    0.007007,    0.008008,    0.009009,     0.01001,    0.011011,    0.012012,    0.013013,    0.014014,    0.015015,    0.016016,    0.017017,    0.018018,    0.019019,     0.02002,    0.021021,    0.022022,    0.023023,\n",
            "          0.024024,    0.025025,    0.026026,    0.027027,    0.028028,    0.029029,     0.03003,    0.031031,    0.032032,    0.033033,    0.034034,    0.035035,    0.036036,    0.037037,    0.038038,    0.039039,     0.04004,    0.041041,    0.042042,    0.043043,    0.044044,    0.045045,    0.046046,    0.047047,\n",
            "          0.048048,    0.049049,     0.05005,    0.051051,    0.052052,    0.053053,    0.054054,    0.055055,    0.056056,    0.057057,    0.058058,    0.059059,     0.06006,    0.061061,    0.062062,    0.063063,    0.064064,    0.065065,    0.066066,    0.067067,    0.068068,    0.069069,     0.07007,    0.071071,\n",
            "          0.072072,    0.073073,    0.074074,    0.075075,    0.076076,    0.077077,    0.078078,    0.079079,     0.08008,    0.081081,    0.082082,    0.083083,    0.084084,    0.085085,    0.086086,    0.087087,    0.088088,    0.089089,     0.09009,    0.091091,    0.092092,    0.093093,    0.094094,    0.095095,\n",
            "          0.096096,    0.097097,    0.098098,    0.099099,      0.1001,      0.1011,      0.1021,      0.1031,      0.1041,     0.10511,     0.10611,     0.10711,     0.10811,     0.10911,     0.11011,     0.11111,     0.11211,     0.11311,     0.11411,     0.11512,     0.11612,     0.11712,     0.11812,     0.11912,\n",
            "           0.12012,     0.12112,     0.12212,     0.12312,     0.12412,     0.12513,     0.12613,     0.12713,     0.12813,     0.12913,     0.13013,     0.13113,     0.13213,     0.13313,     0.13413,     0.13514,     0.13614,     0.13714,     0.13814,     0.13914,     0.14014,     0.14114,     0.14214,     0.14314,\n",
            "           0.14414,     0.14515,     0.14615,     0.14715,     0.14815,     0.14915,     0.15015,     0.15115,     0.15215,     0.15315,     0.15415,     0.15516,     0.15616,     0.15716,     0.15816,     0.15916,     0.16016,     0.16116,     0.16216,     0.16316,     0.16416,     0.16517,     0.16617,     0.16717,\n",
            "           0.16817,     0.16917,     0.17017,     0.17117,     0.17217,     0.17317,     0.17417,     0.17518,     0.17618,     0.17718,     0.17818,     0.17918,     0.18018,     0.18118,     0.18218,     0.18318,     0.18418,     0.18519,     0.18619,     0.18719,     0.18819,     0.18919,     0.19019,     0.19119,\n",
            "           0.19219,     0.19319,     0.19419,      0.1952,      0.1962,      0.1972,      0.1982,      0.1992,      0.2002,      0.2012,      0.2022,      0.2032,      0.2042,     0.20521,     0.20621,     0.20721,     0.20821,     0.20921,     0.21021,     0.21121,     0.21221,     0.21321,     0.21421,     0.21522,\n",
            "           0.21622,     0.21722,     0.21822,     0.21922,     0.22022,     0.22122,     0.22222,     0.22322,     0.22422,     0.22523,     0.22623,     0.22723,     0.22823,     0.22923,     0.23023,     0.23123,     0.23223,     0.23323,     0.23423,     0.23524,     0.23624,     0.23724,     0.23824,     0.23924,\n",
            "           0.24024,     0.24124,     0.24224,     0.24324,     0.24424,     0.24525,     0.24625,     0.24725,     0.24825,     0.24925,     0.25025,     0.25125,     0.25225,     0.25325,     0.25425,     0.25526,     0.25626,     0.25726,     0.25826,     0.25926,     0.26026,     0.26126,     0.26226,     0.26326,\n",
            "           0.26426,     0.26527,     0.26627,     0.26727,     0.26827,     0.26927,     0.27027,     0.27127,     0.27227,     0.27327,     0.27427,     0.27528,     0.27628,     0.27728,     0.27828,     0.27928,     0.28028,     0.28128,     0.28228,     0.28328,     0.28428,     0.28529,     0.28629,     0.28729,\n",
            "           0.28829,     0.28929,     0.29029,     0.29129,     0.29229,     0.29329,     0.29429,      0.2953,      0.2963,      0.2973,      0.2983,      0.2993,      0.3003,      0.3013,      0.3023,      0.3033,      0.3043,     0.30531,     0.30631,     0.30731,     0.30831,     0.30931,     0.31031,     0.31131,\n",
            "           0.31231,     0.31331,     0.31431,     0.31532,     0.31632,     0.31732,     0.31832,     0.31932,     0.32032,     0.32132,     0.32232,     0.32332,     0.32432,     0.32533,     0.32633,     0.32733,     0.32833,     0.32933,     0.33033,     0.33133,     0.33233,     0.33333,     0.33433,     0.33534,\n",
            "           0.33634,     0.33734,     0.33834,     0.33934,     0.34034,     0.34134,     0.34234,     0.34334,     0.34434,     0.34535,     0.34635,     0.34735,     0.34835,     0.34935,     0.35035,     0.35135,     0.35235,     0.35335,     0.35435,     0.35536,     0.35636,     0.35736,     0.35836,     0.35936,\n",
            "           0.36036,     0.36136,     0.36236,     0.36336,     0.36436,     0.36537,     0.36637,     0.36737,     0.36837,     0.36937,     0.37037,     0.37137,     0.37237,     0.37337,     0.37437,     0.37538,     0.37638,     0.37738,     0.37838,     0.37938,     0.38038,     0.38138,     0.38238,     0.38338,\n",
            "           0.38438,     0.38539,     0.38639,     0.38739,     0.38839,     0.38939,     0.39039,     0.39139,     0.39239,     0.39339,     0.39439,      0.3954,      0.3964,      0.3974,      0.3984,      0.3994,      0.4004,      0.4014,      0.4024,      0.4034,      0.4044,     0.40541,     0.40641,     0.40741,\n",
            "           0.40841,     0.40941,     0.41041,     0.41141,     0.41241,     0.41341,     0.41441,     0.41542,     0.41642,     0.41742,     0.41842,     0.41942,     0.42042,     0.42142,     0.42242,     0.42342,     0.42442,     0.42543,     0.42643,     0.42743,     0.42843,     0.42943,     0.43043,     0.43143,\n",
            "           0.43243,     0.43343,     0.43443,     0.43544,     0.43644,     0.43744,     0.43844,     0.43944,     0.44044,     0.44144,     0.44244,     0.44344,     0.44444,     0.44545,     0.44645,     0.44745,     0.44845,     0.44945,     0.45045,     0.45145,     0.45245,     0.45345,     0.45445,     0.45546,\n",
            "           0.45646,     0.45746,     0.45846,     0.45946,     0.46046,     0.46146,     0.46246,     0.46346,     0.46446,     0.46547,     0.46647,     0.46747,     0.46847,     0.46947,     0.47047,     0.47147,     0.47247,     0.47347,     0.47447,     0.47548,     0.47648,     0.47748,     0.47848,     0.47948,\n",
            "           0.48048,     0.48148,     0.48248,     0.48348,     0.48448,     0.48549,     0.48649,     0.48749,     0.48849,     0.48949,     0.49049,     0.49149,     0.49249,     0.49349,     0.49449,      0.4955,      0.4965,      0.4975,      0.4985,      0.4995,      0.5005,      0.5015,      0.5025,      0.5035,\n",
            "            0.5045,     0.50551,     0.50651,     0.50751,     0.50851,     0.50951,     0.51051,     0.51151,     0.51251,     0.51351,     0.51451,     0.51552,     0.51652,     0.51752,     0.51852,     0.51952,     0.52052,     0.52152,     0.52252,     0.52352,     0.52452,     0.52553,     0.52653,     0.52753,\n",
            "           0.52853,     0.52953,     0.53053,     0.53153,     0.53253,     0.53353,     0.53453,     0.53554,     0.53654,     0.53754,     0.53854,     0.53954,     0.54054,     0.54154,     0.54254,     0.54354,     0.54454,     0.54555,     0.54655,     0.54755,     0.54855,     0.54955,     0.55055,     0.55155,\n",
            "           0.55255,     0.55355,     0.55455,     0.55556,     0.55656,     0.55756,     0.55856,     0.55956,     0.56056,     0.56156,     0.56256,     0.56356,     0.56456,     0.56557,     0.56657,     0.56757,     0.56857,     0.56957,     0.57057,     0.57157,     0.57257,     0.57357,     0.57457,     0.57558,\n",
            "           0.57658,     0.57758,     0.57858,     0.57958,     0.58058,     0.58158,     0.58258,     0.58358,     0.58458,     0.58559,     0.58659,     0.58759,     0.58859,     0.58959,     0.59059,     0.59159,     0.59259,     0.59359,     0.59459,      0.5956,      0.5966,      0.5976,      0.5986,      0.5996,\n",
            "            0.6006,      0.6016,      0.6026,      0.6036,      0.6046,     0.60561,     0.60661,     0.60761,     0.60861,     0.60961,     0.61061,     0.61161,     0.61261,     0.61361,     0.61461,     0.61562,     0.61662,     0.61762,     0.61862,     0.61962,     0.62062,     0.62162,     0.62262,     0.62362,\n",
            "           0.62462,     0.62563,     0.62663,     0.62763,     0.62863,     0.62963,     0.63063,     0.63163,     0.63263,     0.63363,     0.63463,     0.63564,     0.63664,     0.63764,     0.63864,     0.63964,     0.64064,     0.64164,     0.64264,     0.64364,     0.64464,     0.64565,     0.64665,     0.64765,\n",
            "           0.64865,     0.64965,     0.65065,     0.65165,     0.65265,     0.65365,     0.65465,     0.65566,     0.65666,     0.65766,     0.65866,     0.65966,     0.66066,     0.66166,     0.66266,     0.66366,     0.66466,     0.66567,     0.66667,     0.66767,     0.66867,     0.66967,     0.67067,     0.67167,\n",
            "           0.67267,     0.67367,     0.67467,     0.67568,     0.67668,     0.67768,     0.67868,     0.67968,     0.68068,     0.68168,     0.68268,     0.68368,     0.68468,     0.68569,     0.68669,     0.68769,     0.68869,     0.68969,     0.69069,     0.69169,     0.69269,     0.69369,     0.69469,      0.6957,\n",
            "            0.6967,      0.6977,      0.6987,      0.6997,      0.7007,      0.7017,      0.7027,      0.7037,      0.7047,     0.70571,     0.70671,     0.70771,     0.70871,     0.70971,     0.71071,     0.71171,     0.71271,     0.71371,     0.71471,     0.71572,     0.71672,     0.71772,     0.71872,     0.71972,\n",
            "           0.72072,     0.72172,     0.72272,     0.72372,     0.72472,     0.72573,     0.72673,     0.72773,     0.72873,     0.72973,     0.73073,     0.73173,     0.73273,     0.73373,     0.73473,     0.73574,     0.73674,     0.73774,     0.73874,     0.73974,     0.74074,     0.74174,     0.74274,     0.74374,\n",
            "           0.74474,     0.74575,     0.74675,     0.74775,     0.74875,     0.74975,     0.75075,     0.75175,     0.75275,     0.75375,     0.75475,     0.75576,     0.75676,     0.75776,     0.75876,     0.75976,     0.76076,     0.76176,     0.76276,     0.76376,     0.76476,     0.76577,     0.76677,     0.76777,\n",
            "           0.76877,     0.76977,     0.77077,     0.77177,     0.77277,     0.77377,     0.77477,     0.77578,     0.77678,     0.77778,     0.77878,     0.77978,     0.78078,     0.78178,     0.78278,     0.78378,     0.78478,     0.78579,     0.78679,     0.78779,     0.78879,     0.78979,     0.79079,     0.79179,\n",
            "           0.79279,     0.79379,     0.79479,      0.7958,      0.7968,      0.7978,      0.7988,      0.7998,      0.8008,      0.8018,      0.8028,      0.8038,      0.8048,     0.80581,     0.80681,     0.80781,     0.80881,     0.80981,     0.81081,     0.81181,     0.81281,     0.81381,     0.81481,     0.81582,\n",
            "           0.81682,     0.81782,     0.81882,     0.81982,     0.82082,     0.82182,     0.82282,     0.82382,     0.82482,     0.82583,     0.82683,     0.82783,     0.82883,     0.82983,     0.83083,     0.83183,     0.83283,     0.83383,     0.83483,     0.83584,     0.83684,     0.83784,     0.83884,     0.83984,\n",
            "           0.84084,     0.84184,     0.84284,     0.84384,     0.84484,     0.84585,     0.84685,     0.84785,     0.84885,     0.84985,     0.85085,     0.85185,     0.85285,     0.85385,     0.85485,     0.85586,     0.85686,     0.85786,     0.85886,     0.85986,     0.86086,     0.86186,     0.86286,     0.86386,\n",
            "           0.86486,     0.86587,     0.86687,     0.86787,     0.86887,     0.86987,     0.87087,     0.87187,     0.87287,     0.87387,     0.87487,     0.87588,     0.87688,     0.87788,     0.87888,     0.87988,     0.88088,     0.88188,     0.88288,     0.88388,     0.88488,     0.88589,     0.88689,     0.88789,\n",
            "           0.88889,     0.88989,     0.89089,     0.89189,     0.89289,     0.89389,     0.89489,      0.8959,      0.8969,      0.8979,      0.8989,      0.8999,      0.9009,      0.9019,      0.9029,      0.9039,      0.9049,     0.90591,     0.90691,     0.90791,     0.90891,     0.90991,     0.91091,     0.91191,\n",
            "           0.91291,     0.91391,     0.91491,     0.91592,     0.91692,     0.91792,     0.91892,     0.91992,     0.92092,     0.92192,     0.92292,     0.92392,     0.92492,     0.92593,     0.92693,     0.92793,     0.92893,     0.92993,     0.93093,     0.93193,     0.93293,     0.93393,     0.93493,     0.93594,\n",
            "           0.93694,     0.93794,     0.93894,     0.93994,     0.94094,     0.94194,     0.94294,     0.94394,     0.94494,     0.94595,     0.94695,     0.94795,     0.94895,     0.94995,     0.95095,     0.95195,     0.95295,     0.95395,     0.95495,     0.95596,     0.95696,     0.95796,     0.95896,     0.95996,\n",
            "           0.96096,     0.96196,     0.96296,     0.96396,     0.96496,     0.96597,     0.96697,     0.96797,     0.96897,     0.96997,     0.97097,     0.97197,     0.97297,     0.97397,     0.97497,     0.97598,     0.97698,     0.97798,     0.97898,     0.97998,     0.98098,     0.98198,     0.98298,     0.98398,\n",
            "           0.98498,     0.98599,     0.98699,     0.98799,     0.98899,     0.98999,     0.99099,     0.99199,     0.99299,     0.99399,     0.99499,       0.996,       0.997,       0.998,       0.999,           1]), array([[    0.26961,     0.26968,     0.35874,      0.4009,     0.42221,     0.43915,     0.44976,     0.45719,     0.46291,     0.46664,     0.46917,     0.47165,     0.47434,     0.47687,     0.47826,     0.48003,      0.4811,     0.48249,     0.48403,     0.48445,     0.48499,     0.48626,     0.48742,\n",
            "            0.48842,     0.48972,     0.49052,     0.49069,     0.49108,     0.49187,     0.49193,     0.49199,     0.49209,     0.49279,     0.49299,     0.49316,     0.49336,     0.49362,     0.49388,      0.4942,     0.49452,     0.49481,     0.49533,     0.49561,     0.49566,     0.49571,     0.49576,\n",
            "            0.49584,     0.49596,     0.49609,     0.49626,     0.49656,      0.4966,     0.49664,     0.49667,     0.49671,     0.49677,     0.49696,       0.497,     0.49703,     0.49706,      0.4971,     0.49714,     0.49721,     0.49729,     0.49736,     0.49744,     0.49752,     0.49769,     0.49802,\n",
            "            0.49825,     0.49847,     0.49851,     0.49854,     0.49858,     0.49861,     0.49865,     0.49869,     0.49874,     0.49878,     0.49883,     0.49887,     0.49892,     0.49896,       0.499,     0.49909,     0.49933,     0.49945,     0.49948,     0.49952,     0.49956,     0.49959,     0.49963,\n",
            "            0.49965,     0.49968,     0.49971,     0.49974,     0.49976,     0.49979,     0.49982,     0.49985,     0.49988,     0.49992,     0.49995,     0.49998,     0.50001,     0.50004,     0.50006,     0.50009,     0.50012,     0.50014,     0.50017,      0.5002,     0.50025,     0.50031,     0.50036,\n",
            "            0.50039,      0.5004,     0.50042,     0.50043,     0.50044,     0.50045,     0.50046,     0.50048,     0.50049,      0.5005,     0.50051,     0.50052,     0.50054,     0.50055,     0.50056,     0.50057,     0.50059,     0.50062,     0.50065,     0.50068,     0.50071,     0.50074,     0.50077,\n",
            "             0.5008,     0.50082,     0.50084,     0.50086,     0.50088,      0.5009,     0.50093,     0.50095,     0.50097,     0.50098,       0.501,     0.50101,     0.50103,     0.50104,     0.50105,     0.50107,     0.50108,      0.5011,     0.50111,     0.50113,     0.50114,     0.50115,     0.50116,\n",
            "            0.50117,     0.50118,     0.50119,      0.5012,      0.5012,     0.50121,     0.50122,     0.50123,     0.50123,     0.50124,     0.50125,     0.50126,     0.50127,     0.50127,     0.50128,     0.50129,      0.5013,      0.5013,     0.50131,     0.50132,     0.50133,     0.50134,     0.50134,\n",
            "            0.50135,     0.50136,     0.50138,     0.50139,      0.5014,     0.50142,     0.50143,     0.50145,     0.50146,     0.50148,     0.50149,      0.5015,     0.50152,     0.50153,     0.50155,     0.50155,     0.50156,     0.50157,     0.50158,     0.50158,     0.50159,      0.5016,     0.50161,\n",
            "            0.50161,     0.50162,     0.50163,     0.50164,     0.50164,     0.50165,     0.50166,     0.50167,     0.50167,     0.50168,     0.50169,     0.50169,      0.5017,     0.50171,     0.50172,     0.50172,     0.50173,     0.50174,     0.50175,     0.50176,     0.50176,     0.50177,     0.50178,\n",
            "            0.50179,      0.5018,     0.50181,     0.50182,     0.50183,     0.50184,     0.50184,     0.50185,     0.50186,     0.50187,     0.50188,     0.50189,      0.5019,     0.50191,     0.50192,     0.50192,     0.50193,     0.50197,     0.50203,     0.50208,     0.50213,     0.50214,     0.50214,\n",
            "            0.50215,     0.50215,     0.50216,     0.50216,     0.50217,     0.50217,     0.50218,     0.50218,     0.50219,      0.5022,      0.5022,     0.50221,     0.50221,     0.50222,     0.50222,     0.50223,     0.50223,     0.50224,     0.50224,     0.50225,     0.50225,     0.50226,     0.50227,\n",
            "            0.50227,     0.50228,     0.50228,     0.50229,     0.50229,      0.5023,      0.5023,     0.50231,     0.50231,     0.50232,     0.50232,     0.50234,     0.50236,     0.50239,     0.50241,     0.50243,     0.50245,     0.50247,      0.5025,     0.50252,     0.50256,     0.50261,     0.50265,\n",
            "             0.5027,     0.50272,     0.50272,     0.50273,     0.50273,     0.50274,     0.50275,     0.50275,     0.50276,     0.50276,     0.50277,     0.50277,     0.50278,     0.50278,     0.50279,     0.50279,      0.5028,      0.5028,     0.50281,     0.50281,     0.50282,     0.50283,     0.50283,\n",
            "            0.50284,     0.50284,     0.50285,     0.50285,     0.50286,     0.50286,     0.50287,     0.50287,     0.50288,     0.50288,     0.50289,      0.5029,      0.5029,     0.50291,     0.50291,     0.50292,     0.50293,     0.50294,     0.50295,     0.50296,     0.50297,     0.50298,     0.50299,\n",
            "              0.503,     0.50301,     0.50301,     0.50302,     0.50303,     0.50304,     0.50305,     0.50306,     0.50307,     0.50308,     0.50309,      0.5031,     0.50311,     0.50312,     0.50312,     0.50313,     0.50314,     0.50315,     0.50315,     0.50316,     0.50317,     0.50318,     0.50319,\n",
            "            0.50319,      0.5032,     0.50321,     0.50322,     0.50322,     0.50323,     0.50324,     0.50325,     0.50325,     0.50326,     0.50327,     0.50328,     0.50329,     0.50329,      0.5033,     0.50332,     0.50333,     0.50335,     0.50337,     0.50339,      0.5034,     0.50342,     0.50344,\n",
            "            0.50345,     0.50347,     0.50349,      0.5035,      0.5035,     0.50351,     0.50351,     0.50352,     0.50352,     0.50352,     0.50353,     0.50353,     0.50354,     0.50354,     0.50355,     0.50355,     0.50356,     0.50356,     0.50356,     0.50357,     0.50357,     0.50358,     0.50358,\n",
            "            0.50359,     0.50359,      0.5036,      0.5036,      0.5036,     0.50361,     0.50361,     0.50362,     0.50362,     0.50363,     0.50363,     0.50364,     0.50364,     0.50364,     0.50365,     0.50365,     0.50366,     0.50366,     0.50367,     0.50367,     0.50368,     0.50368,     0.50369,\n",
            "            0.50369,      0.5037,     0.50372,     0.50373,     0.50375,     0.50376,     0.50378,      0.5038,     0.50381,     0.50383,     0.50385,     0.50386,     0.50388,     0.50389,     0.50389,      0.5039,      0.5039,      0.5039,     0.50391,     0.50391,     0.50391,     0.50391,     0.50392,\n",
            "            0.50392,     0.50392,     0.50393,     0.50393,     0.50393,     0.50394,     0.50394,     0.50394,     0.50395,     0.50395,     0.50395,     0.50396,     0.50396,     0.50396,     0.50397,     0.50397,     0.50397,     0.50397,     0.50398,     0.50398,     0.50398,     0.50399,     0.50399,\n",
            "            0.50399,       0.504,       0.504,       0.504,     0.50401,     0.50401,     0.50401,     0.50402,     0.50402,     0.50402,     0.50403,     0.50403,     0.50403,     0.50403,     0.50404,     0.50404,     0.50404,     0.50405,     0.50405,     0.50405,     0.50406,     0.50406,     0.50406,\n",
            "            0.50407,     0.50407,     0.50407,     0.50408,     0.50408,     0.50408,     0.50409,     0.50409,      0.5041,     0.50411,     0.50412,     0.50413,     0.50414,     0.50415,     0.50415,     0.50416,     0.50417,     0.50418,     0.50419,      0.5042,     0.50421,     0.50421,     0.50422,\n",
            "            0.50423,     0.50424,     0.50425,     0.50426,     0.50426,     0.50427,     0.50428,     0.50429,     0.50429,      0.5043,      0.5043,     0.50431,     0.50432,     0.50432,     0.50433,     0.50433,     0.50434,     0.50434,     0.50435,     0.50435,     0.50436,     0.50437,     0.50437,\n",
            "            0.50438,     0.50438,     0.50439,     0.50439,      0.5044,     0.50441,     0.50441,     0.50442,     0.50442,     0.50443,     0.50443,     0.50444,     0.50445,     0.50445,     0.50446,     0.50446,     0.50447,     0.50447,     0.50448,     0.50449,      0.5045,      0.5045,     0.50451,\n",
            "            0.50452,     0.50453,     0.50454,     0.50454,     0.50455,     0.50456,     0.50457,     0.50457,     0.50458,     0.50459,      0.5046,     0.50461,     0.50461,     0.50462,     0.50463,     0.50464,     0.50465,     0.50465,     0.50466,     0.50467,     0.50469,     0.50473,     0.50476,\n",
            "             0.5048,     0.50483,     0.50487,     0.50488,     0.50489,     0.50489,      0.5049,     0.50491,     0.50492,     0.50492,     0.50493,     0.50494,     0.50495,     0.50495,     0.50496,     0.50497,     0.50498,     0.50499,     0.50499,       0.505,     0.50501,     0.50502,     0.50502,\n",
            "            0.50503,     0.50504,     0.50505,     0.50506,     0.50506,     0.50513,     0.50523,     0.50529,     0.50534,     0.50538,     0.50542,     0.50558,     0.50566,     0.50567,     0.50567,     0.50568,     0.50569,     0.50569,      0.5057,      0.5057,     0.50571,     0.50571,     0.50572,\n",
            "            0.50573,     0.50573,     0.50574,     0.50574,     0.50575,     0.50575,     0.50576,     0.50577,     0.50577,     0.50578,     0.50578,     0.50579,     0.50579,      0.5058,     0.50581,     0.50581,     0.50582,     0.50582,     0.50583,     0.50583,     0.50584,     0.50585,     0.50585,\n",
            "            0.50587,     0.50591,     0.50595,     0.50599,     0.50603,      0.5061,     0.50623,     0.50632,     0.50641,      0.5063,     0.50622,     0.50618,     0.50613,     0.50609,      0.5061,      0.5062,      0.5064,     0.50696,     0.50745,      0.5075,     0.50756,     0.50761,     0.50766,\n",
            "            0.50769,     0.50772,     0.50776,     0.50779,     0.50783,     0.50797,     0.50819,     0.50842,     0.50848,     0.50853,     0.50857,     0.50861,     0.50865,     0.50874,     0.50884,     0.50897,     0.50918,      0.5097,     0.50987,     0.51017,     0.51019,     0.51011,      0.5101,\n",
            "            0.51018,     0.51027,     0.51051,     0.51131,     0.51144,     0.51155,     0.51166,     0.51234,      0.5126,     0.51311,     0.51321,     0.51331,      0.5134,      0.5135,     0.51353,     0.51367,     0.51399,     0.51425,     0.51468,     0.51483,     0.51486,      0.5154,     0.51551,\n",
            "            0.51571,     0.51609,     0.51662,     0.51657,     0.51662,     0.51716,     0.51724,     0.51697,     0.51708,      0.5178,     0.51812,     0.51823,     0.51887,     0.51902,     0.51951,     0.51991,     0.52107,     0.52218,     0.52244,     0.52303,     0.52319,     0.52448,     0.52542,\n",
            "            0.52601,     0.52756,     0.52875,     0.52956,     0.53042,     0.53186,      0.5336,      0.5346,     0.53501,     0.53553,     0.53631,     0.53756,     0.53878,     0.54019,     0.54059,     0.54106,     0.54078,     0.54149,     0.54171,     0.54483,     0.54432,     0.54619,     0.54807,\n",
            "            0.54991,     0.55129,     0.55495,     0.55523,     0.55408,     0.55591,     0.55787,     0.55908,        0.56,      0.5615,     0.56227,     0.56469,     0.56443,     0.56739,     0.57333,     0.57521,     0.58057,     0.58481,     0.58533,     0.58818,     0.59187,     0.59446,     0.59532,\n",
            "            0.59532,     0.59794,      0.5984,     0.60329,     0.60663,     0.61549,     0.62151,     0.61759,      0.6228,     0.61773,     0.61801,     0.60915,     0.60876,     0.61201,     0.61447,     0.59961,     0.59932,     0.61559,     0.62721,     0.61716,     0.65662,     0.66695,     0.69783,\n",
            "            0.70446,      0.7165,     0.73833,     0.71197,     0.68735,     0.83128,     0.82412,     0.85863,      0.9132,      0.8979,     0.86975,           1,           1,           1,           1,           1,           1,           1,           1,           1,           1,           1,           1,\n",
            "                  1,           1,           1,           1,           1,           1,           1,           1,           1,           1,           1,           1,           1,           1,           1,           1,           1,           1,           1,           1,           1,           1,           1,\n",
            "                  1,           1,           1,           1,           1,           1,           1,           1,           1,           1,           1,           1,           1,           1,           1,           1,           1,           1,           1,           1,           1,           1,           1,\n",
            "                  1,           1,           1,           1,           1,           1,           1,           1,           1,           1,           1,           1,           1,           1,           1,           1,           1,           1,           1,           1,           1,           1,           1,\n",
            "                  1,           1,           1,           1,           1,           1,           1,           1,           1,           1,           1,           1,           1,           1,           1,           1,           1,           1,           1,           1,           1,           1,           1,\n",
            "                  1,           1,           1,           1,           1,           1,           1,           1,           1,           1,           1,           1,           1,           1,           1,           1,           1,           1,           1,           1,           1,           1,           1,\n",
            "                  1,           1,           1,           1,           1,           1,           1,           1,           1,           1,           1,           1,           1,           1,           1,           1,           1,           1,           1,           1,           1,           1,           1,\n",
            "                  1,           1,           1,           1,           1,           1,           1,           1,           1,           1,           1]]), 'Confidence', 'Precision'], [array([          0,    0.001001,    0.002002,    0.003003,    0.004004,    0.005005,    0.006006,    0.007007,    0.008008,    0.009009,     0.01001,    0.011011,    0.012012,    0.013013,    0.014014,    0.015015,    0.016016,    0.017017,    0.018018,    0.019019,     0.02002,    0.021021,    0.022022,    0.023023,\n",
            "          0.024024,    0.025025,    0.026026,    0.027027,    0.028028,    0.029029,     0.03003,    0.031031,    0.032032,    0.033033,    0.034034,    0.035035,    0.036036,    0.037037,    0.038038,    0.039039,     0.04004,    0.041041,    0.042042,    0.043043,    0.044044,    0.045045,    0.046046,    0.047047,\n",
            "          0.048048,    0.049049,     0.05005,    0.051051,    0.052052,    0.053053,    0.054054,    0.055055,    0.056056,    0.057057,    0.058058,    0.059059,     0.06006,    0.061061,    0.062062,    0.063063,    0.064064,    0.065065,    0.066066,    0.067067,    0.068068,    0.069069,     0.07007,    0.071071,\n",
            "          0.072072,    0.073073,    0.074074,    0.075075,    0.076076,    0.077077,    0.078078,    0.079079,     0.08008,    0.081081,    0.082082,    0.083083,    0.084084,    0.085085,    0.086086,    0.087087,    0.088088,    0.089089,     0.09009,    0.091091,    0.092092,    0.093093,    0.094094,    0.095095,\n",
            "          0.096096,    0.097097,    0.098098,    0.099099,      0.1001,      0.1011,      0.1021,      0.1031,      0.1041,     0.10511,     0.10611,     0.10711,     0.10811,     0.10911,     0.11011,     0.11111,     0.11211,     0.11311,     0.11411,     0.11512,     0.11612,     0.11712,     0.11812,     0.11912,\n",
            "           0.12012,     0.12112,     0.12212,     0.12312,     0.12412,     0.12513,     0.12613,     0.12713,     0.12813,     0.12913,     0.13013,     0.13113,     0.13213,     0.13313,     0.13413,     0.13514,     0.13614,     0.13714,     0.13814,     0.13914,     0.14014,     0.14114,     0.14214,     0.14314,\n",
            "           0.14414,     0.14515,     0.14615,     0.14715,     0.14815,     0.14915,     0.15015,     0.15115,     0.15215,     0.15315,     0.15415,     0.15516,     0.15616,     0.15716,     0.15816,     0.15916,     0.16016,     0.16116,     0.16216,     0.16316,     0.16416,     0.16517,     0.16617,     0.16717,\n",
            "           0.16817,     0.16917,     0.17017,     0.17117,     0.17217,     0.17317,     0.17417,     0.17518,     0.17618,     0.17718,     0.17818,     0.17918,     0.18018,     0.18118,     0.18218,     0.18318,     0.18418,     0.18519,     0.18619,     0.18719,     0.18819,     0.18919,     0.19019,     0.19119,\n",
            "           0.19219,     0.19319,     0.19419,      0.1952,      0.1962,      0.1972,      0.1982,      0.1992,      0.2002,      0.2012,      0.2022,      0.2032,      0.2042,     0.20521,     0.20621,     0.20721,     0.20821,     0.20921,     0.21021,     0.21121,     0.21221,     0.21321,     0.21421,     0.21522,\n",
            "           0.21622,     0.21722,     0.21822,     0.21922,     0.22022,     0.22122,     0.22222,     0.22322,     0.22422,     0.22523,     0.22623,     0.22723,     0.22823,     0.22923,     0.23023,     0.23123,     0.23223,     0.23323,     0.23423,     0.23524,     0.23624,     0.23724,     0.23824,     0.23924,\n",
            "           0.24024,     0.24124,     0.24224,     0.24324,     0.24424,     0.24525,     0.24625,     0.24725,     0.24825,     0.24925,     0.25025,     0.25125,     0.25225,     0.25325,     0.25425,     0.25526,     0.25626,     0.25726,     0.25826,     0.25926,     0.26026,     0.26126,     0.26226,     0.26326,\n",
            "           0.26426,     0.26527,     0.26627,     0.26727,     0.26827,     0.26927,     0.27027,     0.27127,     0.27227,     0.27327,     0.27427,     0.27528,     0.27628,     0.27728,     0.27828,     0.27928,     0.28028,     0.28128,     0.28228,     0.28328,     0.28428,     0.28529,     0.28629,     0.28729,\n",
            "           0.28829,     0.28929,     0.29029,     0.29129,     0.29229,     0.29329,     0.29429,      0.2953,      0.2963,      0.2973,      0.2983,      0.2993,      0.3003,      0.3013,      0.3023,      0.3033,      0.3043,     0.30531,     0.30631,     0.30731,     0.30831,     0.30931,     0.31031,     0.31131,\n",
            "           0.31231,     0.31331,     0.31431,     0.31532,     0.31632,     0.31732,     0.31832,     0.31932,     0.32032,     0.32132,     0.32232,     0.32332,     0.32432,     0.32533,     0.32633,     0.32733,     0.32833,     0.32933,     0.33033,     0.33133,     0.33233,     0.33333,     0.33433,     0.33534,\n",
            "           0.33634,     0.33734,     0.33834,     0.33934,     0.34034,     0.34134,     0.34234,     0.34334,     0.34434,     0.34535,     0.34635,     0.34735,     0.34835,     0.34935,     0.35035,     0.35135,     0.35235,     0.35335,     0.35435,     0.35536,     0.35636,     0.35736,     0.35836,     0.35936,\n",
            "           0.36036,     0.36136,     0.36236,     0.36336,     0.36436,     0.36537,     0.36637,     0.36737,     0.36837,     0.36937,     0.37037,     0.37137,     0.37237,     0.37337,     0.37437,     0.37538,     0.37638,     0.37738,     0.37838,     0.37938,     0.38038,     0.38138,     0.38238,     0.38338,\n",
            "           0.38438,     0.38539,     0.38639,     0.38739,     0.38839,     0.38939,     0.39039,     0.39139,     0.39239,     0.39339,     0.39439,      0.3954,      0.3964,      0.3974,      0.3984,      0.3994,      0.4004,      0.4014,      0.4024,      0.4034,      0.4044,     0.40541,     0.40641,     0.40741,\n",
            "           0.40841,     0.40941,     0.41041,     0.41141,     0.41241,     0.41341,     0.41441,     0.41542,     0.41642,     0.41742,     0.41842,     0.41942,     0.42042,     0.42142,     0.42242,     0.42342,     0.42442,     0.42543,     0.42643,     0.42743,     0.42843,     0.42943,     0.43043,     0.43143,\n",
            "           0.43243,     0.43343,     0.43443,     0.43544,     0.43644,     0.43744,     0.43844,     0.43944,     0.44044,     0.44144,     0.44244,     0.44344,     0.44444,     0.44545,     0.44645,     0.44745,     0.44845,     0.44945,     0.45045,     0.45145,     0.45245,     0.45345,     0.45445,     0.45546,\n",
            "           0.45646,     0.45746,     0.45846,     0.45946,     0.46046,     0.46146,     0.46246,     0.46346,     0.46446,     0.46547,     0.46647,     0.46747,     0.46847,     0.46947,     0.47047,     0.47147,     0.47247,     0.47347,     0.47447,     0.47548,     0.47648,     0.47748,     0.47848,     0.47948,\n",
            "           0.48048,     0.48148,     0.48248,     0.48348,     0.48448,     0.48549,     0.48649,     0.48749,     0.48849,     0.48949,     0.49049,     0.49149,     0.49249,     0.49349,     0.49449,      0.4955,      0.4965,      0.4975,      0.4985,      0.4995,      0.5005,      0.5015,      0.5025,      0.5035,\n",
            "            0.5045,     0.50551,     0.50651,     0.50751,     0.50851,     0.50951,     0.51051,     0.51151,     0.51251,     0.51351,     0.51451,     0.51552,     0.51652,     0.51752,     0.51852,     0.51952,     0.52052,     0.52152,     0.52252,     0.52352,     0.52452,     0.52553,     0.52653,     0.52753,\n",
            "           0.52853,     0.52953,     0.53053,     0.53153,     0.53253,     0.53353,     0.53453,     0.53554,     0.53654,     0.53754,     0.53854,     0.53954,     0.54054,     0.54154,     0.54254,     0.54354,     0.54454,     0.54555,     0.54655,     0.54755,     0.54855,     0.54955,     0.55055,     0.55155,\n",
            "           0.55255,     0.55355,     0.55455,     0.55556,     0.55656,     0.55756,     0.55856,     0.55956,     0.56056,     0.56156,     0.56256,     0.56356,     0.56456,     0.56557,     0.56657,     0.56757,     0.56857,     0.56957,     0.57057,     0.57157,     0.57257,     0.57357,     0.57457,     0.57558,\n",
            "           0.57658,     0.57758,     0.57858,     0.57958,     0.58058,     0.58158,     0.58258,     0.58358,     0.58458,     0.58559,     0.58659,     0.58759,     0.58859,     0.58959,     0.59059,     0.59159,     0.59259,     0.59359,     0.59459,      0.5956,      0.5966,      0.5976,      0.5986,      0.5996,\n",
            "            0.6006,      0.6016,      0.6026,      0.6036,      0.6046,     0.60561,     0.60661,     0.60761,     0.60861,     0.60961,     0.61061,     0.61161,     0.61261,     0.61361,     0.61461,     0.61562,     0.61662,     0.61762,     0.61862,     0.61962,     0.62062,     0.62162,     0.62262,     0.62362,\n",
            "           0.62462,     0.62563,     0.62663,     0.62763,     0.62863,     0.62963,     0.63063,     0.63163,     0.63263,     0.63363,     0.63463,     0.63564,     0.63664,     0.63764,     0.63864,     0.63964,     0.64064,     0.64164,     0.64264,     0.64364,     0.64464,     0.64565,     0.64665,     0.64765,\n",
            "           0.64865,     0.64965,     0.65065,     0.65165,     0.65265,     0.65365,     0.65465,     0.65566,     0.65666,     0.65766,     0.65866,     0.65966,     0.66066,     0.66166,     0.66266,     0.66366,     0.66466,     0.66567,     0.66667,     0.66767,     0.66867,     0.66967,     0.67067,     0.67167,\n",
            "           0.67267,     0.67367,     0.67467,     0.67568,     0.67668,     0.67768,     0.67868,     0.67968,     0.68068,     0.68168,     0.68268,     0.68368,     0.68468,     0.68569,     0.68669,     0.68769,     0.68869,     0.68969,     0.69069,     0.69169,     0.69269,     0.69369,     0.69469,      0.6957,\n",
            "            0.6967,      0.6977,      0.6987,      0.6997,      0.7007,      0.7017,      0.7027,      0.7037,      0.7047,     0.70571,     0.70671,     0.70771,     0.70871,     0.70971,     0.71071,     0.71171,     0.71271,     0.71371,     0.71471,     0.71572,     0.71672,     0.71772,     0.71872,     0.71972,\n",
            "           0.72072,     0.72172,     0.72272,     0.72372,     0.72472,     0.72573,     0.72673,     0.72773,     0.72873,     0.72973,     0.73073,     0.73173,     0.73273,     0.73373,     0.73473,     0.73574,     0.73674,     0.73774,     0.73874,     0.73974,     0.74074,     0.74174,     0.74274,     0.74374,\n",
            "           0.74474,     0.74575,     0.74675,     0.74775,     0.74875,     0.74975,     0.75075,     0.75175,     0.75275,     0.75375,     0.75475,     0.75576,     0.75676,     0.75776,     0.75876,     0.75976,     0.76076,     0.76176,     0.76276,     0.76376,     0.76476,     0.76577,     0.76677,     0.76777,\n",
            "           0.76877,     0.76977,     0.77077,     0.77177,     0.77277,     0.77377,     0.77477,     0.77578,     0.77678,     0.77778,     0.77878,     0.77978,     0.78078,     0.78178,     0.78278,     0.78378,     0.78478,     0.78579,     0.78679,     0.78779,     0.78879,     0.78979,     0.79079,     0.79179,\n",
            "           0.79279,     0.79379,     0.79479,      0.7958,      0.7968,      0.7978,      0.7988,      0.7998,      0.8008,      0.8018,      0.8028,      0.8038,      0.8048,     0.80581,     0.80681,     0.80781,     0.80881,     0.80981,     0.81081,     0.81181,     0.81281,     0.81381,     0.81481,     0.81582,\n",
            "           0.81682,     0.81782,     0.81882,     0.81982,     0.82082,     0.82182,     0.82282,     0.82382,     0.82482,     0.82583,     0.82683,     0.82783,     0.82883,     0.82983,     0.83083,     0.83183,     0.83283,     0.83383,     0.83483,     0.83584,     0.83684,     0.83784,     0.83884,     0.83984,\n",
            "           0.84084,     0.84184,     0.84284,     0.84384,     0.84484,     0.84585,     0.84685,     0.84785,     0.84885,     0.84985,     0.85085,     0.85185,     0.85285,     0.85385,     0.85485,     0.85586,     0.85686,     0.85786,     0.85886,     0.85986,     0.86086,     0.86186,     0.86286,     0.86386,\n",
            "           0.86486,     0.86587,     0.86687,     0.86787,     0.86887,     0.86987,     0.87087,     0.87187,     0.87287,     0.87387,     0.87487,     0.87588,     0.87688,     0.87788,     0.87888,     0.87988,     0.88088,     0.88188,     0.88288,     0.88388,     0.88488,     0.88589,     0.88689,     0.88789,\n",
            "           0.88889,     0.88989,     0.89089,     0.89189,     0.89289,     0.89389,     0.89489,      0.8959,      0.8969,      0.8979,      0.8989,      0.8999,      0.9009,      0.9019,      0.9029,      0.9039,      0.9049,     0.90591,     0.90691,     0.90791,     0.90891,     0.90991,     0.91091,     0.91191,\n",
            "           0.91291,     0.91391,     0.91491,     0.91592,     0.91692,     0.91792,     0.91892,     0.91992,     0.92092,     0.92192,     0.92292,     0.92392,     0.92492,     0.92593,     0.92693,     0.92793,     0.92893,     0.92993,     0.93093,     0.93193,     0.93293,     0.93393,     0.93493,     0.93594,\n",
            "           0.93694,     0.93794,     0.93894,     0.93994,     0.94094,     0.94194,     0.94294,     0.94394,     0.94494,     0.94595,     0.94695,     0.94795,     0.94895,     0.94995,     0.95095,     0.95195,     0.95295,     0.95395,     0.95495,     0.95596,     0.95696,     0.95796,     0.95896,     0.95996,\n",
            "           0.96096,     0.96196,     0.96296,     0.96396,     0.96496,     0.96597,     0.96697,     0.96797,     0.96897,     0.96997,     0.97097,     0.97197,     0.97297,     0.97397,     0.97497,     0.97598,     0.97698,     0.97798,     0.97898,     0.97998,     0.98098,     0.98198,     0.98298,     0.98398,\n",
            "           0.98498,     0.98599,     0.98699,     0.98799,     0.98899,     0.98999,     0.99099,     0.99199,     0.99299,     0.99399,     0.99499,       0.996,       0.997,       0.998,       0.999,           1]), array([[    0.50389,     0.50389,     0.50389,     0.50389,     0.50389,     0.50389,     0.50389,     0.50389,     0.50389,     0.50389,     0.50389,     0.50389,     0.50389,     0.50389,     0.50389,     0.50389,     0.50389,     0.50389,     0.50389,     0.50389,     0.50389,     0.50389,     0.50389,\n",
            "            0.50389,     0.50389,     0.50389,     0.50389,     0.50389,     0.50389,     0.50389,     0.50389,     0.50389,     0.50389,     0.50389,     0.50389,     0.50389,     0.50389,     0.50389,     0.50389,     0.50389,     0.50389,     0.50389,     0.50389,     0.50389,     0.50389,     0.50389,\n",
            "            0.50389,     0.50389,     0.50389,     0.50389,     0.50389,     0.50389,     0.50389,     0.50389,     0.50389,     0.50389,     0.50389,     0.50389,     0.50389,     0.50389,     0.50389,     0.50389,     0.50389,     0.50389,     0.50389,     0.50389,     0.50389,     0.50389,     0.50389,\n",
            "            0.50389,     0.50389,     0.50389,     0.50389,     0.50389,     0.50389,     0.50389,     0.50389,     0.50389,     0.50389,     0.50389,     0.50389,     0.50389,     0.50389,     0.50389,     0.50389,     0.50389,     0.50389,     0.50389,     0.50389,     0.50389,     0.50389,     0.50389,\n",
            "            0.50389,     0.50389,     0.50389,     0.50389,     0.50389,     0.50389,     0.50389,     0.50389,     0.50389,     0.50389,     0.50389,     0.50389,     0.50389,     0.50389,     0.50389,     0.50389,     0.50389,     0.50389,     0.50389,     0.50389,     0.50389,     0.50389,     0.50389,\n",
            "            0.50389,     0.50389,     0.50389,     0.50389,     0.50389,     0.50389,     0.50389,     0.50389,     0.50389,     0.50389,     0.50389,     0.50389,     0.50389,     0.50389,     0.50389,     0.50389,     0.50389,     0.50389,     0.50389,     0.50389,     0.50389,     0.50389,     0.50389,\n",
            "            0.50389,     0.50389,     0.50389,     0.50389,     0.50389,     0.50389,     0.50389,     0.50389,     0.50389,     0.50389,     0.50389,     0.50389,     0.50389,     0.50389,     0.50389,     0.50389,     0.50389,     0.50389,     0.50389,     0.50389,     0.50389,     0.50389,     0.50389,\n",
            "            0.50389,     0.50389,     0.50389,     0.50389,     0.50389,     0.50389,     0.50389,     0.50389,     0.50389,     0.50389,     0.50389,     0.50389,     0.50389,     0.50389,     0.50389,     0.50389,     0.50389,     0.50389,     0.50389,     0.50389,     0.50389,     0.50389,     0.50389,\n",
            "            0.50389,     0.50389,     0.50389,     0.50389,     0.50389,     0.50389,     0.50389,     0.50389,     0.50389,     0.50389,     0.50389,     0.50389,     0.50389,     0.50389,     0.50389,     0.50389,     0.50389,     0.50389,     0.50389,     0.50389,     0.50389,     0.50389,     0.50389,\n",
            "            0.50389,     0.50389,     0.50389,     0.50389,     0.50389,     0.50389,     0.50389,     0.50389,     0.50389,     0.50389,     0.50389,     0.50389,     0.50389,     0.50389,     0.50389,     0.50389,     0.50389,     0.50389,     0.50389,     0.50389,     0.50389,     0.50389,     0.50389,\n",
            "            0.50389,     0.50389,     0.50389,     0.50389,     0.50389,     0.50389,     0.50389,     0.50389,     0.50389,     0.50389,     0.50389,     0.50389,     0.50389,     0.50389,     0.50389,     0.50389,     0.50389,     0.50389,     0.50389,     0.50389,     0.50389,     0.50389,     0.50389,\n",
            "            0.50389,     0.50389,     0.50389,     0.50389,     0.50389,     0.50389,     0.50389,     0.50389,     0.50389,     0.50389,     0.50389,     0.50389,     0.50389,     0.50389,     0.50389,     0.50389,     0.50389,     0.50389,     0.50389,     0.50389,     0.50389,     0.50389,     0.50389,\n",
            "            0.50389,     0.50389,     0.50389,     0.50389,     0.50389,     0.50389,     0.50389,     0.50389,     0.50389,     0.50389,     0.50389,     0.50389,     0.50389,     0.50389,     0.50389,     0.50389,     0.50389,     0.50389,     0.50389,     0.50389,     0.50389,     0.50389,     0.50389,\n",
            "            0.50389,     0.50389,     0.50389,     0.50389,     0.50389,     0.50389,     0.50389,     0.50389,     0.50389,     0.50389,     0.50389,     0.50389,     0.50389,     0.50389,     0.50389,     0.50389,     0.50389,     0.50389,     0.50389,     0.50389,     0.50389,     0.50389,     0.50389,\n",
            "            0.50389,     0.50389,     0.50389,     0.50389,     0.50389,     0.50389,     0.50389,     0.50389,     0.50389,     0.50389,     0.50389,     0.50389,     0.50389,     0.50389,     0.50389,     0.50389,     0.50389,     0.50389,     0.50389,     0.50389,     0.50389,     0.50389,     0.50389,\n",
            "            0.50389,     0.50389,     0.50389,     0.50389,     0.50389,     0.50389,     0.50389,     0.50389,     0.50389,     0.50389,     0.50389,     0.50389,     0.50389,     0.50389,     0.50389,     0.50389,     0.50389,     0.50389,     0.50389,     0.50389,     0.50389,     0.50389,     0.50389,\n",
            "            0.50389,     0.50389,     0.50389,     0.50389,     0.50389,     0.50389,     0.50389,     0.50389,     0.50389,     0.50389,     0.50389,     0.50389,     0.50389,     0.50389,     0.50389,     0.50389,     0.50389,     0.50389,     0.50389,     0.50389,     0.50389,     0.50389,     0.50389,\n",
            "            0.50389,     0.50389,     0.50389,     0.50389,     0.50389,     0.50389,     0.50389,     0.50389,     0.50389,     0.50389,     0.50389,     0.50389,     0.50389,     0.50389,     0.50389,     0.50389,     0.50389,     0.50389,     0.50389,     0.50389,     0.50389,     0.50389,     0.50389,\n",
            "            0.50389,     0.50389,     0.50389,     0.50389,     0.50389,     0.50389,     0.50389,     0.50389,     0.50389,     0.50389,     0.50389,     0.50389,     0.50389,     0.50389,     0.50389,     0.50389,     0.50389,     0.50389,     0.50389,     0.50389,     0.50389,     0.50389,     0.50389,\n",
            "            0.50389,     0.50389,     0.50389,     0.50389,     0.50389,     0.50389,     0.50389,     0.50389,     0.50389,     0.50389,     0.50389,     0.50389,     0.50389,     0.50389,     0.50389,     0.50389,     0.50389,     0.50389,     0.50389,     0.50389,     0.50389,     0.50389,     0.50389,\n",
            "            0.50389,     0.50389,     0.50389,     0.50389,     0.50389,     0.50389,     0.50389,     0.50389,     0.50389,     0.50389,     0.50389,     0.50389,     0.50389,     0.50389,     0.50389,     0.50389,     0.50389,     0.50389,     0.50389,     0.50389,     0.50389,     0.50389,     0.50389,\n",
            "            0.50389,     0.50389,     0.50389,     0.50389,     0.50389,     0.50389,     0.50389,     0.50389,     0.50389,     0.50389,     0.50389,     0.50389,     0.50389,     0.50389,     0.50389,     0.50389,     0.50389,     0.50389,     0.50389,     0.50389,     0.50389,     0.50389,     0.50389,\n",
            "            0.50389,     0.50389,     0.50389,     0.50389,     0.50389,     0.50389,     0.50389,     0.50389,     0.50389,     0.50389,     0.50389,     0.50389,     0.50389,     0.50389,     0.50389,     0.50389,     0.50389,     0.50389,     0.50389,     0.50389,     0.50389,     0.50389,     0.50389,\n",
            "            0.50389,     0.50389,     0.50389,     0.50389,     0.50389,     0.50389,     0.50389,     0.50389,     0.50389,     0.50389,     0.50389,     0.50389,     0.50389,     0.50389,     0.50389,     0.50389,     0.50389,     0.50389,     0.50389,     0.50389,     0.50389,     0.50389,     0.50389,\n",
            "            0.50389,     0.50389,     0.50389,     0.50389,     0.50389,     0.50389,     0.50389,     0.50389,     0.50389,     0.50389,     0.50389,     0.50389,     0.50389,     0.50389,     0.50389,     0.50389,     0.50389,     0.50389,     0.50389,     0.50389,     0.50389,     0.50389,     0.50389,\n",
            "            0.50389,     0.50389,     0.50389,     0.50389,     0.50389,     0.50389,     0.50389,     0.50389,     0.50389,     0.50389,     0.50389,     0.50389,     0.50389,     0.50389,     0.50389,     0.50389,     0.50389,     0.50389,     0.50389,     0.50389,     0.50389,     0.50389,     0.50389,\n",
            "            0.50389,     0.50389,     0.50389,     0.50389,     0.50389,     0.50389,     0.50389,     0.50389,     0.50389,     0.50389,     0.50389,     0.50389,     0.50389,     0.50389,     0.50389,     0.50389,     0.50389,     0.50389,     0.50389,     0.50389,     0.50389,     0.50389,     0.50389,\n",
            "            0.50389,     0.50389,     0.50389,     0.50389,     0.50389,     0.50389,     0.50389,     0.50389,     0.50389,     0.50389,     0.50389,     0.50389,     0.50389,     0.50389,     0.50389,     0.50389,     0.50389,     0.50389,     0.50389,     0.50389,     0.50389,     0.50389,     0.50389,\n",
            "            0.50389,     0.50389,     0.50389,     0.50389,     0.50389,     0.50389,     0.50389,     0.50389,     0.50389,     0.50389,     0.50389,     0.50389,     0.50389,     0.50389,     0.50389,     0.50389,     0.50389,     0.50389,     0.50389,     0.50389,     0.50389,     0.50389,     0.50389,\n",
            "            0.50389,     0.50389,     0.50389,     0.50389,     0.50389,     0.50389,     0.50389,     0.50389,     0.50389,     0.50358,     0.50343,     0.50334,     0.50325,     0.50316,     0.50311,     0.50311,     0.50311,     0.50311,     0.50311,     0.50311,     0.50311,     0.50311,     0.50311,\n",
            "            0.50311,     0.50311,     0.50311,     0.50311,     0.50311,     0.50311,     0.50311,     0.50311,     0.50311,     0.50311,     0.50311,     0.50311,     0.50311,     0.50311,     0.50311,     0.50311,     0.50311,     0.50311,     0.50311,     0.50311,     0.50298,     0.50281,     0.50272,\n",
            "            0.50272,     0.50272,     0.50272,     0.50272,     0.50272,     0.50272,     0.50272,     0.50272,     0.50272,     0.50272,     0.50272,     0.50272,     0.50272,     0.50272,     0.50233,     0.50233,     0.50233,     0.50233,     0.50233,     0.50194,     0.50156,     0.50156,     0.50156,\n",
            "            0.50117,     0.50117,     0.50117,         0.5,     0.49905,     0.49883,     0.49864,     0.49767,     0.49767,     0.49767,     0.49767,     0.49689,      0.4965,     0.49611,     0.49611,     0.49533,     0.49533,     0.49495,     0.49417,     0.49417,     0.49361,     0.49339,       0.493,\n",
            "            0.49187,     0.49184,     0.49145,     0.49028,     0.48989,     0.48989,     0.48911,     0.48769,     0.48627,     0.48561,     0.48484,     0.48484,     0.48445,     0.48326,     0.48129,     0.48056,       0.478,     0.47551,     0.47244,     0.47201,     0.46928,     0.46734,     0.46384,\n",
            "            0.46229,     0.46048,     0.45762,     0.45333,     0.44832,     0.44339,     0.43779,     0.43335,     0.42507,     0.41835,     0.41103,     0.40551,     0.39852,     0.38858,     0.38086,     0.37222,      0.3612,     0.35213,     0.33942,     0.32659,     0.31632,      0.3032,     0.28694,\n",
            "            0.27061,     0.25674,      0.2381,      0.2224,     0.20746,     0.19044,     0.17768,     0.15949,     0.14308,     0.12558,     0.10819,    0.091502,    0.078644,    0.065708,    0.057154,    0.047744,    0.040128,    0.034992,    0.030091,    0.025698,    0.022162,    0.019465,    0.015163,\n",
            "           0.012048,    0.010811,   0.0098759,   0.0076911,   0.0062208,   0.0057505,   0.0054668,   0.0042768,   0.0040989,   0.0034257,   0.0026074,   0.0023109,   0.0021646,   0.0020182,   0.0010849,  0.00075239,  0.00068716,  0.00062193,   0.0005567,  0.00049147,  0.00042624,           0,           0,\n",
            "                  0,           0,           0,           0,           0,           0,           0,           0,           0,           0,           0,           0,           0,           0,           0,           0,           0,           0,           0,           0,           0,           0,           0,\n",
            "                  0,           0,           0,           0,           0,           0,           0,           0,           0,           0,           0,           0,           0,           0,           0,           0,           0,           0,           0,           0,           0,           0,           0,\n",
            "                  0,           0,           0,           0,           0,           0,           0,           0,           0,           0,           0,           0,           0,           0,           0,           0,           0,           0,           0,           0,           0,           0,           0,\n",
            "                  0,           0,           0,           0,           0,           0,           0,           0,           0,           0,           0,           0,           0,           0,           0,           0,           0,           0,           0,           0,           0,           0,           0,\n",
            "                  0,           0,           0,           0,           0,           0,           0,           0,           0,           0,           0,           0,           0,           0,           0,           0,           0,           0,           0,           0,           0,           0,           0,\n",
            "                  0,           0,           0,           0,           0,           0,           0,           0,           0,           0,           0,           0,           0,           0,           0,           0,           0,           0,           0,           0,           0,           0,           0,\n",
            "                  0,           0,           0,           0,           0,           0,           0,           0,           0,           0,           0]]), 'Confidence', 'Recall']]\n",
            "fitness: np.float64(0.9600529804084827)\n",
            "keys: ['metrics/precision(B)', 'metrics/recall(B)', 'metrics/mAP50(B)', 'metrics/mAP50-95(B)', 'metrics/precision(P)', 'metrics/recall(P)', 'metrics/mAP50(P)', 'metrics/mAP50-95(P)']\n",
            "maps: array([    0.91492])\n",
            "names: {0: 'chamber'}\n",
            "nt_per_class: array([2572])\n",
            "nt_per_image: array([2572])\n",
            "pose: ultralytics.utils.metrics.Metric object\n",
            "results_dict: {'metrics/precision(B)': np.float64(0.9976628127636049), 'metrics/recall(B)': np.float64(0.9980559875583204), 'metrics/mAP50(B)': np.float64(0.995), 'metrics/mAP50-95(B)': np.float64(0.8130719714891791), 'metrics/precision(P)': np.float64(0.5136651596996126), 'metrics/recall(P)': np.float64(0.5023328149300156), 'metrics/mAP50(P)': np.float64(0.3712688864470991), 'metrics/mAP50-95(P)': np.float64(0.10184590824834613), 'fitness': np.float64(0.9600529804084827)}\n",
            "save_dir: PosixPath('runs/pose/val')\n",
            "speed: {'preprocess': 0.06234967885112788, 'inference': 2.049909873632522, 'loss': 0.0011080956480934386, 'postprocess': 1.5294025800882975}\n",
            "stats: {'tp': [], 'conf': [], 'pred_cls': [], 'target_cls': [], 'target_img': [], 'tp_p': []}\n",
            "task: 'pose'\n"
          ]
        }
      ],
      "source": [
        "# Cell ×: Evaluate\n",
        "model = YOLO(\"runs/pose/train16/weights/best.pt\")\n",
        "metrics = model.val(data=\"data_keypoints.yaml\", imgsz=128, device=0)\n",
        "print(metrics)\n"
      ]
    },
    {
      "cell_type": "code",
      "source": [
        "results = model.predict(source='/content/yolo_keypoints_dataset/yolo_keypoints_dataset/test/images/0X100CF05D141FF143_f132.jpg', save=False, imgsz=128)\n"
      ],
      "metadata": {
        "colab": {
          "base_uri": "https://localhost:8080/"
        },
        "id": "MM4yihMY035t",
        "outputId": "7877d32e-21f6-4388-f77f-3ddf8800a3ba"
      },
      "execution_count": 11,
      "outputs": [
        {
          "output_type": "stream",
          "name": "stdout",
          "text": [
            "\n",
            "image 1/1 /content/yolo_keypoints_dataset/yolo_keypoints_dataset/test/images/0X100CF05D141FF143_f132.jpg: 128x128 1 chamber, 12.2ms\n",
            "Speed: 1.0ms preprocess, 12.2ms inference, 2.0ms postprocess per image at shape (1, 3, 128, 128)\n"
          ]
        }
      ]
    },
    {
      "cell_type": "code",
      "source": [
        "import cv2\n",
        "import numpy as np\n",
        "import matplotlib.pyplot as plt\n",
        "\n",
        "img = results[0].orig_img.copy()\n",
        "# Extract keypoints (shape: [num_detections, num_keypoints, 3] - x, y, confidence)\n",
        "keypoints = results[0].keypoints.data.cpu().numpy()  # shape: (1, 40, 3) for one detection\n",
        "keypoints = keypoints[0][:, :2]  # shape: (40, 2) — just x, y coordinates\n",
        "\n",
        "# Calculate centroid\n",
        "center = np.mean(keypoints, axis=0)\n",
        "\n",
        "# Sort points by angle around the center (for polygon)\n",
        "angles = np.arctan2(keypoints[:, 1] - center[1], keypoints[:, 0] - center[0])\n",
        "sorted_idx = np.argsort(angles)\n",
        "sorted_points = keypoints[sorted_idx]\n",
        "\n",
        "# Convert to int32 for drawing\n",
        "sorted_points = np.array(sorted_points, dtype=np.int32)\n",
        "\n",
        "# Draw polygon on the image\n",
        "cv2.polylines(img, [sorted_points], isClosed=True, color=(0, 255, 0), thickness=2)\n",
        "\n",
        "# Plot\n",
        "plt.figure(figsize=(6, 6))\n",
        "plt.imshow(cv2.cvtColor(img, cv2.COLOR_BGR2RGB))\n",
        "plt.title(\"Polygon from YOLO Keypoints\")\n",
        "plt.axis(\"off\")\n",
        "plt.show()\n"
      ],
      "metadata": {
        "colab": {
          "base_uri": "https://localhost:8080/",
          "height": 521
        },
        "id": "9r9gi8HS1P97",
        "outputId": "43acab2b-38d7-431b-f0a8-b16ec6e17bf8"
      },
      "execution_count": 16,
      "outputs": [
        {
          "output_type": "display_data",
          "data": {
            "text/plain": [
              "<Figure size 600x600 with 1 Axes>"
            ],
            "image/png": "[encoded data removed]"
          },
          "metadata": {}
        }
      ]
    },
    {
      "cell_type": "code",
      "execution_count": 20,
      "metadata": {
        "id": "p4nY3qfmA7bV",
        "colab": {
          "base_uri": "https://localhost:8080/",
          "height": 1000
        },
        "outputId": "9c2fcf4c-92b8-4d8c-fa3f-2bd9efa866ee"
      },
      "outputs": [
        {
          "output_type": "stream",
          "name": "stdout",
          "text": [
            "\n",
            "image 1/1 /content/yolo_keypoints_dataset/yolo_keypoints_dataset/test/images/0X100CF05D141FF143_f132.jpg: 128x128 1 chamber, 10.4ms\n",
            "Speed: 0.5ms preprocess, 10.4ms inference, 1.8ms postprocess per image at shape (1, 3, 128, 128)\n"
          ]
        },
        {
          "output_type": "display_data",
          "data": {
            "text/plain": [
              "<Figure size 600x600 with 1 Axes>"
            ],
            "image/png": "[encoded data removed]"
          },
          "metadata": {}
        },
        {
          "output_type": "stream",
          "name": "stdout",
          "text": [
            " \n",
            "\n",
            "image 1/1 /content/yolo_keypoints_dataset/yolo_keypoints_dataset/test/images/0X100CF05D141FF143_f148.jpg: 128x128 1 chamber, 15.2ms\n",
            "Speed: 0.9ms preprocess, 15.2ms inference, 1.9ms postprocess per image at shape (1, 3, 128, 128)\n"
          ]
        },
        {
          "output_type": "display_data",
          "data": {
            "text/plain": [
              "<Figure size 600x600 with 1 Axes>"
            ],
            "image/png": "[encoded data removed]"
          },
          "metadata": {}
        },
        {
          "output_type": "stream",
          "name": "stdout",
          "text": [
            " \n",
            "\n",
            "image 1/1 /content/yolo_keypoints_dataset/yolo_keypoints_dataset/test/images/0X1012703CDC1436FE_f154.jpg: 128x128 1 chamber, 18.1ms\n",
            "Speed: 0.8ms preprocess, 18.1ms inference, 2.0ms postprocess per image at shape (1, 3, 128, 128)\n"
          ]
        },
        {
          "output_type": "display_data",
          "data": {
            "text/plain": [
              "<Figure size 600x600 with 1 Axes>"
            ],
            "image/png": "[encoded data removed]"
          },
          "metadata": {}
        },
        {
          "output_type": "stream",
          "name": "stdout",
          "text": [
            " \n",
            "\n",
            "image 1/1 /content/yolo_keypoints_dataset/yolo_keypoints_dataset/test/images/0X1012703CDC1436FE_f172.jpg: 128x128 1 chamber, 15.6ms\n",
            "Speed: 1.0ms preprocess, 15.6ms inference, 2.1ms postprocess per image at shape (1, 3, 128, 128)\n"
          ]
        },
        {
          "output_type": "display_data",
          "data": {
            "text/plain": [
              "<Figure size 600x600 with 1 Axes>"
            ],
            "image/png": "[encoded data removed]"
          },
          "metadata": {}
        },
        {
          "output_type": "stream",
          "name": "stdout",
          "text": [
            " \n",
            "\n",
            "image 1/1 /content/yolo_keypoints_dataset/yolo_keypoints_dataset/test/images/0X102CFB07F752AAE6_f163.jpg: 128x128 1 chamber, 15.1ms\n",
            "Speed: 0.8ms preprocess, 15.1ms inference, 2.1ms postprocess per image at shape (1, 3, 128, 128)\n"
          ]
        },
        {
          "output_type": "display_data",
          "data": {
            "text/plain": [
              "<Figure size 600x600 with 1 Axes>"
            ],
            "image/png": "[encoded data removed]"
          },
          "metadata": {}
        },
        {
          "output_type": "stream",
          "name": "stdout",
          "text": [
            " \n",
            "\n",
            "image 1/1 /content/yolo_keypoints_dataset/yolo_keypoints_dataset/test/images/0X102CFB07F752AAE6_f184.jpg: 128x128 1 chamber, 17.4ms\n",
            "Speed: 0.8ms preprocess, 17.4ms inference, 2.1ms postprocess per image at shape (1, 3, 128, 128)\n"
          ]
        },
        {
          "output_type": "display_data",
          "data": {
            "text/plain": [
              "<Figure size 600x600 with 1 Axes>"
            ],
            "image/png": "[encoded data removed]"
          },
          "metadata": {}
        },
        {
          "output_type": "stream",
          "name": "stdout",
          "text": [
            " \n",
            "\n",
            "image 1/1 /content/yolo_keypoints_dataset/yolo_keypoints_dataset/test/images/0X105B9EF57DE45DCB_f106.jpg: 128x128 1 chamber, 21.5ms\n",
            "Speed: 1.1ms preprocess, 21.5ms inference, 2.3ms postprocess per image at shape (1, 3, 128, 128)\n"
          ]
        },
        {
          "output_type": "display_data",
          "data": {
            "text/plain": [
              "<Figure size 600x600 with 1 Axes>"
            ],
            "image/png": "[encoded data removed]"
          },
          "metadata": {}
        },
        {
          "output_type": "stream",
          "name": "stdout",
          "text": [
            " \n",
            "\n",
            "image 1/1 /content/yolo_keypoints_dataset/yolo_keypoints_dataset/test/images/0X105B9EF57DE45DCB_f121.jpg: 128x128 1 chamber, 18.3ms\n",
            "Speed: 0.8ms preprocess, 18.3ms inference, 2.0ms postprocess per image at shape (1, 3, 128, 128)\n"
          ]
        },
        {
          "output_type": "display_data",
          "data": {
            "text/plain": [
              "<Figure size 600x600 with 1 Axes>"
            ],
            "image/png": "[encoded data removed]"
          },
          "metadata": {}
        },
        {
          "output_type": "stream",
          "name": "stdout",
          "text": [
            " \n",
            "\n",
            "image 1/1 /content/yolo_keypoints_dataset/yolo_keypoints_dataset/test/images/0X10A28877E97DF540_f69.jpg: 128x128 1 chamber, 19.4ms\n",
            "Speed: 0.9ms preprocess, 19.4ms inference, 2.3ms postprocess per image at shape (1, 3, 128, 128)\n"
          ]
        },
        {
          "output_type": "display_data",
          "data": {
            "text/plain": [
              "<Figure size 600x600 with 1 Axes>"
            ],
            "image/png": "[encoded data removed]"
          },
          "metadata": {}
        },
        {
          "output_type": "stream",
          "name": "stdout",
          "text": [
            " \n",
            "\n",
            "image 1/1 /content/yolo_keypoints_dataset/yolo_keypoints_dataset/test/images/0X10A28877E97DF540_f87.jpg: 128x128 1 chamber, 21.3ms\n",
            "Speed: 0.7ms preprocess, 21.3ms inference, 2.1ms postprocess per image at shape (1, 3, 128, 128)\n"
          ]
        },
        {
          "output_type": "display_data",
          "data": {
            "text/plain": [
              "<Figure size 600x600 with 1 Axes>"
            ],
            "image/png": "[encoded data removed]"
          },
          "metadata": {}
        },
        {
          "output_type": "stream",
          "name": "stdout",
          "text": [
            " \n"
          ]
        }
      ],
      "source": [
        "from ultralytics import YOLO\n",
        "from pathlib import Path\n",
        "from PIL import Image, ImageDraw\n",
        "import matplotlib.pyplot as plt\n",
        "import numpy as np\n",
        "\n",
        "model = YOLO(\"runs/pose/train16/weights/best.pt\")\n",
        "test_images = sorted((Path('yolo_keypoints_dataset/yolo_keypoints_dataset/')/\"test\"/\"images\").glob(\"*.jpg\"))\n",
        "\n",
        "for img_path in test_images[:10]:\n",
        "    results = model.predict(source=str(img_path), save=False, imgsz=128)\n",
        "    img = results[0].orig_img.copy()\n",
        "    # Extract keypoints (shape: [num_detections, num_keypoints, 3] - x, y, confidence)\n",
        "    keypoints = results[0].keypoints.data.cpu().numpy()  # shape: (1, 40, 3) for one detection\n",
        "    keypoints = keypoints[0][:, :2]  # shape: (40, 2) — just x, y coordinates\n",
        "\n",
        "    # Calculate centroid\n",
        "    center = np.mean(keypoints, axis=0)\n",
        "\n",
        "    # Sort points by angle around the center (for polygon)\n",
        "    angles = np.arctan2(keypoints[:, 1] - center[1], keypoints[:, 0] - center[0])\n",
        "    sorted_idx = np.argsort(angles)\n",
        "    sorted_points = keypoints[sorted_idx]\n",
        "\n",
        "    # Convert to int32 for drawing\n",
        "    sorted_points = np.array(sorted_points, dtype=np.int32)\n",
        "\n",
        "    # Draw polygon on the image\n",
        "    cv2.polylines(img, [sorted_points], isClosed=True, color=(0, 255, 0), thickness=2)\n",
        "\n",
        "    # Plot\n",
        "    plt.figure(figsize=(6, 6))\n",
        "    plt.imshow(cv2.cvtColor(img, cv2.COLOR_BGR2RGB))\n",
        "    plt.title(\"Polygon from YOLO Keypoints\")\n",
        "    plt.axis(\"off\")\n",
        "    plt.show()\n",
        "    print(' ')\n",
        "\n"
      ]
    },
    {
      "cell_type": "code",
      "execution_count": null,
      "metadata": {
        "id": "7-Vz0-rHIu7S"
      },
      "outputs": [],
      "source": []
    }
  ],
  "metadata": {
    "accelerator": "GPU",
    "colab": {
      "gpuType": "T4",
      "provenance": []
    },
    "kernelspec": {
      "display_name": "Python 3",
      "name": "python3"
    },
    "language_info": {
      "name": "python"
    }
  },
  "nbformat": 4,
  "nbformat_minor": 0
}