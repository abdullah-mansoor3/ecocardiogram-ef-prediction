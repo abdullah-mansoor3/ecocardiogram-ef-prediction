{
  "cells": [
    {
      "cell_type": "markdown",
      "metadata": {
        "id": "yHtQB9OlB_4w"
      },
      "source": [
        "# Prepare Data"
      ]
    },
    {
      "cell_type": "code",
      "execution_count": null,
      "metadata": {
        "id": "c73muSML4LVI"
      },
      "outputs": [],
      "source": [
        "!unzip -q yolo_keypoints_dataset.zip -d yolo_keypoints_dataset"
      ]
    },
    {
      "cell_type": "markdown",
      "metadata": {
        "id": "DnvEdEIBzoa9"
      },
      "source": [
        "# Train the Model"
      ]
    },
    {
      "cell_type": "code",
      "execution_count": null,
      "metadata": {
        "colab": {
          "base_uri": "https://localhost:8080/"
        },
        "id": "r01Zfzsv_UKR",
        "outputId": "47c40299-c22e-45d6-da62-f3b12c2c5314"
      },
      "outputs": [
        {
          "name": "stdout",
          "output_type": "stream",
          "text": [
            "Collecting ultralytics\n",
            "  Downloading ultralytics-8.3.173-py3-none-any.whl.metadata (37 kB)\n",
            "Requirement already satisfied: numpy>=1.23.0 in /usr/local/lib/python3.11/dist-packages (from ultralytics) (2.0.2)\n",
            "Requirement already satisfied: matplotlib>=3.3.0 in /usr/local/lib/python3.11/dist-packages (from ultralytics) (3.10.0)\n",
            "Requirement already satisfied: opencv-python>=4.6.0 in /usr/local/lib/python3.11/dist-packages (from ultralytics) (4.12.0.88)\n",
            "Requirement already satisfied: pillow>=7.1.2 in /usr/local/lib/python3.11/dist-packages (from ultralytics) (11.3.0)\n",
            "Requirement already satisfied: pyyaml>=5.3.1 in /usr/local/lib/python3.11/dist-packages (from ultralytics) (6.0.2)\n",
            "Requirement already satisfied: requests>=2.23.0 in /usr/local/lib/python3.11/dist-packages (from ultralytics) (2.32.3)\n",
            "Requirement already satisfied: scipy>=1.4.1 in /usr/local/lib/python3.11/dist-packages (from ultralytics) (1.16.0)\n",
            "Requirement already satisfied: torch>=1.8.0 in /usr/local/lib/python3.11/dist-packages (from ultralytics) (2.6.0+cu124)\n",
            "Requirement already satisfied: torchvision>=0.9.0 in /usr/local/lib/python3.11/dist-packages (from ultralytics) (0.21.0+cu124)\n",
            "Requirement already satisfied: tqdm>=4.64.0 in /usr/local/lib/python3.11/dist-packages (from ultralytics) (4.67.1)\n",
            "Requirement already satisfied: psutil in /usr/local/lib/python3.11/dist-packages (from ultralytics) (5.9.5)\n",
            "Requirement already satisfied: py-cpuinfo in /usr/local/lib/python3.11/dist-packages (from ultralytics) (9.0.0)\n",
            "Requirement already satisfied: pandas>=1.1.4 in /usr/local/lib/python3.11/dist-packages (from ultralytics) (2.2.2)\n",
            "Collecting ultralytics-thop>=2.0.0 (from ultralytics)\n",
            "  Downloading ultralytics_thop-2.0.15-py3-none-any.whl.metadata (14 kB)\n",
            "Requirement already satisfied: contourpy>=1.0.1 in /usr/local/lib/python3.11/dist-packages (from matplotlib>=3.3.0->ultralytics) (1.3.2)\n",
            "Requirement already satisfied: cycler>=0.10 in /usr/local/lib/python3.11/dist-packages (from matplotlib>=3.3.0->ultralytics) (0.12.1)\n",
            "Requirement already satisfied: fonttools>=4.22.0 in /usr/local/lib/python3.11/dist-packages (from matplotlib>=3.3.0->ultralytics) (4.59.0)\n",
            "Requirement already satisfied: kiwisolver>=1.3.1 in /usr/local/lib/python3.11/dist-packages (from matplotlib>=3.3.0->ultralytics) (1.4.8)\n",
            "Requirement already satisfied: packaging>=20.0 in /usr/local/lib/python3.11/dist-packages (from matplotlib>=3.3.0->ultralytics) (25.0)\n",
            "Requirement already satisfied: pyparsing>=2.3.1 in /usr/local/lib/python3.11/dist-packages (from matplotlib>=3.3.0->ultralytics) (3.2.3)\n",
            "Requirement already satisfied: python-dateutil>=2.7 in /usr/local/lib/python3.11/dist-packages (from matplotlib>=3.3.0->ultralytics) (2.9.0.post0)\n",
            "Requirement already satisfied: pytz>=2020.1 in /usr/local/lib/python3.11/dist-packages (from pandas>=1.1.4->ultralytics) (2025.2)\n",
            "Requirement already satisfied: tzdata>=2022.7 in /usr/local/lib/python3.11/dist-packages (from pandas>=1.1.4->ultralytics) (2025.2)\n",
            "Requirement already satisfied: charset-normalizer<4,>=2 in /usr/local/lib/python3.11/dist-packages (from requests>=2.23.0->ultralytics) (3.4.2)\n",
            "Requirement already satisfied: idna<4,>=2.5 in /usr/local/lib/python3.11/dist-packages (from requests>=2.23.0->ultralytics) (3.10)\n",
            "Requirement already satisfied: urllib3<3,>=1.21.1 in /usr/local/lib/python3.11/dist-packages (from requests>=2.23.0->ultralytics) (2.5.0)\n",
            "Requirement already satisfied: certifi>=2017.4.17 in /usr/local/lib/python3.11/dist-packages (from requests>=2.23.0->ultralytics) (2025.7.14)\n",
            "Requirement already satisfied: filelock in /usr/local/lib/python3.11/dist-packages (from torch>=1.8.0->ultralytics) (3.18.0)\n",
            "Requirement already satisfied: typing-extensions>=4.10.0 in /usr/local/lib/python3.11/dist-packages (from torch>=1.8.0->ultralytics) (4.14.1)\n",
            "Requirement already satisfied: networkx in /usr/local/lib/python3.11/dist-packages (from torch>=1.8.0->ultralytics) (3.5)\n",
            "Requirement already satisfied: jinja2 in /usr/local/lib/python3.11/dist-packages (from torch>=1.8.0->ultralytics) (3.1.6)\n",
            "Requirement already satisfied: fsspec in /usr/local/lib/python3.11/dist-packages (from torch>=1.8.0->ultralytics) (2025.3.0)\n",
            "Collecting nvidia-cuda-nvrtc-cu12==12.4.127 (from torch>=1.8.0->ultralytics)\n",
            "  Downloading nvidia_cuda_nvrtc_cu12-12.4.127-py3-none-manylinux2014_x86_64.whl.metadata (1.5 kB)\n",
            "Collecting nvidia-cuda-runtime-cu12==12.4.127 (from torch>=1.8.0->ultralytics)\n",
            "  Downloading nvidia_cuda_runtime_cu12-12.4.127-py3-none-manylinux2014_x86_64.whl.metadata (1.5 kB)\n",
            "Collecting nvidia-cuda-cupti-cu12==12.4.127 (from torch>=1.8.0->ultralytics)\n",
            "  Downloading nvidia_cuda_cupti_cu12-12.4.127-py3-none-manylinux2014_x86_64.whl.metadata (1.6 kB)\n",
            "Collecting nvidia-cudnn-cu12==9.1.0.70 (from torch>=1.8.0->ultralytics)\n",
            "  Downloading nvidia_cudnn_cu12-9.1.0.70-py3-none-manylinux2014_x86_64.whl.metadata (1.6 kB)\n",
            "Collecting nvidia-cublas-cu12==12.4.5.8 (from torch>=1.8.0->ultralytics)\n",
            "  Downloading nvidia_cublas_cu12-12.4.5.8-py3-none-manylinux2014_x86_64.whl.metadata (1.5 kB)\n",
            "Collecting nvidia-cufft-cu12==11.2.1.3 (from torch>=1.8.0->ultralytics)\n",
            "  Downloading nvidia_cufft_cu12-11.2.1.3-py3-none-manylinux2014_x86_64.whl.metadata (1.5 kB)\n",
            "Collecting nvidia-curand-cu12==10.3.5.147 (from torch>=1.8.0->ultralytics)\n",
            "  Downloading nvidia_curand_cu12-10.3.5.147-py3-none-manylinux2014_x86_64.whl.metadata (1.5 kB)\n",
            "Collecting nvidia-cusolver-cu12==11.6.1.9 (from torch>=1.8.0->ultralytics)\n",
            "  Downloading nvidia_cusolver_cu12-11.6.1.9-py3-none-manylinux2014_x86_64.whl.metadata (1.6 kB)\n",
            "Collecting nvidia-cusparse-cu12==12.3.1.170 (from torch>=1.8.0->ultralytics)\n",
            "  Downloading nvidia_cusparse_cu12-12.3.1.170-py3-none-manylinux2014_x86_64.whl.metadata (1.6 kB)\n",
            "Requirement already satisfied: nvidia-cusparselt-cu12==0.6.2 in /usr/local/lib/python3.11/dist-packages (from torch>=1.8.0->ultralytics) (0.6.2)\n",
            "Requirement already satisfied: nvidia-nccl-cu12==2.21.5 in /usr/local/lib/python3.11/dist-packages (from torch>=1.8.0->ultralytics) (2.21.5)\n",
            "Requirement already satisfied: nvidia-nvtx-cu12==12.4.127 in /usr/local/lib/python3.11/dist-packages (from torch>=1.8.0->ultralytics) (12.4.127)\n",
            "Collecting nvidia-nvjitlink-cu12==12.4.127 (from torch>=1.8.0->ultralytics)\n",
            "  Downloading nvidia_nvjitlink_cu12-12.4.127-py3-none-manylinux2014_x86_64.whl.metadata (1.5 kB)\n",
            "Requirement already satisfied: triton==3.2.0 in /usr/local/lib/python3.11/dist-packages (from torch>=1.8.0->ultralytics) (3.2.0)\n",
            "Requirement already satisfied: sympy==1.13.1 in /usr/local/lib/python3.11/dist-packages (from torch>=1.8.0->ultralytics) (1.13.1)\n",
            "Requirement already satisfied: mpmath<1.4,>=1.1.0 in /usr/local/lib/python3.11/dist-packages (from sympy==1.13.1->torch>=1.8.0->ultralytics) (1.3.0)\n",
            "Requirement already satisfied: six>=1.5 in /usr/local/lib/python3.11/dist-packages (from python-dateutil>=2.7->matplotlib>=3.3.0->ultralytics) (1.17.0)\n",
            "Requirement already satisfied: MarkupSafe>=2.0 in /usr/local/lib/python3.11/dist-packages (from jinja2->torch>=1.8.0->ultralytics) (3.0.2)\n",
            "Downloading ultralytics-8.3.173-py3-none-any.whl (1.0 MB)\n",
            "\u001b[2K   \u001b[90m━━━━━━━━━━━━━━━━━━━━━━━━━━━━━━━━━━━━━━━━\u001b[0m \u001b[32m1.0/1.0 MB\u001b[0m \u001b[31m24.9 MB/s\u001b[0m eta \u001b[36m0:00:00\u001b[0m\n",
            "\u001b[?25hDownloading nvidia_cublas_cu12-12.4.5.8-py3-none-manylinux2014_x86_64.whl (363.4 MB)\n",
            "\u001b[2K   \u001b[90m━━━━━━━━━━━━━━━━━━━━━━━━━━━━━━━━━━━━━━━━\u001b[0m \u001b[32m363.4/363.4 MB\u001b[0m \u001b[31m1.6 MB/s\u001b[0m eta \u001b[36m0:00:00\u001b[0m\n",
            "\u001b[?25hDownloading nvidia_cuda_cupti_cu12-12.4.127-py3-none-manylinux2014_x86_64.whl (13.8 MB)\n",
            "\u001b[2K   \u001b[90m━━━━━━━━━━━━━━━━━━━━━━━━━━━━━━━━━━━━━━━━\u001b[0m \u001b[32m13.8/13.8 MB\u001b[0m \u001b[31m110.2 MB/s\u001b[0m eta \u001b[36m0:00:00\u001b[0m\n",
            "\u001b[?25hDownloading nvidia_cuda_nvrtc_cu12-12.4.127-py3-none-manylinux2014_x86_64.whl (24.6 MB)\n",
            "\u001b[2K   \u001b[90m━━━━━━━━━━━━━━━━━━━━━━━━━━━━━━━━━━━━━━━━\u001b[0m \u001b[32m24.6/24.6 MB\u001b[0m \u001b[31m92.9 MB/s\u001b[0m eta \u001b[36m0:00:00\u001b[0m\n",
            "\u001b[?25hDownloading nvidia_cuda_runtime_cu12-12.4.127-py3-none-manylinux2014_x86_64.whl (883 kB)\n",
            "\u001b[2K   \u001b[90m━━━━━━━━━━━━━━━━━━━━━━━━━━━━━━━━━━━━━━━━\u001b[0m \u001b[32m883.7/883.7 kB\u001b[0m \u001b[31m61.1 MB/s\u001b[0m eta \u001b[36m0:00:00\u001b[0m\n",
            "\u001b[?25hDownloading nvidia_cudnn_cu12-9.1.0.70-py3-none-manylinux2014_x86_64.whl (664.8 MB)\n",
            "\u001b[2K   \u001b[90m━━━━━━━━━━━━━━━━━━━━━━━━━━━━━━━━━━━━━━━━\u001b[0m \u001b[32m664.8/664.8 MB\u001b[0m \u001b[31m2.8 MB/s\u001b[0m eta \u001b[36m0:00:00\u001b[0m\n",
            "\u001b[?25hDownloading nvidia_cufft_cu12-11.2.1.3-py3-none-manylinux2014_x86_64.whl (211.5 MB)\n",
            "\u001b[2K   \u001b[90m━━━━━━━━━━━━━━━━━━━━━━━━━━━━━━━━━━━━━━━━\u001b[0m \u001b[32m211.5/211.5 MB\u001b[0m \u001b[31m5.4 MB/s\u001b[0m eta \u001b[36m0:00:00\u001b[0m\n",
            "\u001b[?25hDownloading nvidia_curand_cu12-10.3.5.147-py3-none-manylinux2014_x86_64.whl (56.3 MB)\n",
            "\u001b[2K   \u001b[90m━━━━━━━━━━━━━━━━━━━━━━━━━━━━━━━━━━━━━━━━\u001b[0m \u001b[32m56.3/56.3 MB\u001b[0m \u001b[31m22.0 MB/s\u001b[0m eta \u001b[36m0:00:00\u001b[0m\n",
            "\u001b[?25hDownloading nvidia_cusolver_cu12-11.6.1.9-py3-none-manylinux2014_x86_64.whl (127.9 MB)\n",
            "\u001b[2K   \u001b[90m━━━━━━━━━━━━━━━━━━━━━━━━━━━━━━━━━━━━━━━━\u001b[0m \u001b[32m127.9/127.9 MB\u001b[0m \u001b[31m7.6 MB/s\u001b[0m eta \u001b[36m0:00:00\u001b[0m\n",
            "\u001b[?25hDownloading nvidia_cusparse_cu12-12.3.1.170-py3-none-manylinux2014_x86_64.whl (207.5 MB)\n",
            "\u001b[2K   \u001b[90m━━━━━━━━━━━━━━━━━━━━━━━━━━━━━━━━━━━━━━━━\u001b[0m \u001b[32m207.5/207.5 MB\u001b[0m \u001b[31m5.5 MB/s\u001b[0m eta \u001b[36m0:00:00\u001b[0m\n",
            "\u001b[?25hDownloading nvidia_nvjitlink_cu12-12.4.127-py3-none-manylinux2014_x86_64.whl (21.1 MB)\n",
            "\u001b[2K   \u001b[90m━━━━━━━━━━━━━━━━━━━━━━━━━━━━━━━━━━━━━━━━\u001b[0m \u001b[32m21.1/21.1 MB\u001b[0m \u001b[31m102.7 MB/s\u001b[0m eta \u001b[36m0:00:00\u001b[0m\n",
            "\u001b[?25hDownloading ultralytics_thop-2.0.15-py3-none-any.whl (28 kB)\n",
            "Installing collected packages: nvidia-nvjitlink-cu12, nvidia-curand-cu12, nvidia-cufft-cu12, nvidia-cuda-runtime-cu12, nvidia-cuda-nvrtc-cu12, nvidia-cuda-cupti-cu12, nvidia-cublas-cu12, nvidia-cusparse-cu12, nvidia-cudnn-cu12, nvidia-cusolver-cu12, ultralytics-thop, ultralytics\n",
            "  Attempting uninstall: nvidia-nvjitlink-cu12\n",
            "    Found existing installation: nvidia-nvjitlink-cu12 12.5.82\n",
            "    Uninstalling nvidia-nvjitlink-cu12-12.5.82:\n",
            "      Successfully uninstalled nvidia-nvjitlink-cu12-12.5.82\n",
            "  Attempting uninstall: nvidia-curand-cu12\n",
            "    Found existing installation: nvidia-curand-cu12 10.3.6.82\n",
            "    Uninstalling nvidia-curand-cu12-10.3.6.82:\n",
            "      Successfully uninstalled nvidia-curand-cu12-10.3.6.82\n",
            "  Attempting uninstall: nvidia-cufft-cu12\n",
            "    Found existing installation: nvidia-cufft-cu12 11.2.3.61\n",
            "    Uninstalling nvidia-cufft-cu12-11.2.3.61:\n",
            "      Successfully uninstalled nvidia-cufft-cu12-11.2.3.61\n",
            "  Attempting uninstall: nvidia-cuda-runtime-cu12\n",
            "    Found existing installation: nvidia-cuda-runtime-cu12 12.5.82\n",
            "    Uninstalling nvidia-cuda-runtime-cu12-12.5.82:\n",
            "      Successfully uninstalled nvidia-cuda-runtime-cu12-12.5.82\n",
            "  Attempting uninstall: nvidia-cuda-nvrtc-cu12\n",
            "    Found existing installation: nvidia-cuda-nvrtc-cu12 12.5.82\n",
            "    Uninstalling nvidia-cuda-nvrtc-cu12-12.5.82:\n",
            "      Successfully uninstalled nvidia-cuda-nvrtc-cu12-12.5.82\n",
            "  Attempting uninstall: nvidia-cuda-cupti-cu12\n",
            "    Found existing installation: nvidia-cuda-cupti-cu12 12.5.82\n",
            "    Uninstalling nvidia-cuda-cupti-cu12-12.5.82:\n",
            "      Successfully uninstalled nvidia-cuda-cupti-cu12-12.5.82\n",
            "  Attempting uninstall: nvidia-cublas-cu12\n",
            "    Found existing installation: nvidia-cublas-cu12 12.5.3.2\n",
            "    Uninstalling nvidia-cublas-cu12-12.5.3.2:\n",
            "      Successfully uninstalled nvidia-cublas-cu12-12.5.3.2\n",
            "  Attempting uninstall: nvidia-cusparse-cu12\n",
            "    Found existing installation: nvidia-cusparse-cu12 12.5.1.3\n",
            "    Uninstalling nvidia-cusparse-cu12-12.5.1.3:\n",
            "      Successfully uninstalled nvidia-cusparse-cu12-12.5.1.3\n",
            "  Attempting uninstall: nvidia-cudnn-cu12\n",
            "    Found existing installation: nvidia-cudnn-cu12 9.3.0.75\n",
            "    Uninstalling nvidia-cudnn-cu12-9.3.0.75:\n",
            "      Successfully uninstalled nvidia-cudnn-cu12-9.3.0.75\n",
            "  Attempting uninstall: nvidia-cusolver-cu12\n",
            "    Found existing installation: nvidia-cusolver-cu12 11.6.3.83\n",
            "    Uninstalling nvidia-cusolver-cu12-11.6.3.83:\n",
            "      Successfully uninstalled nvidia-cusolver-cu12-11.6.3.83\n",
            "Successfully installed nvidia-cublas-cu12-12.4.5.8 nvidia-cuda-cupti-cu12-12.4.127 nvidia-cuda-nvrtc-cu12-12.4.127 nvidia-cuda-runtime-cu12-12.4.127 nvidia-cudnn-cu12-9.1.0.70 nvidia-cufft-cu12-11.2.1.3 nvidia-curand-cu12-10.3.5.147 nvidia-cusolver-cu12-11.6.1.9 nvidia-cusparse-cu12-12.3.1.170 nvidia-nvjitlink-cu12-12.4.127 ultralytics-8.3.173 ultralytics-thop-2.0.15\n"
          ]
        }
      ],
      "source": [
        "pip install ultralytics --quiet"
      ]
    },
    {
      "cell_type": "code",
      "execution_count": null,
      "metadata": {
        "colab": {
          "base_uri": "https://localhost:8080/",
          "height": 1000
        },
        "id": "AfueoeZAzpe5",
        "outputId": "c94ddf64-2f4c-431e-f7d9-6f86435981e1"
      },
      "outputs": [
        {
          "name": "stdout",
          "output_type": "stream",
          "text": [
            "Ultralytics 8.3.173 🚀 Python-3.11.13 torch-2.6.0+cu124 CUDA:0 (Tesla T4, 15095MiB)\n",
            "\u001b[34m\u001b[1mengine/trainer: \u001b[0magnostic_nms=False, amp=True, augment=False, auto_augment=randaugment, batch=16, bgr=0.0, box=7.5, cache=False, cfg=None, classes=None, close_mosaic=10, cls=0.5, conf=None, copy_paste=0.0, copy_paste_mode=flip, cos_lr=False, cutmix=0.0, data=data_keypoints.yaml, degrees=0.0, deterministic=True, device=0, dfl=1.5, dnn=False, dropout=0.0, dynamic=False, embed=None, epochs=100, erasing=0.4, exist_ok=False, fliplr=0.5, flipud=0.0, format=torchscript, fraction=1.0, freeze=None, half=False, hsv_h=0.015, hsv_s=0.7, hsv_v=0.4, imgsz=128, int8=False, iou=0.7, keras=False, kobj=1.0, line_width=None, lr0=0.01, lrf=0.01, mask_ratio=4, max_det=300, mixup=0.0, mode=train, model=yolo11s-pose.pt, momentum=0.937, mosaic=1.0, multi_scale=False, name=train2, nbs=64, nms=False, opset=None, optimize=False, optimizer=auto, overlap_mask=True, patience=100, perspective=0.0, plots=True, pose=12.0, pretrained=True, profile=False, project=None, rect=False, resume=False, retina_masks=False, save=True, save_conf=False, save_crop=False, save_dir=runs/pose/train2, save_frames=False, save_json=False, save_period=-1, save_txt=False, scale=0.5, seed=0, shear=0.0, show=False, show_boxes=True, show_conf=True, show_labels=True, simplify=True, single_cls=False, source=None, split=val, stream_buffer=False, task=pose, time=None, tracker=botsort.yaml, translate=0.1, val=True, verbose=True, vid_stride=1, visualize=False, warmup_bias_lr=0.1, warmup_epochs=3.0, warmup_momentum=0.8, weight_decay=0.0005, workers=8, workspace=None\n"
          ]
        },
        {
          "name": "stderr",
          "output_type": "stream",
          "text": [
            "Downloading https://ultralytics.com/assets/Arial.ttf to '/root/.config/Ultralytics/Arial.ttf': 100%|██████████| 755k/755k [00:00<00:00, 18.9MB/s]"
          ]
        },
        {
          "name": "stdout",
          "output_type": "stream",
          "text": [
            "Overriding model.yaml kpt_shape=[17, 3] with kpt_shape=[16, 2]\n",
            "Overriding model.yaml nc=80 with nc=1\n",
            "\n",
            "                   from  n    params  module                                       arguments                     \n",
            "  0                  -1  1       928  ultralytics.nn.modules.conv.Conv             [3, 32, 3, 2]                 \n",
            "  1                  -1  1     18560  ultralytics.nn.modules.conv.Conv             [32, 64, 3, 2]                \n",
            "  2                  -1  1     26080  ultralytics.nn.modules.block.C3k2            [64, 128, 1, False, 0.25]     \n",
            "  3                  -1  1    147712  ultralytics.nn.modules.conv.Conv             [128, 128, 3, 2]              \n",
            "  4                  -1  1    103360  ultralytics.nn.modules.block.C3k2            [128, 256, 1, False, 0.25]    \n",
            "  5                  -1  1    590336  ultralytics.nn.modules.conv.Conv             [256, 256, 3, 2]              \n",
            "  6                  -1  1    346112  ultralytics.nn.modules.block.C3k2            [256, 256, 1, True]           \n",
            "  7                  -1  1   1180672  ultralytics.nn.modules.conv.Conv             [256, 512, 3, 2]              \n",
            "  8                  -1  1   1380352  ultralytics.nn.modules.block.C3k2            [512, 512, 1, True]           \n",
            "  9                  -1  1    656896  ultralytics.nn.modules.block.SPPF            [512, 512, 5]                 \n"
          ]
        },
        {
          "name": "stderr",
          "output_type": "stream",
          "text": [
            "\n"
          ]
        },
        {
          "name": "stdout",
          "output_type": "stream",
          "text": [
            " 10                  -1  1    990976  ultralytics.nn.modules.block.C2PSA           [512, 512, 1]                 \n",
            " 11                  -1  1         0  torch.nn.modules.upsampling.Upsample         [None, 2, 'nearest']          \n",
            " 12             [-1, 6]  1         0  ultralytics.nn.modules.conv.Concat           [1]                           \n",
            " 13                  -1  1    443776  ultralytics.nn.modules.block.C3k2            [768, 256, 1, False]          \n",
            " 14                  -1  1         0  torch.nn.modules.upsampling.Upsample         [None, 2, 'nearest']          \n",
            " 15             [-1, 4]  1         0  ultralytics.nn.modules.conv.Concat           [1]                           \n",
            " 16                  -1  1    127680  ultralytics.nn.modules.block.C3k2            [512, 128, 1, False]          \n",
            " 17                  -1  1    147712  ultralytics.nn.modules.conv.Conv             [128, 128, 3, 2]              \n",
            " 18            [-1, 13]  1         0  ultralytics.nn.modules.conv.Concat           [1]                           \n",
            " 19                  -1  1    345472  ultralytics.nn.modules.block.C3k2            [384, 256, 1, False]          \n",
            " 20                  -1  1    590336  ultralytics.nn.modules.conv.Conv             [256, 256, 3, 2]              \n",
            " 21            [-1, 10]  1         0  ultralytics.nn.modules.conv.Concat           [1]                           \n",
            " 22                  -1  1   1511424  ultralytics.nn.modules.block.C3k2            [768, 512, 1, True]           \n",
            " 23        [16, 19, 22]  1   1109043  ultralytics.nn.modules.head.Pose             [1, [16, 2], [128, 256, 512]] \n",
            "YOLO11s-pose summary: 196 layers, 9,717,427 parameters, 9,717,411 gradients, 22.6 GFLOPs\n",
            "\n",
            "Transferred 505/541 items from pretrained weights\n",
            "Freezing layer 'model.23.dfl.conv.weight'\n",
            "\u001b[34m\u001b[1mAMP: \u001b[0mrunning Automatic Mixed Precision (AMP) checks...\n"
          ]
        },
        {
          "name": "stderr",
          "output_type": "stream",
          "text": [
            "Downloading https://github.com/ultralytics/assets/releases/download/v8.3.0/yolo11n.pt to 'yolo11n.pt': 100%|██████████| 5.35M/5.35M [00:00<00:00, 52.4MB/s]\n"
          ]
        },
        {
          "name": "stdout",
          "output_type": "stream",
          "text": [
            "\u001b[34m\u001b[1mAMP: \u001b[0mchecks passed ✅\n",
            "\u001b[34m\u001b[1mtrain: \u001b[0mFast image access ✅ (ping: 0.0±0.0 ms, read: 3.1±1.8 MB/s, size: 6.0 KB)\n"
          ]
        },
        {
          "name": "stderr",
          "output_type": "stream",
          "text": [
            "\u001b[34m\u001b[1mtrain: \u001b[0mScanning /content/yolo_keypoints_dataset/yolo_keypoints_dataset/train/labels... 14920 images, 0 backgrounds, 9 corrupt: 100%|██████████| 14920/14920 [00:16<00:00, 906.28it/s] "
          ]
        },
        {
          "name": "stdout",
          "output_type": "stream",
          "text": [
            "\u001b[34m\u001b[1mtrain: \u001b[0m/content/yolo_keypoints_dataset/yolo_keypoints_dataset/train/images/0X23B883A39F37F8D9_f160.jpg: ignoring corrupt image/label: negative class labels [  -0.011068]\n",
            "\u001b[34m\u001b[1mtrain: \u001b[0m/content/yolo_keypoints_dataset/yolo_keypoints_dataset/train/images/0X25153E9120D31CC8_f70.jpg: ignoring corrupt image/label: negative class labels [  -0.014323]\n",
            "\u001b[34m\u001b[1mtrain: \u001b[0m/content/yolo_keypoints_dataset/yolo_keypoints_dataset/train/images/0X2EE56F270D208DF2_f45.jpg: ignoring corrupt image/label: non-normalized or out of bounds coordinates [     1.0136]\n",
            "\u001b[34m\u001b[1mtrain: \u001b[0m/content/yolo_keypoints_dataset/yolo_keypoints_dataset/train/images/0X63C0C93E76565075_f56.jpg: ignoring corrupt image/label: non-normalized or out of bounds coordinates [     1.0156]\n",
            "\u001b[34m\u001b[1mtrain: \u001b[0m/content/yolo_keypoints_dataset/yolo_keypoints_dataset/train/images/0X655399113DAA4ECC_f16.jpg: ignoring corrupt image/label: non-normalized or out of bounds coordinates [      1.022]\n",
            "\u001b[34m\u001b[1mtrain: \u001b[0m/content/yolo_keypoints_dataset/yolo_keypoints_dataset/train/images/0X6CC0AFACCC801E35_f104.jpg: ignoring corrupt image/label: negative class labels [  -0.033333]\n",
            "\u001b[34m\u001b[1mtrain: \u001b[0m/content/yolo_keypoints_dataset/yolo_keypoints_dataset/train/images/0X6CC0AFACCC801E35_f87.jpg: ignoring corrupt image/label: negative class labels [  -0.022917]\n",
            "\u001b[34m\u001b[1mtrain: \u001b[0m/content/yolo_keypoints_dataset/yolo_keypoints_dataset/train/images/0X70AE1E2408B80316_f45.jpg: ignoring corrupt image/label: non-normalized or out of bounds coordinates [     1.0103]\n",
            "\u001b[34m\u001b[1mtrain: \u001b[0m/content/yolo_keypoints_dataset/yolo_keypoints_dataset/train/images/0X7B9A154FC4B9A975_f46.jpg: ignoring corrupt image/label: non-normalized or out of bounds coordinates [     1.0107        1.02      1.0256      1.0311]\n"
          ]
        },
        {
          "name": "stderr",
          "output_type": "stream",
          "text": [
            "\n"
          ]
        },
        {
          "name": "stdout",
          "output_type": "stream",
          "text": [
            "\u001b[34m\u001b[1mtrain: \u001b[0mNew cache created: /content/yolo_keypoints_dataset/yolo_keypoints_dataset/train/labels.cache\n",
            "WARNING ⚠️ No 'flip_idx' array defined in data.yaml, disabling 'fliplr' and 'flipud' augmentations.\n",
            "\u001b[34m\u001b[1malbumentations: \u001b[0mBlur(p=0.01, blur_limit=(3, 7)), MedianBlur(p=0.01, blur_limit=(3, 7)), ToGray(p=0.01, method='weighted_average', num_output_channels=3), CLAHE(p=0.01, clip_limit=(1.0, 4.0), tile_grid_size=(8, 8))\n",
            "\u001b[34m\u001b[1mval: \u001b[0mFast image access ✅ (ping: 0.0±0.0 ms, read: 1.5±0.6 MB/s, size: 5.5 KB)\n"
          ]
        },
        {
          "name": "stderr",
          "output_type": "stream",
          "text": [
            "\u001b[34m\u001b[1mval: \u001b[0mScanning /content/yolo_keypoints_dataset/yolo_keypoints_dataset/val/labels... 2576 images, 0 backgrounds, 2 corrupt: 100%|██████████| 2576/2576 [00:02<00:00, 939.16it/s] "
          ]
        },
        {
          "name": "stdout",
          "output_type": "stream",
          "text": [
            "\u001b[34m\u001b[1mval: \u001b[0m/content/yolo_keypoints_dataset/yolo_keypoints_dataset/val/images/0X374099556945A9EA_f121.jpg: ignoring corrupt image/label: non-normalized or out of bounds coordinates [     1.0193]\n",
            "\u001b[34m\u001b[1mval: \u001b[0m/content/yolo_keypoints_dataset/yolo_keypoints_dataset/val/images/0X50807FBC49B44ED4_f43.jpg: ignoring corrupt image/label: non-normalized or out of bounds coordinates [     1.0121      1.0175      1.0155      1.0135      1.0116]\n",
            "\u001b[34m\u001b[1mval: \u001b[0mNew cache created: /content/yolo_keypoints_dataset/yolo_keypoints_dataset/val/labels.cache\n"
          ]
        },
        {
          "name": "stderr",
          "output_type": "stream",
          "text": [
            "\n"
          ]
        },
        {
          "name": "stdout",
          "output_type": "stream",
          "text": [
            "Plotting labels to runs/pose/train2/labels.jpg... \n",
            "\u001b[34m\u001b[1moptimizer:\u001b[0m 'optimizer=auto' found, ignoring 'lr0=0.01' and 'momentum=0.937' and determining best 'optimizer', 'lr0' and 'momentum' automatically... \n",
            "\u001b[34m\u001b[1moptimizer:\u001b[0m SGD(lr=0.01, momentum=0.9) with parameter groups 87 weight(decay=0.0), 97 weight(decay=0.0005), 96 bias(decay=0.0)\n",
            "Image sizes 128 train, 128 val\n",
            "Using 2 dataloader workers\n",
            "Logging results to \u001b[1mruns/pose/train2\u001b[0m\n",
            "Starting training for 100 epochs...\n",
            "\n",
            "      Epoch    GPU_mem   box_loss  pose_loss  kobj_loss   cls_loss   dfl_loss  Instances       Size\n"
          ]
        },
        {
          "name": "stderr",
          "output_type": "stream",
          "text": [
            "      1/100     0.422G       2.22      8.362          0      1.629      1.533         32        128: 100%|██████████| 932/932 [02:17<00:00,  6.78it/s]\n",
            "                 Class     Images  Instances      Box(P          R      mAP50  mAP50-95)     Pose(P          R      mAP50  mAP50-95): 100%|██████████| 81/81 [00:14<00:00,  5.54it/s]\n"
          ]
        },
        {
          "name": "stdout",
          "output_type": "stream",
          "text": [
            "                   all       2574       2574      0.863      0.821      0.893      0.462          0          0          0          0\n",
            "\n",
            "      Epoch    GPU_mem   box_loss  pose_loss  kobj_loss   cls_loss   dfl_loss  Instances       Size\n"
          ]
        },
        {
          "name": "stderr",
          "output_type": "stream",
          "text": [
            "      2/100     0.449G      1.659      6.811          0      1.134      1.202         23        128: 100%|██████████| 932/932 [02:10<00:00,  7.15it/s]\n",
            "                 Class     Images  Instances      Box(P          R      mAP50  mAP50-95)     Pose(P          R      mAP50  mAP50-95): 100%|██████████| 81/81 [00:17<00:00,  4.58it/s]"
          ]
        },
        {
          "name": "stdout",
          "output_type": "stream",
          "text": [
            "                   all       2574       2574      0.871       0.85      0.892      0.495     0.0104      0.042    0.00379    0.00071\n"
          ]
        },
        {
          "name": "stderr",
          "output_type": "stream",
          "text": [
            "\n"
          ]
        },
        {
          "name": "stdout",
          "output_type": "stream",
          "text": [
            "\n",
            "      Epoch    GPU_mem   box_loss  pose_loss  kobj_loss   cls_loss   dfl_loss  Instances       Size\n"
          ]
        },
        {
          "name": "stderr",
          "output_type": "stream",
          "text": [
            "      3/100     0.496G      1.643      6.201          0       1.14      1.198         25        128: 100%|██████████| 932/932 [02:12<00:00,  7.05it/s]\n",
            "                 Class     Images  Instances      Box(P          R      mAP50  mAP50-95)     Pose(P          R      mAP50  mAP50-95): 100%|██████████| 81/81 [00:15<00:00,  5.31it/s]"
          ]
        },
        {
          "name": "stdout",
          "output_type": "stream",
          "text": [
            "                   all       2574       2574      0.829      0.819      0.869      0.391     0.0277     0.0862    0.00765    0.00178\n"
          ]
        },
        {
          "name": "stderr",
          "output_type": "stream",
          "text": [
            "\n"
          ]
        },
        {
          "name": "stdout",
          "output_type": "stream",
          "text": [
            "\n",
            "      Epoch    GPU_mem   box_loss  pose_loss  kobj_loss   cls_loss   dfl_loss  Instances       Size\n"
          ]
        },
        {
          "name": "stderr",
          "output_type": "stream",
          "text": [
            "      4/100     0.523G      1.615      6.023          0      1.126      1.193         28        128: 100%|██████████| 932/932 [02:02<00:00,  7.59it/s]\n",
            "                 Class     Images  Instances      Box(P          R      mAP50  mAP50-95)     Pose(P          R      mAP50  mAP50-95): 100%|██████████| 81/81 [00:14<00:00,  5.50it/s]"
          ]
        },
        {
          "name": "stdout",
          "output_type": "stream",
          "text": [
            "                   all       2574       2574      0.848      0.868      0.917      0.472     0.0513      0.113     0.0148    0.00408\n"
          ]
        },
        {
          "name": "stderr",
          "output_type": "stream",
          "text": [
            "\n"
          ]
        },
        {
          "name": "stdout",
          "output_type": "stream",
          "text": [
            "\n",
            "      Epoch    GPU_mem   box_loss  pose_loss  kobj_loss   cls_loss   dfl_loss  Instances       Size\n"
          ]
        },
        {
          "name": "stderr",
          "output_type": "stream",
          "text": [
            "      5/100     0.572G      1.548      5.886          0      1.087      1.169         21        128: 100%|██████████| 932/932 [02:02<00:00,  7.61it/s]\n",
            "                 Class     Images  Instances      Box(P          R      mAP50  mAP50-95)     Pose(P          R      mAP50  mAP50-95): 100%|██████████| 81/81 [00:14<00:00,  5.45it/s]"
          ]
        },
        {
          "name": "stdout",
          "output_type": "stream",
          "text": [
            "                   all       2574       2574      0.901       0.88      0.937      0.514     0.0403     0.0765     0.0172    0.00548\n"
          ]
        },
        {
          "name": "stderr",
          "output_type": "stream",
          "text": [
            "\n"
          ]
        },
        {
          "name": "stdout",
          "output_type": "stream",
          "text": [
            "\n",
            "      Epoch    GPU_mem   box_loss  pose_loss  kobj_loss   cls_loss   dfl_loss  Instances       Size\n"
          ]
        },
        {
          "name": "stderr",
          "output_type": "stream",
          "text": [
            "      6/100       0.6G      1.499      5.747          0      1.048      1.148         29        128: 100%|██████████| 932/932 [02:01<00:00,  7.69it/s]\n",
            "                 Class     Images  Instances      Box(P          R      mAP50  mAP50-95)     Pose(P          R      mAP50  mAP50-95): 100%|██████████| 81/81 [00:14<00:00,  5.65it/s]\n"
          ]
        },
        {
          "name": "stdout",
          "output_type": "stream",
          "text": [
            "                   all       2574       2574      0.903      0.896      0.947      0.545     0.0449     0.0998     0.0194    0.00665\n",
            "\n",
            "      Epoch    GPU_mem   box_loss  pose_loss  kobj_loss   cls_loss   dfl_loss  Instances       Size\n"
          ]
        },
        {
          "name": "stderr",
          "output_type": "stream",
          "text": [
            "      7/100     0.646G      1.467      5.399          0      1.025      1.135         25        128: 100%|██████████| 932/932 [02:01<00:00,  7.70it/s]\n",
            "                 Class     Images  Instances      Box(P          R      mAP50  mAP50-95)     Pose(P          R      mAP50  mAP50-95): 100%|██████████| 81/81 [00:14<00:00,  5.67it/s]"
          ]
        },
        {
          "name": "stdout",
          "output_type": "stream",
          "text": [
            "                   all       2574       2574      0.914      0.879      0.937      0.533     0.0422       0.16     0.0225    0.00903\n"
          ]
        },
        {
          "name": "stderr",
          "output_type": "stream",
          "text": [
            "\n"
          ]
        },
        {
          "name": "stdout",
          "output_type": "stream",
          "text": [
            "\n",
            "      Epoch    GPU_mem   box_loss  pose_loss  kobj_loss   cls_loss   dfl_loss  Instances       Size\n"
          ]
        },
        {
          "name": "stderr",
          "output_type": "stream",
          "text": [
            "      8/100     0.674G      1.442       5.35          0      1.016      1.127         28        128: 100%|██████████| 932/932 [02:01<00:00,  7.67it/s]\n",
            "                 Class     Images  Instances      Box(P          R      mAP50  mAP50-95)     Pose(P          R      mAP50  mAP50-95): 100%|██████████| 81/81 [00:14<00:00,  5.67it/s]"
          ]
        },
        {
          "name": "stdout",
          "output_type": "stream",
          "text": [
            "                   all       2574       2574      0.914       0.88      0.941      0.556     0.0423      0.087     0.0119    0.00476\n"
          ]
        },
        {
          "name": "stderr",
          "output_type": "stream",
          "text": [
            "\n"
          ]
        },
        {
          "name": "stdout",
          "output_type": "stream",
          "text": [
            "\n",
            "      Epoch    GPU_mem   box_loss  pose_loss  kobj_loss   cls_loss   dfl_loss  Instances       Size\n"
          ]
        },
        {
          "name": "stderr",
          "output_type": "stream",
          "text": [
            "      9/100     0.721G      1.423      5.199          0     0.9998      1.118         35        128: 100%|██████████| 932/932 [02:01<00:00,  7.65it/s]\n",
            "                 Class     Images  Instances      Box(P          R      mAP50  mAP50-95)     Pose(P          R      mAP50  mAP50-95): 100%|██████████| 81/81 [00:14<00:00,  5.63it/s]"
          ]
        },
        {
          "name": "stdout",
          "output_type": "stream",
          "text": [
            "                   all       2574       2574      0.913      0.895      0.939      0.553      0.196      0.202     0.0872     0.0151\n"
          ]
        },
        {
          "name": "stderr",
          "output_type": "stream",
          "text": [
            "\n"
          ]
        },
        {
          "name": "stdout",
          "output_type": "stream",
          "text": [
            "\n",
            "      Epoch    GPU_mem   box_loss  pose_loss  kobj_loss   cls_loss   dfl_loss  Instances       Size\n"
          ]
        },
        {
          "name": "stderr",
          "output_type": "stream",
          "text": [
            "     10/100     0.768G      1.408      5.023          0     0.9937      1.114         24        128: 100%|██████████| 932/932 [02:01<00:00,  7.68it/s]\n",
            "                 Class     Images  Instances      Box(P          R      mAP50  mAP50-95)     Pose(P          R      mAP50  mAP50-95): 100%|██████████| 81/81 [00:14<00:00,  5.67it/s]"
          ]
        },
        {
          "name": "stdout",
          "output_type": "stream",
          "text": [
            "                   all       2574       2574      0.924      0.898      0.948       0.57      0.202      0.208      0.092     0.0152\n"
          ]
        },
        {
          "name": "stderr",
          "output_type": "stream",
          "text": [
            "\n"
          ]
        },
        {
          "name": "stdout",
          "output_type": "stream",
          "text": [
            "\n",
            "      Epoch    GPU_mem   box_loss  pose_loss  kobj_loss   cls_loss   dfl_loss  Instances       Size\n"
          ]
        },
        {
          "name": "stderr",
          "output_type": "stream",
          "text": [
            "     11/100     0.795G      1.408      5.026          0     0.9885      1.111         24        128: 100%|██████████| 932/932 [01:59<00:00,  7.80it/s]\n",
            "                 Class     Images  Instances      Box(P          R      mAP50  mAP50-95)     Pose(P          R      mAP50  mAP50-95): 100%|██████████| 81/81 [00:14<00:00,  5.72it/s]"
          ]
        },
        {
          "name": "stdout",
          "output_type": "stream",
          "text": [
            "                   all       2574       2574      0.917      0.902      0.953      0.577      0.202      0.237       0.11      0.023\n"
          ]
        },
        {
          "name": "stderr",
          "output_type": "stream",
          "text": [
            "\n"
          ]
        },
        {
          "name": "stdout",
          "output_type": "stream",
          "text": [
            "\n",
            "      Epoch    GPU_mem   box_loss  pose_loss  kobj_loss   cls_loss   dfl_loss  Instances       Size\n"
          ]
        },
        {
          "name": "stderr",
          "output_type": "stream",
          "text": [
            "     12/100     0.844G      1.388      4.938          0     0.9749      1.101         25        128: 100%|██████████| 932/932 [02:00<00:00,  7.73it/s]\n",
            "                 Class     Images  Instances      Box(P          R      mAP50  mAP50-95)     Pose(P          R      mAP50  mAP50-95): 100%|██████████| 81/81 [00:14<00:00,  5.70it/s]"
          ]
        },
        {
          "name": "stdout",
          "output_type": "stream",
          "text": [
            "                   all       2574       2574      0.898       0.93      0.953      0.571      0.238      0.269      0.125     0.0207\n"
          ]
        },
        {
          "name": "stderr",
          "output_type": "stream",
          "text": [
            "\n"
          ]
        },
        {
          "name": "stdout",
          "output_type": "stream",
          "text": [
            "\n",
            "      Epoch    GPU_mem   box_loss  pose_loss  kobj_loss   cls_loss   dfl_loss  Instances       Size\n"
          ]
        },
        {
          "name": "stderr",
          "output_type": "stream",
          "text": [
            "     13/100     0.871G      1.377      4.978          0      0.982        1.1         29        128: 100%|██████████| 932/932 [02:00<00:00,  7.75it/s]\n",
            "                 Class     Images  Instances      Box(P          R      mAP50  mAP50-95)     Pose(P          R      mAP50  mAP50-95): 100%|██████████| 81/81 [00:14<00:00,  5.75it/s]"
          ]
        },
        {
          "name": "stdout",
          "output_type": "stream",
          "text": [
            "                   all       2574       2574      0.923      0.918      0.955      0.582      0.249      0.263      0.146      0.026\n"
          ]
        },
        {
          "name": "stderr",
          "output_type": "stream",
          "text": [
            "\n"
          ]
        },
        {
          "name": "stdout",
          "output_type": "stream",
          "text": [
            "\n",
            "      Epoch    GPU_mem   box_loss  pose_loss  kobj_loss   cls_loss   dfl_loss  Instances       Size\n"
          ]
        },
        {
          "name": "stderr",
          "output_type": "stream",
          "text": [
            "     14/100     0.918G      1.361      4.934          0     0.9549      1.092         29        128: 100%|██████████| 932/932 [01:59<00:00,  7.81it/s]\n",
            "                 Class     Images  Instances      Box(P          R      mAP50  mAP50-95)     Pose(P          R      mAP50  mAP50-95): 100%|██████████| 81/81 [00:14<00:00,  5.61it/s]\n"
          ]
        },
        {
          "name": "stdout",
          "output_type": "stream",
          "text": [
            "                   all       2574       2574      0.908      0.916      0.952      0.579      0.232      0.267      0.123     0.0203\n",
            "\n",
            "      Epoch    GPU_mem   box_loss  pose_loss  kobj_loss   cls_loss   dfl_loss  Instances       Size\n"
          ]
        },
        {
          "name": "stderr",
          "output_type": "stream",
          "text": [
            "     15/100     0.945G      1.351      4.927          0     0.9559      1.089         29        128: 100%|██████████| 932/932 [01:59<00:00,  7.78it/s]\n",
            "                 Class     Images  Instances      Box(P          R      mAP50  mAP50-95)     Pose(P          R      mAP50  mAP50-95): 100%|██████████| 81/81 [00:13<00:00,  5.80it/s]"
          ]
        },
        {
          "name": "stdout",
          "output_type": "stream",
          "text": [
            "                   all       2574       2574      0.893       0.93       0.95      0.582      0.258      0.282      0.138     0.0266\n"
          ]
        },
        {
          "name": "stderr",
          "output_type": "stream",
          "text": [
            "\n"
          ]
        },
        {
          "name": "stdout",
          "output_type": "stream",
          "text": [
            "\n",
            "      Epoch    GPU_mem   box_loss  pose_loss  kobj_loss   cls_loss   dfl_loss  Instances       Size\n"
          ]
        },
        {
          "name": "stderr",
          "output_type": "stream",
          "text": [
            "     16/100     0.992G      1.353      4.912          0     0.9595       1.09         28        128: 100%|██████████| 932/932 [02:00<00:00,  7.74it/s]\n",
            "                 Class     Images  Instances      Box(P          R      mAP50  mAP50-95)     Pose(P          R      mAP50  mAP50-95): 100%|██████████| 81/81 [00:14<00:00,  5.74it/s]"
          ]
        },
        {
          "name": "stdout",
          "output_type": "stream",
          "text": [
            "                   all       2574       2574      0.882      0.916      0.947      0.555      0.266      0.286      0.136     0.0243\n"
          ]
        },
        {
          "name": "stderr",
          "output_type": "stream",
          "text": [
            "\n"
          ]
        },
        {
          "name": "stdout",
          "output_type": "stream",
          "text": [
            "\n",
            "      Epoch    GPU_mem   box_loss  pose_loss  kobj_loss   cls_loss   dfl_loss  Instances       Size\n"
          ]
        },
        {
          "name": "stderr",
          "output_type": "stream",
          "text": [
            "     17/100      1.02G      1.336      4.894          0      0.939      1.084         26        128: 100%|██████████| 932/932 [02:00<00:00,  7.75it/s]\n",
            "                 Class     Images  Instances      Box(P          R      mAP50  mAP50-95)     Pose(P          R      mAP50  mAP50-95): 100%|██████████| 81/81 [00:14<00:00,  5.53it/s]"
          ]
        },
        {
          "name": "stdout",
          "output_type": "stream",
          "text": [
            "                   all       2574       2574       0.92      0.931      0.958      0.592      0.259       0.27      0.149     0.0294\n"
          ]
        },
        {
          "name": "stderr",
          "output_type": "stream",
          "text": [
            "\n"
          ]
        },
        {
          "name": "stdout",
          "output_type": "stream",
          "text": [
            "\n",
            "      Epoch    GPU_mem   box_loss  pose_loss  kobj_loss   cls_loss   dfl_loss  Instances       Size\n"
          ]
        },
        {
          "name": "stderr",
          "output_type": "stream",
          "text": [
            "     18/100      1.07G      1.334      4.868          0     0.9389      1.089         24        128: 100%|██████████| 932/932 [01:59<00:00,  7.78it/s]\n",
            "                 Class     Images  Instances      Box(P          R      mAP50  mAP50-95)     Pose(P          R      mAP50  mAP50-95): 100%|██████████| 81/81 [00:13<00:00,  5.82it/s]"
          ]
        },
        {
          "name": "stdout",
          "output_type": "stream",
          "text": [
            "                   all       2574       2574      0.909      0.931      0.958      0.597      0.256       0.27      0.145     0.0272\n"
          ]
        },
        {
          "name": "stderr",
          "output_type": "stream",
          "text": [
            "\n"
          ]
        },
        {
          "name": "stdout",
          "output_type": "stream",
          "text": [
            "\n",
            "      Epoch    GPU_mem   box_loss  pose_loss  kobj_loss   cls_loss   dfl_loss  Instances       Size\n"
          ]
        },
        {
          "name": "stderr",
          "output_type": "stream",
          "text": [
            "     19/100       1.1G      1.334      4.832          0     0.9373      1.082         22        128: 100%|██████████| 932/932 [01:59<00:00,  7.77it/s]\n",
            "                 Class     Images  Instances      Box(P          R      mAP50  mAP50-95)     Pose(P          R      mAP50  mAP50-95): 100%|██████████| 81/81 [00:14<00:00,  5.76it/s]"
          ]
        },
        {
          "name": "stdout",
          "output_type": "stream",
          "text": [
            "                   all       2574       2574      0.925      0.918      0.961      0.595       0.27      0.285      0.146     0.0249\n"
          ]
        },
        {
          "name": "stderr",
          "output_type": "stream",
          "text": [
            "\n"
          ]
        },
        {
          "name": "stdout",
          "output_type": "stream",
          "text": [
            "\n",
            "      Epoch    GPU_mem   box_loss  pose_loss  kobj_loss   cls_loss   dfl_loss  Instances       Size\n"
          ]
        },
        {
          "name": "stderr",
          "output_type": "stream",
          "text": [
            "     20/100      1.14G      1.322      4.824          0      0.931      1.081         29        128: 100%|██████████| 932/932 [01:59<00:00,  7.81it/s]\n",
            "                 Class     Images  Instances      Box(P          R      mAP50  mAP50-95)     Pose(P          R      mAP50  mAP50-95): 100%|██████████| 81/81 [00:14<00:00,  5.72it/s]"
          ]
        },
        {
          "name": "stdout",
          "output_type": "stream",
          "text": [
            "                   all       2574       2574      0.909      0.925      0.955      0.585      0.263       0.29      0.151     0.0277\n"
          ]
        },
        {
          "name": "stderr",
          "output_type": "stream",
          "text": [
            "\n"
          ]
        },
        {
          "name": "stdout",
          "output_type": "stream",
          "text": [
            "\n",
            "      Epoch    GPU_mem   box_loss  pose_loss  kobj_loss   cls_loss   dfl_loss  Instances       Size\n"
          ]
        },
        {
          "name": "stderr",
          "output_type": "stream",
          "text": [
            "     21/100      1.17G      1.316      4.669          0      0.925      1.078         24        128: 100%|██████████| 932/932 [01:59<00:00,  7.80it/s]\n",
            "                 Class     Images  Instances      Box(P          R      mAP50  mAP50-95)     Pose(P          R      mAP50  mAP50-95): 100%|██████████| 81/81 [00:14<00:00,  5.75it/s]"
          ]
        },
        {
          "name": "stdout",
          "output_type": "stream",
          "text": [
            "                   all       2574       2574      0.935      0.915      0.963      0.597       0.59      0.588      0.478       0.14\n"
          ]
        },
        {
          "name": "stderr",
          "output_type": "stream",
          "text": [
            "\n"
          ]
        },
        {
          "name": "stdout",
          "output_type": "stream",
          "text": [
            "\n",
            "      Epoch    GPU_mem   box_loss  pose_loss  kobj_loss   cls_loss   dfl_loss  Instances       Size\n"
          ]
        },
        {
          "name": "stderr",
          "output_type": "stream",
          "text": [
            "     22/100      1.22G      1.298      3.765          0     0.9122      1.071         27        128: 100%|██████████| 932/932 [02:00<00:00,  7.73it/s]\n",
            "                 Class     Images  Instances      Box(P          R      mAP50  mAP50-95)     Pose(P          R      mAP50  mAP50-95): 100%|██████████| 81/81 [00:14<00:00,  5.67it/s]"
          ]
        },
        {
          "name": "stdout",
          "output_type": "stream",
          "text": [
            "                   all       2574       2574      0.936      0.915      0.963      0.599      0.695       0.69      0.622      0.229\n"
          ]
        },
        {
          "name": "stderr",
          "output_type": "stream",
          "text": [
            "\n"
          ]
        },
        {
          "name": "stdout",
          "output_type": "stream",
          "text": [
            "\n",
            "      Epoch    GPU_mem   box_loss  pose_loss  kobj_loss   cls_loss   dfl_loss  Instances       Size\n"
          ]
        },
        {
          "name": "stderr",
          "output_type": "stream",
          "text": [
            "     23/100      1.24G      1.305       3.65          0     0.9269      1.075         23        128: 100%|██████████| 932/932 [02:00<00:00,  7.73it/s]\n",
            "                 Class     Images  Instances      Box(P          R      mAP50  mAP50-95)     Pose(P          R      mAP50  mAP50-95): 100%|██████████| 81/81 [00:14<00:00,  5.71it/s]"
          ]
        },
        {
          "name": "stdout",
          "output_type": "stream",
          "text": [
            "                   all       2574       2574      0.921      0.921      0.962      0.594      0.702      0.705      0.624      0.258\n"
          ]
        },
        {
          "name": "stderr",
          "output_type": "stream",
          "text": [
            "\n"
          ]
        },
        {
          "name": "stdout",
          "output_type": "stream",
          "text": [
            "\n",
            "      Epoch    GPU_mem   box_loss  pose_loss  kobj_loss   cls_loss   dfl_loss  Instances       Size\n"
          ]
        },
        {
          "name": "stderr",
          "output_type": "stream",
          "text": [
            "     24/100      1.29G      1.296      3.516          0     0.9182      1.071         27        128: 100%|██████████| 932/932 [01:59<00:00,  7.78it/s]\n",
            "                 Class     Images  Instances      Box(P          R      mAP50  mAP50-95)     Pose(P          R      mAP50  mAP50-95): 100%|██████████| 81/81 [00:14<00:00,  5.61it/s]\n"
          ]
        },
        {
          "name": "stdout",
          "output_type": "stream",
          "text": [
            "                   all       2574       2574      0.923      0.936      0.965      0.615      0.708      0.715      0.631      0.286\n",
            "\n",
            "      Epoch    GPU_mem   box_loss  pose_loss  kobj_loss   cls_loss   dfl_loss  Instances       Size\n"
          ]
        },
        {
          "name": "stderr",
          "output_type": "stream",
          "text": [
            "     25/100      1.34G      1.297        3.5          0     0.9137      1.071         21        128: 100%|██████████| 932/932 [01:59<00:00,  7.77it/s]\n",
            "                 Class     Images  Instances      Box(P          R      mAP50  mAP50-95)     Pose(P          R      mAP50  mAP50-95): 100%|██████████| 81/81 [00:14<00:00,  5.74it/s]"
          ]
        },
        {
          "name": "stdout",
          "output_type": "stream",
          "text": [
            "                   all       2574       2574      0.923      0.931      0.962      0.605      0.719      0.717       0.65      0.288\n"
          ]
        },
        {
          "name": "stderr",
          "output_type": "stream",
          "text": [
            "\n"
          ]
        },
        {
          "name": "stdout",
          "output_type": "stream",
          "text": [
            "\n",
            "      Epoch    GPU_mem   box_loss  pose_loss  kobj_loss   cls_loss   dfl_loss  Instances       Size\n"
          ]
        },
        {
          "name": "stderr",
          "output_type": "stream",
          "text": [
            "     26/100      1.37G      1.292        3.5          0     0.9266      1.068         27        128: 100%|██████████| 932/932 [02:00<00:00,  7.74it/s]\n",
            "                 Class     Images  Instances      Box(P          R      mAP50  mAP50-95)     Pose(P          R      mAP50  mAP50-95): 100%|██████████| 81/81 [00:14<00:00,  5.72it/s]"
          ]
        },
        {
          "name": "stdout",
          "output_type": "stream",
          "text": [
            "                   all       2574       2574      0.931      0.931      0.964      0.609       0.71      0.709      0.642      0.292\n"
          ]
        },
        {
          "name": "stderr",
          "output_type": "stream",
          "text": [
            "\n"
          ]
        },
        {
          "name": "stdout",
          "output_type": "stream",
          "text": [
            "\n",
            "      Epoch    GPU_mem   box_loss  pose_loss  kobj_loss   cls_loss   dfl_loss  Instances       Size\n"
          ]
        },
        {
          "name": "stderr",
          "output_type": "stream",
          "text": [
            "     27/100      1.39G      1.292      3.427          0     0.9111      1.066         31        128: 100%|██████████| 932/932 [01:59<00:00,  7.82it/s]\n",
            "                 Class     Images  Instances      Box(P          R      mAP50  mAP50-95)     Pose(P          R      mAP50  mAP50-95): 100%|██████████| 81/81 [00:14<00:00,  5.52it/s]"
          ]
        },
        {
          "name": "stdout",
          "output_type": "stream",
          "text": [
            "                   all       2574       2574      0.936      0.934      0.963      0.599      0.727      0.724      0.653       0.29\n"
          ]
        },
        {
          "name": "stderr",
          "output_type": "stream",
          "text": [
            "\n"
          ]
        },
        {
          "name": "stdout",
          "output_type": "stream",
          "text": [
            "\n",
            "      Epoch    GPU_mem   box_loss  pose_loss  kobj_loss   cls_loss   dfl_loss  Instances       Size\n"
          ]
        },
        {
          "name": "stderr",
          "output_type": "stream",
          "text": [
            "     28/100      1.44G      1.288        3.4          0     0.9071      1.065         18        128: 100%|██████████| 932/932 [01:59<00:00,  7.83it/s]\n",
            "                 Class     Images  Instances      Box(P          R      mAP50  mAP50-95)     Pose(P          R      mAP50  mAP50-95): 100%|██████████| 81/81 [00:14<00:00,  5.74it/s]"
          ]
        },
        {
          "name": "stdout",
          "output_type": "stream",
          "text": [
            "                   all       2574       2574      0.932      0.939      0.965      0.608      0.729      0.728      0.653      0.305\n"
          ]
        },
        {
          "name": "stderr",
          "output_type": "stream",
          "text": [
            "\n"
          ]
        },
        {
          "name": "stdout",
          "output_type": "stream",
          "text": [
            "\n",
            "      Epoch    GPU_mem   box_loss  pose_loss  kobj_loss   cls_loss   dfl_loss  Instances       Size\n"
          ]
        },
        {
          "name": "stderr",
          "output_type": "stream",
          "text": [
            "     29/100      1.48G      1.287      3.376          0     0.9115      1.071         21        128: 100%|██████████| 932/932 [02:00<00:00,  7.76it/s]\n",
            "                 Class     Images  Instances      Box(P          R      mAP50  mAP50-95)     Pose(P          R      mAP50  mAP50-95): 100%|██████████| 81/81 [00:14<00:00,  5.75it/s]"
          ]
        },
        {
          "name": "stdout",
          "output_type": "stream",
          "text": [
            "                   all       2574       2574      0.926      0.932      0.967       0.61      0.729      0.736      0.662      0.312\n"
          ]
        },
        {
          "name": "stderr",
          "output_type": "stream",
          "text": [
            "\n"
          ]
        },
        {
          "name": "stdout",
          "output_type": "stream",
          "text": [
            "\n",
            "      Epoch    GPU_mem   box_loss  pose_loss  kobj_loss   cls_loss   dfl_loss  Instances       Size\n"
          ]
        },
        {
          "name": "stderr",
          "output_type": "stream",
          "text": [
            "     30/100      1.51G      1.288      3.396          0      0.904      1.064         21        128: 100%|██████████| 932/932 [02:01<00:00,  7.65it/s]\n",
            "                 Class     Images  Instances      Box(P          R      mAP50  mAP50-95)     Pose(P          R      mAP50  mAP50-95): 100%|██████████| 81/81 [00:14<00:00,  5.41it/s]"
          ]
        },
        {
          "name": "stdout",
          "output_type": "stream",
          "text": [
            "                   all       2574       2574      0.922      0.938      0.963      0.603      0.739      0.739      0.666       0.31\n"
          ]
        },
        {
          "name": "stderr",
          "output_type": "stream",
          "text": [
            "\n"
          ]
        },
        {
          "name": "stdout",
          "output_type": "stream",
          "text": [
            "\n",
            "      Epoch    GPU_mem   box_loss  pose_loss  kobj_loss   cls_loss   dfl_loss  Instances       Size\n"
          ]
        },
        {
          "name": "stderr",
          "output_type": "stream",
          "text": [
            "     31/100      1.56G      1.292      3.394          0     0.9159      1.069         31        128: 100%|██████████| 932/932 [01:59<00:00,  7.80it/s]\n",
            "                 Class     Images  Instances      Box(P          R      mAP50  mAP50-95)     Pose(P          R      mAP50  mAP50-95): 100%|██████████| 81/81 [00:14<00:00,  5.58it/s]\n"
          ]
        },
        {
          "name": "stdout",
          "output_type": "stream",
          "text": [
            "                   all       2574       2574      0.934      0.923      0.966      0.615      0.732       0.72      0.664      0.319\n",
            "\n",
            "      Epoch    GPU_mem   box_loss  pose_loss  kobj_loss   cls_loss   dfl_loss  Instances       Size\n"
          ]
        },
        {
          "name": "stderr",
          "output_type": "stream",
          "text": [
            "     32/100      1.59G      1.281      3.363          0      0.904      1.065         26        128: 100%|██████████| 932/932 [01:59<00:00,  7.82it/s]\n",
            "                 Class     Images  Instances      Box(P          R      mAP50  mAP50-95)     Pose(P          R      mAP50  mAP50-95): 100%|██████████| 81/81 [00:14<00:00,  5.74it/s]"
          ]
        },
        {
          "name": "stdout",
          "output_type": "stream",
          "text": [
            "                   all       2574       2574      0.928      0.928      0.964      0.603      0.738      0.738      0.672      0.322\n"
          ]
        },
        {
          "name": "stderr",
          "output_type": "stream",
          "text": [
            "\n"
          ]
        },
        {
          "name": "stdout",
          "output_type": "stream",
          "text": [
            "\n",
            "      Epoch    GPU_mem   box_loss  pose_loss  kobj_loss   cls_loss   dfl_loss  Instances       Size\n"
          ]
        },
        {
          "name": "stderr",
          "output_type": "stream",
          "text": [
            "     33/100      1.63G      1.283      3.321          0     0.9062      1.062         17        128: 100%|██████████| 932/932 [02:00<00:00,  7.75it/s]\n",
            "                 Class     Images  Instances      Box(P          R      mAP50  mAP50-95)     Pose(P          R      mAP50  mAP50-95): 100%|██████████| 81/81 [00:14<00:00,  5.75it/s]"
          ]
        },
        {
          "name": "stdout",
          "output_type": "stream",
          "text": [
            "                   all       2574       2574      0.922      0.941      0.966      0.611      0.737      0.748      0.674      0.328\n"
          ]
        },
        {
          "name": "stderr",
          "output_type": "stream",
          "text": [
            "\n"
          ]
        },
        {
          "name": "stdout",
          "output_type": "stream",
          "text": [
            "\n",
            "      Epoch    GPU_mem   box_loss  pose_loss  kobj_loss   cls_loss   dfl_loss  Instances       Size\n"
          ]
        },
        {
          "name": "stderr",
          "output_type": "stream",
          "text": [
            "     34/100      1.67G      1.273      3.329          0     0.9006      1.062         33        128: 100%|██████████| 932/932 [02:00<00:00,  7.71it/s]\n",
            "                 Class     Images  Instances      Box(P          R      mAP50  mAP50-95)     Pose(P          R      mAP50  mAP50-95): 100%|██████████| 81/81 [00:14<00:00,  5.68it/s]"
          ]
        },
        {
          "name": "stdout",
          "output_type": "stream",
          "text": [
            "                   all       2574       2574      0.933      0.939      0.969      0.609      0.743      0.744      0.668      0.324\n"
          ]
        },
        {
          "name": "stderr",
          "output_type": "stream",
          "text": [
            "\n"
          ]
        },
        {
          "name": "stdout",
          "output_type": "stream",
          "text": [
            "\n",
            "      Epoch    GPU_mem   box_loss  pose_loss  kobj_loss   cls_loss   dfl_loss  Instances       Size\n"
          ]
        },
        {
          "name": "stderr",
          "output_type": "stream",
          "text": [
            "     35/100       1.7G      1.273      3.326          0     0.8973      1.062         33        128: 100%|██████████| 932/932 [02:00<00:00,  7.76it/s]\n",
            "                 Class     Images  Instances      Box(P          R      mAP50  mAP50-95)     Pose(P          R      mAP50  mAP50-95): 100%|██████████| 81/81 [00:14<00:00,  5.71it/s]\n"
          ]
        },
        {
          "name": "stdout",
          "output_type": "stream",
          "text": [
            "                   all       2574       2574      0.927      0.942      0.967      0.614       0.74      0.747      0.665      0.323\n",
            "\n",
            "      Epoch    GPU_mem   box_loss  pose_loss  kobj_loss   cls_loss   dfl_loss  Instances       Size\n"
          ]
        },
        {
          "name": "stderr",
          "output_type": "stream",
          "text": [
            "     36/100      1.75G      1.272      3.267          0     0.8976      1.061         29        128: 100%|██████████| 932/932 [02:01<00:00,  7.70it/s]\n",
            "                 Class     Images  Instances      Box(P          R      mAP50  mAP50-95)     Pose(P          R      mAP50  mAP50-95): 100%|██████████| 81/81 [00:14<00:00,  5.69it/s]"
          ]
        },
        {
          "name": "stdout",
          "output_type": "stream",
          "text": [
            "                   all       2574       2574      0.927      0.937      0.965      0.616      0.754      0.753      0.683      0.338\n"
          ]
        },
        {
          "name": "stderr",
          "output_type": "stream",
          "text": [
            "\n"
          ]
        },
        {
          "name": "stdout",
          "output_type": "stream",
          "text": [
            "\n",
            "      Epoch    GPU_mem   box_loss  pose_loss  kobj_loss   cls_loss   dfl_loss  Instances       Size\n"
          ]
        },
        {
          "name": "stderr",
          "output_type": "stream",
          "text": [
            "     37/100      1.78G      1.277      3.302          0     0.8978      1.063         32        128: 100%|██████████| 932/932 [02:00<00:00,  7.74it/s]\n",
            "                 Class     Images  Instances      Box(P          R      mAP50  mAP50-95)     Pose(P          R      mAP50  mAP50-95): 100%|██████████| 81/81 [00:14<00:00,  5.76it/s]"
          ]
        },
        {
          "name": "stdout",
          "output_type": "stream",
          "text": [
            "                   all       2574       2574      0.932      0.935      0.966      0.612      0.745      0.746      0.664      0.327\n"
          ]
        },
        {
          "name": "stderr",
          "output_type": "stream",
          "text": [
            "\n"
          ]
        },
        {
          "name": "stdout",
          "output_type": "stream",
          "text": [
            "\n",
            "      Epoch    GPU_mem   box_loss  pose_loss  kobj_loss   cls_loss   dfl_loss  Instances       Size\n"
          ]
        },
        {
          "name": "stderr",
          "output_type": "stream",
          "text": [
            "     38/100      1.82G      1.272      3.266          0     0.8984       1.06         26        128: 100%|██████████| 932/932 [01:58<00:00,  7.88it/s]\n",
            "                 Class     Images  Instances      Box(P          R      mAP50  mAP50-95)     Pose(P          R      mAP50  mAP50-95): 100%|██████████| 81/81 [00:14<00:00,  5.69it/s]"
          ]
        },
        {
          "name": "stdout",
          "output_type": "stream",
          "text": [
            "                   all       2574       2574      0.932      0.937      0.969       0.61      0.741      0.741      0.665      0.325\n"
          ]
        },
        {
          "name": "stderr",
          "output_type": "stream",
          "text": [
            "\n"
          ]
        },
        {
          "name": "stdout",
          "output_type": "stream",
          "text": [
            "\n",
            "      Epoch    GPU_mem   box_loss  pose_loss  kobj_loss   cls_loss   dfl_loss  Instances       Size\n"
          ]
        },
        {
          "name": "stderr",
          "output_type": "stream",
          "text": [
            "     39/100      1.85G      1.266      3.256          0     0.8988      1.058         30        128: 100%|██████████| 932/932 [01:58<00:00,  7.84it/s]\n",
            "                 Class     Images  Instances      Box(P          R      mAP50  mAP50-95)     Pose(P          R      mAP50  mAP50-95): 100%|██████████| 81/81 [00:14<00:00,  5.67it/s]"
          ]
        },
        {
          "name": "stdout",
          "output_type": "stream",
          "text": [
            "                   all       2574       2574      0.933      0.938      0.969       0.62       0.75      0.752      0.688      0.337\n"
          ]
        },
        {
          "name": "stderr",
          "output_type": "stream",
          "text": [
            "\n"
          ]
        },
        {
          "name": "stdout",
          "output_type": "stream",
          "text": [
            "\n",
            "      Epoch    GPU_mem   box_loss  pose_loss  kobj_loss   cls_loss   dfl_loss  Instances       Size\n"
          ]
        },
        {
          "name": "stderr",
          "output_type": "stream",
          "text": [
            "     40/100       1.9G      1.264      3.265          0     0.8937      1.058         21        128: 100%|██████████| 932/932 [02:00<00:00,  7.75it/s]\n",
            "                 Class     Images  Instances      Box(P          R      mAP50  mAP50-95)     Pose(P          R      mAP50  mAP50-95): 100%|██████████| 81/81 [00:13<00:00,  5.80it/s]"
          ]
        },
        {
          "name": "stdout",
          "output_type": "stream",
          "text": [
            "                   all       2574       2574      0.931      0.939      0.969      0.619      0.745       0.75      0.677      0.335\n"
          ]
        },
        {
          "name": "stderr",
          "output_type": "stream",
          "text": [
            "\n"
          ]
        },
        {
          "name": "stdout",
          "output_type": "stream",
          "text": [
            "\n",
            "      Epoch    GPU_mem   box_loss  pose_loss  kobj_loss   cls_loss   dfl_loss  Instances       Size\n"
          ]
        },
        {
          "name": "stderr",
          "output_type": "stream",
          "text": [
            "     41/100      1.93G      1.264      3.224          0     0.8853      1.059         20        128: 100%|██████████| 932/932 [01:59<00:00,  7.77it/s]\n",
            "                 Class     Images  Instances      Box(P          R      mAP50  mAP50-95)     Pose(P          R      mAP50  mAP50-95): 100%|██████████| 81/81 [00:13<00:00,  5.79it/s]"
          ]
        },
        {
          "name": "stdout",
          "output_type": "stream",
          "text": [
            "                   all       2574       2574      0.929       0.94       0.97      0.618      0.744       0.75      0.681      0.337\n"
          ]
        },
        {
          "name": "stderr",
          "output_type": "stream",
          "text": [
            "\n"
          ]
        },
        {
          "name": "stdout",
          "output_type": "stream",
          "text": [
            "\n",
            "      Epoch    GPU_mem   box_loss  pose_loss  kobj_loss   cls_loss   dfl_loss  Instances       Size\n"
          ]
        },
        {
          "name": "stderr",
          "output_type": "stream",
          "text": [
            "     42/100      1.97G      1.252      3.248          0     0.8851      1.055         35        128: 100%|██████████| 932/932 [01:59<00:00,  7.81it/s]\n",
            "                 Class     Images  Instances      Box(P          R      mAP50  mAP50-95)     Pose(P          R      mAP50  mAP50-95): 100%|██████████| 81/81 [00:14<00:00,  5.63it/s]"
          ]
        },
        {
          "name": "stdout",
          "output_type": "stream",
          "text": [
            "                   all       2574       2574      0.929      0.943       0.97      0.622      0.754      0.756      0.695      0.347\n"
          ]
        },
        {
          "name": "stderr",
          "output_type": "stream",
          "text": [
            "\n"
          ]
        },
        {
          "name": "stdout",
          "output_type": "stream",
          "text": [
            "\n",
            "      Epoch    GPU_mem   box_loss  pose_loss  kobj_loss   cls_loss   dfl_loss  Instances       Size\n"
          ]
        },
        {
          "name": "stderr",
          "output_type": "stream",
          "text": [
            "     43/100         2G      1.254      3.218          0     0.8888      1.054         34        128: 100%|██████████| 932/932 [01:59<00:00,  7.77it/s]\n",
            "                 Class     Images  Instances      Box(P          R      mAP50  mAP50-95)     Pose(P          R      mAP50  mAP50-95): 100%|██████████| 81/81 [00:14<00:00,  5.75it/s]"
          ]
        },
        {
          "name": "stdout",
          "output_type": "stream",
          "text": [
            "                   all       2574       2574       0.93      0.941      0.968      0.622      0.748      0.753      0.689      0.345\n"
          ]
        },
        {
          "name": "stderr",
          "output_type": "stream",
          "text": [
            "\n"
          ]
        },
        {
          "name": "stdout",
          "output_type": "stream",
          "text": [
            "\n",
            "      Epoch    GPU_mem   box_loss  pose_loss  kobj_loss   cls_loss   dfl_loss  Instances       Size\n"
          ]
        },
        {
          "name": "stderr",
          "output_type": "stream",
          "text": [
            "     44/100      2.05G      1.256      3.215          0     0.8979      1.056         26        128: 100%|██████████| 932/932 [02:00<00:00,  7.71it/s]\n",
            "                 Class     Images  Instances      Box(P          R      mAP50  mAP50-95)     Pose(P          R      mAP50  mAP50-95): 100%|██████████| 81/81 [00:14<00:00,  5.78it/s]"
          ]
        },
        {
          "name": "stdout",
          "output_type": "stream",
          "text": [
            "                   all       2574       2574      0.929      0.942       0.97      0.619      0.753       0.76      0.691       0.34\n"
          ]
        },
        {
          "name": "stderr",
          "output_type": "stream",
          "text": [
            "\n"
          ]
        },
        {
          "name": "stdout",
          "output_type": "stream",
          "text": [
            "\n",
            "      Epoch    GPU_mem   box_loss  pose_loss  kobj_loss   cls_loss   dfl_loss  Instances       Size\n"
          ]
        },
        {
          "name": "stderr",
          "output_type": "stream",
          "text": [
            "     45/100      2.08G      1.247      3.201          0     0.8836      1.052         30        128: 100%|██████████| 932/932 [02:00<00:00,  7.71it/s]\n",
            "                 Class     Images  Instances      Box(P          R      mAP50  mAP50-95)     Pose(P          R      mAP50  mAP50-95): 100%|██████████| 81/81 [00:13<00:00,  5.79it/s]"
          ]
        },
        {
          "name": "stdout",
          "output_type": "stream",
          "text": [
            "                   all       2574       2574      0.934      0.937      0.969       0.62      0.761      0.758      0.699      0.345\n"
          ]
        },
        {
          "name": "stderr",
          "output_type": "stream",
          "text": [
            "\n"
          ]
        },
        {
          "name": "stdout",
          "output_type": "stream",
          "text": [
            "\n",
            "      Epoch    GPU_mem   box_loss  pose_loss  kobj_loss   cls_loss   dfl_loss  Instances       Size\n"
          ]
        },
        {
          "name": "stderr",
          "output_type": "stream",
          "text": [
            "     46/100      2.12G      1.251      3.179          0     0.8805      1.051         37        128: 100%|██████████| 932/932 [01:59<00:00,  7.79it/s]\n",
            "                 Class     Images  Instances      Box(P          R      mAP50  mAP50-95)     Pose(P          R      mAP50  mAP50-95): 100%|██████████| 81/81 [00:14<00:00,  5.50it/s]"
          ]
        },
        {
          "name": "stdout",
          "output_type": "stream",
          "text": [
            "                   all       2574       2574      0.936      0.936       0.97      0.623      0.762      0.754       0.69      0.345\n"
          ]
        },
        {
          "name": "stderr",
          "output_type": "stream",
          "text": [
            "\n"
          ]
        },
        {
          "name": "stdout",
          "output_type": "stream",
          "text": [
            "\n",
            "      Epoch    GPU_mem   box_loss  pose_loss  kobj_loss   cls_loss   dfl_loss  Instances       Size\n"
          ]
        },
        {
          "name": "stderr",
          "output_type": "stream",
          "text": [
            "     47/100      2.15G      1.247      3.179          0     0.8817      1.054         20        128: 100%|██████████| 932/932 [01:59<00:00,  7.77it/s]\n",
            "                 Class     Images  Instances      Box(P          R      mAP50  mAP50-95)     Pose(P          R      mAP50  mAP50-95): 100%|██████████| 81/81 [00:14<00:00,  5.78it/s]"
          ]
        },
        {
          "name": "stdout",
          "output_type": "stream",
          "text": [
            "                   all       2574       2574      0.933      0.941       0.97      0.624       0.76      0.754      0.692      0.346\n"
          ]
        },
        {
          "name": "stderr",
          "output_type": "stream",
          "text": [
            "\n"
          ]
        },
        {
          "name": "stdout",
          "output_type": "stream",
          "text": [
            "\n",
            "      Epoch    GPU_mem   box_loss  pose_loss  kobj_loss   cls_loss   dfl_loss  Instances       Size\n"
          ]
        },
        {
          "name": "stderr",
          "output_type": "stream",
          "text": [
            "     48/100       2.2G      1.247      3.185          0     0.8763      1.051         24        128: 100%|██████████| 932/932 [02:00<00:00,  7.75it/s]\n",
            "                 Class     Images  Instances      Box(P          R      mAP50  mAP50-95)     Pose(P          R      mAP50  mAP50-95): 100%|██████████| 81/81 [00:14<00:00,  5.78it/s]"
          ]
        },
        {
          "name": "stdout",
          "output_type": "stream",
          "text": [
            "                   all       2574       2574      0.931      0.947       0.97      0.622      0.758       0.76      0.696      0.346\n"
          ]
        },
        {
          "name": "stderr",
          "output_type": "stream",
          "text": [
            "\n"
          ]
        },
        {
          "name": "stdout",
          "output_type": "stream",
          "text": [
            "\n",
            "      Epoch    GPU_mem   box_loss  pose_loss  kobj_loss   cls_loss   dfl_loss  Instances       Size\n"
          ]
        },
        {
          "name": "stderr",
          "output_type": "stream",
          "text": [
            "     49/100      2.22G      1.249      3.192          0     0.8798      1.052         23        128: 100%|██████████| 932/932 [02:00<00:00,  7.72it/s]\n",
            "                 Class     Images  Instances      Box(P          R      mAP50  mAP50-95)     Pose(P          R      mAP50  mAP50-95): 100%|██████████| 81/81 [00:14<00:00,  5.75it/s]"
          ]
        },
        {
          "name": "stdout",
          "output_type": "stream",
          "text": [
            "                   all       2574       2574      0.934       0.94       0.97      0.622      0.763       0.76      0.701      0.348\n"
          ]
        },
        {
          "name": "stderr",
          "output_type": "stream",
          "text": [
            "\n"
          ]
        },
        {
          "name": "stdout",
          "output_type": "stream",
          "text": [
            "\n",
            "      Epoch    GPU_mem   box_loss  pose_loss  kobj_loss   cls_loss   dfl_loss  Instances       Size\n"
          ]
        },
        {
          "name": "stderr",
          "output_type": "stream",
          "text": [
            "     50/100      2.27G      1.245      3.159          0     0.8745      1.051         26        128: 100%|██████████| 932/932 [02:00<00:00,  7.75it/s]\n",
            "                 Class     Images  Instances      Box(P          R      mAP50  mAP50-95)     Pose(P          R      mAP50  mAP50-95): 100%|██████████| 81/81 [00:14<00:00,  5.60it/s]"
          ]
        },
        {
          "name": "stdout",
          "output_type": "stream",
          "text": [
            "                   all       2574       2574      0.938      0.938      0.971      0.625      0.759      0.755      0.691       0.35\n"
          ]
        },
        {
          "name": "stderr",
          "output_type": "stream",
          "text": [
            "\n"
          ]
        },
        {
          "name": "stdout",
          "output_type": "stream",
          "text": [
            "\n",
            "      Epoch    GPU_mem   box_loss  pose_loss  kobj_loss   cls_loss   dfl_loss  Instances       Size\n"
          ]
        },
        {
          "name": "stderr",
          "output_type": "stream",
          "text": [
            "     51/100       2.3G      1.245      3.182          0     0.8685      1.051         29        128: 100%|██████████| 932/932 [01:59<00:00,  7.77it/s]\n",
            "                 Class     Images  Instances      Box(P          R      mAP50  mAP50-95)     Pose(P          R      mAP50  mAP50-95): 100%|██████████| 81/81 [00:14<00:00,  5.71it/s]"
          ]
        },
        {
          "name": "stdout",
          "output_type": "stream",
          "text": [
            "                   all       2574       2574      0.935       0.94      0.971      0.625      0.763       0.76      0.695      0.351\n"
          ]
        },
        {
          "name": "stderr",
          "output_type": "stream",
          "text": [
            "\n"
          ]
        },
        {
          "name": "stdout",
          "output_type": "stream",
          "text": [
            "\n",
            "      Epoch    GPU_mem   box_loss  pose_loss  kobj_loss   cls_loss   dfl_loss  Instances       Size\n"
          ]
        },
        {
          "name": "stderr",
          "output_type": "stream",
          "text": [
            "     52/100      2.35G      1.236      3.131          0     0.8703       1.05         30        128: 100%|██████████| 932/932 [02:00<00:00,  7.73it/s]\n",
            "                 Class     Images  Instances      Box(P          R      mAP50  mAP50-95)     Pose(P          R      mAP50  mAP50-95): 100%|██████████| 81/81 [00:14<00:00,  5.78it/s]"
          ]
        },
        {
          "name": "stdout",
          "output_type": "stream",
          "text": [
            "                   all       2574       2574      0.933      0.943      0.971      0.622      0.759       0.76      0.696      0.354\n"
          ]
        },
        {
          "name": "stderr",
          "output_type": "stream",
          "text": [
            "\n"
          ]
        },
        {
          "name": "stdout",
          "output_type": "stream",
          "text": [
            "\n",
            "      Epoch    GPU_mem   box_loss  pose_loss  kobj_loss   cls_loss   dfl_loss  Instances       Size\n"
          ]
        },
        {
          "name": "stderr",
          "output_type": "stream",
          "text": [
            "     53/100      2.39G      1.238      3.122          0     0.8814      1.047         20        128: 100%|██████████| 932/932 [01:59<00:00,  7.79it/s]\n",
            "                 Class     Images  Instances      Box(P          R      mAP50  mAP50-95)     Pose(P          R      mAP50  mAP50-95): 100%|██████████| 81/81 [00:13<00:00,  5.83it/s]"
          ]
        },
        {
          "name": "stdout",
          "output_type": "stream",
          "text": [
            "                   all       2574       2574      0.932      0.943       0.97      0.622      0.758      0.759      0.695      0.353\n"
          ]
        },
        {
          "name": "stderr",
          "output_type": "stream",
          "text": [
            "\n"
          ]
        },
        {
          "name": "stdout",
          "output_type": "stream",
          "text": [
            "\n",
            "      Epoch    GPU_mem   box_loss  pose_loss  kobj_loss   cls_loss   dfl_loss  Instances       Size\n"
          ]
        },
        {
          "name": "stderr",
          "output_type": "stream",
          "text": [
            "     54/100      2.42G      1.235      3.079          0     0.8708      1.049         26        128: 100%|██████████| 932/932 [01:59<00:00,  7.77it/s]\n",
            "                 Class     Images  Instances      Box(P          R      mAP50  mAP50-95)     Pose(P          R      mAP50  mAP50-95): 100%|██████████| 81/81 [00:13<00:00,  5.82it/s]"
          ]
        },
        {
          "name": "stdout",
          "output_type": "stream",
          "text": [
            "                   all       2574       2574      0.932      0.944      0.971      0.624      0.755      0.754      0.689      0.355\n"
          ]
        },
        {
          "name": "stderr",
          "output_type": "stream",
          "text": [
            "\n"
          ]
        },
        {
          "name": "stdout",
          "output_type": "stream",
          "text": [
            "\n",
            "      Epoch    GPU_mem   box_loss  pose_loss  kobj_loss   cls_loss   dfl_loss  Instances       Size\n"
          ]
        },
        {
          "name": "stderr",
          "output_type": "stream",
          "text": [
            "     55/100      2.45G      1.233      3.127          0     0.8675      1.045         27        128: 100%|██████████| 932/932 [01:59<00:00,  7.82it/s]\n",
            "                 Class     Images  Instances      Box(P          R      mAP50  mAP50-95)     Pose(P          R      mAP50  mAP50-95): 100%|██████████| 81/81 [00:14<00:00,  5.75it/s]"
          ]
        },
        {
          "name": "stdout",
          "output_type": "stream",
          "text": [
            "                   all       2574       2574      0.936      0.943      0.972      0.623      0.757      0.757       0.69      0.353\n"
          ]
        },
        {
          "name": "stderr",
          "output_type": "stream",
          "text": [
            "\n"
          ]
        },
        {
          "name": "stdout",
          "output_type": "stream",
          "text": [
            "\n",
            "      Epoch    GPU_mem   box_loss  pose_loss  kobj_loss   cls_loss   dfl_loss  Instances       Size\n"
          ]
        },
        {
          "name": "stderr",
          "output_type": "stream",
          "text": [
            "     56/100       2.5G      1.227      3.069          0     0.8586      1.042         33        128: 100%|██████████| 932/932 [01:59<00:00,  7.80it/s]\n",
            "                 Class     Images  Instances      Box(P          R      mAP50  mAP50-95)     Pose(P          R      mAP50  mAP50-95): 100%|██████████| 81/81 [00:14<00:00,  5.75it/s]"
          ]
        },
        {
          "name": "stdout",
          "output_type": "stream",
          "text": [
            "                   all       2574       2574      0.933      0.946      0.972      0.621      0.757      0.759      0.692      0.355\n"
          ]
        },
        {
          "name": "stderr",
          "output_type": "stream",
          "text": [
            "\n"
          ]
        },
        {
          "name": "stdout",
          "output_type": "stream",
          "text": [
            "\n",
            "      Epoch    GPU_mem   box_loss  pose_loss  kobj_loss   cls_loss   dfl_loss  Instances       Size\n"
          ]
        },
        {
          "name": "stderr",
          "output_type": "stream",
          "text": [
            "     57/100      2.54G      1.227      3.082          0     0.8651      1.042         28        128: 100%|██████████| 932/932 [01:59<00:00,  7.77it/s]\n",
            "                 Class     Images  Instances      Box(P          R      mAP50  mAP50-95)     Pose(P          R      mAP50  mAP50-95): 100%|██████████| 81/81 [00:14<00:00,  5.76it/s]"
          ]
        },
        {
          "name": "stdout",
          "output_type": "stream",
          "text": [
            "                   all       2574       2574      0.935      0.943      0.971      0.621      0.756      0.761      0.693      0.355\n"
          ]
        },
        {
          "name": "stderr",
          "output_type": "stream",
          "text": [
            "\n"
          ]
        },
        {
          "name": "stdout",
          "output_type": "stream",
          "text": [
            "\n",
            "      Epoch    GPU_mem   box_loss  pose_loss  kobj_loss   cls_loss   dfl_loss  Instances       Size\n"
          ]
        },
        {
          "name": "stderr",
          "output_type": "stream",
          "text": [
            "     58/100      2.57G      1.231       3.06          0      0.868      1.045         28        128: 100%|██████████| 932/932 [02:00<00:00,  7.76it/s]\n",
            "                 Class     Images  Instances      Box(P          R      mAP50  mAP50-95)     Pose(P          R      mAP50  mAP50-95): 100%|██████████| 81/81 [00:14<00:00,  5.74it/s]"
          ]
        },
        {
          "name": "stdout",
          "output_type": "stream",
          "text": [
            "                   all       2574       2574      0.934      0.946      0.972      0.622      0.761      0.765      0.696      0.356\n"
          ]
        },
        {
          "name": "stderr",
          "output_type": "stream",
          "text": [
            "\n"
          ]
        },
        {
          "name": "stdout",
          "output_type": "stream",
          "text": [
            "\n",
            "      Epoch    GPU_mem   box_loss  pose_loss  kobj_loss   cls_loss   dfl_loss  Instances       Size\n"
          ]
        },
        {
          "name": "stderr",
          "output_type": "stream",
          "text": [
            "     59/100      2.62G      1.223      3.063          0     0.8615      1.042         36        128: 100%|██████████| 932/932 [02:01<00:00,  7.67it/s]\n",
            "                 Class     Images  Instances      Box(P          R      mAP50  mAP50-95)     Pose(P          R      mAP50  mAP50-95): 100%|██████████| 81/81 [00:14<00:00,  5.59it/s]"
          ]
        },
        {
          "name": "stdout",
          "output_type": "stream",
          "text": [
            "                   all       2574       2574      0.934      0.947      0.971      0.623      0.764      0.763      0.697      0.357\n"
          ]
        },
        {
          "name": "stderr",
          "output_type": "stream",
          "text": [
            "\n"
          ]
        },
        {
          "name": "stdout",
          "output_type": "stream",
          "text": [
            "\n",
            "      Epoch    GPU_mem   box_loss  pose_loss  kobj_loss   cls_loss   dfl_loss  Instances       Size\n"
          ]
        },
        {
          "name": "stderr",
          "output_type": "stream",
          "text": [
            "     60/100      2.65G      1.225      3.089          0     0.8638      1.044         20        128: 100%|██████████| 932/932 [02:01<00:00,  7.69it/s]\n",
            "                 Class     Images  Instances      Box(P          R      mAP50  mAP50-95)     Pose(P          R      mAP50  mAP50-95): 100%|██████████| 81/81 [00:14<00:00,  5.50it/s]\n"
          ]
        },
        {
          "name": "stdout",
          "output_type": "stream",
          "text": [
            "                   all       2574       2574      0.933      0.946      0.971      0.623      0.765      0.763      0.699      0.358\n",
            "\n",
            "      Epoch    GPU_mem   box_loss  pose_loss  kobj_loss   cls_loss   dfl_loss  Instances       Size\n"
          ]
        },
        {
          "name": "stderr",
          "output_type": "stream",
          "text": [
            "     61/100      2.69G      1.218      3.067          0     0.8595      1.039         30        128: 100%|██████████| 932/932 [02:01<00:00,  7.70it/s]\n",
            "                 Class     Images  Instances      Box(P          R      mAP50  mAP50-95)     Pose(P          R      mAP50  mAP50-95): 100%|██████████| 81/81 [00:14<00:00,  5.76it/s]"
          ]
        },
        {
          "name": "stdout",
          "output_type": "stream",
          "text": [
            "                   all       2574       2574      0.932      0.946      0.971      0.623      0.766      0.762      0.699       0.36\n"
          ]
        },
        {
          "name": "stderr",
          "output_type": "stream",
          "text": [
            "\n"
          ]
        },
        {
          "name": "stdout",
          "output_type": "stream",
          "text": [
            "\n",
            "      Epoch    GPU_mem   box_loss  pose_loss  kobj_loss   cls_loss   dfl_loss  Instances       Size\n"
          ]
        },
        {
          "name": "stderr",
          "output_type": "stream",
          "text": [
            "     62/100      2.72G      1.224      3.047          0      0.864      1.042         21        128: 100%|██████████| 932/932 [02:02<00:00,  7.63it/s]\n",
            "                 Class     Images  Instances      Box(P          R      mAP50  mAP50-95)     Pose(P          R      mAP50  mAP50-95): 100%|██████████| 81/81 [00:14<00:00,  5.73it/s]"
          ]
        },
        {
          "name": "stdout",
          "output_type": "stream",
          "text": [
            "                   all       2574       2574      0.935      0.945      0.972      0.624      0.764      0.762      0.697      0.362\n"
          ]
        },
        {
          "name": "stderr",
          "output_type": "stream",
          "text": [
            "\n"
          ]
        },
        {
          "name": "stdout",
          "output_type": "stream",
          "text": [
            "\n",
            "      Epoch    GPU_mem   box_loss  pose_loss  kobj_loss   cls_loss   dfl_loss  Instances       Size\n"
          ]
        },
        {
          "name": "stderr",
          "output_type": "stream",
          "text": [
            "     63/100      2.77G      1.217      3.048          0     0.8583      1.038         30        128: 100%|██████████| 932/932 [02:01<00:00,  7.68it/s]\n",
            "                 Class     Images  Instances      Box(P          R      mAP50  mAP50-95)     Pose(P          R      mAP50  mAP50-95): 100%|██████████| 81/81 [00:14<00:00,  5.72it/s]"
          ]
        },
        {
          "name": "stdout",
          "output_type": "stream",
          "text": [
            "                   all       2574       2574      0.935      0.946      0.972      0.624      0.767      0.765      0.701      0.363\n"
          ]
        },
        {
          "name": "stderr",
          "output_type": "stream",
          "text": [
            "\n"
          ]
        },
        {
          "name": "stdout",
          "output_type": "stream",
          "text": [
            "\n",
            "      Epoch    GPU_mem   box_loss  pose_loss  kobj_loss   cls_loss   dfl_loss  Instances       Size\n"
          ]
        },
        {
          "name": "stderr",
          "output_type": "stream",
          "text": [
            "     64/100      2.79G      1.215      3.048          0     0.8624       1.04         26        128: 100%|██████████| 932/932 [02:01<00:00,  7.67it/s]\n",
            "                 Class     Images  Instances      Box(P          R      mAP50  mAP50-95)     Pose(P          R      mAP50  mAP50-95): 100%|██████████| 81/81 [00:14<00:00,  5.69it/s]"
          ]
        },
        {
          "name": "stdout",
          "output_type": "stream",
          "text": [
            "                   all       2574       2574      0.935      0.946      0.972      0.624      0.769      0.769      0.705      0.363\n"
          ]
        },
        {
          "name": "stderr",
          "output_type": "stream",
          "text": [
            "\n"
          ]
        },
        {
          "name": "stdout",
          "output_type": "stream",
          "text": [
            "\n",
            "      Epoch    GPU_mem   box_loss  pose_loss  kobj_loss   cls_loss   dfl_loss  Instances       Size\n"
          ]
        },
        {
          "name": "stderr",
          "output_type": "stream",
          "text": [
            "     65/100      2.84G      1.211          3          0     0.8514      1.039         24        128: 100%|██████████| 932/932 [02:01<00:00,  7.68it/s]\n",
            "                 Class     Images  Instances      Box(P          R      mAP50  mAP50-95)     Pose(P          R      mAP50  mAP50-95): 100%|██████████| 81/81 [00:13<00:00,  5.80it/s]"
          ]
        },
        {
          "name": "stdout",
          "output_type": "stream",
          "text": [
            "                   all       2574       2574      0.934      0.947      0.972      0.624      0.769      0.768      0.706      0.364\n"
          ]
        },
        {
          "name": "stderr",
          "output_type": "stream",
          "text": [
            "\n"
          ]
        },
        {
          "name": "stdout",
          "output_type": "stream",
          "text": [
            "\n",
            "      Epoch    GPU_mem   box_loss  pose_loss  kobj_loss   cls_loss   dfl_loss  Instances       Size\n"
          ]
        },
        {
          "name": "stderr",
          "output_type": "stream",
          "text": [
            "     66/100      2.87G      1.208      3.051          0     0.8546      1.036         26        128: 100%|██████████| 932/932 [02:00<00:00,  7.74it/s]\n",
            "                 Class     Images  Instances      Box(P          R      mAP50  mAP50-95)     Pose(P          R      mAP50  mAP50-95): 100%|██████████| 81/81 [00:14<00:00,  5.51it/s]"
          ]
        },
        {
          "name": "stdout",
          "output_type": "stream",
          "text": [
            "                   all       2574       2574      0.934      0.946      0.972      0.624      0.769      0.767      0.709      0.366\n"
          ]
        },
        {
          "name": "stderr",
          "output_type": "stream",
          "text": [
            "\n"
          ]
        },
        {
          "name": "stdout",
          "output_type": "stream",
          "text": [
            "\n",
            "      Epoch    GPU_mem   box_loss  pose_loss  kobj_loss   cls_loss   dfl_loss  Instances       Size\n"
          ]
        },
        {
          "name": "stderr",
          "output_type": "stream",
          "text": [
            "     67/100      2.92G      1.206      3.008          0     0.8515      1.036         25        128: 100%|██████████| 932/932 [02:00<00:00,  7.74it/s]\n",
            "                 Class     Images  Instances      Box(P          R      mAP50  mAP50-95)     Pose(P          R      mAP50  mAP50-95): 100%|██████████| 81/81 [00:13<00:00,  5.80it/s]"
          ]
        },
        {
          "name": "stdout",
          "output_type": "stream",
          "text": [
            "                   all       2574       2574      0.934      0.947      0.972      0.624      0.769      0.769      0.709      0.366\n"
          ]
        },
        {
          "name": "stderr",
          "output_type": "stream",
          "text": [
            "\n"
          ]
        },
        {
          "name": "stdout",
          "output_type": "stream",
          "text": [
            "\n",
            "      Epoch    GPU_mem   box_loss  pose_loss  kobj_loss   cls_loss   dfl_loss  Instances       Size\n"
          ]
        },
        {
          "name": "stderr",
          "output_type": "stream",
          "text": [
            "     68/100      2.95G      1.208      3.003          0     0.8551      1.038         35        128: 100%|██████████| 932/932 [02:01<00:00,  7.67it/s]\n",
            "                 Class     Images  Instances      Box(P          R      mAP50  mAP50-95)     Pose(P          R      mAP50  mAP50-95): 100%|██████████| 81/81 [00:14<00:00,  5.75it/s]"
          ]
        },
        {
          "name": "stdout",
          "output_type": "stream",
          "text": [
            "                   all       2574       2574      0.933      0.947      0.972      0.624      0.771      0.771      0.711      0.368\n"
          ]
        },
        {
          "name": "stderr",
          "output_type": "stream",
          "text": [
            "\n"
          ]
        },
        {
          "name": "stdout",
          "output_type": "stream",
          "text": [
            "\n",
            "      Epoch    GPU_mem   box_loss  pose_loss  kobj_loss   cls_loss   dfl_loss  Instances       Size\n"
          ]
        },
        {
          "name": "stderr",
          "output_type": "stream",
          "text": [
            "     69/100      2.99G      1.209      2.992          0     0.8448      1.037         22        128: 100%|██████████| 932/932 [02:01<00:00,  7.66it/s]\n",
            "                 Class     Images  Instances      Box(P          R      mAP50  mAP50-95)     Pose(P          R      mAP50  mAP50-95): 100%|██████████| 81/81 [00:14<00:00,  5.74it/s]"
          ]
        },
        {
          "name": "stdout",
          "output_type": "stream",
          "text": [
            "                   all       2574       2574      0.933      0.948      0.972      0.624       0.77       0.77      0.708      0.367\n"
          ]
        },
        {
          "name": "stderr",
          "output_type": "stream",
          "text": [
            "\n"
          ]
        },
        {
          "name": "stdout",
          "output_type": "stream",
          "text": [
            "\n",
            "      Epoch    GPU_mem   box_loss  pose_loss  kobj_loss   cls_loss   dfl_loss  Instances       Size\n"
          ]
        },
        {
          "name": "stderr",
          "output_type": "stream",
          "text": [
            "     70/100      3.04G      1.201      3.013          0     0.8496      1.036         27        128: 100%|██████████| 932/932 [02:01<00:00,  7.67it/s]\n",
            "                 Class     Images  Instances      Box(P          R      mAP50  mAP50-95)     Pose(P          R      mAP50  mAP50-95): 100%|██████████| 81/81 [00:14<00:00,  5.75it/s]"
          ]
        },
        {
          "name": "stdout",
          "output_type": "stream",
          "text": [
            "                   all       2574       2574      0.933      0.946      0.972      0.625       0.77      0.771       0.71      0.366\n"
          ]
        },
        {
          "name": "stderr",
          "output_type": "stream",
          "text": [
            "\n"
          ]
        },
        {
          "name": "stdout",
          "output_type": "stream",
          "text": [
            "\n",
            "      Epoch    GPU_mem   box_loss  pose_loss  kobj_loss   cls_loss   dfl_loss  Instances       Size\n"
          ]
        },
        {
          "name": "stderr",
          "output_type": "stream",
          "text": [
            "     71/100      3.07G      1.202      2.994          0     0.8372      1.038         28        128: 100%|██████████| 932/932 [02:01<00:00,  7.66it/s]\n",
            "                 Class     Images  Instances      Box(P          R      mAP50  mAP50-95)     Pose(P          R      mAP50  mAP50-95): 100%|██████████| 81/81 [00:14<00:00,  5.74it/s]"
          ]
        },
        {
          "name": "stdout",
          "output_type": "stream",
          "text": [
            "                   all       2574       2574      0.932      0.946      0.972      0.625      0.769      0.772      0.709      0.368\n"
          ]
        },
        {
          "name": "stderr",
          "output_type": "stream",
          "text": [
            "\n"
          ]
        },
        {
          "name": "stdout",
          "output_type": "stream",
          "text": [
            "\n",
            "      Epoch    GPU_mem   box_loss  pose_loss  kobj_loss   cls_loss   dfl_loss  Instances       Size\n"
          ]
        },
        {
          "name": "stderr",
          "output_type": "stream",
          "text": [
            "     72/100      3.12G        1.2      2.981          0     0.8457      1.031         25        128: 100%|██████████| 932/932 [02:00<00:00,  7.72it/s]\n",
            "                 Class     Images  Instances      Box(P          R      mAP50  mAP50-95)     Pose(P          R      mAP50  mAP50-95): 100%|██████████| 81/81 [00:14<00:00,  5.57it/s]"
          ]
        },
        {
          "name": "stdout",
          "output_type": "stream",
          "text": [
            "                   all       2574       2574      0.932      0.946      0.972      0.624       0.77       0.77      0.712      0.368\n"
          ]
        },
        {
          "name": "stderr",
          "output_type": "stream",
          "text": [
            "\n"
          ]
        },
        {
          "name": "stdout",
          "output_type": "stream",
          "text": [
            "\n",
            "      Epoch    GPU_mem   box_loss  pose_loss  kobj_loss   cls_loss   dfl_loss  Instances       Size\n"
          ]
        },
        {
          "name": "stderr",
          "output_type": "stream",
          "text": [
            "     73/100      3.14G        1.2      3.001          0     0.8496      1.034         32        128: 100%|██████████| 932/932 [02:01<00:00,  7.69it/s]\n",
            "                 Class     Images  Instances      Box(P          R      mAP50  mAP50-95)     Pose(P          R      mAP50  mAP50-95): 100%|██████████| 81/81 [00:14<00:00,  5.67it/s]\n"
          ]
        },
        {
          "name": "stdout",
          "output_type": "stream",
          "text": [
            "                   all       2574       2574      0.931      0.946      0.972      0.624      0.769       0.77      0.711      0.368\n",
            "\n",
            "      Epoch    GPU_mem   box_loss  pose_loss  kobj_loss   cls_loss   dfl_loss  Instances       Size\n"
          ]
        },
        {
          "name": "stderr",
          "output_type": "stream",
          "text": [
            "     74/100      3.19G      1.192      2.856          0     0.8547      1.032         39        128:   5%|▍         | 46/932 [00:06<01:58,  7.49it/s]\n"
          ]
        },
        {
          "ename": "KeyboardInterrupt",
          "evalue": "",
          "output_type": "error",
          "traceback": [
            "\u001b[0;31m---------------------------------------------------------------------------\u001b[0m",
            "\u001b[0;31mKeyboardInterrupt\u001b[0m                         Traceback (most recent call last)",
            "\u001b[0;32m/tmp/ipython-input-3770958824.py\u001b[0m in \u001b[0;36m<cell line: 0>\u001b[0;34m()\u001b[0m\n\u001b[1;32m      2\u001b[0m \u001b[0;34m\u001b[0m\u001b[0m\n\u001b[1;32m      3\u001b[0m \u001b[0mmodel\u001b[0m \u001b[0;34m=\u001b[0m \u001b[0mYOLO\u001b[0m\u001b[0;34m(\u001b[0m\u001b[0;34m\"yolo11s-pose.pt\"\u001b[0m\u001b[0;34m)\u001b[0m  \u001b[0;31m# pretrained on COCO\u001b[0m\u001b[0;34m\u001b[0m\u001b[0;34m\u001b[0m\u001b[0m\n\u001b[0;32m----> 4\u001b[0;31m results = model.train(\n\u001b[0m\u001b[1;32m      5\u001b[0m     \u001b[0mdata\u001b[0m\u001b[0;34m=\u001b[0m\u001b[0;34m\"data_keypoints.yaml\"\u001b[0m\u001b[0;34m,\u001b[0m\u001b[0;34m\u001b[0m\u001b[0;34m\u001b[0m\u001b[0m\n\u001b[1;32m      6\u001b[0m     \u001b[0mepochs\u001b[0m\u001b[0;34m=\u001b[0m\u001b[0;36m100\u001b[0m\u001b[0;34m,\u001b[0m\u001b[0;34m\u001b[0m\u001b[0;34m\u001b[0m\u001b[0m\n",
            "\u001b[0;32m/usr/local/lib/python3.11/dist-packages/ultralytics/engine/model.py\u001b[0m in \u001b[0;36mtrain\u001b[0;34m(self, trainer, **kwargs)\u001b[0m\n\u001b[1;32m    797\u001b[0m \u001b[0;34m\u001b[0m\u001b[0m\n\u001b[1;32m    798\u001b[0m         \u001b[0mself\u001b[0m\u001b[0;34m.\u001b[0m\u001b[0mtrainer\u001b[0m\u001b[0;34m.\u001b[0m\u001b[0mhub_session\u001b[0m \u001b[0;34m=\u001b[0m \u001b[0mself\u001b[0m\u001b[0;34m.\u001b[0m\u001b[0msession\u001b[0m  \u001b[0;31m# attach optional HUB session\u001b[0m\u001b[0;34m\u001b[0m\u001b[0;34m\u001b[0m\u001b[0m\n\u001b[0;32m--> 799\u001b[0;31m         \u001b[0mself\u001b[0m\u001b[0;34m.\u001b[0m\u001b[0mtrainer\u001b[0m\u001b[0;34m.\u001b[0m\u001b[0mtrain\u001b[0m\u001b[0;34m(\u001b[0m\u001b[0;34m)\u001b[0m\u001b[0;34m\u001b[0m\u001b[0;34m\u001b[0m\u001b[0m\n\u001b[0m\u001b[1;32m    800\u001b[0m         \u001b[0;31m# Update model and cfg after training\u001b[0m\u001b[0;34m\u001b[0m\u001b[0;34m\u001b[0m\u001b[0m\n\u001b[1;32m    801\u001b[0m         \u001b[0;32mif\u001b[0m \u001b[0mRANK\u001b[0m \u001b[0;32min\u001b[0m \u001b[0;34m{\u001b[0m\u001b[0;34m-\u001b[0m\u001b[0;36m1\u001b[0m\u001b[0;34m,\u001b[0m \u001b[0;36m0\u001b[0m\u001b[0;34m}\u001b[0m\u001b[0;34m:\u001b[0m\u001b[0;34m\u001b[0m\u001b[0;34m\u001b[0m\u001b[0m\n",
            "\u001b[0;32m/usr/local/lib/python3.11/dist-packages/ultralytics/engine/trainer.py\u001b[0m in \u001b[0;36mtrain\u001b[0;34m(self)\u001b[0m\n\u001b[1;32m    225\u001b[0m \u001b[0;34m\u001b[0m\u001b[0m\n\u001b[1;32m    226\u001b[0m         \u001b[0;32melse\u001b[0m\u001b[0;34m:\u001b[0m\u001b[0;34m\u001b[0m\u001b[0;34m\u001b[0m\u001b[0m\n\u001b[0;32m--> 227\u001b[0;31m             \u001b[0mself\u001b[0m\u001b[0;34m.\u001b[0m\u001b[0m_do_train\u001b[0m\u001b[0;34m(\u001b[0m\u001b[0mworld_size\u001b[0m\u001b[0;34m)\u001b[0m\u001b[0;34m\u001b[0m\u001b[0;34m\u001b[0m\u001b[0m\n\u001b[0m\u001b[1;32m    228\u001b[0m \u001b[0;34m\u001b[0m\u001b[0m\n\u001b[1;32m    229\u001b[0m     \u001b[0;32mdef\u001b[0m \u001b[0m_setup_scheduler\u001b[0m\u001b[0;34m(\u001b[0m\u001b[0mself\u001b[0m\u001b[0;34m)\u001b[0m\u001b[0;34m:\u001b[0m\u001b[0;34m\u001b[0m\u001b[0;34m\u001b[0m\u001b[0m\n",
            "\u001b[0;32m/usr/local/lib/python3.11/dist-packages/ultralytics/engine/trainer.py\u001b[0m in \u001b[0;36m_do_train\u001b[0;34m(self, world_size)\u001b[0m\n\u001b[1;32m    413\u001b[0m \u001b[0;34m\u001b[0m\u001b[0m\n\u001b[1;32m    414\u001b[0m                 \u001b[0;31m# Backward\u001b[0m\u001b[0;34m\u001b[0m\u001b[0;34m\u001b[0m\u001b[0m\n\u001b[0;32m--> 415\u001b[0;31m                 \u001b[0mself\u001b[0m\u001b[0;34m.\u001b[0m\u001b[0mscaler\u001b[0m\u001b[0;34m.\u001b[0m\u001b[0mscale\u001b[0m\u001b[0;34m(\u001b[0m\u001b[0mself\u001b[0m\u001b[0;34m.\u001b[0m\u001b[0mloss\u001b[0m\u001b[0;34m)\u001b[0m\u001b[0;34m.\u001b[0m\u001b[0mbackward\u001b[0m\u001b[0;34m(\u001b[0m\u001b[0;34m)\u001b[0m\u001b[0;34m\u001b[0m\u001b[0;34m\u001b[0m\u001b[0m\n\u001b[0m\u001b[1;32m    416\u001b[0m \u001b[0;34m\u001b[0m\u001b[0m\n\u001b[1;32m    417\u001b[0m                 \u001b[0;31m# Optimize - https://pytorch.org/docs/master/notes/amp_examples.html\u001b[0m\u001b[0;34m\u001b[0m\u001b[0;34m\u001b[0m\u001b[0m\n",
            "\u001b[0;32m/usr/local/lib/python3.11/dist-packages/torch/_tensor.py\u001b[0m in \u001b[0;36mbackward\u001b[0;34m(self, gradient, retain_graph, create_graph, inputs)\u001b[0m\n\u001b[1;32m    624\u001b[0m                 \u001b[0minputs\u001b[0m\u001b[0;34m=\u001b[0m\u001b[0minputs\u001b[0m\u001b[0;34m,\u001b[0m\u001b[0;34m\u001b[0m\u001b[0;34m\u001b[0m\u001b[0m\n\u001b[1;32m    625\u001b[0m             )\n\u001b[0;32m--> 626\u001b[0;31m         torch.autograd.backward(\n\u001b[0m\u001b[1;32m    627\u001b[0m             \u001b[0mself\u001b[0m\u001b[0;34m,\u001b[0m \u001b[0mgradient\u001b[0m\u001b[0;34m,\u001b[0m \u001b[0mretain_graph\u001b[0m\u001b[0;34m,\u001b[0m \u001b[0mcreate_graph\u001b[0m\u001b[0;34m,\u001b[0m \u001b[0minputs\u001b[0m\u001b[0;34m=\u001b[0m\u001b[0minputs\u001b[0m\u001b[0;34m\u001b[0m\u001b[0;34m\u001b[0m\u001b[0m\n\u001b[1;32m    628\u001b[0m         )\n",
            "\u001b[0;32m/usr/local/lib/python3.11/dist-packages/torch/autograd/__init__.py\u001b[0m in \u001b[0;36mbackward\u001b[0;34m(tensors, grad_tensors, retain_graph, create_graph, grad_variables, inputs)\u001b[0m\n\u001b[1;32m    345\u001b[0m     \u001b[0;31m# some Python versions print out the first line of a multi-line function\u001b[0m\u001b[0;34m\u001b[0m\u001b[0;34m\u001b[0m\u001b[0m\n\u001b[1;32m    346\u001b[0m     \u001b[0;31m# calls in the traceback and some print out the last line\u001b[0m\u001b[0;34m\u001b[0m\u001b[0;34m\u001b[0m\u001b[0m\n\u001b[0;32m--> 347\u001b[0;31m     _engine_run_backward(\n\u001b[0m\u001b[1;32m    348\u001b[0m         \u001b[0mtensors\u001b[0m\u001b[0;34m,\u001b[0m\u001b[0;34m\u001b[0m\u001b[0;34m\u001b[0m\u001b[0m\n\u001b[1;32m    349\u001b[0m         \u001b[0mgrad_tensors_\u001b[0m\u001b[0;34m,\u001b[0m\u001b[0;34m\u001b[0m\u001b[0;34m\u001b[0m\u001b[0m\n",
            "\u001b[0;32m/usr/local/lib/python3.11/dist-packages/torch/autograd/graph.py\u001b[0m in \u001b[0;36m_engine_run_backward\u001b[0;34m(t_outputs, *args, **kwargs)\u001b[0m\n\u001b[1;32m    821\u001b[0m         \u001b[0munregister_hooks\u001b[0m \u001b[0;34m=\u001b[0m \u001b[0m_register_logging_hooks_on_whole_graph\u001b[0m\u001b[0;34m(\u001b[0m\u001b[0mt_outputs\u001b[0m\u001b[0;34m)\u001b[0m\u001b[0;34m\u001b[0m\u001b[0;34m\u001b[0m\u001b[0m\n\u001b[1;32m    822\u001b[0m     \u001b[0;32mtry\u001b[0m\u001b[0;34m:\u001b[0m\u001b[0;34m\u001b[0m\u001b[0;34m\u001b[0m\u001b[0m\n\u001b[0;32m--> 823\u001b[0;31m         return Variable._execution_engine.run_backward(  # Calls into the C++ engine to run the backward pass\n\u001b[0m\u001b[1;32m    824\u001b[0m             \u001b[0mt_outputs\u001b[0m\u001b[0;34m,\u001b[0m \u001b[0;34m*\u001b[0m\u001b[0margs\u001b[0m\u001b[0;34m,\u001b[0m \u001b[0;34m**\u001b[0m\u001b[0mkwargs\u001b[0m\u001b[0;34m\u001b[0m\u001b[0;34m\u001b[0m\u001b[0m\n\u001b[1;32m    825\u001b[0m         )  # Calls into the C++ engine to run the backward pass\n",
            "\u001b[0;31mKeyboardInterrupt\u001b[0m: "
          ]
        }
      ],
      "source": [
        "from ultralytics import YOLO\n",
        "\n",
        "model = YOLO(\"yolo11s-pose.pt\")\n",
        "\n",
        "results = model.train(\n",
        "    data=\"data_keypoints.yaml\",\n",
        "    epochs=100,\n",
        "    imgsz=128,\n",
        "    batch=16,\n",
        "    device=0,\n",
        "    patience=10,          # stops training early after 10 stagnant epochs\n",
        "    lr0=0.01,             # optional: initial learning rate\n",
        "    optimizer=\"Adam\",     # optional\n",
        "    cos_lr=False,         # disable cosine decay\n",
        "    scheduler=\"plateau\"   # plateau LR scheduler\n",
        ")\n"
      ]
    },
    {
      "cell_type": "code",
      "execution_count": null,
      "metadata": {
        "colab": {
          "base_uri": "https://localhost:8080/",
          "height": 295
        },
        "id": "Y0xlqTFRIeaF",
        "outputId": "8028a329-fee2-4303-866e-672ef3b12e5a"
      },
      "outputs": [
        {
          "name": "stdout",
          "output_type": "stream",
          "text": [
            "  adding: runs/ (stored 0%)\n",
            "  adding: runs/pose/ (stored 0%)\n",
            "  adding: runs/pose/train2/ (stored 0%)\n",
            "  adding: runs/pose/train2/labels_correlogram.jpg (deflated 41%)\n",
            "  adding: runs/pose/train2/train_batch0.jpg (deflated 3%)\n",
            "  adding: runs/pose/train2/weights/ (stored 0%)\n",
            "  adding: runs/pose/train2/weights/last.pt (deflated 8%)\n",
            "  adding: runs/pose/train2/weights/best.pt (deflated 8%)\n",
            "  adding: runs/pose/train2/train_batch2.jpg (deflated 4%)\n",
            "  adding: runs/pose/train2/train_batch1.jpg (deflated 4%)\n",
            "  adding: runs/pose/train2/args.yaml (deflated 52%)\n",
            "  adding: runs/pose/train2/results.csv (deflated 60%)\n",
            "  adding: runs/pose/train2/labels.jpg (deflated 45%)\n",
            "  adding: runs/pose/train/ (stored 0%)\n",
            "  adding: runs/pose/train/weights/ (stored 0%)\n",
            "  adding: runs/pose/train/args.yaml (deflated 52%)\n"
          ]
        },
        {
          "data": {
            "application/javascript": "\n    async function download(id, filename, size) {\n      if (!google.colab.kernel.accessAllowed) {\n        return;\n      }\n      const div = document.createElement('div');\n      const label = document.createElement('label');\n      label.textContent = `Downloading \"${filename}\": `;\n      div.appendChild(label);\n      const progress = document.createElement('progress');\n      progress.max = size;\n      div.appendChild(progress);\n      document.body.appendChild(div);\n\n      const buffers = [];\n      let downloaded = 0;\n\n      const channel = await google.colab.kernel.comms.open(id);\n      // Send a message to notify the kernel that we're ready.\n      channel.send({})\n\n      for await (const message of channel.messages) {\n        // Send a message to notify the kernel that we're ready.\n        channel.send({})\n        if (message.buffers) {\n          for (const buffer of message.buffers) {\n            buffers.push(buffer);\n            downloaded += buffer.byteLength;\n            progress.value = downloaded;\n          }\n        }\n      }\n      const blob = new Blob(buffers, {type: 'application/binary'});\n      const a = document.createElement('a');\n      a.href = window.URL.createObjectURL(blob);\n      a.download = filename;\n      div.appendChild(a);\n      a.click();\n      div.remove();\n    }\n  ",
            "text/plain": [
              "<IPython.core.display.Javascript object>"
            ]
          },
          "metadata": {},
          "output_type": "display_data"
        },
        {
          "data": {
            "application/javascript": "download(\"download_d81c85b4-64d7-4b0d-a669-5abb7ba5f093\", \"runs.zip\", 72403503)",
            "text/plain": [
              "<IPython.core.display.Javascript object>"
            ]
          },
          "metadata": {},
          "output_type": "display_data"
        }
      ],
      "source": [
        "# 1. Zip the folder (e.g. 'yolo_keypoints_dataset_fixed21')\n",
        "!zip -r runs.zip runs\n",
        "\n",
        "# 2. Download the zip to your local machine\n",
        "from google.colab import files\n",
        "files.download('runs.zip')\n"
      ]
    },
    {
      "cell_type": "markdown",
      "metadata": {
        "id": "VxlM05Y6zwKa"
      },
      "source": [
        "# Evaluate"
      ]
    },
    {
      "cell_type": "code",
      "execution_count": null,
      "metadata": {
        "colab": {
          "base_uri": "https://localhost:8080/"
        },
        "id": "xI0vhxfdIrqH",
        "outputId": "e1129e5a-e74a-4570-be17-664b43098b60"
      },
      "outputs": [
        {
          "name": "stdout",
          "output_type": "stream",
          "text": [
            "Ultralytics 8.3.173 🚀 Python-3.11.13 torch-2.6.0+cu124 CUDA:0 (Tesla T4, 15095MiB)\n",
            "YOLO11s-pose summary (fused): 109 layers, 9,702,243 parameters, 0 gradients, 22.3 GFLOPs\n",
            "\u001b[34m\u001b[1mval: \u001b[0mFast image access ✅ (ping: 0.0±0.0 ms, read: 245.4±60.0 MB/s, size: 5.6 KB)\n"
          ]
        },
        {
          "name": "stderr",
          "output_type": "stream",
          "text": [
            "\u001b[34m\u001b[1mval: \u001b[0mScanning /content/yolo_keypoints_dataset/yolo_keypoints_dataset/val/labels.cache... 2576 images, 0 backgrounds, 2 corrupt: 100%|██████████| 2576/2576 [00:00<?, ?it/s]"
          ]
        },
        {
          "name": "stdout",
          "output_type": "stream",
          "text": [
            "\u001b[34m\u001b[1mval: \u001b[0m/content/yolo_keypoints_dataset/yolo_keypoints_dataset/val/images/0X374099556945A9EA_f121.jpg: ignoring corrupt image/label: non-normalized or out of bounds coordinates [     1.0193]\n",
            "\u001b[34m\u001b[1mval: \u001b[0m/content/yolo_keypoints_dataset/yolo_keypoints_dataset/val/images/0X50807FBC49B44ED4_f43.jpg: ignoring corrupt image/label: non-normalized or out of bounds coordinates [     1.0121      1.0175      1.0155      1.0135      1.0116]\n"
          ]
        },
        {
          "name": "stderr",
          "output_type": "stream",
          "text": [
            "\n",
            "                 Class     Images  Instances      Box(P          R      mAP50  mAP50-95)     Pose(P          R      mAP50  mAP50-95): 100%|██████████| 161/161 [00:18<00:00,  8.76it/s]\n"
          ]
        },
        {
          "name": "stdout",
          "output_type": "stream",
          "text": [
            "                   all       2574       2574      0.932      0.946      0.972      0.624      0.769       0.77       0.71      0.367\n",
            "Speed: 0.0ms preprocess, 1.8ms inference, 0.0ms loss, 1.3ms postprocess per image\n",
            "Results saved to \u001b[1mruns/pose/val\u001b[0m\n",
            "ultralytics.utils.metrics.PoseMetrics object with attributes:\n",
            "\n",
            "ap_class_index: array([0])\n",
            "box: ultralytics.utils.metrics.Metric object\n",
            "confusion_matrix: <ultralytics.utils.metrics.ConfusionMatrix object at 0x78db6b405590>\n",
            "curves: ['Precision-Recall(B)', 'F1-Confidence(B)', 'Precision-Confidence(B)', 'Recall-Confidence(B)', 'Precision-Recall(B)', 'F1-Confidence(B)', 'Precision-Confidence(B)', 'Recall-Confidence(B)', 'Precision-Recall(P)', 'F1-Confidence(P)', 'Precision-Confidence(P)', 'Recall-Confidence(P)']\n",
            "curves_results: [[array([          0,    0.001001,    0.002002,    0.003003,    0.004004,    0.005005,    0.006006,    0.007007,    0.008008,    0.009009,     0.01001,    0.011011,    0.012012,    0.013013,    0.014014,    0.015015,    0.016016,    0.017017,    0.018018,    0.019019,     0.02002,    0.021021,    0.022022,    0.023023,\n",
            "          0.024024,    0.025025,    0.026026,    0.027027,    0.028028,    0.029029,     0.03003,    0.031031,    0.032032,    0.033033,    0.034034,    0.035035,    0.036036,    0.037037,    0.038038,    0.039039,     0.04004,    0.041041,    0.042042,    0.043043,    0.044044,    0.045045,    0.046046,    0.047047,\n",
            "          0.048048,    0.049049,     0.05005,    0.051051,    0.052052,    0.053053,    0.054054,    0.055055,    0.056056,    0.057057,    0.058058,    0.059059,     0.06006,    0.061061,    0.062062,    0.063063,    0.064064,    0.065065,    0.066066,    0.067067,    0.068068,    0.069069,     0.07007,    0.071071,\n",
            "          0.072072,    0.073073,    0.074074,    0.075075,    0.076076,    0.077077,    0.078078,    0.079079,     0.08008,    0.081081,    0.082082,    0.083083,    0.084084,    0.085085,    0.086086,    0.087087,    0.088088,    0.089089,     0.09009,    0.091091,    0.092092,    0.093093,    0.094094,    0.095095,\n",
            "          0.096096,    0.097097,    0.098098,    0.099099,      0.1001,      0.1011,      0.1021,      0.1031,      0.1041,     0.10511,     0.10611,     0.10711,     0.10811,     0.10911,     0.11011,     0.11111,     0.11211,     0.11311,     0.11411,     0.11512,     0.11612,     0.11712,     0.11812,     0.11912,\n",
            "           0.12012,     0.12112,     0.12212,     0.12312,     0.12412,     0.12513,     0.12613,     0.12713,     0.12813,     0.12913,     0.13013,     0.13113,     0.13213,     0.13313,     0.13413,     0.13514,     0.13614,     0.13714,     0.13814,     0.13914,     0.14014,     0.14114,     0.14214,     0.14314,\n",
            "           0.14414,     0.14515,     0.14615,     0.14715,     0.14815,     0.14915,     0.15015,     0.15115,     0.15215,     0.15315,     0.15415,     0.15516,     0.15616,     0.15716,     0.15816,     0.15916,     0.16016,     0.16116,     0.16216,     0.16316,     0.16416,     0.16517,     0.16617,     0.16717,\n",
            "           0.16817,     0.16917,     0.17017,     0.17117,     0.17217,     0.17317,     0.17417,     0.17518,     0.17618,     0.17718,     0.17818,     0.17918,     0.18018,     0.18118,     0.18218,     0.18318,     0.18418,     0.18519,     0.18619,     0.18719,     0.18819,     0.18919,     0.19019,     0.19119,\n",
            "           0.19219,     0.19319,     0.19419,      0.1952,      0.1962,      0.1972,      0.1982,      0.1992,      0.2002,      0.2012,      0.2022,      0.2032,      0.2042,     0.20521,     0.20621,     0.20721,     0.20821,     0.20921,     0.21021,     0.21121,     0.21221,     0.21321,     0.21421,     0.21522,\n",
            "           0.21622,     0.21722,     0.21822,     0.21922,     0.22022,     0.22122,     0.22222,     0.22322,     0.22422,     0.22523,     0.22623,     0.22723,     0.22823,     0.22923,     0.23023,     0.23123,     0.23223,     0.23323,     0.23423,     0.23524,     0.23624,     0.23724,     0.23824,     0.23924,\n",
            "           0.24024,     0.24124,     0.24224,     0.24324,     0.24424,     0.24525,     0.24625,     0.24725,     0.24825,     0.24925,     0.25025,     0.25125,     0.25225,     0.25325,     0.25425,     0.25526,     0.25626,     0.25726,     0.25826,     0.25926,     0.26026,     0.26126,     0.26226,     0.26326,\n",
            "           0.26426,     0.26527,     0.26627,     0.26727,     0.26827,     0.26927,     0.27027,     0.27127,     0.27227,     0.27327,     0.27427,     0.27528,     0.27628,     0.27728,     0.27828,     0.27928,     0.28028,     0.28128,     0.28228,     0.28328,     0.28428,     0.28529,     0.28629,     0.28729,\n",
            "           0.28829,     0.28929,     0.29029,     0.29129,     0.29229,     0.29329,     0.29429,      0.2953,      0.2963,      0.2973,      0.2983,      0.2993,      0.3003,      0.3013,      0.3023,      0.3033,      0.3043,     0.30531,     0.30631,     0.30731,     0.30831,     0.30931,     0.31031,     0.31131,\n",
            "           0.31231,     0.31331,     0.31431,     0.31532,     0.31632,     0.31732,     0.31832,     0.31932,     0.32032,     0.32132,     0.32232,     0.32332,     0.32432,     0.32533,     0.32633,     0.32733,     0.32833,     0.32933,     0.33033,     0.33133,     0.33233,     0.33333,     0.33433,     0.33534,\n",
            "           0.33634,     0.33734,     0.33834,     0.33934,     0.34034,     0.34134,     0.34234,     0.34334,     0.34434,     0.34535,     0.34635,     0.34735,     0.34835,     0.34935,     0.35035,     0.35135,     0.35235,     0.35335,     0.35435,     0.35536,     0.35636,     0.35736,     0.35836,     0.35936,\n",
            "           0.36036,     0.36136,     0.36236,     0.36336,     0.36436,     0.36537,     0.36637,     0.36737,     0.36837,     0.36937,     0.37037,     0.37137,     0.37237,     0.37337,     0.37437,     0.37538,     0.37638,     0.37738,     0.37838,     0.37938,     0.38038,     0.38138,     0.38238,     0.38338,\n",
            "           0.38438,     0.38539,     0.38639,     0.38739,     0.38839,     0.38939,     0.39039,     0.39139,     0.39239,     0.39339,     0.39439,      0.3954,      0.3964,      0.3974,      0.3984,      0.3994,      0.4004,      0.4014,      0.4024,      0.4034,      0.4044,     0.40541,     0.40641,     0.40741,\n",
            "           0.40841,     0.40941,     0.41041,     0.41141,     0.41241,     0.41341,     0.41441,     0.41542,     0.41642,     0.41742,     0.41842,     0.41942,     0.42042,     0.42142,     0.42242,     0.42342,     0.42442,     0.42543,     0.42643,     0.42743,     0.42843,     0.42943,     0.43043,     0.43143,\n",
            "           0.43243,     0.43343,     0.43443,     0.43544,     0.43644,     0.43744,     0.43844,     0.43944,     0.44044,     0.44144,     0.44244,     0.44344,     0.44444,     0.44545,     0.44645,     0.44745,     0.44845,     0.44945,     0.45045,     0.45145,     0.45245,     0.45345,     0.45445,     0.45546,\n",
            "           0.45646,     0.45746,     0.45846,     0.45946,     0.46046,     0.46146,     0.46246,     0.46346,     0.46446,     0.46547,     0.46647,     0.46747,     0.46847,     0.46947,     0.47047,     0.47147,     0.47247,     0.47347,     0.47447,     0.47548,     0.47648,     0.47748,     0.47848,     0.47948,\n",
            "           0.48048,     0.48148,     0.48248,     0.48348,     0.48448,     0.48549,     0.48649,     0.48749,     0.48849,     0.48949,     0.49049,     0.49149,     0.49249,     0.49349,     0.49449,      0.4955,      0.4965,      0.4975,      0.4985,      0.4995,      0.5005,      0.5015,      0.5025,      0.5035,\n",
            "            0.5045,     0.50551,     0.50651,     0.50751,     0.50851,     0.50951,     0.51051,     0.51151,     0.51251,     0.51351,     0.51451,     0.51552,     0.51652,     0.51752,     0.51852,     0.51952,     0.52052,     0.52152,     0.52252,     0.52352,     0.52452,     0.52553,     0.52653,     0.52753,\n",
            "           0.52853,     0.52953,     0.53053,     0.53153,     0.53253,     0.53353,     0.53453,     0.53554,     0.53654,     0.53754,     0.53854,     0.53954,     0.54054,     0.54154,     0.54254,     0.54354,     0.54454,     0.54555,     0.54655,     0.54755,     0.54855,     0.54955,     0.55055,     0.55155,\n",
            "           0.55255,     0.55355,     0.55455,     0.55556,     0.55656,     0.55756,     0.55856,     0.55956,     0.56056,     0.56156,     0.56256,     0.56356,     0.56456,     0.56557,     0.56657,     0.56757,     0.56857,     0.56957,     0.57057,     0.57157,     0.57257,     0.57357,     0.57457,     0.57558,\n",
            "           0.57658,     0.57758,     0.57858,     0.57958,     0.58058,     0.58158,     0.58258,     0.58358,     0.58458,     0.58559,     0.58659,     0.58759,     0.58859,     0.58959,     0.59059,     0.59159,     0.59259,     0.59359,     0.59459,      0.5956,      0.5966,      0.5976,      0.5986,      0.5996,\n",
            "            0.6006,      0.6016,      0.6026,      0.6036,      0.6046,     0.60561,     0.60661,     0.60761,     0.60861,     0.60961,     0.61061,     0.61161,     0.61261,     0.61361,     0.61461,     0.61562,     0.61662,     0.61762,     0.61862,     0.61962,     0.62062,     0.62162,     0.62262,     0.62362,\n",
            "           0.62462,     0.62563,     0.62663,     0.62763,     0.62863,     0.62963,     0.63063,     0.63163,     0.63263,     0.63363,     0.63463,     0.63564,     0.63664,     0.63764,     0.63864,     0.63964,     0.64064,     0.64164,     0.64264,     0.64364,     0.64464,     0.64565,     0.64665,     0.64765,\n",
            "           0.64865,     0.64965,     0.65065,     0.65165,     0.65265,     0.65365,     0.65465,     0.65566,     0.65666,     0.65766,     0.65866,     0.65966,     0.66066,     0.66166,     0.66266,     0.66366,     0.66466,     0.66567,     0.66667,     0.66767,     0.66867,     0.66967,     0.67067,     0.67167,\n",
            "           0.67267,     0.67367,     0.67467,     0.67568,     0.67668,     0.67768,     0.67868,     0.67968,     0.68068,     0.68168,     0.68268,     0.68368,     0.68468,     0.68569,     0.68669,     0.68769,     0.68869,     0.68969,     0.69069,     0.69169,     0.69269,     0.69369,     0.69469,      0.6957,\n",
            "            0.6967,      0.6977,      0.6987,      0.6997,      0.7007,      0.7017,      0.7027,      0.7037,      0.7047,     0.70571,     0.70671,     0.70771,     0.70871,     0.70971,     0.71071,     0.71171,     0.71271,     0.71371,     0.71471,     0.71572,     0.71672,     0.71772,     0.71872,     0.71972,\n",
            "           0.72072,     0.72172,     0.72272,     0.72372,     0.72472,     0.72573,     0.72673,     0.72773,     0.72873,     0.72973,     0.73073,     0.73173,     0.73273,     0.73373,     0.73473,     0.73574,     0.73674,     0.73774,     0.73874,     0.73974,     0.74074,     0.74174,     0.74274,     0.74374,\n",
            "           0.74474,     0.74575,     0.74675,     0.74775,     0.74875,     0.74975,     0.75075,     0.75175,     0.75275,     0.75375,     0.75475,     0.75576,     0.75676,     0.75776,     0.75876,     0.75976,     0.76076,     0.76176,     0.76276,     0.76376,     0.76476,     0.76577,     0.76677,     0.76777,\n",
            "           0.76877,     0.76977,     0.77077,     0.77177,     0.77277,     0.77377,     0.77477,     0.77578,     0.77678,     0.77778,     0.77878,     0.77978,     0.78078,     0.78178,     0.78278,     0.78378,     0.78478,     0.78579,     0.78679,     0.78779,     0.78879,     0.78979,     0.79079,     0.79179,\n",
            "           0.79279,     0.79379,     0.79479,      0.7958,      0.7968,      0.7978,      0.7988,      0.7998,      0.8008,      0.8018,      0.8028,      0.8038,      0.8048,     0.80581,     0.80681,     0.80781,     0.80881,     0.80981,     0.81081,     0.81181,     0.81281,     0.81381,     0.81481,     0.81582,\n",
            "           0.81682,     0.81782,     0.81882,     0.81982,     0.82082,     0.82182,     0.82282,     0.82382,     0.82482,     0.82583,     0.82683,     0.82783,     0.82883,     0.82983,     0.83083,     0.83183,     0.83283,     0.83383,     0.83483,     0.83584,     0.83684,     0.83784,     0.83884,     0.83984,\n",
            "           0.84084,     0.84184,     0.84284,     0.84384,     0.84484,     0.84585,     0.84685,     0.84785,     0.84885,     0.84985,     0.85085,     0.85185,     0.85285,     0.85385,     0.85485,     0.85586,     0.85686,     0.85786,     0.85886,     0.85986,     0.86086,     0.86186,     0.86286,     0.86386,\n",
            "           0.86486,     0.86587,     0.86687,     0.86787,     0.86887,     0.86987,     0.87087,     0.87187,     0.87287,     0.87387,     0.87487,     0.87588,     0.87688,     0.87788,     0.87888,     0.87988,     0.88088,     0.88188,     0.88288,     0.88388,     0.88488,     0.88589,     0.88689,     0.88789,\n",
            "           0.88889,     0.88989,     0.89089,     0.89189,     0.89289,     0.89389,     0.89489,      0.8959,      0.8969,      0.8979,      0.8989,      0.8999,      0.9009,      0.9019,      0.9029,      0.9039,      0.9049,     0.90591,     0.90691,     0.90791,     0.90891,     0.90991,     0.91091,     0.91191,\n",
            "           0.91291,     0.91391,     0.91491,     0.91592,     0.91692,     0.91792,     0.91892,     0.91992,     0.92092,     0.92192,     0.92292,     0.92392,     0.92492,     0.92593,     0.92693,     0.92793,     0.92893,     0.92993,     0.93093,     0.93193,     0.93293,     0.93393,     0.93493,     0.93594,\n",
            "           0.93694,     0.93794,     0.93894,     0.93994,     0.94094,     0.94194,     0.94294,     0.94394,     0.94494,     0.94595,     0.94695,     0.94795,     0.94895,     0.94995,     0.95095,     0.95195,     0.95295,     0.95395,     0.95495,     0.95596,     0.95696,     0.95796,     0.95896,     0.95996,\n",
            "           0.96096,     0.96196,     0.96296,     0.96396,     0.96496,     0.96597,     0.96697,     0.96797,     0.96897,     0.96997,     0.97097,     0.97197,     0.97297,     0.97397,     0.97497,     0.97598,     0.97698,     0.97798,     0.97898,     0.97998,     0.98098,     0.98198,     0.98298,     0.98398,\n",
            "           0.98498,     0.98599,     0.98699,     0.98799,     0.98899,     0.98999,     0.99099,     0.99199,     0.99299,     0.99399,     0.99499,       0.996,       0.997,       0.998,       0.999,           1]), array([[          1,           1,           1,           1,           1,           1,           1,           1,           1,           1,           1,           1,           1,           1,           1,           1,           1,           1,           1,           1,           1,           1,     0.99708,\n",
            "            0.99708,     0.99708,     0.99708,     0.99708,     0.99708,     0.99708,     0.99708,     0.99708,     0.99708,     0.99708,     0.99708,     0.99708,     0.99708,     0.99708,     0.99708,     0.99708,     0.99708,     0.99708,     0.99708,     0.99708,     0.99708,     0.99708,     0.99708,\n",
            "            0.99708,     0.99708,     0.99708,     0.99708,     0.99708,     0.99708,     0.99708,     0.99708,     0.99708,     0.99708,     0.99708,     0.99708,     0.99708,     0.99708,     0.99708,     0.99708,     0.99708,     0.99708,     0.99708,     0.99708,     0.99708,     0.99708,     0.99708,\n",
            "            0.99708,     0.99708,     0.99708,     0.99708,     0.99708,     0.99708,     0.99708,     0.99708,     0.99708,     0.99708,     0.99708,     0.99708,     0.99708,     0.99708,     0.99708,     0.99708,     0.99708,     0.99708,     0.99708,     0.99708,     0.99708,     0.99708,     0.99708,\n",
            "            0.99708,     0.99708,     0.99708,     0.99708,     0.99708,     0.99708,     0.99708,     0.99708,     0.99708,     0.99708,     0.99708,     0.99708,     0.99708,     0.99708,     0.99708,     0.99708,     0.99708,     0.99708,     0.99708,     0.99708,     0.99708,     0.99708,     0.99708,\n",
            "            0.99708,     0.99708,     0.99708,     0.99708,     0.99708,     0.99708,     0.99708,     0.99708,     0.99708,     0.99708,     0.99708,     0.99708,     0.99708,     0.99708,     0.99708,     0.99708,     0.99708,     0.99708,     0.99638,     0.99638,     0.99638,     0.99638,     0.99638,\n",
            "            0.99638,     0.99638,     0.99638,     0.99638,     0.99638,     0.99638,     0.99638,     0.99638,     0.99638,     0.99638,     0.99638,     0.99638,     0.99638,     0.99638,     0.99638,     0.99638,     0.99638,     0.99638,     0.99638,     0.99638,     0.99638,     0.99638,     0.99638,\n",
            "            0.99638,     0.99638,     0.99638,     0.99638,     0.99638,     0.99638,     0.99638,     0.99638,     0.99638,     0.99638,     0.99638,     0.99638,     0.99638,     0.99638,     0.99638,     0.99638,     0.99638,     0.99638,     0.99638,     0.99638,     0.99638,     0.99638,     0.99638,\n",
            "            0.99638,     0.99638,     0.99638,     0.99638,     0.99638,     0.99638,     0.99638,     0.99638,     0.99638,     0.99638,     0.99638,     0.99638,     0.99638,     0.99638,     0.99638,     0.99638,     0.99638,     0.99638,     0.99638,     0.99638,     0.99638,     0.99638,     0.99638,\n",
            "            0.99638,     0.99638,     0.99638,     0.99638,     0.99638,     0.99638,     0.99638,     0.99524,     0.99524,     0.99524,     0.99524,     0.99524,     0.99524,     0.99524,     0.99524,     0.99524,     0.99524,     0.99524,     0.99524,     0.99524,     0.99524,     0.99524,     0.99524,\n",
            "            0.99524,     0.99524,     0.99524,     0.99524,     0.99524,     0.99524,     0.99524,     0.99524,     0.99524,     0.99524,     0.99524,     0.99524,     0.99524,     0.99524,     0.99245,     0.99245,     0.99245,     0.99245,     0.99245,     0.99245,     0.99245,     0.99245,     0.99245,\n",
            "            0.99245,     0.99245,     0.99202,     0.99202,     0.99202,     0.99202,     0.99202,     0.99202,     0.99202,     0.99202,     0.99202,     0.99202,     0.99202,     0.99202,     0.99202,     0.99202,     0.99202,     0.99202,     0.99202,     0.99202,     0.99202,     0.99202,     0.99202,\n",
            "            0.99202,     0.99202,     0.99202,     0.99202,     0.99202,     0.99202,     0.99202,     0.99202,     0.99202,     0.99202,     0.99202,     0.99202,     0.99202,     0.99202,      0.9911,      0.9911,      0.9911,      0.9911,      0.9911,      0.9911,      0.9911,      0.9911,      0.9911,\n",
            "             0.9911,      0.9911,      0.9911,      0.9911,      0.9911,      0.9911,      0.9911,      0.9911,      0.9911,      0.9911,      0.9911,      0.9911,      0.9911,      0.9911,      0.9911,      0.9911,      0.9911,      0.9911,      0.9911,      0.9911,      0.9911,      0.9911,      0.9911,\n",
            "             0.9911,      0.9911,      0.9911,      0.9911,      0.9911,      0.9911,      0.9911,      0.9911,      0.9911,      0.9911,      0.9911,      0.9911,      0.9911,      0.9911,      0.9911,      0.9911,      0.9911,      0.9911,      0.9911,      0.9911,      0.9911,      0.9911,      0.9911,\n",
            "             0.9911,      0.9911,      0.9911,      0.9911,      0.9911,      0.9911,      0.9911,      0.9911,      0.9911,      0.9911,      0.9911,      0.9911,      0.9911,      0.9911,      0.9911,      0.9911,      0.9911,      0.9911,      0.9911,      0.9911,      0.9911,      0.9911,      0.9911,\n",
            "             0.9911,      0.9911,      0.9911,      0.9911,      0.9911,      0.9911,      0.9911,      0.9911,      0.9911,      0.9911,      0.9911,      0.9911,      0.9911,      0.9911,      0.9911,      0.9911,      0.9911,      0.9911,      0.9911,      0.9911,      0.9911,      0.9911,      0.9911,\n",
            "             0.9911,      0.9911,      0.9911,      0.9911,      0.9911,      0.9911,      0.9911,      0.9911,      0.9911,      0.9911,      0.9911,      0.9911,      0.9911,      0.9911,      0.9911,      0.9911,      0.9911,      0.9911,      0.9911,      0.9911,      0.9911,      0.9911,      0.9911,\n",
            "             0.9911,      0.9911,      0.9911,      0.9911,      0.9911,      0.9911,      0.9911,      0.9911,      0.9911,      0.9911,      0.9911,      0.9911,      0.9911,      0.9911,      0.9911,      0.9911,      0.9911,      0.9911,      0.9911,     0.99065,     0.99065,     0.99065,     0.99065,\n",
            "            0.99065,     0.99065,     0.99065,     0.99065,     0.99065,     0.99065,     0.99065,     0.99065,     0.99065,     0.99065,     0.99065,     0.99065,     0.99065,     0.99065,     0.99065,     0.99065,     0.98923,     0.98923,     0.98923,     0.98923,     0.98923,     0.98923,     0.98923,\n",
            "            0.98923,     0.98923,     0.98923,     0.98923,     0.98904,     0.98904,     0.98904,     0.98904,     0.98904,     0.98904,     0.98904,     0.98904,     0.98904,     0.98904,     0.98904,     0.98904,     0.98904,     0.98904,     0.98904,     0.98904,     0.98904,     0.98904,     0.98904,\n",
            "            0.98904,     0.98904,     0.98904,     0.98904,     0.98904,     0.98904,     0.98904,     0.98904,     0.98904,     0.98904,     0.98904,     0.98904,     0.98904,     0.98904,     0.98904,     0.98904,     0.98904,     0.98904,     0.98904,     0.98904,     0.98904,     0.98904,     0.98904,\n",
            "            0.98904,     0.98904,     0.98904,     0.98904,     0.98904,     0.98904,     0.98904,     0.98904,     0.98904,     0.98904,     0.98904,     0.98904,     0.98904,     0.98904,     0.98904,     0.98904,     0.98904,     0.98904,     0.98904,     0.98904,     0.98856,     0.98856,     0.98856,\n",
            "            0.98856,     0.98856,     0.98856,     0.98856,     0.98856,     0.98856,     0.98856,     0.98856,     0.98799,     0.98799,     0.98799,     0.98799,     0.98799,     0.98799,     0.98775,     0.98775,     0.98775,     0.98775,     0.98775,     0.98775,     0.98775,     0.98775,     0.98775,\n",
            "            0.98775,     0.98775,     0.98775,     0.98775,     0.98775,     0.98775,     0.98775,     0.98775,     0.98775,     0.98775,     0.98775,     0.98775,     0.98752,     0.98752,     0.98752,     0.98752,     0.98752,     0.98752,     0.98752,     0.98752,     0.98752,     0.98752,     0.98752,\n",
            "            0.98752,     0.98752,     0.98752,     0.98752,     0.98752,     0.98752,     0.98752,     0.98752,     0.98752,     0.98702,     0.98702,     0.98702,     0.98702,     0.98702,     0.98702,     0.98702,     0.98665,     0.98665,     0.98665,     0.98665,     0.98665,     0.98665,     0.98665,\n",
            "            0.98665,     0.98665,     0.98665,     0.98665,     0.98665,     0.98624,     0.98624,     0.98624,     0.98624,     0.98624,     0.98624,     0.98624,     0.98624,     0.98624,     0.98624,     0.98574,     0.98574,     0.98574,     0.98574,     0.98574,     0.98538,     0.98538,     0.98538,\n",
            "            0.98538,     0.98538,     0.98538,     0.98538,     0.98538,     0.98538,     0.98538,     0.98479,     0.98421,     0.98318,     0.98318,     0.98318,     0.98318,     0.98318,     0.98318,     0.98318,     0.98318,     0.98318,     0.98318,     0.98318,     0.98318,     0.98318,     0.98318,\n",
            "            0.98318,     0.98318,     0.98318,     0.98318,     0.98318,     0.98318,     0.98318,     0.98318,     0.98318,     0.98318,     0.98318,     0.98318,     0.98318,     0.98318,     0.98267,     0.98267,     0.98267,      0.9824,      0.9824,      0.9824,      0.9824,      0.9824,      0.9824,\n",
            "             0.9824,      0.9824,      0.9824,      0.9824,      0.9824,     0.98196,     0.98196,     0.98196,     0.98196,     0.98196,     0.98124,     0.98124,     0.98124,     0.98124,     0.98124,     0.98124,     0.98124,     0.98124,     0.98124,     0.98124,     0.98124,     0.98124,     0.98124,\n",
            "            0.98124,     0.98086,     0.98086,     0.98086,     0.98086,     0.98086,     0.98086,     0.98086,     0.98086,     0.98086,     0.98086,     0.98086,     0.98086,     0.98086,     0.98086,     0.98086,     0.98086,     0.98086,     0.98086,     0.98086,     0.98086,     0.98086,     0.98086,\n",
            "            0.98086,     0.98086,     0.98086,     0.98086,     0.98086,     0.98086,     0.98086,     0.98086,     0.98086,     0.98086,     0.98086,     0.98086,     0.98086,     0.98086,     0.98086,     0.98086,     0.98086,     0.98086,     0.98086,     0.98086,     0.98086,     0.98086,     0.98086,\n",
            "            0.98046,     0.98046,     0.98046,     0.98046,     0.98046,     0.98003,     0.98003,     0.97981,     0.97981,     0.97981,     0.97981,     0.97981,     0.97981,     0.97981,     0.97981,     0.97981,     0.97981,     0.97981,     0.97943,     0.97943,     0.97943,     0.97943,     0.97938,\n",
            "            0.97938,     0.97938,     0.97938,     0.97938,     0.97938,     0.97938,     0.97938,     0.97938,     0.97938,     0.97938,     0.97938,     0.97938,     0.97938,     0.97938,     0.97938,     0.97938,     0.97893,     0.97858,     0.97858,     0.97858,     0.97858,     0.97858,     0.97769,\n",
            "            0.97769,     0.97731,     0.97731,     0.97731,     0.97689,     0.97689,     0.97653,     0.97653,     0.97653,     0.97653,     0.97586,     0.97586,     0.97586,     0.97586,     0.97586,     0.97586,     0.97586,     0.97586,     0.97586,     0.97553,     0.97553,     0.97553,     0.97553,\n",
            "            0.97472,     0.97472,     0.97472,     0.97472,     0.97455,     0.97455,     0.97455,     0.97455,     0.97455,     0.97455,     0.97455,     0.97455,     0.97455,      0.9737,     0.97336,     0.97336,     0.97336,     0.97336,     0.97297,     0.97297,     0.97262,     0.97262,     0.97262,\n",
            "            0.97177,     0.97133,     0.97133,     0.97133,     0.97133,     0.97133,     0.97133,     0.97133,     0.97133,     0.97133,     0.97133,     0.97133,     0.97133,     0.97133,     0.97092,     0.97054,     0.96968,     0.96886,     0.96858,     0.96858,     0.96858,     0.96858,     0.96776,\n",
            "            0.96743,     0.96743,     0.96743,     0.96674,     0.96674,     0.96674,     0.96674,     0.96612,     0.96612,     0.96612,     0.96612,     0.96612,     0.96612,     0.96576,     0.96556,     0.96556,     0.96556,     0.96556,     0.96556,     0.96556,     0.96533,     0.96533,     0.96533,\n",
            "            0.96533,     0.96533,     0.96374,     0.96337,     0.96301,     0.96301,     0.96234,     0.96234,     0.96234,     0.96196,      0.9617,      0.9617,      0.9617,     0.96136,     0.96136,     0.96112,     0.96112,     0.96112,     0.96112,     0.96037,     0.96003,     0.95968,     0.95968,\n",
            "            0.95896,     0.95857,     0.95783,     0.95758,     0.95758,     0.95758,     0.95684,     0.95658,     0.95658,     0.95658,     0.95505,     0.95445,     0.95445,     0.95445,     0.95408,     0.95346,     0.95346,     0.95346,     0.95315,     0.95253,     0.95253,     0.95253,     0.95253,\n",
            "            0.95183,     0.95114,      0.9504,     0.95012,     0.95012,     0.94791,     0.94722,     0.94651,     0.94587,     0.94587,     0.94519,     0.94455,     0.94455,     0.94311,     0.94212,     0.94141,     0.93998,     0.93791,     0.93791,     0.93692,     0.93658,     0.93634,     0.93603,\n",
            "            0.93462,     0.93433,     0.93402,      0.9316,     0.93026,     0.93004,     0.93004,     0.92974,     0.92817,     0.92817,     0.92784,     0.91891,     0.91555,     0.91091,     0.90762,     0.90373,      0.8992,      0.8967,     0.89519,     0.89141,     0.87747,     0.87747,     0.87447,\n",
            "            0.87399,     0.87255,     0.86064,     0.85955,     0.85616,     0.84186,     0.83948,     0.83267,     0.80578,     0.79175,     0.78398,     0.76303,     0.75904,     0.75291,     0.72649,     0.71635,     0.69078,     0.67619,     0.65819,     0.63355,     0.62602,     0.62522,     0.60807,\n",
            "             0.5837,     0.55711,     0.50594,     0.46464,     0.43595,     0.40557,     0.35429,      0.3294,     0.29799,     0.14358,           0]]), 'Recall', 'Precision'], [array([          0,    0.001001,    0.002002,    0.003003,    0.004004,    0.005005,    0.006006,    0.007007,    0.008008,    0.009009,     0.01001,    0.011011,    0.012012,    0.013013,    0.014014,    0.015015,    0.016016,    0.017017,    0.018018,    0.019019,     0.02002,    0.021021,    0.022022,    0.023023,\n",
            "          0.024024,    0.025025,    0.026026,    0.027027,    0.028028,    0.029029,     0.03003,    0.031031,    0.032032,    0.033033,    0.034034,    0.035035,    0.036036,    0.037037,    0.038038,    0.039039,     0.04004,    0.041041,    0.042042,    0.043043,    0.044044,    0.045045,    0.046046,    0.047047,\n",
            "          0.048048,    0.049049,     0.05005,    0.051051,    0.052052,    0.053053,    0.054054,    0.055055,    0.056056,    0.057057,    0.058058,    0.059059,     0.06006,    0.061061,    0.062062,    0.063063,    0.064064,    0.065065,    0.066066,    0.067067,    0.068068,    0.069069,     0.07007,    0.071071,\n",
            "          0.072072,    0.073073,    0.074074,    0.075075,    0.076076,    0.077077,    0.078078,    0.079079,     0.08008,    0.081081,    0.082082,    0.083083,    0.084084,    0.085085,    0.086086,    0.087087,    0.088088,    0.089089,     0.09009,    0.091091,    0.092092,    0.093093,    0.094094,    0.095095,\n",
            "          0.096096,    0.097097,    0.098098,    0.099099,      0.1001,      0.1011,      0.1021,      0.1031,      0.1041,     0.10511,     0.10611,     0.10711,     0.10811,     0.10911,     0.11011,     0.11111,     0.11211,     0.11311,     0.11411,     0.11512,     0.11612,     0.11712,     0.11812,     0.11912,\n",
            "           0.12012,     0.12112,     0.12212,     0.12312,     0.12412,     0.12513,     0.12613,     0.12713,     0.12813,     0.12913,     0.13013,     0.13113,     0.13213,     0.13313,     0.13413,     0.13514,     0.13614,     0.13714,     0.13814,     0.13914,     0.14014,     0.14114,     0.14214,     0.14314,\n",
            "           0.14414,     0.14515,     0.14615,     0.14715,     0.14815,     0.14915,     0.15015,     0.15115,     0.15215,     0.15315,     0.15415,     0.15516,     0.15616,     0.15716,     0.15816,     0.15916,     0.16016,     0.16116,     0.16216,     0.16316,     0.16416,     0.16517,     0.16617,     0.16717,\n",
            "           0.16817,     0.16917,     0.17017,     0.17117,     0.17217,     0.17317,     0.17417,     0.17518,     0.17618,     0.17718,     0.17818,     0.17918,     0.18018,     0.18118,     0.18218,     0.18318,     0.18418,     0.18519,     0.18619,     0.18719,     0.18819,     0.18919,     0.19019,     0.19119,\n",
            "           0.19219,     0.19319,     0.19419,      0.1952,      0.1962,      0.1972,      0.1982,      0.1992,      0.2002,      0.2012,      0.2022,      0.2032,      0.2042,     0.20521,     0.20621,     0.20721,     0.20821,     0.20921,     0.21021,     0.21121,     0.21221,     0.21321,     0.21421,     0.21522,\n",
            "           0.21622,     0.21722,     0.21822,     0.21922,     0.22022,     0.22122,     0.22222,     0.22322,     0.22422,     0.22523,     0.22623,     0.22723,     0.22823,     0.22923,     0.23023,     0.23123,     0.23223,     0.23323,     0.23423,     0.23524,     0.23624,     0.23724,     0.23824,     0.23924,\n",
            "           0.24024,     0.24124,     0.24224,     0.24324,     0.24424,     0.24525,     0.24625,     0.24725,     0.24825,     0.24925,     0.25025,     0.25125,     0.25225,     0.25325,     0.25425,     0.25526,     0.25626,     0.25726,     0.25826,     0.25926,     0.26026,     0.26126,     0.26226,     0.26326,\n",
            "           0.26426,     0.26527,     0.26627,     0.26727,     0.26827,     0.26927,     0.27027,     0.27127,     0.27227,     0.27327,     0.27427,     0.27528,     0.27628,     0.27728,     0.27828,     0.27928,     0.28028,     0.28128,     0.28228,     0.28328,     0.28428,     0.28529,     0.28629,     0.28729,\n",
            "           0.28829,     0.28929,     0.29029,     0.29129,     0.29229,     0.29329,     0.29429,      0.2953,      0.2963,      0.2973,      0.2983,      0.2993,      0.3003,      0.3013,      0.3023,      0.3033,      0.3043,     0.30531,     0.30631,     0.30731,     0.30831,     0.30931,     0.31031,     0.31131,\n",
            "           0.31231,     0.31331,     0.31431,     0.31532,     0.31632,     0.31732,     0.31832,     0.31932,     0.32032,     0.32132,     0.32232,     0.32332,     0.32432,     0.32533,     0.32633,     0.32733,     0.32833,     0.32933,     0.33033,     0.33133,     0.33233,     0.33333,     0.33433,     0.33534,\n",
            "           0.33634,     0.33734,     0.33834,     0.33934,     0.34034,     0.34134,     0.34234,     0.34334,     0.34434,     0.34535,     0.34635,     0.34735,     0.34835,     0.34935,     0.35035,     0.35135,     0.35235,     0.35335,     0.35435,     0.35536,     0.35636,     0.35736,     0.35836,     0.35936,\n",
            "           0.36036,     0.36136,     0.36236,     0.36336,     0.36436,     0.36537,     0.36637,     0.36737,     0.36837,     0.36937,     0.37037,     0.37137,     0.37237,     0.37337,     0.37437,     0.37538,     0.37638,     0.37738,     0.37838,     0.37938,     0.38038,     0.38138,     0.38238,     0.38338,\n",
            "           0.38438,     0.38539,     0.38639,     0.38739,     0.38839,     0.38939,     0.39039,     0.39139,     0.39239,     0.39339,     0.39439,      0.3954,      0.3964,      0.3974,      0.3984,      0.3994,      0.4004,      0.4014,      0.4024,      0.4034,      0.4044,     0.40541,     0.40641,     0.40741,\n",
            "           0.40841,     0.40941,     0.41041,     0.41141,     0.41241,     0.41341,     0.41441,     0.41542,     0.41642,     0.41742,     0.41842,     0.41942,     0.42042,     0.42142,     0.42242,     0.42342,     0.42442,     0.42543,     0.42643,     0.42743,     0.42843,     0.42943,     0.43043,     0.43143,\n",
            "           0.43243,     0.43343,     0.43443,     0.43544,     0.43644,     0.43744,     0.43844,     0.43944,     0.44044,     0.44144,     0.44244,     0.44344,     0.44444,     0.44545,     0.44645,     0.44745,     0.44845,     0.44945,     0.45045,     0.45145,     0.45245,     0.45345,     0.45445,     0.45546,\n",
            "           0.45646,     0.45746,     0.45846,     0.45946,     0.46046,     0.46146,     0.46246,     0.46346,     0.46446,     0.46547,     0.46647,     0.46747,     0.46847,     0.46947,     0.47047,     0.47147,     0.47247,     0.47347,     0.47447,     0.47548,     0.47648,     0.47748,     0.47848,     0.47948,\n",
            "           0.48048,     0.48148,     0.48248,     0.48348,     0.48448,     0.48549,     0.48649,     0.48749,     0.48849,     0.48949,     0.49049,     0.49149,     0.49249,     0.49349,     0.49449,      0.4955,      0.4965,      0.4975,      0.4985,      0.4995,      0.5005,      0.5015,      0.5025,      0.5035,\n",
            "            0.5045,     0.50551,     0.50651,     0.50751,     0.50851,     0.50951,     0.51051,     0.51151,     0.51251,     0.51351,     0.51451,     0.51552,     0.51652,     0.51752,     0.51852,     0.51952,     0.52052,     0.52152,     0.52252,     0.52352,     0.52452,     0.52553,     0.52653,     0.52753,\n",
            "           0.52853,     0.52953,     0.53053,     0.53153,     0.53253,     0.53353,     0.53453,     0.53554,     0.53654,     0.53754,     0.53854,     0.53954,     0.54054,     0.54154,     0.54254,     0.54354,     0.54454,     0.54555,     0.54655,     0.54755,     0.54855,     0.54955,     0.55055,     0.55155,\n",
            "           0.55255,     0.55355,     0.55455,     0.55556,     0.55656,     0.55756,     0.55856,     0.55956,     0.56056,     0.56156,     0.56256,     0.56356,     0.56456,     0.56557,     0.56657,     0.56757,     0.56857,     0.56957,     0.57057,     0.57157,     0.57257,     0.57357,     0.57457,     0.57558,\n",
            "           0.57658,     0.57758,     0.57858,     0.57958,     0.58058,     0.58158,     0.58258,     0.58358,     0.58458,     0.58559,     0.58659,     0.58759,     0.58859,     0.58959,     0.59059,     0.59159,     0.59259,     0.59359,     0.59459,      0.5956,      0.5966,      0.5976,      0.5986,      0.5996,\n",
            "            0.6006,      0.6016,      0.6026,      0.6036,      0.6046,     0.60561,     0.60661,     0.60761,     0.60861,     0.60961,     0.61061,     0.61161,     0.61261,     0.61361,     0.61461,     0.61562,     0.61662,     0.61762,     0.61862,     0.61962,     0.62062,     0.62162,     0.62262,     0.62362,\n",
            "           0.62462,     0.62563,     0.62663,     0.62763,     0.62863,     0.62963,     0.63063,     0.63163,     0.63263,     0.63363,     0.63463,     0.63564,     0.63664,     0.63764,     0.63864,     0.63964,     0.64064,     0.64164,     0.64264,     0.64364,     0.64464,     0.64565,     0.64665,     0.64765,\n",
            "           0.64865,     0.64965,     0.65065,     0.65165,     0.65265,     0.65365,     0.65465,     0.65566,     0.65666,     0.65766,     0.65866,     0.65966,     0.66066,     0.66166,     0.66266,     0.66366,     0.66466,     0.66567,     0.66667,     0.66767,     0.66867,     0.66967,     0.67067,     0.67167,\n",
            "           0.67267,     0.67367,     0.67467,     0.67568,     0.67668,     0.67768,     0.67868,     0.67968,     0.68068,     0.68168,     0.68268,     0.68368,     0.68468,     0.68569,     0.68669,     0.68769,     0.68869,     0.68969,     0.69069,     0.69169,     0.69269,     0.69369,     0.69469,      0.6957,\n",
            "            0.6967,      0.6977,      0.6987,      0.6997,      0.7007,      0.7017,      0.7027,      0.7037,      0.7047,     0.70571,     0.70671,     0.70771,     0.70871,     0.70971,     0.71071,     0.71171,     0.71271,     0.71371,     0.71471,     0.71572,     0.71672,     0.71772,     0.71872,     0.71972,\n",
            "           0.72072,     0.72172,     0.72272,     0.72372,     0.72472,     0.72573,     0.72673,     0.72773,     0.72873,     0.72973,     0.73073,     0.73173,     0.73273,     0.73373,     0.73473,     0.73574,     0.73674,     0.73774,     0.73874,     0.73974,     0.74074,     0.74174,     0.74274,     0.74374,\n",
            "           0.74474,     0.74575,     0.74675,     0.74775,     0.74875,     0.74975,     0.75075,     0.75175,     0.75275,     0.75375,     0.75475,     0.75576,     0.75676,     0.75776,     0.75876,     0.75976,     0.76076,     0.76176,     0.76276,     0.76376,     0.76476,     0.76577,     0.76677,     0.76777,\n",
            "           0.76877,     0.76977,     0.77077,     0.77177,     0.77277,     0.77377,     0.77477,     0.77578,     0.77678,     0.77778,     0.77878,     0.77978,     0.78078,     0.78178,     0.78278,     0.78378,     0.78478,     0.78579,     0.78679,     0.78779,     0.78879,     0.78979,     0.79079,     0.79179,\n",
            "           0.79279,     0.79379,     0.79479,      0.7958,      0.7968,      0.7978,      0.7988,      0.7998,      0.8008,      0.8018,      0.8028,      0.8038,      0.8048,     0.80581,     0.80681,     0.80781,     0.80881,     0.80981,     0.81081,     0.81181,     0.81281,     0.81381,     0.81481,     0.81582,\n",
            "           0.81682,     0.81782,     0.81882,     0.81982,     0.82082,     0.82182,     0.82282,     0.82382,     0.82482,     0.82583,     0.82683,     0.82783,     0.82883,     0.82983,     0.83083,     0.83183,     0.83283,     0.83383,     0.83483,     0.83584,     0.83684,     0.83784,     0.83884,     0.83984,\n",
            "           0.84084,     0.84184,     0.84284,     0.84384,     0.84484,     0.84585,     0.84685,     0.84785,     0.84885,     0.84985,     0.85085,     0.85185,     0.85285,     0.85385,     0.85485,     0.85586,     0.85686,     0.85786,     0.85886,     0.85986,     0.86086,     0.86186,     0.86286,     0.86386,\n",
            "           0.86486,     0.86587,     0.86687,     0.86787,     0.86887,     0.86987,     0.87087,     0.87187,     0.87287,     0.87387,     0.87487,     0.87588,     0.87688,     0.87788,     0.87888,     0.87988,     0.88088,     0.88188,     0.88288,     0.88388,     0.88488,     0.88589,     0.88689,     0.88789,\n",
            "           0.88889,     0.88989,     0.89089,     0.89189,     0.89289,     0.89389,     0.89489,      0.8959,      0.8969,      0.8979,      0.8989,      0.8999,      0.9009,      0.9019,      0.9029,      0.9039,      0.9049,     0.90591,     0.90691,     0.90791,     0.90891,     0.90991,     0.91091,     0.91191,\n",
            "           0.91291,     0.91391,     0.91491,     0.91592,     0.91692,     0.91792,     0.91892,     0.91992,     0.92092,     0.92192,     0.92292,     0.92392,     0.92492,     0.92593,     0.92693,     0.92793,     0.92893,     0.92993,     0.93093,     0.93193,     0.93293,     0.93393,     0.93493,     0.93594,\n",
            "           0.93694,     0.93794,     0.93894,     0.93994,     0.94094,     0.94194,     0.94294,     0.94394,     0.94494,     0.94595,     0.94695,     0.94795,     0.94895,     0.94995,     0.95095,     0.95195,     0.95295,     0.95395,     0.95495,     0.95596,     0.95696,     0.95796,     0.95896,     0.95996,\n",
            "           0.96096,     0.96196,     0.96296,     0.96396,     0.96496,     0.96597,     0.96697,     0.96797,     0.96897,     0.96997,     0.97097,     0.97197,     0.97297,     0.97397,     0.97497,     0.97598,     0.97698,     0.97798,     0.97898,     0.97998,     0.98098,     0.98198,     0.98298,     0.98398,\n",
            "           0.98498,     0.98599,     0.98699,     0.98799,     0.98899,     0.98999,     0.99099,     0.99199,     0.99299,     0.99399,     0.99499,       0.996,       0.997,       0.998,       0.999,           1]), array([[    0.43565,      0.4357,     0.50479,     0.53716,     0.55776,      0.5741,     0.58516,       0.596,     0.60526,     0.61321,     0.62184,     0.62777,     0.63336,     0.63967,     0.64418,     0.64881,     0.65568,     0.66077,     0.66502,     0.66864,     0.67268,     0.67542,     0.67918,\n",
            "             0.6829,     0.68682,     0.68901,      0.6923,     0.69546,      0.6989,     0.70222,     0.70519,     0.70854,     0.71031,     0.71284,     0.71566,     0.71789,     0.72043,     0.72337,      0.7266,      0.7286,     0.73098,     0.73433,     0.73663,     0.73852,     0.73969,     0.74175,\n",
            "            0.74373,     0.74633,     0.74881,     0.75047,     0.75301,     0.75444,      0.7564,     0.75904,     0.76101,     0.76376,     0.76574,     0.76762,     0.76924,     0.77138,     0.77361,     0.77547,     0.77769,     0.78015,      0.7821,     0.78423,     0.78714,     0.78844,     0.78951,\n",
            "            0.79241,     0.79444,     0.79656,     0.79796,     0.79921,     0.80093,     0.80177,       0.803,     0.80471,     0.80576,     0.80695,     0.81015,     0.81212,     0.81328,     0.81506,      0.8161,     0.81804,     0.81976,     0.82108,     0.82173,     0.82402,     0.82592,     0.82727,\n",
            "            0.82863,     0.83023,     0.83186,     0.83258,     0.83359,     0.83512,     0.83668,     0.83747,     0.83906,     0.84013,     0.84168,     0.84277,     0.84418,     0.84548,     0.84708,     0.84815,     0.84921,     0.85059,     0.85252,     0.85317,     0.85416,     0.85532,     0.85604,\n",
            "            0.85714,      0.8585,     0.85977,     0.86102,     0.86141,     0.86322,     0.86386,     0.86526,     0.86629,     0.86778,     0.86895,     0.87001,     0.87125,     0.87241,     0.87349,     0.87429,     0.87506,     0.87603,     0.87628,     0.87761,     0.87881,     0.87986,     0.88085,\n",
            "            0.88179,     0.88302,     0.88443,     0.88509,     0.88599,     0.88641,     0.88711,     0.88841,     0.88983,     0.89088,     0.89123,       0.892,     0.89361,     0.89516,     0.89552,     0.89614,     0.89725,      0.8978,     0.89871,     0.89983,     0.90095,     0.90124,     0.90192,\n",
            "            0.90254,     0.90284,     0.90321,     0.90412,     0.90558,     0.90626,     0.90684,     0.90759,      0.9085,     0.90897,     0.90928,     0.90998,     0.91034,     0.91083,     0.91119,     0.91143,     0.91157,     0.91209,     0.91229,     0.91271,     0.91318,     0.91379,     0.91399,\n",
            "            0.91417,     0.91481,     0.91517,     0.91604,     0.91646,     0.91699,     0.91751,       0.918,     0.91823,     0.91792,     0.91782,     0.91812,     0.91834,     0.91905,     0.91917,     0.91872,     0.91895,     0.91974,     0.91996,     0.92048,     0.92075,     0.92086,     0.92107,\n",
            "            0.92127,     0.92181,     0.92237,     0.92273,     0.92286,     0.92295,     0.92286,     0.92305,     0.92349,     0.92383,     0.92412,      0.9247,     0.92492,     0.92509,     0.92534,     0.92547,     0.92582,     0.92587,     0.92645,     0.92673,      0.9272,     0.92739,     0.92737,\n",
            "            0.92754,     0.92777,     0.92779,     0.92779,     0.92811,     0.92799,     0.92837,     0.92828,     0.92837,     0.92857,     0.92903,     0.92952,     0.92975,     0.93009,     0.92998,     0.93037,     0.93052,     0.93057,     0.93075,     0.93137,     0.93124,     0.93151,     0.93196,\n",
            "            0.93221,     0.93249,     0.93272,     0.93314,      0.9332,     0.93332,     0.93339,     0.93372,     0.93404,      0.9344,      0.9345,     0.93476,     0.93486,     0.93506,     0.93479,     0.93524,     0.93537,     0.93536,     0.93564,     0.93573,     0.93583,     0.93619,     0.93649,\n",
            "            0.93667,     0.93689,     0.93745,     0.93755,     0.93772,     0.93815,     0.93843,     0.93863,     0.93877,     0.93899,     0.93929,     0.93939,     0.93984,     0.94045,     0.94031,     0.94048,     0.94076,     0.94076,     0.94067,     0.94064,     0.94074,     0.94073,     0.94061,\n",
            "            0.94009,     0.93991,     0.93983,     0.93997,     0.94008,     0.93992,     0.93996,     0.94001,     0.94006,     0.94012,     0.94023,     0.93992,     0.93995,     0.93982,     0.93975,     0.93968,     0.93962,     0.93957,     0.93952,     0.93948,     0.93941,     0.93917,     0.93905,\n",
            "            0.93914,     0.93905,     0.93908,     0.93898,     0.93908,     0.93917,     0.93926,     0.93929,     0.93921,     0.93913,     0.93925,      0.9391,      0.9391,     0.93921,      0.9396,     0.93987,      0.9397,     0.93958,     0.93935,      0.9392,     0.93922,     0.93942,     0.93955,\n",
            "            0.93965,     0.93969,     0.93953,     0.93948,     0.93939,      0.9393,     0.93921,     0.93888,     0.93871,     0.93858,     0.93865,     0.93858,     0.93832,     0.93824,     0.93821,     0.93839,     0.93816,     0.93802,     0.93778,     0.93764,     0.93805,      0.9382,     0.93842,\n",
            "             0.9384,     0.93844,     0.93834,      0.9383,     0.93839,     0.93858,     0.93879,     0.93887,     0.93895,     0.93845,     0.93858,     0.93872,     0.93861,     0.93849,     0.93848,     0.93867,     0.93872,     0.93877,     0.93882,     0.93866,     0.93797,       0.938,     0.93786,\n",
            "            0.93779,      0.9377,      0.9373,     0.93698,     0.93699,     0.93686,     0.93697,     0.93705,     0.93711,     0.93717,     0.93707,     0.93687,     0.93686,     0.93675,     0.93684,     0.93657,     0.93669,     0.93693,     0.93715,     0.93714,     0.93642,     0.93637,     0.93659,\n",
            "            0.93668,     0.93628,     0.93589,     0.93589,     0.93582,     0.93597,     0.93569,     0.93556,     0.93518,     0.93462,     0.93448,      0.9342,     0.93404,     0.93396,     0.93362,      0.9328,     0.93261,     0.93251,     0.93257,     0.93263,     0.93251,     0.93262,     0.93234,\n",
            "            0.93223,     0.93202,     0.93152,     0.93126,     0.93101,      0.9311,     0.93082,     0.93053,     0.93117,     0.93057,     0.92983,     0.92981,     0.92939,     0.92905,     0.92811,     0.92794,      0.9276,     0.92767,     0.92741,     0.92721,     0.92672,     0.92622,     0.92555,\n",
            "            0.92568,     0.92555,      0.9239,      0.9233,     0.92255,     0.92172,     0.92156,     0.92137,     0.92096,     0.92052,     0.91973,     0.91953,     0.91911,     0.91899,     0.91869,     0.91831,     0.91825,     0.91848,     0.91839,     0.91812,     0.91745,     0.91661,     0.91589,\n",
            "            0.91593,     0.91522,      0.9142,     0.91352,      0.9129,     0.91288,     0.91277,     0.91223,     0.91221,     0.91104,     0.91069,     0.90924,     0.90847,     0.90718,     0.90697,     0.90694,     0.90592,     0.90567,     0.90491,     0.90427,     0.90327,     0.90321,      0.9029,\n",
            "            0.90251,     0.90237,     0.90217,     0.90136,     0.89976,     0.89875,     0.89835,     0.89715,     0.89653,     0.89607,     0.89549,     0.89532,     0.89516,     0.89474,      0.8946,     0.89447,     0.89428,     0.89414,     0.89308,     0.89287,     0.89196,     0.89129,     0.89067,\n",
            "            0.88983,     0.88928,     0.88907,     0.88874,     0.88806,     0.88641,     0.88483,     0.88422,     0.88393,     0.88302,     0.88273,     0.88216,      0.8816,     0.88117,     0.88013,     0.87943,     0.87747,     0.87623,     0.87495,     0.87461,     0.87444,     0.87468,     0.87364,\n",
            "            0.87234,     0.87135,      0.8709,     0.87035,     0.86859,     0.86862,     0.86807,     0.86749,     0.86638,     0.86518,     0.86442,     0.86379,      0.8625,     0.86189,     0.86116,     0.85966,     0.85851,     0.85754,     0.85636,     0.85477,     0.85393,     0.85265,      0.8521,\n",
            "            0.85036,     0.84864,     0.84711,     0.84616,     0.84504,      0.8443,     0.84295,     0.84208,     0.84089,     0.84009,     0.83865,     0.83726,      0.8361,     0.83433,     0.83337,     0.83257,     0.83179,     0.83035,     0.82924,     0.82811,     0.82631,     0.82477,     0.82262,\n",
            "            0.82112,      0.8201,     0.81958,     0.81778,     0.81544,     0.81382,      0.8125,     0.81178,     0.81092,     0.81011,       0.809,     0.80821,       0.805,     0.80428,     0.80274,     0.80168,     0.80123,     0.80117,     0.79887,     0.79706,     0.79481,     0.79321,     0.79191,\n",
            "            0.78934,     0.78877,     0.78692,     0.78553,     0.78442,     0.78334,     0.78128,     0.77932,     0.77773,     0.77627,     0.77284,      0.7719,     0.76967,     0.76802,     0.76689,     0.76536,     0.76317,     0.76119,     0.75895,     0.75699,     0.75572,     0.75422,     0.75199,\n",
            "            0.75054,      0.7485,     0.74748,     0.74556,     0.74301,     0.74097,     0.73907,     0.73687,     0.73584,     0.73422,     0.73247,     0.72998,      0.7272,      0.7233,     0.72021,     0.71781,       0.716,     0.71425,     0.71309,     0.70974,     0.70725,     0.70319,     0.70076,\n",
            "            0.69864,     0.69618,     0.69413,     0.69089,     0.68907,     0.68605,     0.68415,     0.68094,     0.67937,     0.67691,     0.67393,     0.67034,     0.66523,     0.66127,     0.65808,     0.65549,      0.6511,     0.64735,      0.6435,     0.63921,     0.63679,      0.6328,     0.63153,\n",
            "            0.62701,     0.62361,     0.62064,     0.61842,     0.61312,     0.61045,     0.60828,     0.60614,     0.60459,     0.60156,     0.59987,     0.59714,     0.59124,     0.58601,     0.58371,     0.58026,     0.57676,     0.57332,     0.57069,     0.56776,     0.56519,     0.56278,     0.55916,\n",
            "            0.55417,     0.55073,     0.54583,     0.54077,     0.53768,     0.53227,     0.52719,     0.52093,     0.51526,     0.51097,     0.50692,     0.50195,     0.49844,      0.4951,     0.49017,     0.48621,     0.48143,     0.47813,     0.47487,      0.4719,     0.46685,      0.4635,     0.45578,\n",
            "            0.44917,     0.44725,     0.44238,     0.43532,     0.43133,     0.42531,     0.42157,     0.41595,     0.41176,     0.40604,     0.40145,     0.39704,      0.3943,     0.38933,     0.38521,     0.37992,     0.37446,     0.36764,     0.36096,     0.35363,     0.34637,     0.34004,     0.33654,\n",
            "            0.32489,     0.31813,     0.31384,     0.30967,     0.30149,     0.29511,     0.29042,     0.28612,     0.28229,     0.27565,      0.2724,     0.26423,     0.25627,     0.24916,     0.24495,     0.23783,     0.23237,     0.22712,     0.22063,     0.21277,     0.20346,     0.20015,     0.19559,\n",
            "            0.19245,     0.18863,     0.18595,     0.18178,     0.17409,     0.16821,     0.16251,     0.15801,     0.15301,     0.14965,     0.14005,      0.1327,     0.13078,     0.12549,     0.11941,     0.11138,      0.1069,     0.10369,     0.09907,    0.093811,    0.090045,    0.086197,    0.081384,\n",
            "           0.075604,     0.06895,     0.06568,    0.063071,    0.057812,    0.052695,    0.049314,    0.042986,     0.04183,    0.038009,    0.036112,    0.034012,    0.032434,    0.031479,    0.030076,    0.028384,    0.026631,    0.023786,    0.023393,    0.022915,    0.021045,      0.0201,     0.01751,\n",
            "           0.016953,    0.014857,    0.013855,    0.012101,    0.010674,     0.01048,    0.010287,    0.010093,    0.009307,   0.0076013,   0.0058269,   0.0045335,    0.004105,   0.0036317,   0.0031075,    0.002194,    0.001979,    0.001764,   0.0015472,   0.0012395,  0.00093159,           0,           0,\n",
            "                  0,           0,           0,           0,           0,           0,           0,           0,           0,           0,           0,           0,           0,           0,           0,           0,           0,           0,           0,           0,           0,           0,           0,\n",
            "                  0,           0,           0,           0,           0,           0,           0,           0,           0,           0,           0,           0,           0,           0,           0,           0,           0,           0,           0,           0,           0,           0,           0,\n",
            "                  0,           0,           0,           0,           0,           0,           0,           0,           0,           0,           0,           0,           0,           0,           0,           0,           0,           0,           0,           0,           0,           0,           0,\n",
            "                  0,           0,           0,           0,           0,           0,           0,           0,           0,           0,           0,           0,           0,           0,           0,           0,           0,           0,           0,           0,           0,           0,           0,\n",
            "                  0,           0,           0,           0,           0,           0,           0,           0,           0,           0,           0,           0,           0,           0,           0,           0,           0,           0,           0,           0,           0,           0,           0,\n",
            "                  0,           0,           0,           0,           0,           0,           0,           0,           0,           0,           0,           0,           0,           0,           0,           0,           0,           0,           0,           0,           0,           0,           0,\n",
            "                  0,           0,           0,           0,           0,           0,           0,           0,           0,           0,           0]]), 'Confidence', 'F1'], [array([          0,    0.001001,    0.002002,    0.003003,    0.004004,    0.005005,    0.006006,    0.007007,    0.008008,    0.009009,     0.01001,    0.011011,    0.012012,    0.013013,    0.014014,    0.015015,    0.016016,    0.017017,    0.018018,    0.019019,     0.02002,    0.021021,    0.022022,    0.023023,\n",
            "          0.024024,    0.025025,    0.026026,    0.027027,    0.028028,    0.029029,     0.03003,    0.031031,    0.032032,    0.033033,    0.034034,    0.035035,    0.036036,    0.037037,    0.038038,    0.039039,     0.04004,    0.041041,    0.042042,    0.043043,    0.044044,    0.045045,    0.046046,    0.047047,\n",
            "          0.048048,    0.049049,     0.05005,    0.051051,    0.052052,    0.053053,    0.054054,    0.055055,    0.056056,    0.057057,    0.058058,    0.059059,     0.06006,    0.061061,    0.062062,    0.063063,    0.064064,    0.065065,    0.066066,    0.067067,    0.068068,    0.069069,     0.07007,    0.071071,\n",
            "          0.072072,    0.073073,    0.074074,    0.075075,    0.076076,    0.077077,    0.078078,    0.079079,     0.08008,    0.081081,    0.082082,    0.083083,    0.084084,    0.085085,    0.086086,    0.087087,    0.088088,    0.089089,     0.09009,    0.091091,    0.092092,    0.093093,    0.094094,    0.095095,\n",
            "          0.096096,    0.097097,    0.098098,    0.099099,      0.1001,      0.1011,      0.1021,      0.1031,      0.1041,     0.10511,     0.10611,     0.10711,     0.10811,     0.10911,     0.11011,     0.11111,     0.11211,     0.11311,     0.11411,     0.11512,     0.11612,     0.11712,     0.11812,     0.11912,\n",
            "           0.12012,     0.12112,     0.12212,     0.12312,     0.12412,     0.12513,     0.12613,     0.12713,     0.12813,     0.12913,     0.13013,     0.13113,     0.13213,     0.13313,     0.13413,     0.13514,     0.13614,     0.13714,     0.13814,     0.13914,     0.14014,     0.14114,     0.14214,     0.14314,\n",
            "           0.14414,     0.14515,     0.14615,     0.14715,     0.14815,     0.14915,     0.15015,     0.15115,     0.15215,     0.15315,     0.15415,     0.15516,     0.15616,     0.15716,     0.15816,     0.15916,     0.16016,     0.16116,     0.16216,     0.16316,     0.16416,     0.16517,     0.16617,     0.16717,\n",
            "           0.16817,     0.16917,     0.17017,     0.17117,     0.17217,     0.17317,     0.17417,     0.17518,     0.17618,     0.17718,     0.17818,     0.17918,     0.18018,     0.18118,     0.18218,     0.18318,     0.18418,     0.18519,     0.18619,     0.18719,     0.18819,     0.18919,     0.19019,     0.19119,\n",
            "           0.19219,     0.19319,     0.19419,      0.1952,      0.1962,      0.1972,      0.1982,      0.1992,      0.2002,      0.2012,      0.2022,      0.2032,      0.2042,     0.20521,     0.20621,     0.20721,     0.20821,     0.20921,     0.21021,     0.21121,     0.21221,     0.21321,     0.21421,     0.21522,\n",
            "           0.21622,     0.21722,     0.21822,     0.21922,     0.22022,     0.22122,     0.22222,     0.22322,     0.22422,     0.22523,     0.22623,     0.22723,     0.22823,     0.22923,     0.23023,     0.23123,     0.23223,     0.23323,     0.23423,     0.23524,     0.23624,     0.23724,     0.23824,     0.23924,\n",
            "           0.24024,     0.24124,     0.24224,     0.24324,     0.24424,     0.24525,     0.24625,     0.24725,     0.24825,     0.24925,     0.25025,     0.25125,     0.25225,     0.25325,     0.25425,     0.25526,     0.25626,     0.25726,     0.25826,     0.25926,     0.26026,     0.26126,     0.26226,     0.26326,\n",
            "           0.26426,     0.26527,     0.26627,     0.26727,     0.26827,     0.26927,     0.27027,     0.27127,     0.27227,     0.27327,     0.27427,     0.27528,     0.27628,     0.27728,     0.27828,     0.27928,     0.28028,     0.28128,     0.28228,     0.28328,     0.28428,     0.28529,     0.28629,     0.28729,\n",
            "           0.28829,     0.28929,     0.29029,     0.29129,     0.29229,     0.29329,     0.29429,      0.2953,      0.2963,      0.2973,      0.2983,      0.2993,      0.3003,      0.3013,      0.3023,      0.3033,      0.3043,     0.30531,     0.30631,     0.30731,     0.30831,     0.30931,     0.31031,     0.31131,\n",
            "           0.31231,     0.31331,     0.31431,     0.31532,     0.31632,     0.31732,     0.31832,     0.31932,     0.32032,     0.32132,     0.32232,     0.32332,     0.32432,     0.32533,     0.32633,     0.32733,     0.32833,     0.32933,     0.33033,     0.33133,     0.33233,     0.33333,     0.33433,     0.33534,\n",
            "           0.33634,     0.33734,     0.33834,     0.33934,     0.34034,     0.34134,     0.34234,     0.34334,     0.34434,     0.34535,     0.34635,     0.34735,     0.34835,     0.34935,     0.35035,     0.35135,     0.35235,     0.35335,     0.35435,     0.35536,     0.35636,     0.35736,     0.35836,     0.35936,\n",
            "           0.36036,     0.36136,     0.36236,     0.36336,     0.36436,     0.36537,     0.36637,     0.36737,     0.36837,     0.36937,     0.37037,     0.37137,     0.37237,     0.37337,     0.37437,     0.37538,     0.37638,     0.37738,     0.37838,     0.37938,     0.38038,     0.38138,     0.38238,     0.38338,\n",
            "           0.38438,     0.38539,     0.38639,     0.38739,     0.38839,     0.38939,     0.39039,     0.39139,     0.39239,     0.39339,     0.39439,      0.3954,      0.3964,      0.3974,      0.3984,      0.3994,      0.4004,      0.4014,      0.4024,      0.4034,      0.4044,     0.40541,     0.40641,     0.40741,\n",
            "           0.40841,     0.40941,     0.41041,     0.41141,     0.41241,     0.41341,     0.41441,     0.41542,     0.41642,     0.41742,     0.41842,     0.41942,     0.42042,     0.42142,     0.42242,     0.42342,     0.42442,     0.42543,     0.42643,     0.42743,     0.42843,     0.42943,     0.43043,     0.43143,\n",
            "           0.43243,     0.43343,     0.43443,     0.43544,     0.43644,     0.43744,     0.43844,     0.43944,     0.44044,     0.44144,     0.44244,     0.44344,     0.44444,     0.44545,     0.44645,     0.44745,     0.44845,     0.44945,     0.45045,     0.45145,     0.45245,     0.45345,     0.45445,     0.45546,\n",
            "           0.45646,     0.45746,     0.45846,     0.45946,     0.46046,     0.46146,     0.46246,     0.46346,     0.46446,     0.46547,     0.46647,     0.46747,     0.46847,     0.46947,     0.47047,     0.47147,     0.47247,     0.47347,     0.47447,     0.47548,     0.47648,     0.47748,     0.47848,     0.47948,\n",
            "           0.48048,     0.48148,     0.48248,     0.48348,     0.48448,     0.48549,     0.48649,     0.48749,     0.48849,     0.48949,     0.49049,     0.49149,     0.49249,     0.49349,     0.49449,      0.4955,      0.4965,      0.4975,      0.4985,      0.4995,      0.5005,      0.5015,      0.5025,      0.5035,\n",
            "            0.5045,     0.50551,     0.50651,     0.50751,     0.50851,     0.50951,     0.51051,     0.51151,     0.51251,     0.51351,     0.51451,     0.51552,     0.51652,     0.51752,     0.51852,     0.51952,     0.52052,     0.52152,     0.52252,     0.52352,     0.52452,     0.52553,     0.52653,     0.52753,\n",
            "           0.52853,     0.52953,     0.53053,     0.53153,     0.53253,     0.53353,     0.53453,     0.53554,     0.53654,     0.53754,     0.53854,     0.53954,     0.54054,     0.54154,     0.54254,     0.54354,     0.54454,     0.54555,     0.54655,     0.54755,     0.54855,     0.54955,     0.55055,     0.55155,\n",
            "           0.55255,     0.55355,     0.55455,     0.55556,     0.55656,     0.55756,     0.55856,     0.55956,     0.56056,     0.56156,     0.56256,     0.56356,     0.56456,     0.56557,     0.56657,     0.56757,     0.56857,     0.56957,     0.57057,     0.57157,     0.57257,     0.57357,     0.57457,     0.57558,\n",
            "           0.57658,     0.57758,     0.57858,     0.57958,     0.58058,     0.58158,     0.58258,     0.58358,     0.58458,     0.58559,     0.58659,     0.58759,     0.58859,     0.58959,     0.59059,     0.59159,     0.59259,     0.59359,     0.59459,      0.5956,      0.5966,      0.5976,      0.5986,      0.5996,\n",
            "            0.6006,      0.6016,      0.6026,      0.6036,      0.6046,     0.60561,     0.60661,     0.60761,     0.60861,     0.60961,     0.61061,     0.61161,     0.61261,     0.61361,     0.61461,     0.61562,     0.61662,     0.61762,     0.61862,     0.61962,     0.62062,     0.62162,     0.62262,     0.62362,\n",
            "           0.62462,     0.62563,     0.62663,     0.62763,     0.62863,     0.62963,     0.63063,     0.63163,     0.63263,     0.63363,     0.63463,     0.63564,     0.63664,     0.63764,     0.63864,     0.63964,     0.64064,     0.64164,     0.64264,     0.64364,     0.64464,     0.64565,     0.64665,     0.64765,\n",
            "           0.64865,     0.64965,     0.65065,     0.65165,     0.65265,     0.65365,     0.65465,     0.65566,     0.65666,     0.65766,     0.65866,     0.65966,     0.66066,     0.66166,     0.66266,     0.66366,     0.66466,     0.66567,     0.66667,     0.66767,     0.66867,     0.66967,     0.67067,     0.67167,\n",
            "           0.67267,     0.67367,     0.67467,     0.67568,     0.67668,     0.67768,     0.67868,     0.67968,     0.68068,     0.68168,     0.68268,     0.68368,     0.68468,     0.68569,     0.68669,     0.68769,     0.68869,     0.68969,     0.69069,     0.69169,     0.69269,     0.69369,     0.69469,      0.6957,\n",
            "            0.6967,      0.6977,      0.6987,      0.6997,      0.7007,      0.7017,      0.7027,      0.7037,      0.7047,     0.70571,     0.70671,     0.70771,     0.70871,     0.70971,     0.71071,     0.71171,     0.71271,     0.71371,     0.71471,     0.71572,     0.71672,     0.71772,     0.71872,     0.71972,\n",
            "           0.72072,     0.72172,     0.72272,     0.72372,     0.72472,     0.72573,     0.72673,     0.72773,     0.72873,     0.72973,     0.73073,     0.73173,     0.73273,     0.73373,     0.73473,     0.73574,     0.73674,     0.73774,     0.73874,     0.73974,     0.74074,     0.74174,     0.74274,     0.74374,\n",
            "           0.74474,     0.74575,     0.74675,     0.74775,     0.74875,     0.74975,     0.75075,     0.75175,     0.75275,     0.75375,     0.75475,     0.75576,     0.75676,     0.75776,     0.75876,     0.75976,     0.76076,     0.76176,     0.76276,     0.76376,     0.76476,     0.76577,     0.76677,     0.76777,\n",
            "           0.76877,     0.76977,     0.77077,     0.77177,     0.77277,     0.77377,     0.77477,     0.77578,     0.77678,     0.77778,     0.77878,     0.77978,     0.78078,     0.78178,     0.78278,     0.78378,     0.78478,     0.78579,     0.78679,     0.78779,     0.78879,     0.78979,     0.79079,     0.79179,\n",
            "           0.79279,     0.79379,     0.79479,      0.7958,      0.7968,      0.7978,      0.7988,      0.7998,      0.8008,      0.8018,      0.8028,      0.8038,      0.8048,     0.80581,     0.80681,     0.80781,     0.80881,     0.80981,     0.81081,     0.81181,     0.81281,     0.81381,     0.81481,     0.81582,\n",
            "           0.81682,     0.81782,     0.81882,     0.81982,     0.82082,     0.82182,     0.82282,     0.82382,     0.82482,     0.82583,     0.82683,     0.82783,     0.82883,     0.82983,     0.83083,     0.83183,     0.83283,     0.83383,     0.83483,     0.83584,     0.83684,     0.83784,     0.83884,     0.83984,\n",
            "           0.84084,     0.84184,     0.84284,     0.84384,     0.84484,     0.84585,     0.84685,     0.84785,     0.84885,     0.84985,     0.85085,     0.85185,     0.85285,     0.85385,     0.85485,     0.85586,     0.85686,     0.85786,     0.85886,     0.85986,     0.86086,     0.86186,     0.86286,     0.86386,\n",
            "           0.86486,     0.86587,     0.86687,     0.86787,     0.86887,     0.86987,     0.87087,     0.87187,     0.87287,     0.87387,     0.87487,     0.87588,     0.87688,     0.87788,     0.87888,     0.87988,     0.88088,     0.88188,     0.88288,     0.88388,     0.88488,     0.88589,     0.88689,     0.88789,\n",
            "           0.88889,     0.88989,     0.89089,     0.89189,     0.89289,     0.89389,     0.89489,      0.8959,      0.8969,      0.8979,      0.8989,      0.8999,      0.9009,      0.9019,      0.9029,      0.9039,      0.9049,     0.90591,     0.90691,     0.90791,     0.90891,     0.90991,     0.91091,     0.91191,\n",
            "           0.91291,     0.91391,     0.91491,     0.91592,     0.91692,     0.91792,     0.91892,     0.91992,     0.92092,     0.92192,     0.92292,     0.92392,     0.92492,     0.92593,     0.92693,     0.92793,     0.92893,     0.92993,     0.93093,     0.93193,     0.93293,     0.93393,     0.93493,     0.93594,\n",
            "           0.93694,     0.93794,     0.93894,     0.93994,     0.94094,     0.94194,     0.94294,     0.94394,     0.94494,     0.94595,     0.94695,     0.94795,     0.94895,     0.94995,     0.95095,     0.95195,     0.95295,     0.95395,     0.95495,     0.95596,     0.95696,     0.95796,     0.95896,     0.95996,\n",
            "           0.96096,     0.96196,     0.96296,     0.96396,     0.96496,     0.96597,     0.96697,     0.96797,     0.96897,     0.96997,     0.97097,     0.97197,     0.97297,     0.97397,     0.97497,     0.97598,     0.97698,     0.97798,     0.97898,     0.97998,     0.98098,     0.98198,     0.98298,     0.98398,\n",
            "           0.98498,     0.98599,     0.98699,     0.98799,     0.98899,     0.98999,     0.99099,     0.99199,     0.99299,     0.99399,     0.99499,       0.996,       0.997,       0.998,       0.999,           1]), array([[    0.27863,     0.27868,     0.33796,     0.36778,     0.38737,     0.40332,      0.4146,     0.42556,     0.43507,     0.44348,     0.45257,     0.45896,     0.46504,     0.47189,      0.4769,     0.48199,     0.48961,     0.49531,      0.5001,     0.50421,     0.50892,     0.51206,     0.51661,\n",
            "            0.52092,      0.5255,     0.52807,     0.53194,     0.53568,     0.53977,     0.54374,     0.54731,     0.55136,     0.55351,     0.55659,     0.56016,      0.5629,     0.56602,     0.56979,     0.57381,     0.57631,     0.57929,     0.58362,     0.58669,     0.58909,     0.59058,     0.59321,\n",
            "            0.59575,      0.5991,     0.60244,      0.6046,     0.60801,     0.60991,     0.61247,     0.61595,      0.6187,     0.62234,     0.62512,     0.62811,     0.63061,     0.63349,     0.63666,     0.63918,     0.64221,     0.64557,     0.64825,     0.65117,     0.65519,     0.65717,     0.65883,\n",
            "            0.66288,     0.66595,     0.66907,     0.67105,     0.67282,     0.67526,     0.67677,     0.67857,     0.68102,     0.68252,     0.68423,     0.68886,     0.69209,     0.69378,     0.69637,      0.6979,     0.70074,     0.70346,     0.70541,     0.70636,     0.70976,     0.71258,      0.7146,\n",
            "            0.71683,     0.71922,     0.72169,     0.72277,      0.7245,     0.72703,      0.7294,      0.7306,     0.73303,     0.73466,     0.73703,     0.73871,     0.74087,     0.74287,     0.74535,     0.74724,     0.74889,     0.75103,     0.75451,     0.75575,     0.75746,      0.7596,     0.76074,\n",
            "            0.76272,     0.76511,     0.76712,     0.76913,     0.76998,     0.77289,     0.77415,     0.77641,     0.77806,     0.78047,     0.78237,     0.78434,     0.78635,     0.78825,     0.79001,     0.79184,     0.79335,     0.79495,     0.79563,     0.79783,      0.7998,     0.80154,     0.80318,\n",
            "            0.80476,     0.80707,     0.80944,     0.81053,     0.81204,     0.81276,     0.81393,     0.81613,     0.81852,     0.82044,     0.82117,     0.82249,     0.82522,     0.82787,     0.82849,     0.82954,     0.83145,     0.83262,     0.83424,     0.83619,     0.83811,     0.83943,     0.84124,\n",
            "            0.84262,     0.84314,     0.84379,     0.84538,     0.84794,     0.84912,     0.85044,     0.85177,     0.85337,     0.85419,     0.85475,     0.85614,     0.85691,     0.85809,     0.85904,     0.85954,     0.86033,     0.86155,     0.86206,     0.86298,     0.86412,     0.86522,     0.86557,\n",
            "            0.86589,     0.86705,     0.86769,     0.86926,     0.87002,     0.87097,     0.87192,     0.87311,      0.8737,      0.8739,     0.87405,     0.87492,     0.87563,     0.87692,     0.87714,     0.87734,     0.87821,     0.87979,     0.88019,     0.88116,     0.88165,     0.88185,     0.88224,\n",
            "             0.8826,     0.88359,     0.88462,     0.88529,     0.88552,     0.88568,     0.88585,     0.88621,     0.88701,     0.88764,     0.88817,     0.88925,     0.88965,     0.88997,     0.89044,     0.89067,     0.89133,     0.89174,     0.89282,     0.89368,     0.89455,     0.89491,     0.89516,\n",
            "            0.89587,      0.8964,     0.89667,       0.897,     0.89764,     0.89761,     0.89857,     0.89861,     0.89878,     0.89919,     0.90036,     0.90127,      0.9017,     0.90244,     0.90242,     0.90321,     0.90371,     0.90395,     0.90428,     0.90545,     0.90564,     0.90642,     0.90725,\n",
            "            0.90808,     0.90862,     0.90905,     0.90984,     0.91032,     0.91054,     0.91089,     0.91165,     0.91227,     0.91296,     0.91316,     0.91365,     0.91384,     0.91422,      0.9144,     0.91528,     0.91552,     0.91586,     0.91653,     0.91692,     0.91713,      0.9178,     0.91839,\n",
            "            0.91945,     0.91987,     0.92095,     0.92115,     0.92147,     0.92232,     0.92286,     0.92324,     0.92352,     0.92393,     0.92451,     0.92471,     0.92557,     0.92682,     0.92686,     0.92719,     0.92773,     0.92784,     0.92782,     0.92787,     0.92807,     0.92816,     0.92814,\n",
            "            0.92807,     0.92805,     0.92836,     0.92877,     0.92899,     0.92904,     0.92914,     0.92923,     0.92932,     0.92945,     0.92965,     0.92979,     0.93003,     0.93001,        0.93,     0.92999,     0.92998,     0.92998,     0.92997,     0.92996,     0.92995,     0.92992,     0.92991,\n",
            "            0.93025,     0.93033,     0.93057,     0.93094,     0.93113,     0.93131,     0.93149,      0.9316,     0.93159,     0.93158,     0.93184,     0.93191,      0.9323,     0.93252,     0.93329,     0.93401,     0.93399,     0.93401,     0.93428,      0.9346,     0.93481,     0.93521,     0.93547,\n",
            "            0.93567,     0.93601,     0.93599,      0.9361,     0.93632,     0.93631,     0.93629,     0.93626,     0.93658,     0.93656,     0.93675,      0.9369,     0.93687,     0.93708,      0.9372,     0.93777,     0.93788,     0.93786,     0.93783,     0.93782,     0.93864,     0.93894,      0.9394,\n",
            "            0.93973,     0.93997,     0.93996,     0.94033,      0.9405,     0.94089,      0.9414,     0.94187,     0.94211,     0.94206,     0.94247,     0.94274,     0.94278,     0.94346,     0.94385,     0.94422,     0.94433,     0.94443,     0.94453,     0.94454,     0.94446,     0.94487,     0.94537,\n",
            "            0.94564,     0.94585,     0.94581,     0.94578,     0.94602,     0.94648,      0.9468,     0.94695,     0.94708,      0.9472,     0.94721,      0.9474,     0.94755,     0.94754,      0.9479,     0.94788,     0.94825,     0.94899,      0.9496,      0.9501,     0.95003,     0.95046,     0.95091,\n",
            "            0.95111,      0.9511,     0.95112,      0.9518,     0.95222,     0.95253,     0.95251,      0.9525,     0.95246,     0.95241,     0.95279,     0.95311,     0.95309,      0.9534,     0.95343,     0.95335,     0.95371,     0.95375,     0.95388,       0.954,     0.95407,      0.9544,     0.95443,\n",
            "            0.95442,      0.9544,     0.95435,     0.95433,     0.95444,     0.95463,     0.95467,     0.95514,      0.9565,     0.95652,     0.95646,     0.95665,      0.9568,     0.95753,     0.95745,     0.95744,     0.95779,     0.95894,     0.95931,     0.95968,     0.96002,     0.95998,     0.96038,\n",
            "            0.96066,     0.96109,     0.96097,     0.96131,     0.96165,     0.96159,     0.96158,     0.96177,     0.96232,     0.96229,     0.96223,       0.963,     0.96337,     0.96336,     0.96334,     0.96371,     0.96451,     0.96532,     0.96532,      0.9653,     0.96525,      0.9652,     0.96517,\n",
            "            0.96555,      0.9655,     0.96544,     0.96539,     0.96535,     0.96575,     0.96575,     0.96571,      0.9661,     0.96604,     0.96601,     0.96624,     0.96669,     0.96661,     0.96701,     0.96742,     0.96735,     0.96758,     0.96854,      0.9685,     0.96844,     0.96902,     0.96933,\n",
            "             0.9705,     0.97068,     0.97132,     0.97128,     0.97119,     0.97113,     0.97111,     0.97104,     0.97101,     0.97098,     0.97095,     0.97094,     0.97093,      0.9709,     0.97138,     0.97175,     0.97224,      0.9726,     0.97254,     0.97297,     0.97292,     0.97332,     0.97329,\n",
            "            0.97368,     0.97391,     0.97452,     0.97451,     0.97447,     0.97439,     0.97431,     0.97428,     0.97471,     0.97467,     0.97465,     0.97552,     0.97549,     0.97547,     0.97542,     0.97584,     0.97575,     0.97569,     0.97563,     0.97561,      0.9756,     0.97639,     0.97648,\n",
            "            0.97688,     0.97684,     0.97728,     0.97725,     0.97764,     0.97858,     0.97855,     0.97853,     0.97848,     0.97902,     0.97934,     0.97932,     0.97926,     0.97924,     0.97921,     0.97915,      0.9791,     0.97906,     0.97901,     0.97894,     0.97939,     0.97934,      0.9798,\n",
            "            0.97973,     0.97966,      0.9796,     0.97956,     0.98001,     0.97998,     0.98042,     0.98039,     0.98084,     0.98081,     0.98075,      0.9807,     0.98066,     0.98059,     0.98055,     0.98052,     0.98049,     0.98043,     0.98039,     0.98034,     0.98027,     0.98021,     0.98012,\n",
            "            0.98006,     0.98002,     0.98052,     0.98045,     0.98036,     0.98029,     0.98077,     0.98074,     0.98071,     0.98121,     0.98117,     0.98114,     0.98101,     0.98099,     0.98093,     0.98089,     0.98098,     0.98196,     0.98187,     0.98236,     0.98228,     0.98222,     0.98217,\n",
            "            0.98264,     0.98262,     0.98312,     0.98307,     0.98303,     0.98299,     0.98292,     0.98285,     0.98279,     0.98274,     0.98262,     0.98258,      0.9825,     0.98406,     0.98536,     0.98532,     0.98525,     0.98519,     0.98572,     0.98567,     0.98624,      0.9862,     0.98613,\n",
            "            0.98609,     0.98603,     0.98662,     0.98657,     0.98649,     0.98644,     0.98702,     0.98696,     0.98693,     0.98688,     0.98748,     0.98741,     0.98734,     0.98723,     0.98715,     0.98708,      0.9877,     0.98765,     0.98762,     0.98753,     0.98747,     0.98736,     0.98729,\n",
            "            0.98793,     0.98786,     0.98851,     0.98843,     0.98838,     0.98903,     0.98898,      0.9889,     0.98886,      0.9888,     0.98873,     0.98864,     0.98851,     0.98841,     0.98832,     0.98826,     0.98814,     0.98804,     0.98793,     0.98782,     0.98843,     0.98845,     0.98923,\n",
            "            0.98912,     0.98903,     0.99063,     0.99058,     0.99047,     0.99041,     0.99036,     0.99031,     0.99027,     0.99108,     0.99105,     0.99099,     0.99086,     0.99075,      0.9907,     0.99062,     0.99054,     0.99046,      0.9904,     0.99033,     0.99027,     0.99021,     0.99013,\n",
            "               0.99,     0.98992,     0.98979,     0.98967,     0.98958,     0.99048,     0.99036,      0.9902,     0.99006,     0.98995,     0.98984,     0.98971,     0.98961,     0.98952,     0.98938,     0.98927,     0.98913,     0.98903,     0.98893,     0.98884,     0.98869,     0.98858,     0.98961,\n",
            "            0.99072,     0.99199,     0.99188,     0.99171,     0.99161,     0.99146,     0.99137,     0.99122,     0.99111,     0.99095,     0.99234,     0.99223,     0.99217,     0.99521,     0.99514,     0.99506,     0.99497,     0.99486,     0.99474,     0.99461,     0.99631,     0.99622,     0.99618,\n",
            "            0.99601,     0.99591,     0.99585,     0.99578,     0.99564,     0.99553,     0.99545,     0.99537,      0.9953,     0.99517,      0.9951,     0.99493,     0.99474,     0.99457,     0.99447,     0.99428,     0.99705,     0.99698,     0.99688,     0.99675,     0.99658,     0.99652,     0.99643,\n",
            "            0.99637,     0.99628,     0.99623,     0.99613,     0.99594,     0.99579,     0.99563,     0.99549,     0.99533,     0.99522,     0.99487,     0.99457,     0.99448,     0.99423,     0.99392,     0.99346,     0.99317,     0.99295,      0.9926,     0.99217,     0.99183,     0.99145,     0.99093,\n",
            "            0.99021,     0.98924,     0.98869,     0.98821,     0.98712,     0.98585,     0.98487,     0.98263,     0.98703,           1,           1,           1,           1,           1,           1,           1,           1,           1,           1,           1,           1,           1,           1,\n",
            "                  1,           1,           1,           1,           1,           1,           1,           1,           1,           1,           1,           1,           1,           1,           1,           1,           1,           1,           1,           1,           1,           1,           1,\n",
            "                  1,           1,           1,           1,           1,           1,           1,           1,           1,           1,           1,           1,           1,           1,           1,           1,           1,           1,           1,           1,           1,           1,           1,\n",
            "                  1,           1,           1,           1,           1,           1,           1,           1,           1,           1,           1,           1,           1,           1,           1,           1,           1,           1,           1,           1,           1,           1,           1,\n",
            "                  1,           1,           1,           1,           1,           1,           1,           1,           1,           1,           1,           1,           1,           1,           1,           1,           1,           1,           1,           1,           1,           1,           1,\n",
            "                  1,           1,           1,           1,           1,           1,           1,           1,           1,           1,           1,           1,           1,           1,           1,           1,           1,           1,           1,           1,           1,           1,           1,\n",
            "                  1,           1,           1,           1,           1,           1,           1,           1,           1,           1,           1,           1,           1,           1,           1,           1,           1,           1,           1,           1,           1,           1,           1,\n",
            "                  1,           1,           1,           1,           1,           1,           1,           1,           1,           1,           1,           1,           1,           1,           1,           1,           1,           1,           1,           1,           1,           1,           1,\n",
            "                  1,           1,           1,           1,           1,           1,           1,           1,           1,           1,           1]]), 'Confidence', 'Precision'], [array([          0,    0.001001,    0.002002,    0.003003,    0.004004,    0.005005,    0.006006,    0.007007,    0.008008,    0.009009,     0.01001,    0.011011,    0.012012,    0.013013,    0.014014,    0.015015,    0.016016,    0.017017,    0.018018,    0.019019,     0.02002,    0.021021,    0.022022,    0.023023,\n",
            "          0.024024,    0.025025,    0.026026,    0.027027,    0.028028,    0.029029,     0.03003,    0.031031,    0.032032,    0.033033,    0.034034,    0.035035,    0.036036,    0.037037,    0.038038,    0.039039,     0.04004,    0.041041,    0.042042,    0.043043,    0.044044,    0.045045,    0.046046,    0.047047,\n",
            "          0.048048,    0.049049,     0.05005,    0.051051,    0.052052,    0.053053,    0.054054,    0.055055,    0.056056,    0.057057,    0.058058,    0.059059,     0.06006,    0.061061,    0.062062,    0.063063,    0.064064,    0.065065,    0.066066,    0.067067,    0.068068,    0.069069,     0.07007,    0.071071,\n",
            "          0.072072,    0.073073,    0.074074,    0.075075,    0.076076,    0.077077,    0.078078,    0.079079,     0.08008,    0.081081,    0.082082,    0.083083,    0.084084,    0.085085,    0.086086,    0.087087,    0.088088,    0.089089,     0.09009,    0.091091,    0.092092,    0.093093,    0.094094,    0.095095,\n",
            "          0.096096,    0.097097,    0.098098,    0.099099,      0.1001,      0.1011,      0.1021,      0.1031,      0.1041,     0.10511,     0.10611,     0.10711,     0.10811,     0.10911,     0.11011,     0.11111,     0.11211,     0.11311,     0.11411,     0.11512,     0.11612,     0.11712,     0.11812,     0.11912,\n",
            "           0.12012,     0.12112,     0.12212,     0.12312,     0.12412,     0.12513,     0.12613,     0.12713,     0.12813,     0.12913,     0.13013,     0.13113,     0.13213,     0.13313,     0.13413,     0.13514,     0.13614,     0.13714,     0.13814,     0.13914,     0.14014,     0.14114,     0.14214,     0.14314,\n",
            "           0.14414,     0.14515,     0.14615,     0.14715,     0.14815,     0.14915,     0.15015,     0.15115,     0.15215,     0.15315,     0.15415,     0.15516,     0.15616,     0.15716,     0.15816,     0.15916,     0.16016,     0.16116,     0.16216,     0.16316,     0.16416,     0.16517,     0.16617,     0.16717,\n",
            "           0.16817,     0.16917,     0.17017,     0.17117,     0.17217,     0.17317,     0.17417,     0.17518,     0.17618,     0.17718,     0.17818,     0.17918,     0.18018,     0.18118,     0.18218,     0.18318,     0.18418,     0.18519,     0.18619,     0.18719,     0.18819,     0.18919,     0.19019,     0.19119,\n",
            "           0.19219,     0.19319,     0.19419,      0.1952,      0.1962,      0.1972,      0.1982,      0.1992,      0.2002,      0.2012,      0.2022,      0.2032,      0.2042,     0.20521,     0.20621,     0.20721,     0.20821,     0.20921,     0.21021,     0.21121,     0.21221,     0.21321,     0.21421,     0.21522,\n",
            "           0.21622,     0.21722,     0.21822,     0.21922,     0.22022,     0.22122,     0.22222,     0.22322,     0.22422,     0.22523,     0.22623,     0.22723,     0.22823,     0.22923,     0.23023,     0.23123,     0.23223,     0.23323,     0.23423,     0.23524,     0.23624,     0.23724,     0.23824,     0.23924,\n",
            "           0.24024,     0.24124,     0.24224,     0.24324,     0.24424,     0.24525,     0.24625,     0.24725,     0.24825,     0.24925,     0.25025,     0.25125,     0.25225,     0.25325,     0.25425,     0.25526,     0.25626,     0.25726,     0.25826,     0.25926,     0.26026,     0.26126,     0.26226,     0.26326,\n",
            "           0.26426,     0.26527,     0.26627,     0.26727,     0.26827,     0.26927,     0.27027,     0.27127,     0.27227,     0.27327,     0.27427,     0.27528,     0.27628,     0.27728,     0.27828,     0.27928,     0.28028,     0.28128,     0.28228,     0.28328,     0.28428,     0.28529,     0.28629,     0.28729,\n",
            "           0.28829,     0.28929,     0.29029,     0.29129,     0.29229,     0.29329,     0.29429,      0.2953,      0.2963,      0.2973,      0.2983,      0.2993,      0.3003,      0.3013,      0.3023,      0.3033,      0.3043,     0.30531,     0.30631,     0.30731,     0.30831,     0.30931,     0.31031,     0.31131,\n",
            "           0.31231,     0.31331,     0.31431,     0.31532,     0.31632,     0.31732,     0.31832,     0.31932,     0.32032,     0.32132,     0.32232,     0.32332,     0.32432,     0.32533,     0.32633,     0.32733,     0.32833,     0.32933,     0.33033,     0.33133,     0.33233,     0.33333,     0.33433,     0.33534,\n",
            "           0.33634,     0.33734,     0.33834,     0.33934,     0.34034,     0.34134,     0.34234,     0.34334,     0.34434,     0.34535,     0.34635,     0.34735,     0.34835,     0.34935,     0.35035,     0.35135,     0.35235,     0.35335,     0.35435,     0.35536,     0.35636,     0.35736,     0.35836,     0.35936,\n",
            "           0.36036,     0.36136,     0.36236,     0.36336,     0.36436,     0.36537,     0.36637,     0.36737,     0.36837,     0.36937,     0.37037,     0.37137,     0.37237,     0.37337,     0.37437,     0.37538,     0.37638,     0.37738,     0.37838,     0.37938,     0.38038,     0.38138,     0.38238,     0.38338,\n",
            "           0.38438,     0.38539,     0.38639,     0.38739,     0.38839,     0.38939,     0.39039,     0.39139,     0.39239,     0.39339,     0.39439,      0.3954,      0.3964,      0.3974,      0.3984,      0.3994,      0.4004,      0.4014,      0.4024,      0.4034,      0.4044,     0.40541,     0.40641,     0.40741,\n",
            "           0.40841,     0.40941,     0.41041,     0.41141,     0.41241,     0.41341,     0.41441,     0.41542,     0.41642,     0.41742,     0.41842,     0.41942,     0.42042,     0.42142,     0.42242,     0.42342,     0.42442,     0.42543,     0.42643,     0.42743,     0.42843,     0.42943,     0.43043,     0.43143,\n",
            "           0.43243,     0.43343,     0.43443,     0.43544,     0.43644,     0.43744,     0.43844,     0.43944,     0.44044,     0.44144,     0.44244,     0.44344,     0.44444,     0.44545,     0.44645,     0.44745,     0.44845,     0.44945,     0.45045,     0.45145,     0.45245,     0.45345,     0.45445,     0.45546,\n",
            "           0.45646,     0.45746,     0.45846,     0.45946,     0.46046,     0.46146,     0.46246,     0.46346,     0.46446,     0.46547,     0.46647,     0.46747,     0.46847,     0.46947,     0.47047,     0.47147,     0.47247,     0.47347,     0.47447,     0.47548,     0.47648,     0.47748,     0.47848,     0.47948,\n",
            "           0.48048,     0.48148,     0.48248,     0.48348,     0.48448,     0.48549,     0.48649,     0.48749,     0.48849,     0.48949,     0.49049,     0.49149,     0.49249,     0.49349,     0.49449,      0.4955,      0.4965,      0.4975,      0.4985,      0.4995,      0.5005,      0.5015,      0.5025,      0.5035,\n",
            "            0.5045,     0.50551,     0.50651,     0.50751,     0.50851,     0.50951,     0.51051,     0.51151,     0.51251,     0.51351,     0.51451,     0.51552,     0.51652,     0.51752,     0.51852,     0.51952,     0.52052,     0.52152,     0.52252,     0.52352,     0.52452,     0.52553,     0.52653,     0.52753,\n",
            "           0.52853,     0.52953,     0.53053,     0.53153,     0.53253,     0.53353,     0.53453,     0.53554,     0.53654,     0.53754,     0.53854,     0.53954,     0.54054,     0.54154,     0.54254,     0.54354,     0.54454,     0.54555,     0.54655,     0.54755,     0.54855,     0.54955,     0.55055,     0.55155,\n",
            "           0.55255,     0.55355,     0.55455,     0.55556,     0.55656,     0.55756,     0.55856,     0.55956,     0.56056,     0.56156,     0.56256,     0.56356,     0.56456,     0.56557,     0.56657,     0.56757,     0.56857,     0.56957,     0.57057,     0.57157,     0.57257,     0.57357,     0.57457,     0.57558,\n",
            "           0.57658,     0.57758,     0.57858,     0.57958,     0.58058,     0.58158,     0.58258,     0.58358,     0.58458,     0.58559,     0.58659,     0.58759,     0.58859,     0.58959,     0.59059,     0.59159,     0.59259,     0.59359,     0.59459,      0.5956,      0.5966,      0.5976,      0.5986,      0.5996,\n",
            "            0.6006,      0.6016,      0.6026,      0.6036,      0.6046,     0.60561,     0.60661,     0.60761,     0.60861,     0.60961,     0.61061,     0.61161,     0.61261,     0.61361,     0.61461,     0.61562,     0.61662,     0.61762,     0.61862,     0.61962,     0.62062,     0.62162,     0.62262,     0.62362,\n",
            "           0.62462,     0.62563,     0.62663,     0.62763,     0.62863,     0.62963,     0.63063,     0.63163,     0.63263,     0.63363,     0.63463,     0.63564,     0.63664,     0.63764,     0.63864,     0.63964,     0.64064,     0.64164,     0.64264,     0.64364,     0.64464,     0.64565,     0.64665,     0.64765,\n",
            "           0.64865,     0.64965,     0.65065,     0.65165,     0.65265,     0.65365,     0.65465,     0.65566,     0.65666,     0.65766,     0.65866,     0.65966,     0.66066,     0.66166,     0.66266,     0.66366,     0.66466,     0.66567,     0.66667,     0.66767,     0.66867,     0.66967,     0.67067,     0.67167,\n",
            "           0.67267,     0.67367,     0.67467,     0.67568,     0.67668,     0.67768,     0.67868,     0.67968,     0.68068,     0.68168,     0.68268,     0.68368,     0.68468,     0.68569,     0.68669,     0.68769,     0.68869,     0.68969,     0.69069,     0.69169,     0.69269,     0.69369,     0.69469,      0.6957,\n",
            "            0.6967,      0.6977,      0.6987,      0.6997,      0.7007,      0.7017,      0.7027,      0.7037,      0.7047,     0.70571,     0.70671,     0.70771,     0.70871,     0.70971,     0.71071,     0.71171,     0.71271,     0.71371,     0.71471,     0.71572,     0.71672,     0.71772,     0.71872,     0.71972,\n",
            "           0.72072,     0.72172,     0.72272,     0.72372,     0.72472,     0.72573,     0.72673,     0.72773,     0.72873,     0.72973,     0.73073,     0.73173,     0.73273,     0.73373,     0.73473,     0.73574,     0.73674,     0.73774,     0.73874,     0.73974,     0.74074,     0.74174,     0.74274,     0.74374,\n",
            "           0.74474,     0.74575,     0.74675,     0.74775,     0.74875,     0.74975,     0.75075,     0.75175,     0.75275,     0.75375,     0.75475,     0.75576,     0.75676,     0.75776,     0.75876,     0.75976,     0.76076,     0.76176,     0.76276,     0.76376,     0.76476,     0.76577,     0.76677,     0.76777,\n",
            "           0.76877,     0.76977,     0.77077,     0.77177,     0.77277,     0.77377,     0.77477,     0.77578,     0.77678,     0.77778,     0.77878,     0.77978,     0.78078,     0.78178,     0.78278,     0.78378,     0.78478,     0.78579,     0.78679,     0.78779,     0.78879,     0.78979,     0.79079,     0.79179,\n",
            "           0.79279,     0.79379,     0.79479,      0.7958,      0.7968,      0.7978,      0.7988,      0.7998,      0.8008,      0.8018,      0.8028,      0.8038,      0.8048,     0.80581,     0.80681,     0.80781,     0.80881,     0.80981,     0.81081,     0.81181,     0.81281,     0.81381,     0.81481,     0.81582,\n",
            "           0.81682,     0.81782,     0.81882,     0.81982,     0.82082,     0.82182,     0.82282,     0.82382,     0.82482,     0.82583,     0.82683,     0.82783,     0.82883,     0.82983,     0.83083,     0.83183,     0.83283,     0.83383,     0.83483,     0.83584,     0.83684,     0.83784,     0.83884,     0.83984,\n",
            "           0.84084,     0.84184,     0.84284,     0.84384,     0.84484,     0.84585,     0.84685,     0.84785,     0.84885,     0.84985,     0.85085,     0.85185,     0.85285,     0.85385,     0.85485,     0.85586,     0.85686,     0.85786,     0.85886,     0.85986,     0.86086,     0.86186,     0.86286,     0.86386,\n",
            "           0.86486,     0.86587,     0.86687,     0.86787,     0.86887,     0.86987,     0.87087,     0.87187,     0.87287,     0.87387,     0.87487,     0.87588,     0.87688,     0.87788,     0.87888,     0.87988,     0.88088,     0.88188,     0.88288,     0.88388,     0.88488,     0.88589,     0.88689,     0.88789,\n",
            "           0.88889,     0.88989,     0.89089,     0.89189,     0.89289,     0.89389,     0.89489,      0.8959,      0.8969,      0.8979,      0.8989,      0.8999,      0.9009,      0.9019,      0.9029,      0.9039,      0.9049,     0.90591,     0.90691,     0.90791,     0.90891,     0.90991,     0.91091,     0.91191,\n",
            "           0.91291,     0.91391,     0.91491,     0.91592,     0.91692,     0.91792,     0.91892,     0.91992,     0.92092,     0.92192,     0.92292,     0.92392,     0.92492,     0.92593,     0.92693,     0.92793,     0.92893,     0.92993,     0.93093,     0.93193,     0.93293,     0.93393,     0.93493,     0.93594,\n",
            "           0.93694,     0.93794,     0.93894,     0.93994,     0.94094,     0.94194,     0.94294,     0.94394,     0.94494,     0.94595,     0.94695,     0.94795,     0.94895,     0.94995,     0.95095,     0.95195,     0.95295,     0.95395,     0.95495,     0.95596,     0.95696,     0.95796,     0.95896,     0.95996,\n",
            "           0.96096,     0.96196,     0.96296,     0.96396,     0.96496,     0.96597,     0.96697,     0.96797,     0.96897,     0.96997,     0.97097,     0.97197,     0.97297,     0.97397,     0.97497,     0.97598,     0.97698,     0.97798,     0.97898,     0.97998,     0.98098,     0.98198,     0.98298,     0.98398,\n",
            "           0.98498,     0.98599,     0.98699,     0.98799,     0.98899,     0.98999,     0.99099,     0.99199,     0.99299,     0.99399,     0.99499,       0.996,       0.997,       0.998,       0.999,           1]), array([[    0.99806,     0.99806,     0.99689,     0.99573,     0.99573,     0.99573,     0.99417,     0.99417,     0.99417,      0.9934,      0.9934,     0.99301,     0.99262,     0.99262,     0.99223,     0.99223,     0.99223,     0.99223,     0.99223,     0.99223,     0.99184,     0.99184,     0.99106,\n",
            "            0.99106,     0.99106,     0.99106,     0.99106,     0.99106,     0.99106,     0.99106,     0.99106,     0.99106,     0.99106,     0.99106,     0.99068,     0.99068,     0.99068,     0.99029,     0.99029,     0.99029,     0.99029,     0.98999,     0.98951,     0.98951,     0.98951,     0.98951,\n",
            "            0.98951,     0.98951,     0.98912,     0.98912,     0.98885,     0.98873,     0.98873,     0.98873,     0.98834,     0.98834,     0.98796,     0.98679,     0.98601,     0.98601,     0.98563,     0.98563,     0.98563,     0.98563,     0.98563,     0.98563,     0.98563,     0.98524,     0.98485,\n",
            "            0.98485,     0.98438,     0.98407,     0.98407,     0.98407,     0.98407,     0.98342,     0.98329,     0.98329,     0.98329,     0.98329,     0.98329,     0.98252,     0.98252,     0.98252,     0.98252,     0.98252,     0.98213,     0.98213,     0.98213,     0.98213,     0.98213,     0.98213,\n",
            "            0.98174,     0.98174,     0.98174,     0.98174,     0.98135,     0.98096,     0.98096,     0.98096,     0.98096,     0.98096,     0.98096,     0.98096,     0.98096,     0.98096,     0.98096,     0.98057,     0.98057,     0.98057,      0.9798,     0.97941,     0.97915,     0.97863,     0.97863,\n",
            "            0.97824,     0.97786,     0.97786,     0.97786,     0.97747,     0.97747,     0.97708,     0.97708,     0.97708,     0.97708,     0.97708,     0.97669,     0.97669,     0.97669,     0.97669,     0.97591,     0.97552,     0.97552,     0.97514,     0.97514,     0.97514,     0.97514,     0.97514,\n",
            "            0.97514,     0.97475,     0.97475,     0.97475,     0.97475,     0.97475,     0.97475,     0.97475,     0.97475,     0.97455,     0.97436,     0.97436,     0.97436,     0.97436,     0.97436,     0.97436,     0.97436,     0.97405,     0.97397,     0.97397,     0.97397,     0.97288,     0.97203,\n",
            "            0.97164,     0.97164,     0.97164,     0.97164,     0.97164,     0.97164,     0.97125,     0.97125,     0.97125,     0.97125,     0.97125,     0.97104,     0.97086,     0.97047,     0.97009,     0.96999,     0.96931,     0.96892,     0.96873,     0.96853,     0.96814,     0.96814,     0.96814,\n",
            "            0.96814,     0.96814,     0.96814,     0.96814,     0.96814,     0.96814,     0.96814,     0.96775,     0.96754,     0.96661,      0.9662,     0.96581,     0.96542,     0.96542,     0.96542,     0.96421,     0.96366,     0.96348,     0.96348,     0.96348,     0.96348,     0.96348,     0.96348,\n",
            "            0.96348,     0.96348,     0.96348,     0.96348,     0.96348,     0.96348,     0.96309,     0.96309,     0.96309,     0.96309,     0.96309,     0.96309,     0.96309,     0.96309,     0.96309,     0.96309,     0.96309,      0.9627,      0.9627,     0.96232,     0.96232,     0.96232,     0.96199,\n",
            "            0.96154,     0.96142,     0.96115,     0.96076,     0.96072,     0.96048,     0.96022,     0.95998,     0.95998,     0.95992,      0.9596,      0.9596,      0.9596,      0.9595,     0.95928,     0.95921,     0.95897,     0.95882,     0.95882,     0.95882,     0.95832,     0.95804,     0.95804,\n",
            "            0.95765,     0.95765,     0.95765,     0.95765,     0.95726,     0.95726,     0.95703,     0.95688,     0.95688,     0.95688,     0.95688,     0.95688,     0.95688,     0.95688,      0.9561,      0.9561,      0.9561,     0.95571,     0.95556,     0.95532,     0.95532,     0.95532,     0.95532,\n",
            "            0.95455,     0.95455,     0.95455,     0.95455,     0.95455,     0.95455,     0.95455,     0.95455,     0.95455,     0.95455,     0.95455,     0.95455,     0.95455,     0.95449,     0.95416,     0.95416,     0.95416,     0.95405,     0.95389,     0.95377,     0.95377,     0.95365,     0.95342,\n",
            "            0.95243,     0.95209,     0.95157,     0.95144,     0.95144,     0.95105,     0.95105,     0.95105,     0.95105,     0.95105,     0.95105,     0.95027,     0.95009,     0.94984,     0.94971,     0.94957,     0.94945,     0.94936,     0.94928,     0.94919,     0.94906,     0.94861,     0.94838,\n",
            "            0.94821,     0.94794,     0.94773,     0.94716,     0.94716,     0.94716,     0.94716,     0.94711,     0.94696,     0.94681,     0.94678,     0.94641,       0.946,       0.946,       0.946,     0.94581,     0.94548,     0.94522,     0.94447,     0.94385,     0.94367,     0.94367,     0.94367,\n",
            "            0.94367,     0.94339,     0.94309,     0.94289,     0.94248,     0.94231,     0.94213,     0.94153,     0.94085,     0.94062,     0.94056,     0.94026,     0.93977,     0.93939,     0.93922,     0.93901,     0.93845,     0.93818,     0.93772,     0.93746,     0.93745,     0.93745,     0.93745,\n",
            "            0.93706,      0.9369,     0.93673,     0.93629,     0.93629,     0.93629,     0.93619,      0.9359,      0.9358,     0.93487,     0.93473,     0.93473,     0.93448,     0.93356,     0.93318,     0.93318,     0.93318,     0.93318,     0.93318,     0.93285,     0.93157,     0.93124,     0.93046,\n",
            "            0.93007,      0.9297,     0.92894,     0.92835,     0.92813,     0.92744,     0.92735,     0.92735,     0.92735,     0.92735,     0.92715,     0.92657,     0.92641,     0.92621,     0.92603,     0.92554,     0.92541,     0.92517,     0.92502,     0.92454,      0.9232,     0.92269,     0.92269,\n",
            "            0.92269,      0.9219,     0.92113,     0.92052,     0.91997,     0.91997,     0.91945,     0.91922,     0.91852,     0.91748,     0.91686,     0.91603,     0.91572,     0.91531,     0.91463,     0.91311,     0.91243,      0.9122,      0.9122,      0.9122,     0.91191,     0.91181,     0.91125,\n",
            "            0.91105,     0.91068,     0.90976,     0.90928,      0.9087,      0.9087,     0.90813,     0.90715,     0.90715,     0.90598,     0.90464,     0.90443,      0.9035,     0.90221,     0.90052,      0.9002,     0.89925,     0.89836,     0.89756,     0.89687,     0.89565,     0.89475,     0.89316,\n",
            "            0.89316,     0.89254,     0.88958,     0.88817,     0.88651,     0.88502,     0.88474,     0.88423,     0.88301,     0.88223,     0.88082,     0.87982,     0.87873,     0.87853,       0.878,     0.87699,     0.87622,     0.87598,     0.87582,     0.87534,     0.87416,     0.87269,     0.87141,\n",
            "            0.87116,     0.86991,     0.86812,     0.86693,     0.86586,     0.86549,     0.86531,     0.86437,     0.86402,     0.86197,     0.86135,     0.85859,     0.85687,     0.85463,     0.85396,     0.85358,     0.85183,      0.8512,     0.84913,     0.84803,     0.84633,     0.84577,     0.84499,\n",
            "            0.84342,     0.84305,     0.84221,     0.84082,     0.83811,      0.8364,     0.83573,     0.83371,     0.83267,     0.83189,     0.83091,     0.83064,     0.83036,     0.82966,     0.82906,     0.82857,     0.82789,     0.82739,     0.82562,     0.82496,     0.82344,     0.82202,     0.82099,\n",
            "            0.81927,     0.81818,      0.8174,     0.81685,     0.81572,       0.813,     0.81041,      0.8094,     0.80862,     0.80713,     0.80665,     0.80511,      0.8042,     0.80349,      0.8018,     0.80036,     0.79717,     0.79517,     0.79311,     0.79256,     0.79228,     0.79215,      0.7904,\n",
            "            0.78802,     0.78643,     0.78541,     0.78452,     0.78143,     0.78088,        0.78,     0.77908,     0.77732,     0.77506,     0.77364,     0.77265,     0.77061,     0.76965,     0.76851,     0.76617,     0.76437,     0.76285,     0.76103,     0.75855,     0.75697,     0.75498,     0.75384,\n",
            "            0.75116,     0.74853,     0.74619,     0.74475,     0.74275,     0.74162,     0.73928,     0.73797,     0.73589,     0.73469,     0.73252,     0.73043,     0.72869,     0.72603,     0.72461,     0.72341,     0.72226,     0.72012,     0.71848,      0.7168,     0.71414,     0.71188,     0.70873,\n",
            "            0.70653,     0.70505,     0.70402,     0.70141,     0.69802,     0.69568,     0.69352,     0.69249,     0.69125,     0.68983,     0.68823,     0.68711,     0.68254,     0.68152,     0.67934,     0.67784,     0.67716,     0.67661,     0.67337,     0.67058,     0.66743,     0.66521,      0.6634,\n",
            "            0.65959,     0.65881,       0.656,      0.6541,     0.65258,      0.6511,     0.64829,     0.64562,     0.64347,      0.6415,     0.63688,     0.63561,     0.63263,     0.62976,     0.62771,     0.62568,     0.62279,     0.62018,       0.617,     0.61444,     0.61255,     0.61059,     0.60771,\n",
            "            0.60583,      0.6032,     0.60165,     0.59918,     0.59593,     0.59332,     0.59068,      0.5879,      0.5866,     0.58456,     0.58214,     0.57902,     0.57555,     0.57072,     0.56691,     0.56396,     0.56154,      0.5594,     0.55799,     0.55392,     0.55092,     0.54603,     0.54313,\n",
            "             0.5404,     0.53748,     0.53485,     0.53104,      0.5289,     0.52517,     0.52295,     0.51924,     0.51742,     0.51459,     0.51117,     0.50708,      0.5013,     0.49683,     0.49326,     0.49038,      0.4855,     0.48137,     0.47714,     0.47247,      0.4697,     0.46537,     0.46382,\n",
            "            0.45898,     0.45537,     0.45187,     0.44953,     0.44398,      0.4412,     0.43894,     0.43673,     0.43512,     0.43184,     0.43011,     0.42731,     0.42132,     0.41605,     0.41375,     0.41029,     0.40682,     0.40342,     0.40083,     0.39795,     0.39544,      0.3931,     0.38959,\n",
            "            0.38478,     0.38148,     0.37681,     0.37202,     0.36912,     0.36392,      0.3592,     0.35343,     0.34825,     0.34435,      0.3407,     0.33624,     0.33311,     0.33014,     0.32579,     0.32231,     0.31813,     0.31528,     0.31245,      0.3099,     0.30557,     0.30272,     0.29607,\n",
            "            0.29042,      0.2887,     0.28467,     0.27886,     0.27561,     0.27072,      0.2677,      0.2632,     0.25986,     0.25533,     0.25162,     0.24817,     0.24604,       0.242,     0.23883,     0.23478,     0.23063,     0.22548,     0.22048,     0.21504,     0.20962,     0.20501,     0.20247,\n",
            "             0.1941,      0.1893,     0.18627,     0.18334,     0.17764,     0.17323,     0.17001,     0.16707,     0.16447,     0.15998,      0.1578,     0.15235,     0.14708,     0.14242,     0.13968,     0.13507,     0.13151,     0.12816,     0.12404,      0.1191,      0.1133,     0.11125,     0.10844,\n",
            "            0.10651,     0.10418,     0.10254,     0.10002,    0.095379,    0.091863,    0.088475,    0.085816,    0.082877,    0.080909,    0.075329,    0.071095,    0.069994,    0.066974,    0.063523,       0.059,    0.056488,    0.054699,    0.052137,    0.049233,    0.047163,    0.045057,    0.042434,\n",
            "           0.039302,     0.03572,    0.033969,    0.032575,    0.029778,    0.027071,     0.02529,    0.021973,    0.021368,    0.019372,    0.018388,      0.0173,    0.016484,    0.015991,    0.015268,    0.014397,    0.013495,    0.012036,    0.011835,     0.01159,    0.010634,    0.010152,   0.0088324,\n",
            "          0.0085489,   0.0074842,    0.006976,   0.0060871,   0.0053657,   0.0052678,     0.00517,   0.0050722,   0.0046753,   0.0038151,   0.0029219,   0.0022719,   0.0020567,   0.0018191,   0.0015562,   0.0010982,  0.00099049,  0.00088277,  0.00077422,  0.00062012,  0.00046601,           0,           0,\n",
            "                  0,           0,           0,           0,           0,           0,           0,           0,           0,           0,           0,           0,           0,           0,           0,           0,           0,           0,           0,           0,           0,           0,           0,\n",
            "                  0,           0,           0,           0,           0,           0,           0,           0,           0,           0,           0,           0,           0,           0,           0,           0,           0,           0,           0,           0,           0,           0,           0,\n",
            "                  0,           0,           0,           0,           0,           0,           0,           0,           0,           0,           0,           0,           0,           0,           0,           0,           0,           0,           0,           0,           0,           0,           0,\n",
            "                  0,           0,           0,           0,           0,           0,           0,           0,           0,           0,           0,           0,           0,           0,           0,           0,           0,           0,           0,           0,           0,           0,           0,\n",
            "                  0,           0,           0,           0,           0,           0,           0,           0,           0,           0,           0,           0,           0,           0,           0,           0,           0,           0,           0,           0,           0,           0,           0,\n",
            "                  0,           0,           0,           0,           0,           0,           0,           0,           0,           0,           0,           0,           0,           0,           0,           0,           0,           0,           0,           0,           0,           0,           0,\n",
            "                  0,           0,           0,           0,           0,           0,           0,           0,           0,           0,           0]]), 'Confidence', 'Recall'], [array([          0,    0.001001,    0.002002,    0.003003,    0.004004,    0.005005,    0.006006,    0.007007,    0.008008,    0.009009,     0.01001,    0.011011,    0.012012,    0.013013,    0.014014,    0.015015,    0.016016,    0.017017,    0.018018,    0.019019,     0.02002,    0.021021,    0.022022,    0.023023,\n",
            "          0.024024,    0.025025,    0.026026,    0.027027,    0.028028,    0.029029,     0.03003,    0.031031,    0.032032,    0.033033,    0.034034,    0.035035,    0.036036,    0.037037,    0.038038,    0.039039,     0.04004,    0.041041,    0.042042,    0.043043,    0.044044,    0.045045,    0.046046,    0.047047,\n",
            "          0.048048,    0.049049,     0.05005,    0.051051,    0.052052,    0.053053,    0.054054,    0.055055,    0.056056,    0.057057,    0.058058,    0.059059,     0.06006,    0.061061,    0.062062,    0.063063,    0.064064,    0.065065,    0.066066,    0.067067,    0.068068,    0.069069,     0.07007,    0.071071,\n",
            "          0.072072,    0.073073,    0.074074,    0.075075,    0.076076,    0.077077,    0.078078,    0.079079,     0.08008,    0.081081,    0.082082,    0.083083,    0.084084,    0.085085,    0.086086,    0.087087,    0.088088,    0.089089,     0.09009,    0.091091,    0.092092,    0.093093,    0.094094,    0.095095,\n",
            "          0.096096,    0.097097,    0.098098,    0.099099,      0.1001,      0.1011,      0.1021,      0.1031,      0.1041,     0.10511,     0.10611,     0.10711,     0.10811,     0.10911,     0.11011,     0.11111,     0.11211,     0.11311,     0.11411,     0.11512,     0.11612,     0.11712,     0.11812,     0.11912,\n",
            "           0.12012,     0.12112,     0.12212,     0.12312,     0.12412,     0.12513,     0.12613,     0.12713,     0.12813,     0.12913,     0.13013,     0.13113,     0.13213,     0.13313,     0.13413,     0.13514,     0.13614,     0.13714,     0.13814,     0.13914,     0.14014,     0.14114,     0.14214,     0.14314,\n",
            "           0.14414,     0.14515,     0.14615,     0.14715,     0.14815,     0.14915,     0.15015,     0.15115,     0.15215,     0.15315,     0.15415,     0.15516,     0.15616,     0.15716,     0.15816,     0.15916,     0.16016,     0.16116,     0.16216,     0.16316,     0.16416,     0.16517,     0.16617,     0.16717,\n",
            "           0.16817,     0.16917,     0.17017,     0.17117,     0.17217,     0.17317,     0.17417,     0.17518,     0.17618,     0.17718,     0.17818,     0.17918,     0.18018,     0.18118,     0.18218,     0.18318,     0.18418,     0.18519,     0.18619,     0.18719,     0.18819,     0.18919,     0.19019,     0.19119,\n",
            "           0.19219,     0.19319,     0.19419,      0.1952,      0.1962,      0.1972,      0.1982,      0.1992,      0.2002,      0.2012,      0.2022,      0.2032,      0.2042,     0.20521,     0.20621,     0.20721,     0.20821,     0.20921,     0.21021,     0.21121,     0.21221,     0.21321,     0.21421,     0.21522,\n",
            "           0.21622,     0.21722,     0.21822,     0.21922,     0.22022,     0.22122,     0.22222,     0.22322,     0.22422,     0.22523,     0.22623,     0.22723,     0.22823,     0.22923,     0.23023,     0.23123,     0.23223,     0.23323,     0.23423,     0.23524,     0.23624,     0.23724,     0.23824,     0.23924,\n",
            "           0.24024,     0.24124,     0.24224,     0.24324,     0.24424,     0.24525,     0.24625,     0.24725,     0.24825,     0.24925,     0.25025,     0.25125,     0.25225,     0.25325,     0.25425,     0.25526,     0.25626,     0.25726,     0.25826,     0.25926,     0.26026,     0.26126,     0.26226,     0.26326,\n",
            "           0.26426,     0.26527,     0.26627,     0.26727,     0.26827,     0.26927,     0.27027,     0.27127,     0.27227,     0.27327,     0.27427,     0.27528,     0.27628,     0.27728,     0.27828,     0.27928,     0.28028,     0.28128,     0.28228,     0.28328,     0.28428,     0.28529,     0.28629,     0.28729,\n",
            "           0.28829,     0.28929,     0.29029,     0.29129,     0.29229,     0.29329,     0.29429,      0.2953,      0.2963,      0.2973,      0.2983,      0.2993,      0.3003,      0.3013,      0.3023,      0.3033,      0.3043,     0.30531,     0.30631,     0.30731,     0.30831,     0.30931,     0.31031,     0.31131,\n",
            "           0.31231,     0.31331,     0.31431,     0.31532,     0.31632,     0.31732,     0.31832,     0.31932,     0.32032,     0.32132,     0.32232,     0.32332,     0.32432,     0.32533,     0.32633,     0.32733,     0.32833,     0.32933,     0.33033,     0.33133,     0.33233,     0.33333,     0.33433,     0.33534,\n",
            "           0.33634,     0.33734,     0.33834,     0.33934,     0.34034,     0.34134,     0.34234,     0.34334,     0.34434,     0.34535,     0.34635,     0.34735,     0.34835,     0.34935,     0.35035,     0.35135,     0.35235,     0.35335,     0.35435,     0.35536,     0.35636,     0.35736,     0.35836,     0.35936,\n",
            "           0.36036,     0.36136,     0.36236,     0.36336,     0.36436,     0.36537,     0.36637,     0.36737,     0.36837,     0.36937,     0.37037,     0.37137,     0.37237,     0.37337,     0.37437,     0.37538,     0.37638,     0.37738,     0.37838,     0.37938,     0.38038,     0.38138,     0.38238,     0.38338,\n",
            "           0.38438,     0.38539,     0.38639,     0.38739,     0.38839,     0.38939,     0.39039,     0.39139,     0.39239,     0.39339,     0.39439,      0.3954,      0.3964,      0.3974,      0.3984,      0.3994,      0.4004,      0.4014,      0.4024,      0.4034,      0.4044,     0.40541,     0.40641,     0.40741,\n",
            "           0.40841,     0.40941,     0.41041,     0.41141,     0.41241,     0.41341,     0.41441,     0.41542,     0.41642,     0.41742,     0.41842,     0.41942,     0.42042,     0.42142,     0.42242,     0.42342,     0.42442,     0.42543,     0.42643,     0.42743,     0.42843,     0.42943,     0.43043,     0.43143,\n",
            "           0.43243,     0.43343,     0.43443,     0.43544,     0.43644,     0.43744,     0.43844,     0.43944,     0.44044,     0.44144,     0.44244,     0.44344,     0.44444,     0.44545,     0.44645,     0.44745,     0.44845,     0.44945,     0.45045,     0.45145,     0.45245,     0.45345,     0.45445,     0.45546,\n",
            "           0.45646,     0.45746,     0.45846,     0.45946,     0.46046,     0.46146,     0.46246,     0.46346,     0.46446,     0.46547,     0.46647,     0.46747,     0.46847,     0.46947,     0.47047,     0.47147,     0.47247,     0.47347,     0.47447,     0.47548,     0.47648,     0.47748,     0.47848,     0.47948,\n",
            "           0.48048,     0.48148,     0.48248,     0.48348,     0.48448,     0.48549,     0.48649,     0.48749,     0.48849,     0.48949,     0.49049,     0.49149,     0.49249,     0.49349,     0.49449,      0.4955,      0.4965,      0.4975,      0.4985,      0.4995,      0.5005,      0.5015,      0.5025,      0.5035,\n",
            "            0.5045,     0.50551,     0.50651,     0.50751,     0.50851,     0.50951,     0.51051,     0.51151,     0.51251,     0.51351,     0.51451,     0.51552,     0.51652,     0.51752,     0.51852,     0.51952,     0.52052,     0.52152,     0.52252,     0.52352,     0.52452,     0.52553,     0.52653,     0.52753,\n",
            "           0.52853,     0.52953,     0.53053,     0.53153,     0.53253,     0.53353,     0.53453,     0.53554,     0.53654,     0.53754,     0.53854,     0.53954,     0.54054,     0.54154,     0.54254,     0.54354,     0.54454,     0.54555,     0.54655,     0.54755,     0.54855,     0.54955,     0.55055,     0.55155,\n",
            "           0.55255,     0.55355,     0.55455,     0.55556,     0.55656,     0.55756,     0.55856,     0.55956,     0.56056,     0.56156,     0.56256,     0.56356,     0.56456,     0.56557,     0.56657,     0.56757,     0.56857,     0.56957,     0.57057,     0.57157,     0.57257,     0.57357,     0.57457,     0.57558,\n",
            "           0.57658,     0.57758,     0.57858,     0.57958,     0.58058,     0.58158,     0.58258,     0.58358,     0.58458,     0.58559,     0.58659,     0.58759,     0.58859,     0.58959,     0.59059,     0.59159,     0.59259,     0.59359,     0.59459,      0.5956,      0.5966,      0.5976,      0.5986,      0.5996,\n",
            "            0.6006,      0.6016,      0.6026,      0.6036,      0.6046,     0.60561,     0.60661,     0.60761,     0.60861,     0.60961,     0.61061,     0.61161,     0.61261,     0.61361,     0.61461,     0.61562,     0.61662,     0.61762,     0.61862,     0.61962,     0.62062,     0.62162,     0.62262,     0.62362,\n",
            "           0.62462,     0.62563,     0.62663,     0.62763,     0.62863,     0.62963,     0.63063,     0.63163,     0.63263,     0.63363,     0.63463,     0.63564,     0.63664,     0.63764,     0.63864,     0.63964,     0.64064,     0.64164,     0.64264,     0.64364,     0.64464,     0.64565,     0.64665,     0.64765,\n",
            "           0.64865,     0.64965,     0.65065,     0.65165,     0.65265,     0.65365,     0.65465,     0.65566,     0.65666,     0.65766,     0.65866,     0.65966,     0.66066,     0.66166,     0.66266,     0.66366,     0.66466,     0.66567,     0.66667,     0.66767,     0.66867,     0.66967,     0.67067,     0.67167,\n",
            "           0.67267,     0.67367,     0.67467,     0.67568,     0.67668,     0.67768,     0.67868,     0.67968,     0.68068,     0.68168,     0.68268,     0.68368,     0.68468,     0.68569,     0.68669,     0.68769,     0.68869,     0.68969,     0.69069,     0.69169,     0.69269,     0.69369,     0.69469,      0.6957,\n",
            "            0.6967,      0.6977,      0.6987,      0.6997,      0.7007,      0.7017,      0.7027,      0.7037,      0.7047,     0.70571,     0.70671,     0.70771,     0.70871,     0.70971,     0.71071,     0.71171,     0.71271,     0.71371,     0.71471,     0.71572,     0.71672,     0.71772,     0.71872,     0.71972,\n",
            "           0.72072,     0.72172,     0.72272,     0.72372,     0.72472,     0.72573,     0.72673,     0.72773,     0.72873,     0.72973,     0.73073,     0.73173,     0.73273,     0.73373,     0.73473,     0.73574,     0.73674,     0.73774,     0.73874,     0.73974,     0.74074,     0.74174,     0.74274,     0.74374,\n",
            "           0.74474,     0.74575,     0.74675,     0.74775,     0.74875,     0.74975,     0.75075,     0.75175,     0.75275,     0.75375,     0.75475,     0.75576,     0.75676,     0.75776,     0.75876,     0.75976,     0.76076,     0.76176,     0.76276,     0.76376,     0.76476,     0.76577,     0.76677,     0.76777,\n",
            "           0.76877,     0.76977,     0.77077,     0.77177,     0.77277,     0.77377,     0.77477,     0.77578,     0.77678,     0.77778,     0.77878,     0.77978,     0.78078,     0.78178,     0.78278,     0.78378,     0.78478,     0.78579,     0.78679,     0.78779,     0.78879,     0.78979,     0.79079,     0.79179,\n",
            "           0.79279,     0.79379,     0.79479,      0.7958,      0.7968,      0.7978,      0.7988,      0.7998,      0.8008,      0.8018,      0.8028,      0.8038,      0.8048,     0.80581,     0.80681,     0.80781,     0.80881,     0.80981,     0.81081,     0.81181,     0.81281,     0.81381,     0.81481,     0.81582,\n",
            "           0.81682,     0.81782,     0.81882,     0.81982,     0.82082,     0.82182,     0.82282,     0.82382,     0.82482,     0.82583,     0.82683,     0.82783,     0.82883,     0.82983,     0.83083,     0.83183,     0.83283,     0.83383,     0.83483,     0.83584,     0.83684,     0.83784,     0.83884,     0.83984,\n",
            "           0.84084,     0.84184,     0.84284,     0.84384,     0.84484,     0.84585,     0.84685,     0.84785,     0.84885,     0.84985,     0.85085,     0.85185,     0.85285,     0.85385,     0.85485,     0.85586,     0.85686,     0.85786,     0.85886,     0.85986,     0.86086,     0.86186,     0.86286,     0.86386,\n",
            "           0.86486,     0.86587,     0.86687,     0.86787,     0.86887,     0.86987,     0.87087,     0.87187,     0.87287,     0.87387,     0.87487,     0.87588,     0.87688,     0.87788,     0.87888,     0.87988,     0.88088,     0.88188,     0.88288,     0.88388,     0.88488,     0.88589,     0.88689,     0.88789,\n",
            "           0.88889,     0.88989,     0.89089,     0.89189,     0.89289,     0.89389,     0.89489,      0.8959,      0.8969,      0.8979,      0.8989,      0.8999,      0.9009,      0.9019,      0.9029,      0.9039,      0.9049,     0.90591,     0.90691,     0.90791,     0.90891,     0.90991,     0.91091,     0.91191,\n",
            "           0.91291,     0.91391,     0.91491,     0.91592,     0.91692,     0.91792,     0.91892,     0.91992,     0.92092,     0.92192,     0.92292,     0.92392,     0.92492,     0.92593,     0.92693,     0.92793,     0.92893,     0.92993,     0.93093,     0.93193,     0.93293,     0.93393,     0.93493,     0.93594,\n",
            "           0.93694,     0.93794,     0.93894,     0.93994,     0.94094,     0.94194,     0.94294,     0.94394,     0.94494,     0.94595,     0.94695,     0.94795,     0.94895,     0.94995,     0.95095,     0.95195,     0.95295,     0.95395,     0.95495,     0.95596,     0.95696,     0.95796,     0.95896,     0.95996,\n",
            "           0.96096,     0.96196,     0.96296,     0.96396,     0.96496,     0.96597,     0.96697,     0.96797,     0.96897,     0.96997,     0.97097,     0.97197,     0.97297,     0.97397,     0.97497,     0.97598,     0.97698,     0.97798,     0.97898,     0.97998,     0.98098,     0.98198,     0.98298,     0.98398,\n",
            "           0.98498,     0.98599,     0.98699,     0.98799,     0.98899,     0.98999,     0.99099,     0.99199,     0.99299,     0.99399,     0.99499,       0.996,       0.997,       0.998,       0.999,           1]), array([[          1,     0.97297,     0.97297,     0.97297,     0.97297,     0.97297,     0.97297,     0.97297,     0.97297,     0.97297,     0.97297,     0.97297,     0.97297,     0.97297,     0.96078,     0.96078,     0.96078,     0.96078,     0.96078,     0.96078,     0.94915,     0.94915,     0.93846,\n",
            "            0.93846,     0.93827,     0.93827,     0.93827,     0.93827,     0.93827,     0.93827,     0.93023,     0.93023,     0.92708,     0.92708,     0.92708,     0.92143,     0.92143,     0.92143,     0.92143,     0.92143,     0.92143,     0.92143,     0.92143,     0.92143,     0.92143,     0.92143,\n",
            "            0.92143,     0.92143,     0.92143,     0.92143,     0.92143,     0.91156,     0.91156,     0.91124,     0.91124,     0.91124,     0.91124,     0.91124,     0.91124,     0.91124,     0.90698,     0.90625,     0.90625,     0.90625,     0.90625,     0.90625,     0.90625,     0.90625,     0.89904,\n",
            "            0.89904,     0.89904,     0.89904,     0.89904,     0.89815,     0.89815,     0.89815,     0.89189,     0.88839,     0.88312,     0.88312,     0.87945,     0.87945,     0.87945,     0.87945,     0.87945,     0.87945,     0.87945,     0.87945,     0.87945,     0.87945,     0.87945,     0.87945,\n",
            "            0.87945,     0.87945,     0.87945,     0.87945,     0.87945,     0.87945,     0.87945,     0.87945,     0.87945,     0.87945,     0.87945,     0.87945,     0.87945,     0.87945,     0.87945,     0.87945,     0.87945,     0.87945,     0.87945,     0.87945,     0.87945,     0.87945,     0.87945,\n",
            "            0.87945,     0.87945,     0.87945,     0.87945,     0.87945,     0.87945,     0.87945,     0.87945,     0.87945,     0.87945,     0.87945,     0.87945,     0.87945,     0.87945,     0.87945,     0.87945,     0.87945,     0.87945,     0.87945,     0.87945,     0.87945,     0.87945,     0.87945,\n",
            "            0.87945,     0.87945,     0.87945,     0.87945,     0.87945,     0.87945,     0.87945,     0.87945,     0.87945,     0.87945,     0.87945,     0.87945,     0.87945,     0.87945,     0.87945,     0.87945,     0.87945,     0.87945,     0.87945,     0.87945,     0.87945,     0.87945,     0.87945,\n",
            "            0.87945,     0.87945,     0.87945,     0.87945,     0.87945,     0.87945,     0.87945,     0.87945,     0.87945,     0.87945,     0.87945,     0.87945,     0.87861,     0.87861,     0.87861,     0.87861,     0.87833,     0.87833,     0.87833,     0.87713,     0.87546,     0.87546,     0.87545,\n",
            "            0.87545,     0.87545,     0.87545,     0.87545,     0.87545,     0.87522,     0.87522,     0.87478,     0.87478,     0.87282,     0.87282,     0.87231,     0.87231,     0.87231,     0.87231,     0.87231,     0.87231,     0.87231,     0.87231,     0.87231,     0.87231,     0.86971,     0.86971,\n",
            "            0.86971,     0.86893,     0.86834,     0.86834,     0.86834,     0.86834,     0.86834,     0.86834,     0.86834,     0.86834,     0.86834,     0.86834,     0.86834,     0.86834,     0.86834,     0.86834,     0.86834,     0.86834,     0.86834,     0.86834,     0.86834,     0.86782,     0.86782,\n",
            "            0.86782,     0.86782,     0.86782,     0.86782,     0.86782,     0.86695,     0.86657,     0.86657,     0.86657,     0.86657,     0.86471,     0.86408,     0.86364,     0.86364,     0.86301,     0.86296,     0.86296,       0.861,     0.86059,     0.86059,     0.85771,     0.85771,     0.85771,\n",
            "            0.85696,     0.85677,     0.85677,     0.85587,     0.85587,     0.85587,     0.85587,     0.85587,     0.85554,     0.85554,     0.85554,     0.85554,     0.85554,     0.85554,     0.85486,     0.85486,     0.85486,     0.85294,     0.85273,     0.85273,     0.85273,     0.85273,     0.85273,\n",
            "            0.85273,     0.85273,     0.85273,      0.8521,      0.8521,      0.8521,      0.8521,      0.8521,      0.8521,      0.8521,      0.8521,      0.8521,      0.8521,      0.8521,      0.8521,      0.8521,      0.8521,      0.8521,      0.8521,      0.8521,      0.8521,      0.8521,      0.8521,\n",
            "             0.8521,     0.85165,     0.84918,     0.84858,     0.84816,     0.84739,     0.84739,     0.84739,     0.84739,     0.84739,     0.84722,     0.84722,     0.84722,     0.84722,     0.84722,     0.84722,     0.84722,     0.84722,     0.84722,     0.84722,     0.84722,     0.84722,     0.84722,\n",
            "            0.84722,     0.84722,     0.84722,     0.84722,     0.84722,     0.84722,     0.84722,     0.84722,     0.84722,     0.84722,     0.84661,     0.84661,     0.84661,     0.84555,     0.84534,     0.84534,     0.84534,     0.84534,     0.84534,     0.84534,     0.84499,     0.84499,     0.84499,\n",
            "            0.84499,     0.84499,     0.84448,     0.84448,     0.84448,     0.84448,     0.84448,     0.84448,     0.84448,     0.84448,     0.84448,     0.84448,     0.84448,     0.84448,     0.84448,     0.84448,     0.84448,     0.84448,     0.84414,     0.84395,     0.84395,     0.84286,     0.84043,\n",
            "            0.83982,     0.83743,     0.83682,     0.83682,     0.83682,     0.83681,     0.83681,     0.83651,     0.83635,     0.83562,     0.83562,     0.83546,     0.83546,     0.83529,     0.83529,     0.83529,     0.83529,     0.83529,     0.83529,     0.83529,     0.83529,     0.83529,     0.83529,\n",
            "            0.83529,     0.83529,     0.83529,     0.83529,     0.83529,     0.83529,     0.83529,     0.83529,     0.83529,     0.83529,     0.83529,     0.83529,     0.83529,     0.83529,     0.83529,     0.83529,     0.83529,     0.83529,     0.83529,     0.83529,     0.83529,     0.83529,     0.83529,\n",
            "            0.83529,     0.83529,     0.83529,     0.83529,     0.83529,     0.83529,     0.83529,     0.83529,     0.83529,     0.83529,     0.83529,     0.83529,     0.83529,     0.83529,     0.83529,     0.83529,     0.83529,     0.83529,     0.83529,     0.83529,     0.83529,     0.83529,     0.83529,\n",
            "            0.83529,     0.83529,     0.83529,     0.83529,     0.83529,     0.83529,     0.83504,      0.8343,      0.8343,     0.83298,     0.83298,     0.83298,     0.83298,     0.83298,     0.83298,     0.83298,     0.83191,     0.83144,     0.83144,     0.83102,     0.83102,     0.83102,     0.83102,\n",
            "            0.83102,     0.83102,     0.83102,     0.83102,     0.83102,     0.83102,      0.8305,      0.8305,      0.8305,      0.8305,      0.8305,      0.8305,      0.8305,      0.8305,     0.83028,     0.82983,     0.82979,     0.82979,     0.82979,     0.82979,     0.82979,     0.82979,     0.82979,\n",
            "            0.82979,     0.82979,     0.82948,     0.82948,     0.82948,     0.82892,     0.82892,     0.82892,     0.82892,     0.82892,     0.82892,     0.82892,     0.82892,     0.82892,     0.82892,     0.82892,     0.82861,     0.82809,     0.82809,     0.82706,     0.82664,     0.82498,      0.8242,\n",
            "             0.8242,      0.8242,     0.82412,     0.82412,     0.82353,     0.82249,     0.82249,     0.82249,     0.82249,     0.82249,     0.82249,     0.82249,     0.82249,     0.82249,     0.82249,     0.82249,     0.82249,     0.82249,     0.82249,     0.82249,     0.82249,     0.82249,     0.82249,\n",
            "            0.82249,     0.82249,     0.82249,     0.82249,     0.82249,     0.82249,     0.82249,     0.82249,     0.82249,     0.82249,     0.82249,     0.82193,     0.82193,     0.82182,     0.82182,     0.82182,     0.82182,     0.82182,     0.82182,     0.82182,     0.82182,     0.82139,     0.82139,\n",
            "            0.82112,     0.82063,     0.82063,     0.82063,     0.82026,     0.81978,     0.81978,     0.81978,     0.81962,     0.81962,     0.81962,     0.81962,     0.81962,     0.81844,     0.81793,     0.81778,     0.81656,     0.81656,     0.81656,     0.81637,     0.81637,     0.81633,     0.81633,\n",
            "            0.81457,     0.81457,     0.81457,     0.81457,     0.81457,     0.81457,     0.81457,     0.81415,     0.81415,     0.81415,     0.81412,     0.81412,     0.81384,     0.81384,      0.8135,       0.813,       0.813,       0.813,     0.81277,     0.81273,     0.81194,     0.81194,     0.81181,\n",
            "            0.81115,     0.81102,      0.8107,     0.81015,      0.8098,      0.8098,     0.80967,     0.80965,     0.80933,     0.80888,     0.80876,     0.80874,     0.80874,     0.80862,     0.80836,     0.80836,     0.80836,     0.80836,     0.80812,     0.80812,     0.80789,     0.80789,     0.80789,\n",
            "            0.80736,     0.80674,     0.80632,     0.80611,      0.8056,     0.80539,     0.80488,     0.80416,     0.80416,     0.80396,     0.80336,     0.80275,     0.80275,     0.80265,     0.80234,     0.80234,     0.80234,     0.80234,     0.80126,     0.80126,     0.80126,     0.80087,     0.80087,\n",
            "            0.80058,     0.80058,     0.80048,     0.80048,     0.80048,     0.80048,     0.80048,     0.80047,     0.80047,     0.80047,     0.80047,     0.80047,     0.79915,     0.79858,     0.79812,     0.79793,     0.79784,     0.79746,     0.79746,     0.79746,     0.79746,     0.79746,     0.79746,\n",
            "            0.79746,     0.79746,     0.79746,     0.79746,     0.79746,     0.79746,     0.79746,     0.79746,     0.79746,     0.79746,     0.79746,     0.79746,     0.79746,     0.79746,     0.79746,     0.79692,     0.79575,     0.79388,     0.79372,     0.79372,     0.79364,     0.79364,     0.79295,\n",
            "            0.79252,     0.79156,     0.79139,     0.79124,     0.79124,     0.79097,     0.79097,     0.79097,     0.79097,     0.79097,     0.79097,     0.79066,     0.79066,     0.79066,     0.79066,     0.79066,     0.79066,     0.79066,     0.79066,     0.79066,     0.79034,     0.79034,     0.79031,\n",
            "            0.79031,     0.79031,     0.79031,     0.79008,     0.79008,     0.78992,     0.78992,     0.78992,     0.78992,     0.78992,     0.78992,     0.78952,     0.78941,     0.78941,     0.78941,     0.78941,     0.78916,      0.7891,     0.78894,     0.78888,     0.78881,      0.7886,      0.7886,\n",
            "            0.78853,     0.78829,     0.78823,     0.78719,     0.78707,     0.78707,     0.78683,     0.78589,     0.78574,     0.78449,     0.78443,     0.78443,     0.78247,     0.78146,     0.78069,      0.7801,     0.77957,     0.77907,     0.77907,     0.77844,     0.77844,     0.77822,     0.77787,\n",
            "            0.77712,     0.77694,     0.77694,     0.77628,      0.7752,      0.7752,     0.77455,       0.772,     0.77004,     0.77004,     0.76911,     0.76869,     0.76846,     0.76804,     0.76498,     0.76029,     0.75989,     0.75643,     0.74907,     0.74813,     0.74508,     0.73789,     0.72671,\n",
            "             0.7243,     0.70584,     0.69639,     0.69639,     0.68515,      0.6826,     0.67723,     0.66656,     0.65614,     0.65332,        0.65,     0.63696,     0.62741,     0.61587,     0.61114,     0.60715,      0.5916,     0.57837,     0.56185,     0.54952,     0.54538,     0.54333,     0.53776,\n",
            "            0.53342,     0.51821,     0.50968,     0.49489,     0.48275,     0.47813,     0.47297,     0.47034,     0.46391,     0.45159,     0.44997,     0.43468,     0.41538,     0.40769,     0.40674,     0.39606,       0.395,     0.39142,     0.38161,     0.37586,      0.3739,      0.3729,     0.36365,\n",
            "            0.35847,     0.35335,     0.35043,      0.3419,     0.33967,     0.33463,      0.3321,     0.33011,     0.32514,      0.3206,     0.31854,     0.31827,     0.31473,     0.31315,     0.30863,     0.30026,      0.2952,     0.29215,     0.29172,     0.28553,     0.28543,     0.27774,      0.2716,\n",
            "            0.26951,     0.26426,     0.26114,     0.23836,     0.23671,     0.23507,     0.23343,     0.23178,     0.23014,      0.2285,     0.22685,     0.22521,     0.22356,     0.22192,     0.22028,     0.21863,     0.21699,     0.21534,      0.2137,     0.21206,     0.21041,     0.20877,     0.20713,\n",
            "            0.20548,     0.20384,     0.20219,     0.20055,     0.19891,     0.19726,     0.19562,     0.19397,     0.19233,     0.19069,     0.18904,      0.1874,     0.18576,     0.18411,     0.18247,     0.18082,     0.17918,     0.17754,     0.17589,     0.17425,      0.1726,     0.17096,     0.16932,\n",
            "            0.16767,     0.16603,     0.16439,     0.16274,      0.1611,     0.15945,     0.15781,     0.15617,     0.15452,     0.15288,     0.15123,     0.14959,     0.14795,      0.1463,     0.14466,     0.14302,     0.14137,     0.13973,     0.13808,     0.13644,      0.1348,     0.13315,     0.13151,\n",
            "            0.12986,     0.12822,     0.12658,     0.12493,     0.12329,     0.12165,        0.12,     0.11836,     0.11671,     0.11507,     0.11343,     0.11178,     0.11014,     0.10849,     0.10685,     0.10521,     0.10356,     0.10192,     0.10028,    0.098631,    0.096987,    0.095344,      0.0937,\n",
            "           0.092056,    0.090412,    0.088768,    0.087124,     0.08548,    0.083837,    0.082193,    0.080549,    0.078905,    0.077261,    0.075617,    0.073973,     0.07233,    0.070686,    0.069042,    0.067398,    0.065754,     0.06411,    0.062466,    0.060823,    0.059179,    0.057535,    0.055891,\n",
            "           0.054247,    0.052603,    0.050959,    0.049316,    0.047672,    0.046028,    0.044384,     0.04274,    0.041096,    0.039452,    0.037809,    0.036165,    0.034521,    0.032877,    0.031233,    0.029589,    0.027946,    0.026302,    0.024658,    0.023014,     0.02137,    0.019726,    0.018082,\n",
            "           0.016439,    0.014795,    0.013151,    0.011507,   0.0098631,   0.0082193,   0.0065754,   0.0049316,   0.0032877,   0.0016439,           0]]), 'Recall', 'Precision'], [array([          0,    0.001001,    0.002002,    0.003003,    0.004004,    0.005005,    0.006006,    0.007007,    0.008008,    0.009009,     0.01001,    0.011011,    0.012012,    0.013013,    0.014014,    0.015015,    0.016016,    0.017017,    0.018018,    0.019019,     0.02002,    0.021021,    0.022022,    0.023023,\n",
            "          0.024024,    0.025025,    0.026026,    0.027027,    0.028028,    0.029029,     0.03003,    0.031031,    0.032032,    0.033033,    0.034034,    0.035035,    0.036036,    0.037037,    0.038038,    0.039039,     0.04004,    0.041041,    0.042042,    0.043043,    0.044044,    0.045045,    0.046046,    0.047047,\n",
            "          0.048048,    0.049049,     0.05005,    0.051051,    0.052052,    0.053053,    0.054054,    0.055055,    0.056056,    0.057057,    0.058058,    0.059059,     0.06006,    0.061061,    0.062062,    0.063063,    0.064064,    0.065065,    0.066066,    0.067067,    0.068068,    0.069069,     0.07007,    0.071071,\n",
            "          0.072072,    0.073073,    0.074074,    0.075075,    0.076076,    0.077077,    0.078078,    0.079079,     0.08008,    0.081081,    0.082082,    0.083083,    0.084084,    0.085085,    0.086086,    0.087087,    0.088088,    0.089089,     0.09009,    0.091091,    0.092092,    0.093093,    0.094094,    0.095095,\n",
            "          0.096096,    0.097097,    0.098098,    0.099099,      0.1001,      0.1011,      0.1021,      0.1031,      0.1041,     0.10511,     0.10611,     0.10711,     0.10811,     0.10911,     0.11011,     0.11111,     0.11211,     0.11311,     0.11411,     0.11512,     0.11612,     0.11712,     0.11812,     0.11912,\n",
            "           0.12012,     0.12112,     0.12212,     0.12312,     0.12412,     0.12513,     0.12613,     0.12713,     0.12813,     0.12913,     0.13013,     0.13113,     0.13213,     0.13313,     0.13413,     0.13514,     0.13614,     0.13714,     0.13814,     0.13914,     0.14014,     0.14114,     0.14214,     0.14314,\n",
            "           0.14414,     0.14515,     0.14615,     0.14715,     0.14815,     0.14915,     0.15015,     0.15115,     0.15215,     0.15315,     0.15415,     0.15516,     0.15616,     0.15716,     0.15816,     0.15916,     0.16016,     0.16116,     0.16216,     0.16316,     0.16416,     0.16517,     0.16617,     0.16717,\n",
            "           0.16817,     0.16917,     0.17017,     0.17117,     0.17217,     0.17317,     0.17417,     0.17518,     0.17618,     0.17718,     0.17818,     0.17918,     0.18018,     0.18118,     0.18218,     0.18318,     0.18418,     0.18519,     0.18619,     0.18719,     0.18819,     0.18919,     0.19019,     0.19119,\n",
            "           0.19219,     0.19319,     0.19419,      0.1952,      0.1962,      0.1972,      0.1982,      0.1992,      0.2002,      0.2012,      0.2022,      0.2032,      0.2042,     0.20521,     0.20621,     0.20721,     0.20821,     0.20921,     0.21021,     0.21121,     0.21221,     0.21321,     0.21421,     0.21522,\n",
            "           0.21622,     0.21722,     0.21822,     0.21922,     0.22022,     0.22122,     0.22222,     0.22322,     0.22422,     0.22523,     0.22623,     0.22723,     0.22823,     0.22923,     0.23023,     0.23123,     0.23223,     0.23323,     0.23423,     0.23524,     0.23624,     0.23724,     0.23824,     0.23924,\n",
            "           0.24024,     0.24124,     0.24224,     0.24324,     0.24424,     0.24525,     0.24625,     0.24725,     0.24825,     0.24925,     0.25025,     0.25125,     0.25225,     0.25325,     0.25425,     0.25526,     0.25626,     0.25726,     0.25826,     0.25926,     0.26026,     0.26126,     0.26226,     0.26326,\n",
            "           0.26426,     0.26527,     0.26627,     0.26727,     0.26827,     0.26927,     0.27027,     0.27127,     0.27227,     0.27327,     0.27427,     0.27528,     0.27628,     0.27728,     0.27828,     0.27928,     0.28028,     0.28128,     0.28228,     0.28328,     0.28428,     0.28529,     0.28629,     0.28729,\n",
            "           0.28829,     0.28929,     0.29029,     0.29129,     0.29229,     0.29329,     0.29429,      0.2953,      0.2963,      0.2973,      0.2983,      0.2993,      0.3003,      0.3013,      0.3023,      0.3033,      0.3043,     0.30531,     0.30631,     0.30731,     0.30831,     0.30931,     0.31031,     0.31131,\n",
            "           0.31231,     0.31331,     0.31431,     0.31532,     0.31632,     0.31732,     0.31832,     0.31932,     0.32032,     0.32132,     0.32232,     0.32332,     0.32432,     0.32533,     0.32633,     0.32733,     0.32833,     0.32933,     0.33033,     0.33133,     0.33233,     0.33333,     0.33433,     0.33534,\n",
            "           0.33634,     0.33734,     0.33834,     0.33934,     0.34034,     0.34134,     0.34234,     0.34334,     0.34434,     0.34535,     0.34635,     0.34735,     0.34835,     0.34935,     0.35035,     0.35135,     0.35235,     0.35335,     0.35435,     0.35536,     0.35636,     0.35736,     0.35836,     0.35936,\n",
            "           0.36036,     0.36136,     0.36236,     0.36336,     0.36436,     0.36537,     0.36637,     0.36737,     0.36837,     0.36937,     0.37037,     0.37137,     0.37237,     0.37337,     0.37437,     0.37538,     0.37638,     0.37738,     0.37838,     0.37938,     0.38038,     0.38138,     0.38238,     0.38338,\n",
            "           0.38438,     0.38539,     0.38639,     0.38739,     0.38839,     0.38939,     0.39039,     0.39139,     0.39239,     0.39339,     0.39439,      0.3954,      0.3964,      0.3974,      0.3984,      0.3994,      0.4004,      0.4014,      0.4024,      0.4034,      0.4044,     0.40541,     0.40641,     0.40741,\n",
            "           0.40841,     0.40941,     0.41041,     0.41141,     0.41241,     0.41341,     0.41441,     0.41542,     0.41642,     0.41742,     0.41842,     0.41942,     0.42042,     0.42142,     0.42242,     0.42342,     0.42442,     0.42543,     0.42643,     0.42743,     0.42843,     0.42943,     0.43043,     0.43143,\n",
            "           0.43243,     0.43343,     0.43443,     0.43544,     0.43644,     0.43744,     0.43844,     0.43944,     0.44044,     0.44144,     0.44244,     0.44344,     0.44444,     0.44545,     0.44645,     0.44745,     0.44845,     0.44945,     0.45045,     0.45145,     0.45245,     0.45345,     0.45445,     0.45546,\n",
            "           0.45646,     0.45746,     0.45846,     0.45946,     0.46046,     0.46146,     0.46246,     0.46346,     0.46446,     0.46547,     0.46647,     0.46747,     0.46847,     0.46947,     0.47047,     0.47147,     0.47247,     0.47347,     0.47447,     0.47548,     0.47648,     0.47748,     0.47848,     0.47948,\n",
            "           0.48048,     0.48148,     0.48248,     0.48348,     0.48448,     0.48549,     0.48649,     0.48749,     0.48849,     0.48949,     0.49049,     0.49149,     0.49249,     0.49349,     0.49449,      0.4955,      0.4965,      0.4975,      0.4985,      0.4995,      0.5005,      0.5015,      0.5025,      0.5035,\n",
            "            0.5045,     0.50551,     0.50651,     0.50751,     0.50851,     0.50951,     0.51051,     0.51151,     0.51251,     0.51351,     0.51451,     0.51552,     0.51652,     0.51752,     0.51852,     0.51952,     0.52052,     0.52152,     0.52252,     0.52352,     0.52452,     0.52553,     0.52653,     0.52753,\n",
            "           0.52853,     0.52953,     0.53053,     0.53153,     0.53253,     0.53353,     0.53453,     0.53554,     0.53654,     0.53754,     0.53854,     0.53954,     0.54054,     0.54154,     0.54254,     0.54354,     0.54454,     0.54555,     0.54655,     0.54755,     0.54855,     0.54955,     0.55055,     0.55155,\n",
            "           0.55255,     0.55355,     0.55455,     0.55556,     0.55656,     0.55756,     0.55856,     0.55956,     0.56056,     0.56156,     0.56256,     0.56356,     0.56456,     0.56557,     0.56657,     0.56757,     0.56857,     0.56957,     0.57057,     0.57157,     0.57257,     0.57357,     0.57457,     0.57558,\n",
            "           0.57658,     0.57758,     0.57858,     0.57958,     0.58058,     0.58158,     0.58258,     0.58358,     0.58458,     0.58559,     0.58659,     0.58759,     0.58859,     0.58959,     0.59059,     0.59159,     0.59259,     0.59359,     0.59459,      0.5956,      0.5966,      0.5976,      0.5986,      0.5996,\n",
            "            0.6006,      0.6016,      0.6026,      0.6036,      0.6046,     0.60561,     0.60661,     0.60761,     0.60861,     0.60961,     0.61061,     0.61161,     0.61261,     0.61361,     0.61461,     0.61562,     0.61662,     0.61762,     0.61862,     0.61962,     0.62062,     0.62162,     0.62262,     0.62362,\n",
            "           0.62462,     0.62563,     0.62663,     0.62763,     0.62863,     0.62963,     0.63063,     0.63163,     0.63263,     0.63363,     0.63463,     0.63564,     0.63664,     0.63764,     0.63864,     0.63964,     0.64064,     0.64164,     0.64264,     0.64364,     0.64464,     0.64565,     0.64665,     0.64765,\n",
            "           0.64865,     0.64965,     0.65065,     0.65165,     0.65265,     0.65365,     0.65465,     0.65566,     0.65666,     0.65766,     0.65866,     0.65966,     0.66066,     0.66166,     0.66266,     0.66366,     0.66466,     0.66567,     0.66667,     0.66767,     0.66867,     0.66967,     0.67067,     0.67167,\n",
            "           0.67267,     0.67367,     0.67467,     0.67568,     0.67668,     0.67768,     0.67868,     0.67968,     0.68068,     0.68168,     0.68268,     0.68368,     0.68468,     0.68569,     0.68669,     0.68769,     0.68869,     0.68969,     0.69069,     0.69169,     0.69269,     0.69369,     0.69469,      0.6957,\n",
            "            0.6967,      0.6977,      0.6987,      0.6997,      0.7007,      0.7017,      0.7027,      0.7037,      0.7047,     0.70571,     0.70671,     0.70771,     0.70871,     0.70971,     0.71071,     0.71171,     0.71271,     0.71371,     0.71471,     0.71572,     0.71672,     0.71772,     0.71872,     0.71972,\n",
            "           0.72072,     0.72172,     0.72272,     0.72372,     0.72472,     0.72573,     0.72673,     0.72773,     0.72873,     0.72973,     0.73073,     0.73173,     0.73273,     0.73373,     0.73473,     0.73574,     0.73674,     0.73774,     0.73874,     0.73974,     0.74074,     0.74174,     0.74274,     0.74374,\n",
            "           0.74474,     0.74575,     0.74675,     0.74775,     0.74875,     0.74975,     0.75075,     0.75175,     0.75275,     0.75375,     0.75475,     0.75576,     0.75676,     0.75776,     0.75876,     0.75976,     0.76076,     0.76176,     0.76276,     0.76376,     0.76476,     0.76577,     0.76677,     0.76777,\n",
            "           0.76877,     0.76977,     0.77077,     0.77177,     0.77277,     0.77377,     0.77477,     0.77578,     0.77678,     0.77778,     0.77878,     0.77978,     0.78078,     0.78178,     0.78278,     0.78378,     0.78478,     0.78579,     0.78679,     0.78779,     0.78879,     0.78979,     0.79079,     0.79179,\n",
            "           0.79279,     0.79379,     0.79479,      0.7958,      0.7968,      0.7978,      0.7988,      0.7998,      0.8008,      0.8018,      0.8028,      0.8038,      0.8048,     0.80581,     0.80681,     0.80781,     0.80881,     0.80981,     0.81081,     0.81181,     0.81281,     0.81381,     0.81481,     0.81582,\n",
            "           0.81682,     0.81782,     0.81882,     0.81982,     0.82082,     0.82182,     0.82282,     0.82382,     0.82482,     0.82583,     0.82683,     0.82783,     0.82883,     0.82983,     0.83083,     0.83183,     0.83283,     0.83383,     0.83483,     0.83584,     0.83684,     0.83784,     0.83884,     0.83984,\n",
            "           0.84084,     0.84184,     0.84284,     0.84384,     0.84484,     0.84585,     0.84685,     0.84785,     0.84885,     0.84985,     0.85085,     0.85185,     0.85285,     0.85385,     0.85485,     0.85586,     0.85686,     0.85786,     0.85886,     0.85986,     0.86086,     0.86186,     0.86286,     0.86386,\n",
            "           0.86486,     0.86587,     0.86687,     0.86787,     0.86887,     0.86987,     0.87087,     0.87187,     0.87287,     0.87387,     0.87487,     0.87588,     0.87688,     0.87788,     0.87888,     0.87988,     0.88088,     0.88188,     0.88288,     0.88388,     0.88488,     0.88589,     0.88689,     0.88789,\n",
            "           0.88889,     0.88989,     0.89089,     0.89189,     0.89289,     0.89389,     0.89489,      0.8959,      0.8969,      0.8979,      0.8989,      0.8999,      0.9009,      0.9019,      0.9029,      0.9039,      0.9049,     0.90591,     0.90691,     0.90791,     0.90891,     0.90991,     0.91091,     0.91191,\n",
            "           0.91291,     0.91391,     0.91491,     0.91592,     0.91692,     0.91792,     0.91892,     0.91992,     0.92092,     0.92192,     0.92292,     0.92392,     0.92492,     0.92593,     0.92693,     0.92793,     0.92893,     0.92993,     0.93093,     0.93193,     0.93293,     0.93393,     0.93493,     0.93594,\n",
            "           0.93694,     0.93794,     0.93894,     0.93994,     0.94094,     0.94194,     0.94294,     0.94394,     0.94494,     0.94595,     0.94695,     0.94795,     0.94895,     0.94995,     0.95095,     0.95195,     0.95295,     0.95395,     0.95495,     0.95596,     0.95696,     0.95796,     0.95896,     0.95996,\n",
            "           0.96096,     0.96196,     0.96296,     0.96396,     0.96496,     0.96597,     0.96697,     0.96797,     0.96897,     0.96997,     0.97097,     0.97197,     0.97297,     0.97397,     0.97497,     0.97598,     0.97698,     0.97798,     0.97898,     0.97998,     0.98098,     0.98198,     0.98298,     0.98398,\n",
            "           0.98498,     0.98599,     0.98699,     0.98799,     0.98899,     0.98999,     0.99099,     0.99199,     0.99299,     0.99399,     0.99499,       0.996,       0.997,       0.998,       0.999,           1]), array([[    0.37307,     0.37312,     0.42886,     0.45437,     0.46875,     0.48024,     0.48935,     0.49725,     0.50403,     0.51081,     0.51629,     0.52093,     0.52553,     0.53027,     0.53346,     0.53652,     0.54195,     0.54513,     0.54836,     0.55109,     0.55438,     0.55664,     0.55991,\n",
            "            0.56297,     0.56621,     0.56774,     0.57045,     0.57305,     0.57561,     0.57807,     0.58024,     0.58244,      0.5839,     0.58598,     0.58853,      0.5898,      0.5916,     0.59424,     0.59633,     0.59769,     0.59906,     0.60149,      0.6033,     0.60456,     0.60523,     0.60662,\n",
            "            0.60824,     0.61037,     0.61234,      0.6137,     0.61565,     0.61689,     0.61849,     0.62036,     0.62221,     0.62445,     0.62601,     0.62799,     0.62952,     0.63096,     0.63304,     0.63456,     0.63638,     0.63839,     0.63999,     0.64173,     0.64348,     0.64418,       0.645,\n",
            "            0.64675,      0.6484,      0.6497,     0.65053,     0.65123,     0.65232,     0.65343,     0.65452,     0.65559,     0.65645,     0.65742,     0.66003,     0.66184,     0.66278,     0.66423,     0.66508,     0.66666,     0.66832,      0.6694,     0.66993,     0.67115,     0.67204,     0.67314,\n",
            "            0.67451,     0.67581,     0.67714,     0.67773,     0.67882,        0.68,     0.68127,     0.68161,     0.68288,     0.68375,     0.68501,     0.68557,     0.68671,     0.68777,     0.68907,     0.68954,     0.69007,     0.69119,     0.69263,     0.69343,     0.69442,     0.69539,     0.69598,\n",
            "            0.69715,     0.69853,     0.69956,     0.70043,     0.70083,     0.70163,     0.70242,     0.70356,     0.70405,     0.70527,     0.70622,     0.70701,     0.70802,     0.70897,     0.70949,     0.71071,     0.71162,     0.71241,      0.7129,     0.71398,       0.714,     0.71475,     0.71556,\n",
            "            0.71595,      0.7169,     0.71735,     0.71788,     0.71861,     0.71895,     0.71952,     0.72057,     0.72137,     0.72201,     0.72244,     0.72281,     0.72401,     0.72526,     0.72556,     0.72606,     0.72696,     0.72764,     0.72807,     0.72867,     0.72953,     0.73023,     0.73105,\n",
            "            0.73149,     0.73173,     0.73203,     0.73241,     0.73287,     0.73341,     0.73418,     0.73479,     0.73552,      0.7359,     0.73616,     0.73688,      0.7373,       0.738,     0.73822,      0.7384,     0.73803,     0.73837,     0.73868,     0.73918,     0.73949,     0.73998,     0.74014,\n",
            "            0.74029,     0.74081,     0.74109,      0.7418,     0.74214,     0.74257,     0.74265,     0.74332,     0.74367,     0.74414,       0.744,     0.74454,     0.74502,     0.74559,     0.74569,     0.74627,     0.74688,     0.74766,     0.74784,     0.74826,     0.74848,     0.74857,     0.74874,\n",
            "             0.7489,     0.74934,      0.7498,     0.75009,     0.75019,     0.75027,      0.7505,     0.75065,     0.75101,     0.75128,     0.75152,       0.752,     0.75217,     0.75212,     0.75214,     0.75224,     0.75225,      0.7525,     0.75297,     0.75313,     0.75314,      0.7533,     0.75354,\n",
            "            0.75403,     0.75431,     0.75453,     0.75483,     0.75513,     0.75521,     0.75574,     0.75585,     0.75592,     0.75575,     0.75639,     0.75679,      0.7567,     0.75696,     0.75704,     0.75741,     0.75772,     0.75788,     0.75803,     0.75853,     0.75871,     0.75889,     0.75925,\n",
            "            0.75976,     0.75999,     0.76018,     0.76051,     0.76088,     0.76097,     0.76099,     0.76123,     0.76149,     0.76179,     0.76187,     0.76208,     0.76216,     0.76199,     0.76196,     0.76233,     0.76243,     0.76274,     0.76294,     0.76297,     0.76305,     0.76304,     0.76321,\n",
            "            0.76321,     0.76339,     0.76347,     0.76355,     0.76368,     0.76366,     0.76389,     0.76405,     0.76416,     0.76434,     0.76458,     0.76466,     0.76503,     0.76557,     0.76573,     0.76586,     0.76609,     0.76618,     0.76624,     0.76631,     0.76639,     0.76648,     0.76656,\n",
            "              0.766,     0.76592,     0.76626,     0.76648,     0.76657,     0.76675,     0.76679,     0.76683,     0.76687,     0.76692,     0.76701,     0.76738,     0.76756,     0.76765,      0.7677,     0.76775,     0.76776,      0.7677,     0.76765,     0.76759,     0.76751,     0.76735,     0.76744,\n",
            "            0.76753,     0.76741,     0.76759,     0.76798,     0.76806,     0.76813,     0.76821,     0.76827,     0.76833,     0.76839,     0.76851,     0.76869,     0.76856,     0.76842,     0.76866,     0.76904,     0.76916,     0.76928,     0.76931,      0.7697,     0.76986,     0.77002,     0.77013,\n",
            "            0.77021,     0.77047,      0.7704,     0.77032,     0.77056,     0.77045,     0.77035,     0.77017,      0.7701,     0.76995,        0.77,     0.76988,     0.76959,     0.76958,     0.76957,      0.7695,     0.76922,      0.7691,     0.76928,     0.76938,     0.76933,     0.76942,     0.76912,\n",
            "            0.76877,     0.76877,     0.76867,     0.76894,     0.76901,     0.76917,     0.76942,     0.76934,     0.76938,     0.76945,     0.76967,     0.76978,      0.7699,     0.77016,     0.77009,     0.77024,     0.77028,     0.77032,     0.77036,     0.77017,     0.76977,     0.76929,     0.76908,\n",
            "            0.76935,     0.76959,     0.76913,     0.76893,     0.76912,     0.76889,     0.76863,     0.76864,     0.76869,     0.76874,     0.76862,     0.76835,     0.76831,     0.76819,     0.76823,     0.76818,     0.76838,     0.76814,      0.7679,     0.76781,     0.76697,     0.76684,     0.76686,\n",
            "            0.76673,     0.76662,     0.76649,     0.76589,     0.76588,     0.76601,     0.76581,      0.7659,     0.76589,     0.76563,      0.7654,     0.76541,     0.76522,     0.76549,     0.76508,     0.76531,      0.7652,     0.76531,     0.76536,     0.76541,     0.76555,     0.76572,     0.76579,\n",
            "            0.76566,     0.76579,     0.76564,     0.76534,     0.76503,      0.7651,     0.76477,     0.76475,     0.76488,     0.76456,     0.76411,     0.76385,      0.7641,     0.76343,     0.76277,      0.7629,     0.76249,     0.76238,     0.76202,     0.76173,     0.76111,     0.76053,     0.76003,\n",
            "            0.75985,     0.75957,     0.75847,     0.75812,     0.75684,     0.75662,     0.75645,      0.7562,     0.75569,     0.75554,     0.75462,     0.75346,     0.75297,     0.75305,     0.75284,     0.75233,     0.75214,     0.75147,     0.75136,     0.75105,     0.75109,     0.75013,     0.74929,\n",
            "            0.74928,     0.74886,     0.74828,     0.74813,     0.74742,     0.74701,     0.74708,     0.74659,     0.74651,     0.74515,     0.74474,     0.74303,      0.7433,     0.74222,     0.74151,       0.741,      0.7404,     0.74008,     0.73889,     0.73864,     0.73825,      0.7385,     0.73802,\n",
            "            0.73707,     0.73728,     0.73695,     0.73643,     0.73543,     0.73514,     0.73541,     0.73537,     0.73537,     0.73537,     0.73522,     0.73533,     0.73517,     0.73469,      0.7344,     0.73384,     0.73307,      0.7325,     0.73171,     0.73141,     0.73036,     0.72954,     0.72925,\n",
            "            0.72779,     0.72688,     0.72638,     0.72619,     0.72607,      0.7246,     0.72322,     0.72294,     0.72324,     0.72279,     0.72245,     0.72168,     0.72147,     0.72132,     0.72106,     0.72106,     0.71924,     0.71836,     0.71766,     0.71727,     0.71707,     0.71694,     0.71562,\n",
            "            0.71478,     0.71381,     0.71367,     0.71303,     0.71184,     0.71132,     0.71112,     0.71117,     0.71006,     0.70906,     0.70844,     0.70787,     0.70703,     0.70701,     0.70699,     0.70579,     0.70558,     0.70487,     0.70467,     0.70373,     0.70317,     0.70245,     0.70235,\n",
            "            0.70082,     0.69977,     0.69892,     0.69786,      0.6966,     0.69657,     0.69503,     0.69446,      0.6935,     0.69346,     0.69232,      0.6912,     0.69049,     0.68976,     0.68905,     0.68859,     0.68862,     0.68745,     0.68694,     0.68628,     0.68516,     0.68389,     0.68283,\n",
            "            0.68205,     0.68101,     0.68028,     0.67898,     0.67702,     0.67566,     0.67454,     0.67449,     0.67452,      0.6737,     0.67291,     0.67221,     0.67035,     0.67041,     0.66933,     0.66889,     0.66838,     0.66869,     0.66613,       0.665,     0.66341,     0.66257,     0.66132,\n",
            "            0.65963,       0.659,     0.65736,     0.65629,     0.65507,     0.65433,     0.65299,     0.65184,     0.65048,     0.64934,     0.64649,     0.64545,       0.643,     0.64152,     0.63921,     0.63799,     0.63558,     0.63388,     0.63183,     0.63036,     0.63077,     0.62993,     0.62844,\n",
            "            0.62685,     0.62605,     0.62602,     0.62471,     0.62337,     0.62258,     0.62046,     0.61854,      0.6179,     0.61614,     0.61466,     0.61292,     0.61086,      0.6071,     0.60472,     0.60358,     0.60157,     0.59972,      0.5989,     0.59724,     0.59503,     0.59112,     0.58898,\n",
            "            0.58764,     0.58698,     0.58421,     0.58171,     0.58106,     0.57907,     0.57741,     0.57446,     0.57284,     0.57061,     0.56739,     0.56454,     0.56058,     0.55734,     0.55442,     0.55267,     0.54846,     0.54545,     0.54237,     0.53829,     0.53566,     0.53296,     0.53155,\n",
            "            0.52723,     0.52566,     0.52299,     0.52163,     0.51763,      0.5155,     0.51352,     0.51232,     0.51228,     0.51088,     0.51042,     0.50865,     0.50347,     0.49846,     0.49602,       0.494,     0.49194,     0.48885,     0.48676,     0.48406,     0.48142,     0.48046,     0.47775,\n",
            "             0.4736,     0.46996,     0.46591,     0.46114,     0.45896,     0.45443,     0.45079,     0.44607,     0.44341,     0.43891,     0.43467,     0.43119,      0.4281,     0.42518,     0.42144,     0.41881,     0.41382,     0.41156,     0.41036,     0.40761,     0.40393,     0.40045,     0.39413,\n",
            "            0.38848,     0.38759,     0.38397,     0.37892,     0.37601,      0.3716,     0.36896,     0.36314,     0.36067,     0.35476,     0.34938,     0.34545,     0.34325,     0.33807,     0.33633,     0.33151,     0.32778,     0.32203,     0.31644,     0.31082,     0.30364,       0.299,     0.29651,\n",
            "            0.28652,     0.27961,     0.27587,     0.27161,     0.26572,     0.26003,     0.25591,     0.25152,     0.24762,     0.24151,     0.23819,     0.22987,      0.2231,     0.21721,     0.21293,     0.20727,     0.20319,     0.19889,      0.1923,      0.1867,     0.17834,     0.17499,     0.17107,\n",
            "            0.16788,     0.16471,      0.1627,     0.15848,      0.1514,     0.14758,     0.14396,     0.14156,     0.13795,     0.13456,      0.1264,     0.12038,     0.11844,     0.11385,     0.10919,     0.10185,    0.098073,       0.095,    0.091688,    0.086408,    0.082628,    0.079508,    0.074678,\n",
            "           0.068878,    0.064451,    0.061173,     0.05931,    0.054795,     0.04967,    0.046284,    0.041466,      0.0401,    0.036484,    0.034586,    0.032485,    0.030905,     0.02995,    0.028546,    0.027575,    0.025864,    0.023018,    0.022625,    0.022147,    0.020276,    0.019331,     0.01674,\n",
            "           0.016183,    0.014086,    0.013084,    0.011328,   0.0099012,   0.0097075,   0.0095138,   0.0093201,   0.0085336,   0.0068272,   0.0050521,   0.0037582,   0.0033296,   0.0028561,   0.0023317,   0.0014178,   0.0012028,  0.00098765,   0.0007764,  0.00077657,  0.00077667,           0,           0,\n",
            "                  0,           0,           0,           0,           0,           0,           0,           0,           0,           0,           0,           0,           0,           0,           0,           0,           0,           0,           0,           0,           0,           0,           0,\n",
            "                  0,           0,           0,           0,           0,           0,           0,           0,           0,           0,           0,           0,           0,           0,           0,           0,           0,           0,           0,           0,           0,           0,           0,\n",
            "                  0,           0,           0,           0,           0,           0,           0,           0,           0,           0,           0,           0,           0,           0,           0,           0,           0,           0,           0,           0,           0,           0,           0,\n",
            "                  0,           0,           0,           0,           0,           0,           0,           0,           0,           0,           0,           0,           0,           0,           0,           0,           0,           0,           0,           0,           0,           0,           0,\n",
            "                  0,           0,           0,           0,           0,           0,           0,           0,           0,           0,           0,           0,           0,           0,           0,           0,           0,           0,           0,           0,           0,           0,           0,\n",
            "                  0,           0,           0,           0,           0,           0,           0,           0,           0,           0,           0,           0,           0,           0,           0,           0,           0,           0,           0,           0,           0,           0,           0,\n",
            "                  0,           0,           0,           0,           0,           0,           0,           0,           0,           0,           0]]), 'Confidence', 'F1'], [array([          0,    0.001001,    0.002002,    0.003003,    0.004004,    0.005005,    0.006006,    0.007007,    0.008008,    0.009009,     0.01001,    0.011011,    0.012012,    0.013013,    0.014014,    0.015015,    0.016016,    0.017017,    0.018018,    0.019019,     0.02002,    0.021021,    0.022022,    0.023023,\n",
            "          0.024024,    0.025025,    0.026026,    0.027027,    0.028028,    0.029029,     0.03003,    0.031031,    0.032032,    0.033033,    0.034034,    0.035035,    0.036036,    0.037037,    0.038038,    0.039039,     0.04004,    0.041041,    0.042042,    0.043043,    0.044044,    0.045045,    0.046046,    0.047047,\n",
            "          0.048048,    0.049049,     0.05005,    0.051051,    0.052052,    0.053053,    0.054054,    0.055055,    0.056056,    0.057057,    0.058058,    0.059059,     0.06006,    0.061061,    0.062062,    0.063063,    0.064064,    0.065065,    0.066066,    0.067067,    0.068068,    0.069069,     0.07007,    0.071071,\n",
            "          0.072072,    0.073073,    0.074074,    0.075075,    0.076076,    0.077077,    0.078078,    0.079079,     0.08008,    0.081081,    0.082082,    0.083083,    0.084084,    0.085085,    0.086086,    0.087087,    0.088088,    0.089089,     0.09009,    0.091091,    0.092092,    0.093093,    0.094094,    0.095095,\n",
            "          0.096096,    0.097097,    0.098098,    0.099099,      0.1001,      0.1011,      0.1021,      0.1031,      0.1041,     0.10511,     0.10611,     0.10711,     0.10811,     0.10911,     0.11011,     0.11111,     0.11211,     0.11311,     0.11411,     0.11512,     0.11612,     0.11712,     0.11812,     0.11912,\n",
            "           0.12012,     0.12112,     0.12212,     0.12312,     0.12412,     0.12513,     0.12613,     0.12713,     0.12813,     0.12913,     0.13013,     0.13113,     0.13213,     0.13313,     0.13413,     0.13514,     0.13614,     0.13714,     0.13814,     0.13914,     0.14014,     0.14114,     0.14214,     0.14314,\n",
            "           0.14414,     0.14515,     0.14615,     0.14715,     0.14815,     0.14915,     0.15015,     0.15115,     0.15215,     0.15315,     0.15415,     0.15516,     0.15616,     0.15716,     0.15816,     0.15916,     0.16016,     0.16116,     0.16216,     0.16316,     0.16416,     0.16517,     0.16617,     0.16717,\n",
            "           0.16817,     0.16917,     0.17017,     0.17117,     0.17217,     0.17317,     0.17417,     0.17518,     0.17618,     0.17718,     0.17818,     0.17918,     0.18018,     0.18118,     0.18218,     0.18318,     0.18418,     0.18519,     0.18619,     0.18719,     0.18819,     0.18919,     0.19019,     0.19119,\n",
            "           0.19219,     0.19319,     0.19419,      0.1952,      0.1962,      0.1972,      0.1982,      0.1992,      0.2002,      0.2012,      0.2022,      0.2032,      0.2042,     0.20521,     0.20621,     0.20721,     0.20821,     0.20921,     0.21021,     0.21121,     0.21221,     0.21321,     0.21421,     0.21522,\n",
            "           0.21622,     0.21722,     0.21822,     0.21922,     0.22022,     0.22122,     0.22222,     0.22322,     0.22422,     0.22523,     0.22623,     0.22723,     0.22823,     0.22923,     0.23023,     0.23123,     0.23223,     0.23323,     0.23423,     0.23524,     0.23624,     0.23724,     0.23824,     0.23924,\n",
            "           0.24024,     0.24124,     0.24224,     0.24324,     0.24424,     0.24525,     0.24625,     0.24725,     0.24825,     0.24925,     0.25025,     0.25125,     0.25225,     0.25325,     0.25425,     0.25526,     0.25626,     0.25726,     0.25826,     0.25926,     0.26026,     0.26126,     0.26226,     0.26326,\n",
            "           0.26426,     0.26527,     0.26627,     0.26727,     0.26827,     0.26927,     0.27027,     0.27127,     0.27227,     0.27327,     0.27427,     0.27528,     0.27628,     0.27728,     0.27828,     0.27928,     0.28028,     0.28128,     0.28228,     0.28328,     0.28428,     0.28529,     0.28629,     0.28729,\n",
            "           0.28829,     0.28929,     0.29029,     0.29129,     0.29229,     0.29329,     0.29429,      0.2953,      0.2963,      0.2973,      0.2983,      0.2993,      0.3003,      0.3013,      0.3023,      0.3033,      0.3043,     0.30531,     0.30631,     0.30731,     0.30831,     0.30931,     0.31031,     0.31131,\n",
            "           0.31231,     0.31331,     0.31431,     0.31532,     0.31632,     0.31732,     0.31832,     0.31932,     0.32032,     0.32132,     0.32232,     0.32332,     0.32432,     0.32533,     0.32633,     0.32733,     0.32833,     0.32933,     0.33033,     0.33133,     0.33233,     0.33333,     0.33433,     0.33534,\n",
            "           0.33634,     0.33734,     0.33834,     0.33934,     0.34034,     0.34134,     0.34234,     0.34334,     0.34434,     0.34535,     0.34635,     0.34735,     0.34835,     0.34935,     0.35035,     0.35135,     0.35235,     0.35335,     0.35435,     0.35536,     0.35636,     0.35736,     0.35836,     0.35936,\n",
            "           0.36036,     0.36136,     0.36236,     0.36336,     0.36436,     0.36537,     0.36637,     0.36737,     0.36837,     0.36937,     0.37037,     0.37137,     0.37237,     0.37337,     0.37437,     0.37538,     0.37638,     0.37738,     0.37838,     0.37938,     0.38038,     0.38138,     0.38238,     0.38338,\n",
            "           0.38438,     0.38539,     0.38639,     0.38739,     0.38839,     0.38939,     0.39039,     0.39139,     0.39239,     0.39339,     0.39439,      0.3954,      0.3964,      0.3974,      0.3984,      0.3994,      0.4004,      0.4014,      0.4024,      0.4034,      0.4044,     0.40541,     0.40641,     0.40741,\n",
            "           0.40841,     0.40941,     0.41041,     0.41141,     0.41241,     0.41341,     0.41441,     0.41542,     0.41642,     0.41742,     0.41842,     0.41942,     0.42042,     0.42142,     0.42242,     0.42342,     0.42442,     0.42543,     0.42643,     0.42743,     0.42843,     0.42943,     0.43043,     0.43143,\n",
            "           0.43243,     0.43343,     0.43443,     0.43544,     0.43644,     0.43744,     0.43844,     0.43944,     0.44044,     0.44144,     0.44244,     0.44344,     0.44444,     0.44545,     0.44645,     0.44745,     0.44845,     0.44945,     0.45045,     0.45145,     0.45245,     0.45345,     0.45445,     0.45546,\n",
            "           0.45646,     0.45746,     0.45846,     0.45946,     0.46046,     0.46146,     0.46246,     0.46346,     0.46446,     0.46547,     0.46647,     0.46747,     0.46847,     0.46947,     0.47047,     0.47147,     0.47247,     0.47347,     0.47447,     0.47548,     0.47648,     0.47748,     0.47848,     0.47948,\n",
            "           0.48048,     0.48148,     0.48248,     0.48348,     0.48448,     0.48549,     0.48649,     0.48749,     0.48849,     0.48949,     0.49049,     0.49149,     0.49249,     0.49349,     0.49449,      0.4955,      0.4965,      0.4975,      0.4985,      0.4995,      0.5005,      0.5015,      0.5025,      0.5035,\n",
            "            0.5045,     0.50551,     0.50651,     0.50751,     0.50851,     0.50951,     0.51051,     0.51151,     0.51251,     0.51351,     0.51451,     0.51552,     0.51652,     0.51752,     0.51852,     0.51952,     0.52052,     0.52152,     0.52252,     0.52352,     0.52452,     0.52553,     0.52653,     0.52753,\n",
            "           0.52853,     0.52953,     0.53053,     0.53153,     0.53253,     0.53353,     0.53453,     0.53554,     0.53654,     0.53754,     0.53854,     0.53954,     0.54054,     0.54154,     0.54254,     0.54354,     0.54454,     0.54555,     0.54655,     0.54755,     0.54855,     0.54955,     0.55055,     0.55155,\n",
            "           0.55255,     0.55355,     0.55455,     0.55556,     0.55656,     0.55756,     0.55856,     0.55956,     0.56056,     0.56156,     0.56256,     0.56356,     0.56456,     0.56557,     0.56657,     0.56757,     0.56857,     0.56957,     0.57057,     0.57157,     0.57257,     0.57357,     0.57457,     0.57558,\n",
            "           0.57658,     0.57758,     0.57858,     0.57958,     0.58058,     0.58158,     0.58258,     0.58358,     0.58458,     0.58559,     0.58659,     0.58759,     0.58859,     0.58959,     0.59059,     0.59159,     0.59259,     0.59359,     0.59459,      0.5956,      0.5966,      0.5976,      0.5986,      0.5996,\n",
            "            0.6006,      0.6016,      0.6026,      0.6036,      0.6046,     0.60561,     0.60661,     0.60761,     0.60861,     0.60961,     0.61061,     0.61161,     0.61261,     0.61361,     0.61461,     0.61562,     0.61662,     0.61762,     0.61862,     0.61962,     0.62062,     0.62162,     0.62262,     0.62362,\n",
            "           0.62462,     0.62563,     0.62663,     0.62763,     0.62863,     0.62963,     0.63063,     0.63163,     0.63263,     0.63363,     0.63463,     0.63564,     0.63664,     0.63764,     0.63864,     0.63964,     0.64064,     0.64164,     0.64264,     0.64364,     0.64464,     0.64565,     0.64665,     0.64765,\n",
            "           0.64865,     0.64965,     0.65065,     0.65165,     0.65265,     0.65365,     0.65465,     0.65566,     0.65666,     0.65766,     0.65866,     0.65966,     0.66066,     0.66166,     0.66266,     0.66366,     0.66466,     0.66567,     0.66667,     0.66767,     0.66867,     0.66967,     0.67067,     0.67167,\n",
            "           0.67267,     0.67367,     0.67467,     0.67568,     0.67668,     0.67768,     0.67868,     0.67968,     0.68068,     0.68168,     0.68268,     0.68368,     0.68468,     0.68569,     0.68669,     0.68769,     0.68869,     0.68969,     0.69069,     0.69169,     0.69269,     0.69369,     0.69469,      0.6957,\n",
            "            0.6967,      0.6977,      0.6987,      0.6997,      0.7007,      0.7017,      0.7027,      0.7037,      0.7047,     0.70571,     0.70671,     0.70771,     0.70871,     0.70971,     0.71071,     0.71171,     0.71271,     0.71371,     0.71471,     0.71572,     0.71672,     0.71772,     0.71872,     0.71972,\n",
            "           0.72072,     0.72172,     0.72272,     0.72372,     0.72472,     0.72573,     0.72673,     0.72773,     0.72873,     0.72973,     0.73073,     0.73173,     0.73273,     0.73373,     0.73473,     0.73574,     0.73674,     0.73774,     0.73874,     0.73974,     0.74074,     0.74174,     0.74274,     0.74374,\n",
            "           0.74474,     0.74575,     0.74675,     0.74775,     0.74875,     0.74975,     0.75075,     0.75175,     0.75275,     0.75375,     0.75475,     0.75576,     0.75676,     0.75776,     0.75876,     0.75976,     0.76076,     0.76176,     0.76276,     0.76376,     0.76476,     0.76577,     0.76677,     0.76777,\n",
            "           0.76877,     0.76977,     0.77077,     0.77177,     0.77277,     0.77377,     0.77477,     0.77578,     0.77678,     0.77778,     0.77878,     0.77978,     0.78078,     0.78178,     0.78278,     0.78378,     0.78478,     0.78579,     0.78679,     0.78779,     0.78879,     0.78979,     0.79079,     0.79179,\n",
            "           0.79279,     0.79379,     0.79479,      0.7958,      0.7968,      0.7978,      0.7988,      0.7998,      0.8008,      0.8018,      0.8028,      0.8038,      0.8048,     0.80581,     0.80681,     0.80781,     0.80881,     0.80981,     0.81081,     0.81181,     0.81281,     0.81381,     0.81481,     0.81582,\n",
            "           0.81682,     0.81782,     0.81882,     0.81982,     0.82082,     0.82182,     0.82282,     0.82382,     0.82482,     0.82583,     0.82683,     0.82783,     0.82883,     0.82983,     0.83083,     0.83183,     0.83283,     0.83383,     0.83483,     0.83584,     0.83684,     0.83784,     0.83884,     0.83984,\n",
            "           0.84084,     0.84184,     0.84284,     0.84384,     0.84484,     0.84585,     0.84685,     0.84785,     0.84885,     0.84985,     0.85085,     0.85185,     0.85285,     0.85385,     0.85485,     0.85586,     0.85686,     0.85786,     0.85886,     0.85986,     0.86086,     0.86186,     0.86286,     0.86386,\n",
            "           0.86486,     0.86587,     0.86687,     0.86787,     0.86887,     0.86987,     0.87087,     0.87187,     0.87287,     0.87387,     0.87487,     0.87588,     0.87688,     0.87788,     0.87888,     0.87988,     0.88088,     0.88188,     0.88288,     0.88388,     0.88488,     0.88589,     0.88689,     0.88789,\n",
            "           0.88889,     0.88989,     0.89089,     0.89189,     0.89289,     0.89389,     0.89489,      0.8959,      0.8969,      0.8979,      0.8989,      0.8999,      0.9009,      0.9019,      0.9029,      0.9039,      0.9049,     0.90591,     0.90691,     0.90791,     0.90891,     0.90991,     0.91091,     0.91191,\n",
            "           0.91291,     0.91391,     0.91491,     0.91592,     0.91692,     0.91792,     0.91892,     0.91992,     0.92092,     0.92192,     0.92292,     0.92392,     0.92492,     0.92593,     0.92693,     0.92793,     0.92893,     0.92993,     0.93093,     0.93193,     0.93293,     0.93393,     0.93493,     0.93594,\n",
            "           0.93694,     0.93794,     0.93894,     0.93994,     0.94094,     0.94194,     0.94294,     0.94394,     0.94494,     0.94595,     0.94695,     0.94795,     0.94895,     0.94995,     0.95095,     0.95195,     0.95295,     0.95395,     0.95495,     0.95596,     0.95696,     0.95796,     0.95896,     0.95996,\n",
            "           0.96096,     0.96196,     0.96296,     0.96396,     0.96496,     0.96597,     0.96697,     0.96797,     0.96897,     0.96997,     0.97097,     0.97197,     0.97297,     0.97397,     0.97497,     0.97598,     0.97698,     0.97798,     0.97898,     0.97998,     0.98098,     0.98198,     0.98298,     0.98398,\n",
            "           0.98498,     0.98599,     0.98699,     0.98799,     0.98899,     0.98999,     0.99099,     0.99199,     0.99299,     0.99399,     0.99499,       0.996,       0.997,       0.998,       0.999,           1]), array([[    0.23861,     0.23865,     0.28712,      0.3111,     0.32556,     0.33738,     0.34671,     0.35505,      0.3623,     0.36942,     0.37575,     0.38085,     0.38587,     0.39118,     0.39493,     0.39857,     0.40469,     0.40862,     0.41237,     0.41557,     0.41942,     0.42201,     0.42589,\n",
            "            0.42944,     0.43322,     0.43512,     0.43832,      0.4414,     0.44455,     0.44761,     0.45033,     0.45324,       0.455,     0.45754,     0.46065,     0.46246,      0.4648,     0.46808,     0.47093,     0.47276,     0.47475,     0.47804,      0.4805,     0.48224,     0.48323,     0.48515,\n",
            "            0.48722,     0.48996,     0.49265,     0.49441,      0.4971,     0.49871,     0.50081,     0.50341,     0.50586,     0.50883,     0.51106,     0.51386,     0.51607,     0.51817,     0.52098,     0.52304,     0.52551,     0.52826,     0.53045,     0.53285,     0.53562,     0.53693,     0.53824,\n",
            "            0.54103,     0.54353,     0.54571,     0.54707,     0.54824,     0.54996,     0.55156,      0.5531,     0.55482,     0.55605,     0.55744,     0.56121,     0.56402,     0.56539,      0.5675,     0.56875,     0.57106,     0.57351,      0.5751,     0.57588,     0.57808,     0.57982,     0.58146,\n",
            "            0.58351,     0.58546,     0.58746,     0.58834,     0.58998,     0.59199,     0.59392,     0.59463,     0.59658,     0.59791,     0.59984,     0.60092,     0.60268,      0.6043,     0.60631,      0.6075,     0.60855,     0.61028,       0.613,     0.61425,     0.61581,     0.61757,      0.6185,\n",
            "            0.62035,     0.62254,     0.62418,     0.62567,     0.62645,      0.6282,     0.62948,     0.63132,     0.63235,     0.63431,     0.63585,     0.63739,     0.63903,     0.64057,     0.64169,     0.64368,     0.64517,     0.64647,     0.64728,     0.64907,     0.64981,     0.65113,     0.65247,\n",
            "            0.65341,     0.65524,     0.65652,     0.65741,     0.65863,     0.65921,     0.66017,     0.66195,     0.66356,     0.66492,     0.66565,     0.66648,      0.6686,     0.67074,     0.67125,      0.6721,     0.67365,     0.67482,     0.67585,     0.67713,     0.67865,     0.68015,     0.68187,\n",
            "            0.68293,     0.68334,     0.68387,     0.68482,     0.68621,     0.68717,     0.68852,     0.68959,     0.69089,     0.69155,       0.692,     0.69328,     0.69404,     0.69527,     0.69597,     0.69636,     0.69654,     0.69746,     0.69801,      0.6989,     0.69976,     0.70065,     0.70093,\n",
            "            0.70119,     0.70213,     0.70265,     0.70392,     0.70453,      0.7053,     0.70575,     0.70697,     0.70761,     0.70845,     0.70851,     0.70951,     0.71037,     0.71142,      0.7116,     0.71265,     0.71377,     0.71518,     0.71551,      0.7163,      0.7167,     0.71686,     0.71718,\n",
            "            0.71747,     0.71828,     0.71911,     0.71966,     0.71984,     0.71997,      0.7204,     0.72069,     0.72135,     0.72185,     0.72229,     0.72317,     0.72349,     0.72357,     0.72377,     0.72396,     0.72422,     0.72477,     0.72564,     0.72627,     0.72662,     0.72691,     0.72736,\n",
            "            0.72828,      0.7288,     0.72923,     0.72979,     0.73033,      0.7305,     0.73147,     0.73169,     0.73183,     0.73185,     0.73305,     0.73379,     0.73387,     0.73445,      0.7346,      0.7353,     0.73589,      0.7362,     0.73647,     0.73742,     0.73786,     0.73844,     0.73912,\n",
            "            0.74009,     0.74054,     0.74088,     0.74153,     0.74222,      0.7424,     0.74264,     0.74324,     0.74375,     0.74431,     0.74446,     0.74486,     0.74502,       0.745,     0.74535,     0.74606,     0.74625,     0.74684,     0.74736,     0.74763,      0.7478,     0.74806,     0.74846,\n",
            "            0.74918,     0.74953,     0.75003,      0.7502,     0.75046,     0.75077,     0.75121,     0.75152,     0.75174,     0.75208,     0.75255,     0.75271,     0.75342,     0.75447,     0.75477,     0.75504,     0.75548,     0.75565,     0.75577,      0.7559,     0.75606,     0.75623,      0.7564,\n",
            "             0.7562,     0.75625,     0.75691,     0.75735,     0.75753,     0.75788,     0.75796,     0.75803,     0.75811,     0.75821,     0.75838,     0.75911,     0.75945,     0.75963,     0.75974,     0.75984,     0.75988,     0.75986,     0.75984,     0.75982,     0.75979,     0.75979,     0.75997,\n",
            "            0.76026,     0.76028,     0.76064,      0.7614,     0.76155,      0.7617,     0.76185,     0.76198,      0.7621,     0.76221,     0.76245,      0.7628,       0.763,     0.76294,     0.76349,     0.76424,     0.76449,     0.76472,     0.76516,     0.76593,     0.76625,     0.76657,     0.76678,\n",
            "            0.76695,     0.76746,      0.7675,     0.76754,     0.76804,       0.768,     0.76796,     0.76802,     0.76835,     0.76829,     0.76844,     0.76851,     0.76841,     0.76864,     0.76874,     0.76899,     0.76898,     0.76897,     0.76932,     0.76952,     0.76982,     0.77003,     0.76992,\n",
            "            0.76986,     0.77003,     0.76999,      0.7706,     0.77074,     0.77106,     0.77156,     0.77179,     0.77198,      0.7724,     0.77285,     0.77308,     0.77332,     0.77425,     0.77449,      0.7748,     0.77488,     0.77497,     0.77505,     0.77499,      0.7751,     0.77492,     0.77525,\n",
            "            0.77579,     0.77627,     0.77612,     0.77615,     0.77654,     0.77678,     0.77669,     0.77676,     0.77686,     0.77696,     0.77694,     0.77699,     0.77708,     0.77703,      0.7773,     0.77746,     0.77786,     0.77803,     0.77811,     0.77842,     0.77812,     0.77837,     0.77859,\n",
            "            0.77854,     0.77876,     0.77897,      0.7789,     0.77931,     0.77956,     0.77958,     0.77977,     0.78004,      0.7802,      0.7804,     0.78091,     0.78084,     0.78142,     0.78131,     0.78218,     0.78251,     0.78274,     0.78285,     0.78295,     0.78325,      0.7836,     0.78393,\n",
            "            0.78389,     0.78418,     0.78441,      0.7843,     0.78428,     0.78444,     0.78436,     0.78498,     0.78568,     0.78589,       0.786,      0.7859,     0.78664,     0.78683,     0.78689,     0.78715,     0.78731,     0.78809,     0.78823,     0.78841,     0.78846,     0.78825,     0.78862,\n",
            "            0.78856,     0.78874,      0.7889,     0.78933,     0.78892,     0.78935,      0.7893,     0.78936,     0.78963,     0.78982,     0.78949,     0.78908,     0.78923,     0.78941,     0.78943,     0.78953,     0.79003,     0.78979,     0.78975,     0.78964,     0.79023,     0.78989,     0.78961,\n",
            "            0.78987,     0.79001,     0.79022,     0.79061,     0.79036,     0.79028,     0.79044,     0.79035,      0.7906,     0.79014,     0.78999,     0.78961,     0.79093,     0.79084,     0.79059,     0.79041,     0.79061,     0.79067,     0.79084,      0.7911,      0.7915,     0.79231,     0.79232,\n",
            "            0.79259,     0.79309,     0.79344,     0.79356,     0.79381,     0.79435,     0.79497,     0.79594,     0.79645,     0.79685,     0.79718,     0.79744,      0.7974,     0.79723,     0.79744,     0.79724,     0.79697,     0.79678,     0.79681,     0.79702,     0.79665,     0.79668,     0.79689,\n",
            "            0.79638,     0.79606,      0.7962,     0.79627,     0.79672,     0.79652,     0.79636,     0.79658,     0.79751,      0.7978,     0.79768,     0.79806,      0.7983,     0.79852,     0.79913,     0.80011,      0.7998,      0.7999,     0.80023,      0.8001,     0.80003,     0.80032,     0.79986,\n",
            "            0.80044,     0.80022,     0.80084,     0.80062,     0.80121,     0.80137,     0.80163,     0.80221,     0.80194,     0.80235,     0.80262,     0.80254,     0.80274,     0.80327,      0.8039,     0.80388,     0.80468,     0.80476,     0.80559,     0.80597,     0.80648,     0.80682,     0.80761,\n",
            "            0.80745,      0.8078,     0.80823,     0.80788,     0.80786,     0.80851,     0.80838,     0.80852,     0.80892,     0.80961,     0.80962,     0.80961,     0.80987,     0.81068,     0.81074,     0.81096,     0.81172,      0.8117,     0.81214,     0.81244,     0.81282,     0.81277,     0.81357,\n",
            "            0.81408,     0.81381,     0.81387,     0.81405,     0.81394,     0.81387,     0.81424,     0.81487,     0.81575,     0.81598,     0.81612,     0.81603,     0.81692,      0.8177,      0.8179,     0.81841,     0.81833,     0.81957,     0.81872,     0.81959,     0.81989,     0.82045,     0.82021,\n",
            "            0.82116,     0.82095,     0.82126,     0.82133,     0.82092,     0.82111,     0.82152,     0.82208,     0.82199,     0.82205,     0.82198,     0.82163,      0.8208,     0.82198,     0.82131,     0.82135,     0.82054,     0.82041,     0.82063,     0.82078,     0.82317,     0.82368,     0.82411,\n",
            "            0.82357,     0.82472,      0.8263,     0.82665,     0.82764,     0.82883,     0.82862,     0.82847,     0.82875,     0.82816,     0.82866,     0.82907,     0.82939,     0.82863,     0.82885,        0.83,     0.82985,     0.82928,     0.82947,       0.831,     0.83079,        0.83,     0.82981,\n",
            "            0.83097,     0.83291,     0.83198,     0.83224,     0.83346,     0.83481,     0.83469,     0.83426,      0.8338,     0.83353,     0.83243,     0.83261,     0.83299,     0.83306,     0.83264,     0.83323,     0.83237,      0.8325,     0.83268,     0.83186,     0.83146,     0.83249,     0.83262,\n",
            "            0.83172,     0.83368,     0.83477,     0.83555,     0.83619,     0.83636,     0.83608,     0.83702,     0.83907,     0.84169,     0.84326,     0.84413,     0.84376,     0.84272,     0.84186,     0.84335,     0.84487,     0.84452,     0.84474,     0.84434,      0.8435,     0.84537,     0.84597,\n",
            "            0.84607,     0.84475,     0.84488,     0.84394,      0.8447,     0.84562,     0.84683,     0.84791,       0.852,     0.85034,     0.84875,      0.8502,     0.84996,     0.84979,     0.85066,     0.85214,     0.85022,     0.85131,     0.85459,     0.85412,     0.85544,      0.8541,     0.85574,\n",
            "            0.85686,     0.85967,     0.86092,     0.86322,     0.86442,     0.86626,     0.86764,     0.86539,     0.86812,      0.8658,     0.86364,     0.86331,      0.8637,      0.8642,     0.86888,     0.86827,     0.87094,     0.87144,     0.87205,     0.87422,     0.87338,       0.876,     0.87767,\n",
            "            0.87839,     0.87532,     0.87538,      0.8734,     0.87754,      0.8772,     0.87716,     0.87501,     0.87305,     0.87191,     0.87015,     0.86553,     0.86599,     0.86706,     0.86446,     0.86653,     0.87184,     0.87307,     0.86887,     0.87463,     0.87356,     0.87124,     0.87148,\n",
            "            0.86916,     0.86996,     0.87167,     0.86844,     0.86613,     0.87366,     0.88196,     0.89184,     0.89735,     0.89487,     0.89792,     0.90217,     0.90064,     0.90195,     0.90882,     0.90842,      0.9112,     0.90978,     0.91864,     0.91388,     0.91013,     0.91451,     0.90928,\n",
            "            0.90212,     0.92468,     0.92084,     0.92928,      0.9356,     0.92926,     0.92435,     0.94788,     0.94616,     0.95989,     0.95774,     0.95508,     0.95286,     0.95141,      0.9491,     0.97152,     0.97121,     0.96772,     0.96716,     0.96647,     0.96346,     0.96173,       0.956,\n",
            "            0.95456,     0.94806,      0.9443,     0.93612,     0.92753,     0.92615,     0.92477,     0.92338,     0.91689,       0.898,     0.86645,     0.82826,      0.8098,     0.78412,     0.75028,      0.6378,     0.59159,     0.54538,     0.50358,     0.70191,     0.90024,           1,           1,\n",
            "                  1,           1,           1,           1,           1,           1,           1,           1,           1,           1,           1,           1,           1,           1,           1,           1,           1,           1,           1,           1,           1,           1,           1,\n",
            "                  1,           1,           1,           1,           1,           1,           1,           1,           1,           1,           1,           1,           1,           1,           1,           1,           1,           1,           1,           1,           1,           1,           1,\n",
            "                  1,           1,           1,           1,           1,           1,           1,           1,           1,           1,           1,           1,           1,           1,           1,           1,           1,           1,           1,           1,           1,           1,           1,\n",
            "                  1,           1,           1,           1,           1,           1,           1,           1,           1,           1,           1,           1,           1,           1,           1,           1,           1,           1,           1,           1,           1,           1,           1,\n",
            "                  1,           1,           1,           1,           1,           1,           1,           1,           1,           1,           1,           1,           1,           1,           1,           1,           1,           1,           1,           1,           1,           1,           1,\n",
            "                  1,           1,           1,           1,           1,           1,           1,           1,           1,           1,           1,           1,           1,           1,           1,           1,           1,           1,           1,           1,           1,           1,           1,\n",
            "                  1,           1,           1,           1,           1,           1,           1,           1,           1,           1,           1]]), 'Confidence', 'Precision'], [array([          0,    0.001001,    0.002002,    0.003003,    0.004004,    0.005005,    0.006006,    0.007007,    0.008008,    0.009009,     0.01001,    0.011011,    0.012012,    0.013013,    0.014014,    0.015015,    0.016016,    0.017017,    0.018018,    0.019019,     0.02002,    0.021021,    0.022022,    0.023023,\n",
            "          0.024024,    0.025025,    0.026026,    0.027027,    0.028028,    0.029029,     0.03003,    0.031031,    0.032032,    0.033033,    0.034034,    0.035035,    0.036036,    0.037037,    0.038038,    0.039039,     0.04004,    0.041041,    0.042042,    0.043043,    0.044044,    0.045045,    0.046046,    0.047047,\n",
            "          0.048048,    0.049049,     0.05005,    0.051051,    0.052052,    0.053053,    0.054054,    0.055055,    0.056056,    0.057057,    0.058058,    0.059059,     0.06006,    0.061061,    0.062062,    0.063063,    0.064064,    0.065065,    0.066066,    0.067067,    0.068068,    0.069069,     0.07007,    0.071071,\n",
            "          0.072072,    0.073073,    0.074074,    0.075075,    0.076076,    0.077077,    0.078078,    0.079079,     0.08008,    0.081081,    0.082082,    0.083083,    0.084084,    0.085085,    0.086086,    0.087087,    0.088088,    0.089089,     0.09009,    0.091091,    0.092092,    0.093093,    0.094094,    0.095095,\n",
            "          0.096096,    0.097097,    0.098098,    0.099099,      0.1001,      0.1011,      0.1021,      0.1031,      0.1041,     0.10511,     0.10611,     0.10711,     0.10811,     0.10911,     0.11011,     0.11111,     0.11211,     0.11311,     0.11411,     0.11512,     0.11612,     0.11712,     0.11812,     0.11912,\n",
            "           0.12012,     0.12112,     0.12212,     0.12312,     0.12412,     0.12513,     0.12613,     0.12713,     0.12813,     0.12913,     0.13013,     0.13113,     0.13213,     0.13313,     0.13413,     0.13514,     0.13614,     0.13714,     0.13814,     0.13914,     0.14014,     0.14114,     0.14214,     0.14314,\n",
            "           0.14414,     0.14515,     0.14615,     0.14715,     0.14815,     0.14915,     0.15015,     0.15115,     0.15215,     0.15315,     0.15415,     0.15516,     0.15616,     0.15716,     0.15816,     0.15916,     0.16016,     0.16116,     0.16216,     0.16316,     0.16416,     0.16517,     0.16617,     0.16717,\n",
            "           0.16817,     0.16917,     0.17017,     0.17117,     0.17217,     0.17317,     0.17417,     0.17518,     0.17618,     0.17718,     0.17818,     0.17918,     0.18018,     0.18118,     0.18218,     0.18318,     0.18418,     0.18519,     0.18619,     0.18719,     0.18819,     0.18919,     0.19019,     0.19119,\n",
            "           0.19219,     0.19319,     0.19419,      0.1952,      0.1962,      0.1972,      0.1982,      0.1992,      0.2002,      0.2012,      0.2022,      0.2032,      0.2042,     0.20521,     0.20621,     0.20721,     0.20821,     0.20921,     0.21021,     0.21121,     0.21221,     0.21321,     0.21421,     0.21522,\n",
            "           0.21622,     0.21722,     0.21822,     0.21922,     0.22022,     0.22122,     0.22222,     0.22322,     0.22422,     0.22523,     0.22623,     0.22723,     0.22823,     0.22923,     0.23023,     0.23123,     0.23223,     0.23323,     0.23423,     0.23524,     0.23624,     0.23724,     0.23824,     0.23924,\n",
            "           0.24024,     0.24124,     0.24224,     0.24324,     0.24424,     0.24525,     0.24625,     0.24725,     0.24825,     0.24925,     0.25025,     0.25125,     0.25225,     0.25325,     0.25425,     0.25526,     0.25626,     0.25726,     0.25826,     0.25926,     0.26026,     0.26126,     0.26226,     0.26326,\n",
            "           0.26426,     0.26527,     0.26627,     0.26727,     0.26827,     0.26927,     0.27027,     0.27127,     0.27227,     0.27327,     0.27427,     0.27528,     0.27628,     0.27728,     0.27828,     0.27928,     0.28028,     0.28128,     0.28228,     0.28328,     0.28428,     0.28529,     0.28629,     0.28729,\n",
            "           0.28829,     0.28929,     0.29029,     0.29129,     0.29229,     0.29329,     0.29429,      0.2953,      0.2963,      0.2973,      0.2983,      0.2993,      0.3003,      0.3013,      0.3023,      0.3033,      0.3043,     0.30531,     0.30631,     0.30731,     0.30831,     0.30931,     0.31031,     0.31131,\n",
            "           0.31231,     0.31331,     0.31431,     0.31532,     0.31632,     0.31732,     0.31832,     0.31932,     0.32032,     0.32132,     0.32232,     0.32332,     0.32432,     0.32533,     0.32633,     0.32733,     0.32833,     0.32933,     0.33033,     0.33133,     0.33233,     0.33333,     0.33433,     0.33534,\n",
            "           0.33634,     0.33734,     0.33834,     0.33934,     0.34034,     0.34134,     0.34234,     0.34334,     0.34434,     0.34535,     0.34635,     0.34735,     0.34835,     0.34935,     0.35035,     0.35135,     0.35235,     0.35335,     0.35435,     0.35536,     0.35636,     0.35736,     0.35836,     0.35936,\n",
            "           0.36036,     0.36136,     0.36236,     0.36336,     0.36436,     0.36537,     0.36637,     0.36737,     0.36837,     0.36937,     0.37037,     0.37137,     0.37237,     0.37337,     0.37437,     0.37538,     0.37638,     0.37738,     0.37838,     0.37938,     0.38038,     0.38138,     0.38238,     0.38338,\n",
            "           0.38438,     0.38539,     0.38639,     0.38739,     0.38839,     0.38939,     0.39039,     0.39139,     0.39239,     0.39339,     0.39439,      0.3954,      0.3964,      0.3974,      0.3984,      0.3994,      0.4004,      0.4014,      0.4024,      0.4034,      0.4044,     0.40541,     0.40641,     0.40741,\n",
            "           0.40841,     0.40941,     0.41041,     0.41141,     0.41241,     0.41341,     0.41441,     0.41542,     0.41642,     0.41742,     0.41842,     0.41942,     0.42042,     0.42142,     0.42242,     0.42342,     0.42442,     0.42543,     0.42643,     0.42743,     0.42843,     0.42943,     0.43043,     0.43143,\n",
            "           0.43243,     0.43343,     0.43443,     0.43544,     0.43644,     0.43744,     0.43844,     0.43944,     0.44044,     0.44144,     0.44244,     0.44344,     0.44444,     0.44545,     0.44645,     0.44745,     0.44845,     0.44945,     0.45045,     0.45145,     0.45245,     0.45345,     0.45445,     0.45546,\n",
            "           0.45646,     0.45746,     0.45846,     0.45946,     0.46046,     0.46146,     0.46246,     0.46346,     0.46446,     0.46547,     0.46647,     0.46747,     0.46847,     0.46947,     0.47047,     0.47147,     0.47247,     0.47347,     0.47447,     0.47548,     0.47648,     0.47748,     0.47848,     0.47948,\n",
            "           0.48048,     0.48148,     0.48248,     0.48348,     0.48448,     0.48549,     0.48649,     0.48749,     0.48849,     0.48949,     0.49049,     0.49149,     0.49249,     0.49349,     0.49449,      0.4955,      0.4965,      0.4975,      0.4985,      0.4995,      0.5005,      0.5015,      0.5025,      0.5035,\n",
            "            0.5045,     0.50551,     0.50651,     0.50751,     0.50851,     0.50951,     0.51051,     0.51151,     0.51251,     0.51351,     0.51451,     0.51552,     0.51652,     0.51752,     0.51852,     0.51952,     0.52052,     0.52152,     0.52252,     0.52352,     0.52452,     0.52553,     0.52653,     0.52753,\n",
            "           0.52853,     0.52953,     0.53053,     0.53153,     0.53253,     0.53353,     0.53453,     0.53554,     0.53654,     0.53754,     0.53854,     0.53954,     0.54054,     0.54154,     0.54254,     0.54354,     0.54454,     0.54555,     0.54655,     0.54755,     0.54855,     0.54955,     0.55055,     0.55155,\n",
            "           0.55255,     0.55355,     0.55455,     0.55556,     0.55656,     0.55756,     0.55856,     0.55956,     0.56056,     0.56156,     0.56256,     0.56356,     0.56456,     0.56557,     0.56657,     0.56757,     0.56857,     0.56957,     0.57057,     0.57157,     0.57257,     0.57357,     0.57457,     0.57558,\n",
            "           0.57658,     0.57758,     0.57858,     0.57958,     0.58058,     0.58158,     0.58258,     0.58358,     0.58458,     0.58559,     0.58659,     0.58759,     0.58859,     0.58959,     0.59059,     0.59159,     0.59259,     0.59359,     0.59459,      0.5956,      0.5966,      0.5976,      0.5986,      0.5996,\n",
            "            0.6006,      0.6016,      0.6026,      0.6036,      0.6046,     0.60561,     0.60661,     0.60761,     0.60861,     0.60961,     0.61061,     0.61161,     0.61261,     0.61361,     0.61461,     0.61562,     0.61662,     0.61762,     0.61862,     0.61962,     0.62062,     0.62162,     0.62262,     0.62362,\n",
            "           0.62462,     0.62563,     0.62663,     0.62763,     0.62863,     0.62963,     0.63063,     0.63163,     0.63263,     0.63363,     0.63463,     0.63564,     0.63664,     0.63764,     0.63864,     0.63964,     0.64064,     0.64164,     0.64264,     0.64364,     0.64464,     0.64565,     0.64665,     0.64765,\n",
            "           0.64865,     0.64965,     0.65065,     0.65165,     0.65265,     0.65365,     0.65465,     0.65566,     0.65666,     0.65766,     0.65866,     0.65966,     0.66066,     0.66166,     0.66266,     0.66366,     0.66466,     0.66567,     0.66667,     0.66767,     0.66867,     0.66967,     0.67067,     0.67167,\n",
            "           0.67267,     0.67367,     0.67467,     0.67568,     0.67668,     0.67768,     0.67868,     0.67968,     0.68068,     0.68168,     0.68268,     0.68368,     0.68468,     0.68569,     0.68669,     0.68769,     0.68869,     0.68969,     0.69069,     0.69169,     0.69269,     0.69369,     0.69469,      0.6957,\n",
            "            0.6967,      0.6977,      0.6987,      0.6997,      0.7007,      0.7017,      0.7027,      0.7037,      0.7047,     0.70571,     0.70671,     0.70771,     0.70871,     0.70971,     0.71071,     0.71171,     0.71271,     0.71371,     0.71471,     0.71572,     0.71672,     0.71772,     0.71872,     0.71972,\n",
            "           0.72072,     0.72172,     0.72272,     0.72372,     0.72472,     0.72573,     0.72673,     0.72773,     0.72873,     0.72973,     0.73073,     0.73173,     0.73273,     0.73373,     0.73473,     0.73574,     0.73674,     0.73774,     0.73874,     0.73974,     0.74074,     0.74174,     0.74274,     0.74374,\n",
            "           0.74474,     0.74575,     0.74675,     0.74775,     0.74875,     0.74975,     0.75075,     0.75175,     0.75275,     0.75375,     0.75475,     0.75576,     0.75676,     0.75776,     0.75876,     0.75976,     0.76076,     0.76176,     0.76276,     0.76376,     0.76476,     0.76577,     0.76677,     0.76777,\n",
            "           0.76877,     0.76977,     0.77077,     0.77177,     0.77277,     0.77377,     0.77477,     0.77578,     0.77678,     0.77778,     0.77878,     0.77978,     0.78078,     0.78178,     0.78278,     0.78378,     0.78478,     0.78579,     0.78679,     0.78779,     0.78879,     0.78979,     0.79079,     0.79179,\n",
            "           0.79279,     0.79379,     0.79479,      0.7958,      0.7968,      0.7978,      0.7988,      0.7998,      0.8008,      0.8018,      0.8028,      0.8038,      0.8048,     0.80581,     0.80681,     0.80781,     0.80881,     0.80981,     0.81081,     0.81181,     0.81281,     0.81381,     0.81481,     0.81582,\n",
            "           0.81682,     0.81782,     0.81882,     0.81982,     0.82082,     0.82182,     0.82282,     0.82382,     0.82482,     0.82583,     0.82683,     0.82783,     0.82883,     0.82983,     0.83083,     0.83183,     0.83283,     0.83383,     0.83483,     0.83584,     0.83684,     0.83784,     0.83884,     0.83984,\n",
            "           0.84084,     0.84184,     0.84284,     0.84384,     0.84484,     0.84585,     0.84685,     0.84785,     0.84885,     0.84985,     0.85085,     0.85185,     0.85285,     0.85385,     0.85485,     0.85586,     0.85686,     0.85786,     0.85886,     0.85986,     0.86086,     0.86186,     0.86286,     0.86386,\n",
            "           0.86486,     0.86587,     0.86687,     0.86787,     0.86887,     0.86987,     0.87087,     0.87187,     0.87287,     0.87387,     0.87487,     0.87588,     0.87688,     0.87788,     0.87888,     0.87988,     0.88088,     0.88188,     0.88288,     0.88388,     0.88488,     0.88589,     0.88689,     0.88789,\n",
            "           0.88889,     0.88989,     0.89089,     0.89189,     0.89289,     0.89389,     0.89489,      0.8959,      0.8969,      0.8979,      0.8989,      0.8999,      0.9009,      0.9019,      0.9029,      0.9039,      0.9049,     0.90591,     0.90691,     0.90791,     0.90891,     0.90991,     0.91091,     0.91191,\n",
            "           0.91291,     0.91391,     0.91491,     0.91592,     0.91692,     0.91792,     0.91892,     0.91992,     0.92092,     0.92192,     0.92292,     0.92392,     0.92492,     0.92593,     0.92693,     0.92793,     0.92893,     0.92993,     0.93093,     0.93193,     0.93293,     0.93393,     0.93493,     0.93594,\n",
            "           0.93694,     0.93794,     0.93894,     0.93994,     0.94094,     0.94194,     0.94294,     0.94394,     0.94494,     0.94595,     0.94695,     0.94795,     0.94895,     0.94995,     0.95095,     0.95195,     0.95295,     0.95395,     0.95495,     0.95596,     0.95696,     0.95796,     0.95896,     0.95996,\n",
            "           0.96096,     0.96196,     0.96296,     0.96396,     0.96496,     0.96597,     0.96697,     0.96797,     0.96897,     0.96997,     0.97097,     0.97197,     0.97297,     0.97397,     0.97497,     0.97598,     0.97698,     0.97798,     0.97898,     0.97998,     0.98098,     0.98198,     0.98298,     0.98398,\n",
            "           0.98498,     0.98599,     0.98699,     0.98799,     0.98899,     0.98999,     0.99099,     0.99199,     0.99299,     0.99399,     0.99499,       0.996,       0.997,       0.998,       0.999,           1]), array([[     0.8547,      0.8547,     0.84693,     0.84227,     0.83683,     0.83294,     0.83139,     0.82945,     0.82789,     0.82751,     0.82479,     0.82401,     0.82362,     0.82284,     0.82168,     0.82051,     0.82012,     0.81857,     0.81818,     0.81779,      0.8174,      0.8174,     0.81702,\n",
            "            0.81702,     0.81702,     0.81663,     0.81663,     0.81663,     0.81624,     0.81585,     0.81546,     0.81469,     0.81469,     0.81469,     0.81469,     0.81391,     0.81352,     0.81352,     0.81274,     0.81235,     0.81158,     0.81089,     0.81041,     0.81002,     0.80963,     0.80925,\n",
            "            0.80925,     0.80925,     0.80886,     0.80886,     0.80847,     0.80847,     0.80847,     0.80808,     0.80808,     0.80808,     0.80769,      0.8073,     0.80692,     0.80653,     0.80653,     0.80653,     0.80653,     0.80653,     0.80653,     0.80653,     0.80575,     0.80497,     0.80458,\n",
            "            0.80381,     0.80342,     0.80264,     0.80225,     0.80186,     0.80148,     0.80148,     0.80148,     0.80109,     0.80109,     0.80109,     0.80109,      0.8007,      0.8007,      0.8007,      0.8007,      0.8007,      0.8007,      0.8007,      0.8007,     0.79992,     0.79915,     0.79915,\n",
            "            0.79915,     0.79915,     0.79915,     0.79915,     0.79915,     0.79876,     0.79876,      0.7984,     0.79837,     0.79837,     0.79837,     0.79798,     0.79798,     0.79798,     0.79798,      0.7972,     0.79681,     0.79681,     0.79604,     0.79604,     0.79604,     0.79565,     0.79565,\n",
            "            0.79565,     0.79565,     0.79565,     0.79547,     0.79526,     0.79448,     0.79448,     0.79448,     0.79409,     0.79409,     0.79409,     0.79371,     0.79371,     0.79371,     0.79332,     0.79332,     0.79332,     0.79332,     0.79332,     0.79332,     0.79226,     0.79215,     0.79215,\n",
            "            0.79174,     0.79138,      0.7906,      0.7906,      0.7906,      0.7906,      0.7906,      0.7906,     0.79021,     0.78982,     0.78982,     0.78955,     0.78943,     0.78943,     0.78943,     0.78943,     0.78943,     0.78943,     0.78904,     0.78871,     0.78866,     0.78827,     0.78788,\n",
            "            0.78749,     0.78749,     0.78749,      0.7871,     0.78632,     0.78632,     0.78632,     0.78632,     0.78632,     0.78632,     0.78632,     0.78632,     0.78632,     0.78632,     0.78594,     0.78584,     0.78477,     0.78438,     0.78438,     0.78438,     0.78399,     0.78399,     0.78399,\n",
            "            0.78399,     0.78399,     0.78399,     0.78399,     0.78399,     0.78399,     0.78363,     0.78361,     0.78361,     0.78361,     0.78322,     0.78322,     0.78322,     0.78322,     0.78322,     0.78322,     0.78322,     0.78322,     0.78322,     0.78322,     0.78322,     0.78322,     0.78322,\n",
            "            0.78322,     0.78322,     0.78322,     0.78322,     0.78322,     0.78322,     0.78322,     0.78322,     0.78322,     0.78322,     0.78322,     0.78322,     0.78322,     0.78302,     0.78283,     0.78283,     0.78254,     0.78244,     0.78244,     0.78205,     0.78166,     0.78166,     0.78166,\n",
            "            0.78166,     0.78166,     0.78166,     0.78166,     0.78166,     0.78166,     0.78166,     0.78166,     0.78166,     0.78127,     0.78127,     0.78127,     0.78099,     0.78089,     0.78089,     0.78089,     0.78089,     0.78089,     0.78089,     0.78089,     0.78077,      0.7805,      0.7805,\n",
            "             0.7805,      0.7805,      0.7805,      0.7805,      0.7805,      0.7805,     0.78026,     0.78011,     0.78011,     0.78011,     0.78011,     0.78011,     0.78011,     0.77976,     0.77933,     0.77933,     0.77933,     0.77933,     0.77919,     0.77894,     0.77894,     0.77864,     0.77855,\n",
            "            0.77778,     0.77778,     0.77739,     0.77739,     0.77739,       0.777,       0.777,       0.777,       0.777,       0.777,       0.777,       0.777,       0.777,       0.777,       0.777,       0.777,       0.777,       0.777,       0.777,       0.777,       0.777,       0.777,       0.777,\n",
            "            0.77605,     0.77584,     0.77584,     0.77584,     0.77584,     0.77584,     0.77584,     0.77584,     0.77584,     0.77584,     0.77584,     0.77584,     0.77584,     0.77584,     0.77584,     0.77584,     0.77579,      0.7757,     0.77562,     0.77553,      0.7754,     0.77506,     0.77506,\n",
            "            0.77494,     0.77467,     0.77467,     0.77467,     0.77467,     0.77467,     0.77467,     0.77467,     0.77467,     0.77467,     0.77467,     0.77467,     0.77421,     0.77397,     0.77389,     0.77389,     0.77389,     0.77389,      0.7735,      0.7735,      0.7735,      0.7735,      0.7735,\n",
            "             0.7735,      0.7735,     0.77332,     0.77312,      0.7731,     0.77292,     0.77275,     0.77234,     0.77185,     0.77162,     0.77156,     0.77126,     0.77078,     0.77053,      0.7704,     0.77001,     0.76945,     0.76923,     0.76923,     0.76923,     0.76884,     0.76881,     0.76832,\n",
            "            0.76768,     0.76752,     0.76734,     0.76729,     0.76729,     0.76729,     0.76729,      0.7669,      0.7668,     0.76651,     0.76651,     0.76651,     0.76651,     0.76612,     0.76573,     0.76573,     0.76573,     0.76573,     0.76573,     0.76541,     0.76452,     0.76374,     0.76301,\n",
            "            0.76301,     0.76301,     0.76227,     0.76185,     0.76185,     0.76116,     0.76073,     0.76068,     0.76068,     0.76068,     0.76048,     0.75991,     0.75974,     0.75954,     0.75936,     0.75913,     0.75913,      0.7585,     0.75796,     0.75749,     0.75614,     0.75563,     0.75548,\n",
            "            0.75527,     0.75486,     0.75441,      0.7533,     0.75291,     0.75291,     0.75253,     0.75253,     0.75224,     0.75159,     0.75097,     0.75052,     0.75022,     0.75019,     0.74951,     0.74916,     0.74864,     0.74864,     0.74864,     0.74864,     0.74864,     0.74864,     0.74847,\n",
            "            0.74826,     0.74825,     0.74775,     0.74728,      0.7467,      0.7467,     0.74613,     0.74553,     0.74514,     0.74436,     0.74342,       0.743,     0.74281,     0.74137,     0.74009,     0.74009,     0.73919,      0.7383,      0.7375,     0.73681,     0.73559,     0.73469,     0.73343,\n",
            "            0.73316,     0.73248,     0.73029,     0.72927,     0.72727,      0.7265,     0.72623,     0.72572,     0.72455,     0.72411,      0.7227,     0.72092,     0.71989,     0.71989,     0.71949,     0.71848,     0.71771,     0.71669,     0.71653,     0.71605,     0.71565,     0.71418,      0.7129,\n",
            "            0.71266,     0.71179,     0.71057,     0.70998,     0.70891,     0.70824,     0.70824,     0.70741,     0.70707,     0.70502,      0.7044,     0.70163,     0.70108,     0.69923,     0.69817,      0.6974,     0.69619,     0.69557,     0.69334,      0.6927,      0.6917,     0.69153,     0.69068,\n",
            "            0.68881,     0.68881,     0.68797,     0.68698,     0.68504,     0.68415,     0.68415,     0.68337,     0.68298,      0.6827,     0.68221,     0.68221,     0.68195,     0.68125,      0.6806,     0.67977,     0.67865,     0.67782,     0.67644,     0.67578,     0.67426,     0.67283,     0.67219,\n",
            "            0.67009,     0.66877,     0.66782,     0.66744,     0.66693,     0.66459,     0.66239,     0.66177,     0.66162,     0.66067,     0.66019,     0.65865,     0.65812,     0.65773,     0.65688,     0.65622,     0.65343,      0.6519,     0.65053,     0.64998,      0.6497,      0.6493,     0.64743,\n",
            "            0.64569,     0.64424,     0.64361,     0.64272,     0.64041,     0.63947,     0.63897,     0.63869,     0.63707,      0.6352,     0.63403,     0.63318,      0.6317,     0.63134,     0.63092,     0.62903,     0.62821,     0.62704,     0.62622,     0.62452,     0.62332,     0.62199,     0.62136,\n",
            "            0.61907,     0.61722,     0.61565,     0.61422,     0.61228,     0.61186,     0.60956,      0.6086,     0.60691,     0.60645,      0.6047,       0.603,     0.60179,     0.60023,     0.59913,     0.59831,     0.59794,     0.59619,     0.59518,     0.59403,     0.59215,     0.59028,     0.58829,\n",
            "            0.58688,     0.58547,     0.58437,     0.58236,     0.57953,     0.57757,     0.57576,     0.57537,     0.57498,     0.57366,     0.57246,     0.57148,     0.56838,     0.56808,     0.56643,     0.56557,     0.56488,     0.56472,     0.56148,     0.55947,     0.55709,     0.55565,       0.554,\n",
            "             0.5512,     0.55041,       0.548,     0.54649,     0.54497,     0.54387,     0.54184,     0.54002,     0.53819,     0.53661,     0.53276,     0.53149,     0.52852,     0.52603,     0.52321,     0.52156,     0.51867,     0.51645,     0.51366,     0.51166,     0.51127,     0.50997,     0.50786,\n",
            "            0.50598,     0.50452,     0.50389,     0.50206,     0.49997,     0.49853,     0.49589,     0.49349,     0.49258,     0.49055,     0.48851,     0.48617,     0.48348,     0.47903,       0.476,     0.47422,     0.47179,      0.4697,     0.46863,     0.46612,      0.4635,     0.45901,      0.4565,\n",
            "            0.45454,     0.45317,     0.45015,     0.44712,       0.446,     0.44328,     0.44137,     0.43805,     0.43629,     0.43378,     0.43036,     0.42705,     0.42243,     0.41874,     0.41556,     0.41345,     0.40896,     0.40559,     0.40216,     0.39788,      0.3951,     0.39194,     0.39039,\n",
            "            0.38594,     0.38384,     0.38078,     0.37918,     0.37483,     0.37257,     0.37056,     0.36913,     0.36869,     0.36674,     0.36597,     0.36399,     0.35877,     0.35389,     0.35159,      0.3493,     0.34699,     0.34398,     0.34188,     0.33929,     0.33683,      0.3356,     0.33287,\n",
            "            0.32884,     0.32553,     0.32164,     0.31724,     0.31507,      0.3107,     0.30714,     0.30264,     0.29969,     0.29579,     0.29214,     0.28884,      0.2861,     0.28352,     0.28011,     0.27763,     0.27346,     0.27137,     0.27001,     0.26768,     0.26439,     0.26154,     0.25602,\n",
            "            0.25118,     0.25019,     0.24709,     0.24273,     0.24026,     0.23653,     0.23429,     0.22978,     0.22762,     0.22308,     0.21899,     0.21593,     0.21419,     0.21014,     0.20852,     0.20486,     0.20188,     0.19751,     0.19329,     0.18901,     0.18376,     0.18026,     0.17839,\n",
            "            0.17118,     0.16638,     0.16374,     0.16081,     0.15657,     0.15264,     0.14981,     0.14687,     0.14427,     0.14017,     0.13798,     0.13253,     0.12804,     0.12416,     0.12142,     0.11772,       0.115,     0.11223,     0.10811,     0.10451,    0.099309,     0.09726,    0.094841,\n",
            "           0.092912,    0.090968,    0.089724,    0.087195,    0.082947,    0.080596,    0.078374,     0.07688,    0.074719,    0.072751,    0.067988,     0.06449,    0.063389,    0.060758,    0.058084,    0.053949,    0.051825,    0.050117,    0.048252,    0.045348,    0.043278,     0.04156,    0.038938,\n",
            "           0.035806,    0.033389,    0.031637,    0.030633,    0.028224,    0.025517,    0.023736,    0.021196,    0.020484,    0.018595,    0.017611,    0.016523,    0.015707,    0.015214,    0.014491,    0.013986,    0.013107,    0.011648,    0.011446,    0.011202,    0.010246,   0.0097637,   0.0084439,\n",
            "          0.0081604,   0.0070957,   0.0065875,   0.0056986,   0.0049772,   0.0048793,   0.0047815,   0.0046837,   0.0042868,   0.0034266,   0.0025334,   0.0018834,   0.0016682,   0.0014306,   0.0011677,  0.00070971,  0.00060199,  0.00049427,   0.0003885,   0.0003885,   0.0003885,           0,           0,\n",
            "                  0,           0,           0,           0,           0,           0,           0,           0,           0,           0,           0,           0,           0,           0,           0,           0,           0,           0,           0,           0,           0,           0,           0,\n",
            "                  0,           0,           0,           0,           0,           0,           0,           0,           0,           0,           0,           0,           0,           0,           0,           0,           0,           0,           0,           0,           0,           0,           0,\n",
            "                  0,           0,           0,           0,           0,           0,           0,           0,           0,           0,           0,           0,           0,           0,           0,           0,           0,           0,           0,           0,           0,           0,           0,\n",
            "                  0,           0,           0,           0,           0,           0,           0,           0,           0,           0,           0,           0,           0,           0,           0,           0,           0,           0,           0,           0,           0,           0,           0,\n",
            "                  0,           0,           0,           0,           0,           0,           0,           0,           0,           0,           0,           0,           0,           0,           0,           0,           0,           0,           0,           0,           0,           0,           0,\n",
            "                  0,           0,           0,           0,           0,           0,           0,           0,           0,           0,           0,           0,           0,           0,           0,           0,           0,           0,           0,           0,           0,           0,           0,\n",
            "                  0,           0,           0,           0,           0,           0,           0,           0,           0,           0,           0]]), 'Confidence', 'Recall']]\n",
            "fitness: np.float64(1.060679250240646)\n",
            "keys: ['metrics/precision(B)', 'metrics/recall(B)', 'metrics/mAP50(B)', 'metrics/mAP50-95(B)', 'metrics/precision(P)', 'metrics/recall(P)', 'metrics/mAP50(P)', 'metrics/mAP50-95(P)']\n",
            "maps: array([     0.9917])\n",
            "names: {0: 'chamber'}\n",
            "nt_per_class: array([2574])\n",
            "nt_per_image: array([2574])\n",
            "pose: ultralytics.utils.metrics.Metric object\n",
            "results_dict: {'metrics/precision(B)': np.float64(0.9323028588386714), 'metrics/recall(B)': np.float64(0.945998445998446), 'metrics/mAP50(B)': np.float64(0.9717357203840915), 'metrics/mAP50-95(B)': np.float64(0.6242937071143749), 'metrics/precision(P)': np.float64(0.7689915490307146), 'metrics/recall(P)': np.float64(0.77000777000777), 'metrics/mAP50(P)': np.float64(0.7097377896561161), 'metrics/mAP50-95(P)': np.float64(0.3674084031485419), 'fitness': np.float64(1.060679250240646)}\n",
            "save_dir: PosixPath('runs/pose/val')\n",
            "speed: {'preprocess': 0.04296920591232951, 'inference': 1.848138011654864, 'loss': 0.0013380396269031991, 'postprocess': 1.3432863943237225}\n",
            "stats: {'tp': [], 'conf': [], 'pred_cls': [], 'target_cls': [], 'target_img': [], 'tp_p': []}\n",
            "task: 'pose'\n"
          ]
        }
      ],
      "source": [
        "# Cell ×: Evaluate\n",
        "model = YOLO(\"runs/pose/train2/weights/best.pt\")\n",
        "metrics = model.val(data=\"data_keypoints.yaml\", imgsz=128, device=0)\n",
        "print(metrics)\n"
      ]
    },
    {
      "cell_type": "code",
      "execution_count": null,
      "metadata": {
        "id": "p4nY3qfmA7bV"
      },
      "outputs": [],
      "source": [
        "from ultralytics import YOLO\n",
        "from pathlib import Path\n",
        "from PIL import Image, ImageDraw\n",
        "import matplotlib.pyplot as plt\n",
        "import numpy as np\n",
        "\n",
        "model = YOLO(\"runs/pose/train2/weights/best.pt\")\n",
        "test_images = sorted((Path('yolo_keypoints_dataset_fixed21')/\"test\"/\"images\").glob(\"*.jpg\"))\n",
        "\n",
        "for img_path in test_images[:5]:\n",
        "    results = model.predict(source=str(img_path), save=False, imgsz=128)\n",
        "    r = results[0]\n",
        "\n",
        "    # If no keypoints were found at all, skip\n",
        "    if r.keypoints is None or r.keypoints.xy is None:\n",
        "        print(f\"No keypoints for {img_path.name}\")\n",
        "        continue\n",
        "\n",
        "    kpts = r.keypoints.xy[0].cpu().numpy()  # (K, 2)\n",
        "    # r.keypoints.conf may be None\n",
        "    if r.keypoints.conf is not None:\n",
        "        conf = r.keypoints.conf[0].cpu().numpy()\n",
        "    else:\n",
        "        conf = np.ones(len(kpts), dtype=float)\n",
        "\n",
        "    img = Image.open(img_path).convert(\"RGB\")\n",
        "    draw = ImageDraw.Draw(img)\n",
        "\n",
        "    # Draw and connect\n",
        "    pts = []\n",
        "    for (x, y), c in zip(kpts, conf):\n",
        "        # draw every point if no conf info, otherwise threshold\n",
        "        if r.keypoints.conf is None or c > 0.3:\n",
        "            draw.ellipse((x-3, y-3, x+3, y+3), fill=(255, 0, 0))\n",
        "            pts.append((float(x), float(y)))\n",
        "\n",
        "    if len(pts) > 2:\n",
        "        draw.line(pts + [pts[0]], width=2, fill=(0, 255, 0))  # close polygon\n",
        "\n",
        "    plt.figure(figsize=(6, 6))\n",
        "    plt.imshow(img)\n",
        "    plt.axis('off')\n",
        "    plt.show()\n"
      ]
    },
    {
      "cell_type": "code",
      "execution_count": null,
      "metadata": {
        "id": "7-Vz0-rHIu7S"
      },
      "outputs": [],
      "source": []
    }
  ],
  "metadata": {
    "accelerator": "GPU",
    "colab": {
      "gpuType": "T4",
      "provenance": []
    },
    "kernelspec": {
      "display_name": "Python 3",
      "name": "python3"
    },
    "language_info": {
      "name": "python"
    }
  },
  "nbformat": 4,
  "nbformat_minor": 0
}
